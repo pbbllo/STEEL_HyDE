{
  "cells": [
    {
      "cell_type": "markdown",
      "id": "3358053d-7223-4dfe-84d3-7fc60f2886f2",
      "metadata": {
        "id": "3358053d-7223-4dfe-84d3-7fc60f2886f2"
      },
      "source": [
        "# Imports"
      ]
    },
    {
      "cell_type": "code",
      "execution_count": null,
      "id": "323c7b74-f111-4545-a3f9-6b259635d43e",
      "metadata": {
        "colab": {
          "base_uri": "https://localhost:8080/",
          "height": 53
        },
        "id": "323c7b74-f111-4545-a3f9-6b259635d43e",
        "outputId": "925d98ec-ff2c-4375-d1ed-24b7a028cf29"
      },
      "outputs": [],
      "source": [
        "import os\n",
        "import json\n",
        "import re\n",
        "from pathlib import Path\n",
        "import pandas as pd\n",
        "from google.colab import drive\n",
        "drive.mount(\"/content/drive/\")"
      ]
    },
    {
      "cell_type": "code",
      "execution_count": null,
      "id": "fcBQtCyyA5Jt",
      "metadata": {
        "id": "fcBQtCyyA5Jt"
      },
      "outputs": [],
      "source": [
        "def create_prompt(row):\n",
        "  # SYSTEM = \"Você é um assistente especializado em analisar e identificar notícias falsas ou verdadeiras.\"\n",
        "  # <|start_header_id|>system<|end_header_id|>{SYSTEM}<|eot_id|>\n",
        "  INPUT = f'''Dada a notícia abaixo, classifique-a como \"falsa\" ou \"verdadeira\": {row[\"preprocessed_news\"]}'''\n",
        "  OUTPUT = row[\"label\"]\n",
        "\n",
        "  return f'''<|begin_of_text|><|start_header_id|>user<|end_header_id|>{INPUT}<|eot_id|>\n",
        "  <|start_header_id|>assistant<|end_header_id|>{OUTPUT}<|eot_id|>'''"
      ]
    },
    {
      "cell_type": "markdown",
      "id": "382d3a4b-6203-4e15-a27f-1fcdb7d6e46d",
      "metadata": {
        "id": "382d3a4b-6203-4e15-a27f-1fcdb7d6e46d",
        "jp-MarkdownHeadingCollapsed": true
      },
      "source": [
        "# Base line websites"
      ]
    },
    {
      "cell_type": "markdown",
      "id": "7yr1rPnMLse0",
      "metadata": {
        "id": "7yr1rPnMLse0"
      },
      "source": [
        "## English"
      ]
    },
    {
      "cell_type": "code",
      "execution_count": null,
      "id": "6352a96f-35b2-4c6b-ae54-812f13443176",
      "metadata": {
        "collapsed": true,
        "id": "6352a96f-35b2-4c6b-ae54-812f13443176"
      },
      "outputs": [],
      "source": [
        "realNews_path = os.path.join(DATASET_DIR, \"realNewsWebsites.json\")\n",
        "with open(realNews_path) as file:\n",
        "    real_website_urls = json.load(file)\n",
        "\n",
        "real_website_urls"
      ]
    },
    {
      "cell_type": "markdown",
      "id": "k3BegnqzLumE",
      "metadata": {
        "id": "k3BegnqzLumE"
      },
      "source": [
        "## Brazil"
      ]
    },
    {
      "cell_type": "code",
      "execution_count": null,
      "id": "RXoIRLOiL25t",
      "metadata": {
        "colab": {
          "base_uri": "https://localhost:8080/"
        },
        "id": "RXoIRLOiL25t",
        "outputId": "47a788bd-273d-4447-9aaa-ae99956a36e8"
      },
      "outputs": [
        {
          "name": "stdout",
          "output_type": "stream",
          "text": [
            "{'noticiasaominuto.com.br', 'gazetaesportiva.com', 'folhabv.com.br', 'acervo.estadao.com.br', 'g1.globo.com/jornal-nacional', 'emais.estadao.com.br', 'jovempan.com.br', 'veja.abril.com.br', 'exame.com', 'jornaldocomercio.com', 'g1.globo.com', 'lance.com.br', 'infomoney.com.br', 'brasil.estadao.com.br', 'cnnbrasil.com.br', 'ultimosegundo.ig.com.br', 'politica.estadao.com.br', 'brasildefato.com.br', 'esportes.estadao.com.br', 'gazetadopovo.com.br', 'extra.globo.com', 'r7.com', 'link.estadao.com.br', 'oprogressonet.com', 'epoca.globo.com', 'correiobraziliense.com.br', 'jornaldotocantins.com.br', 'alias.estadao.com.br', 'jornaldebrasilia.com.br', 'www.estadao.com.br', 'agazetadoacre.com', 'sustentabilidade.estadao.com.br', 'terra.com.br', 'datafolha.folha.uol.com.br', 'saude.estadao.com.br', 'brasil247.com', 'www.territorioeldorado.limao.com.br', 'redebrasilatual.com.br', 'cultura.estadao.com.br', 'agazeta.com.br', 'band.uol.com.br/noticias', 'f5.folha.uol.com.br', 'noticias.uol.com.br', 'www1.folha.uol.com.br', 'opovo.com.br', 'metropoles.com', 'congressoemfoco.uol.com.br', 'folhape.com.br', 'economia.estadao.com.br', 'www.gazetape.com', 'cartacapital.com.br', 'bbc.com/portuguese', 'nexojornal.com.br', 'ciencia.estadao.com.br', 'placar.abril.com.br', 'folhadelondrina.com.br', 'acritica.com', 'valor.globo.com', 'viagem.estadao.com.br', 'folha.uol.com.br', 'poder360.com.br', 'oglobo.globo.com', 'em.com.br', 'educacao.estadao.com.br', 'internacional.estadao.com.br', 'sao-paulo.estadao.com.br', 'opiniao.estadao.com.br', 'blogdofred.blogfolha.uol.com.br', 'gazetaonline.com.br', 'jb.com.br', 'estadao.com.br', 'istoe.com.br', 'revistaforum.com.br'} 73\n"
          ]
        }
      ],
      "source": [
        "'''\n",
        "# The script below was used to create a csv from txt files, since it's to expansive to upload all txt files in google drive. Need to download true-meta-infomation folder\n",
        "# from Fakebr corpus and run locally this script\n",
        "import pandas as pd\n",
        "def convert_meta_txt_to_csv(folder, output_file_name):\n",
        "    columns = \"author,link,category,date of publication,number of tokens,number of words without punctuation,number of types,number of links inside the news,number of words in upper case,number of verbs,number of subjuntive and imperative verbs,number of nouns,number of adjectives,number of adverbs,number of modal verbs (mainly auxiliary verbs),number of singular first and second personal pronouns,number of plural first personal pronouns,number of pronouns,pausality,number of characters,average sentence length,average word length,percentage of news with speeling errors,emotiveness,diversity\"\n",
        "    columns = columns.split(\",\")\n",
        "    all_txt_files = os.listdir(folder)\n",
        "    df = pd.DataFrame(columns=columns)\n",
        "    for txt_name in all_txt_files:\n",
        "        txt_file = f\"{true_meta_data}/{txt_name}\"\n",
        "        with open(txt_file, encoding=\"utf8\") as file:\n",
        "            lines = file.readlines()\n",
        "\n",
        "        new_row = dict(zip(columns,lines))\n",
        "        df.loc[len(df)] = new_row\n",
        "\n",
        "    file_name = f\"{os.getcwd()}/{output_file_name}.csv\"\n",
        "    df.to_csv(file_name, index=False)\n",
        "\n",
        "folder = f\"{DATASET_DIR}/Fakebr/full_texts/true-meta-information\"\n",
        "output_file_name = \"true_meta_data\"\n",
        "convert_meta_txt_to_csv(folder, output_file_name)\n",
        "'''\n",
        "\n",
        "import pandas as pd\n",
        "\n",
        "custom_br_websites = '''g1.globo.com\n",
        "folha.uol.com.br\n",
        "oglobo.globo.com\n",
        "estadao.com.br\n",
        "noticias.uol.com.br\n",
        "terra.com.br\n",
        "r7.com\n",
        "veja.abril.com.br\n",
        "epoca.globo.com\n",
        "valor.globo.com\n",
        "correiobraziliense.com.br\n",
        "jb.com.br\n",
        "g1.globo.com/jornal-nacional\n",
        "opovo.com.br\n",
        "gazetadopovo.com.br\n",
        "extra.globo.com\n",
        "cartacapital.com.br\n",
        "brasil247.com\n",
        "redebrasilatual.com.br\n",
        "em.com.br\n",
        "agazeta.com.br\n",
        "jovempan.com.br\n",
        "band.uol.com.br/noticias\n",
        "exame.com\n",
        "folhape.com.br\n",
        "bbc.com/portuguese\n",
        "cnnbrasil.com.br\n",
        "metropoles.com\n",
        "istoe.com.br\n",
        "revistaforum.com.br\n",
        "jornaldebrasilia.com.br\n",
        "gazetaonline.com.br\n",
        "noticiasaominuto.com.br\n",
        "ultimosegundo.ig.com.br\n",
        "jornaldocomercio.com\n",
        "brasildefato.com.br\n",
        "poder360.com.br\n",
        "congressoemfoco.uol.com.br\n",
        "nexojornal.com.br\n",
        "gazetaesportiva.com\n",
        "placar.abril.com.br\n",
        "lance.com.br\n",
        "infomoney.com.br\n",
        "agazetadoacre.com\n",
        "www.gazetape.com\n",
        "folhadelondrina.com.br\n",
        "oprogressonet.com\n",
        "jornaldotocantins.com.br\n",
        "folhabv.com.br\n",
        "acritica.com'''.split('\\n')\n",
        "\n",
        "def get_all_domains(file):\n",
        "\n",
        "    csv = pd.read_csv(file)\n",
        "    links = list(csv[\"link\"])\n",
        "\n",
        "    all_domains = set()\n",
        "    for link in links:\n",
        "        domain = link.split(\"/\")[2]\n",
        "        all_domains.add(domain)\n",
        "\n",
        "    return all_domains\n",
        "\n",
        "true_meta_data = f\"{DATASET_DIR}/Fakebr/true_meta_data.csv\"\n",
        "domains = get_all_domains(true_meta_data)\n",
        "for new_domain in custom_br_websites:\n",
        "    domains.add(new_domain)\n",
        "\n",
        "print(domains, len(domains))\n",
        "domains_txt_file =  f\"{DATASET_DIR}/realbrsites.txt\"\n",
        "with open(domains_txt_file, \"w\") as file:\n",
        "  for domain in domains:\n",
        "    file.write(f\"{domain}\\n\")"
      ]
    },
    {
      "cell_type": "markdown",
      "id": "5f2ff77c-c276-46b5-b3bd-636a1fbb6941",
      "metadata": {
        "id": "5f2ff77c-c276-46b5-b3bd-636a1fbb6941",
        "jp-MarkdownHeadingCollapsed": true
      },
      "source": [
        "# Brasil Portuguese Dataset (Fake.br-Corpus)"
      ]
    },
    {
      "cell_type": "markdown",
      "id": "3ywYmyuva9Tb",
      "metadata": {
        "id": "3ywYmyuva9Tb"
      },
      "source": [
        "## full text version"
      ]
    },
    {
      "cell_type": "code",
      "execution_count": null,
      "id": "FR4vd_HRbDOT",
      "metadata": {
        "id": "FR4vd_HRbDOT"
      },
      "outputs": [],
      "source": [
        "'''\n",
        "# The script below was used to create a csv from txt files, since it's to expansive to upload all txt files in google drive. Need to download true-meta-infomation folder\n",
        "# from Fakebr corpus and run locally this script\n",
        "import pandas as pd\n",
        "def convert_txt_to_df(folder, label):\n",
        "    columns = [\"label\", \"text\"]\n",
        "    all_txt_files = os.listdir(folder)\n",
        "    df = pd.DataFrame(columns=columns)\n",
        "    for txt_name in all_txt_files:\n",
        "        txt_file = f\"{true_meta_data}/{txt_name}\"\n",
        "        with open(txt_file, encoding=\"utf8\") as file:\n",
        "            lines = file.readlines()\n",
        "\n",
        "        truncated_str = \"\".join([string.strip(\"\\n\") for string in lines])\n",
        "        new_row = [label, truncated_str]\n",
        "        df.loc[len(df)] = new_row\n",
        "\n",
        "    return df\n",
        "\n",
        "true_folder = f\"{DATASET_DIR}/Fakebr/full_texts/true\"\n",
        "fake_folder = f\"{DATASET_DIR}/Fakebr/full_texts/fake\"\n",
        "true_df = convert_txt_to_df(true_folder, label=1)\n",
        "fake_df = convert_txt_to_df(fake_folder, label=0)\n",
        "\n",
        "df = pd.concat([true_df, fake_df])\n",
        "df.to_csv(f\"{DATASET_DIR}/Fakebr/full_text_fakebrcorpus.csv\",index=False)\n",
        "'''"
      ]
    },
    {
      "cell_type": "code",
      "execution_count": null,
      "id": "xYnT326n4fwU",
      "metadata": {
        "colab": {
          "base_uri": "https://localhost:8080/",
          "height": 424
        },
        "id": "xYnT326n4fwU",
        "outputId": "3175d7d5-bb37-4ada-c7c8-932e186efbf6"
      },
      "outputs": [],
      "source": [
        "fakebrcorpus_full = pd.read_csv(f\"{DATASET_DIR}/Fakebr/full_text_fakebrcorpus.csv\")\n",
        "fakebrcorpus_full"
      ]
    },
    {
      "cell_type": "markdown",
      "id": "dc3bd2de-a7ce-4eda-9d47-bdfa76c43590",
      "metadata": {
        "id": "dc3bd2de-a7ce-4eda-9d47-bdfa76c43590"
      },
      "source": [
        "# LIAR Dataset (\"Liar, Liar Pants on Fire\": A New Benchmark Dataset for Fake News Detection)"
      ]
    },
    {
      "cell_type": "code",
      "execution_count": null,
      "id": "z6jvtzRl0L2p",
      "metadata": {
        "colab": {
          "base_uri": "https://localhost:8080/",
          "height": 597
        },
        "id": "z6jvtzRl0L2p",
        "outputId": "a823ebd7-b282-4b98-8336-d80c7adc8c71"
      },
      "outputs": [],
      "source": [
        "liar_train = pd.read_csv(f'{DATASET_DIR}/LIAR/train.tsv', sep='\\t', header=None)\n",
        "liar_test = pd.read_csv(f'{DATASET_DIR}/LIAR/test.tsv', sep='\\t', header=None)\n",
        "liar_valid = pd.read_csv(f'{DATASET_DIR}/LIAR/valid.tsv', sep='\\t', header=None)\n",
        "\n",
        "# liar_train.columns = [\"label\", \"text\"]\n",
        "# liar_test.columns = [\"label\", \"text\"]\n",
        "# liar_valid.columns = [\"label\", \"text\"]\n",
        "\n",
        "LIAR = pd.concat([liar_train, liar_test, liar_valid])\n",
        "LIAR = LIAR[LIAR[1].isin(['true','false'])]\n",
        "LIAR"
      ]
    },
    {
      "cell_type": "code",
      "execution_count": null,
      "id": "BrWwBlEY2Wbu",
      "metadata": {
        "colab": {
          "base_uri": "https://localhost:8080/",
          "height": 649
        },
        "id": "BrWwBlEY2Wbu",
        "outputId": "59be0aca-38df-499d-9cb9-3a35563491f7"
      },
      "outputs": [],
      "source": [
        "LIAR[LIAR[1]=='true']"
      ]
    },
    {
      "cell_type": "code",
      "execution_count": null,
      "id": "cf7bfd16-0e78-4ae1-bbd2-3b5adea1dade",
      "metadata": {
        "colab": {
          "base_uri": "https://localhost:8080/",
          "height": 597
        },
        "id": "cf7bfd16-0e78-4ae1-bbd2-3b5adea1dade",
        "outputId": "41c9d482-7645-400d-843e-58ccab4ae482"
      },
      "outputs": [],
      "source": [
        "liar = pd.read_csv(f'{DATASET_DIR}/LIAR/train.tsv', sep='\\t', header=None)\n",
        "liar"
      ]
    },
    {
      "cell_type": "code",
      "execution_count": null,
      "id": "ffc396a5-8691-4f2d-88e5-b010e20180b1",
      "metadata": {
        "colab": {
          "base_uri": "https://localhost:8080/",
          "height": 424
        },
        "id": "ffc396a5-8691-4f2d-88e5-b010e20180b1",
        "outputId": "ab060ea5-dfc3-428a-c6dd-f846bde260b0"
      },
      "outputs": [],
      "source": [
        "liar_with_columns = liar[[1, 2]]\n",
        "liar_with_columns.columns = [\"label\", \"text\"]\n",
        "liar_with_columns"
      ]
    },
    {
      "cell_type": "code",
      "execution_count": null,
      "id": "6f801130-ce46-4877-9d21-1845dcd45a86",
      "metadata": {
        "id": "6f801130-ce46-4877-9d21-1845dcd45a86"
      },
      "outputs": [],
      "source": [
        "liar_train_v2 = liar_with_columns[(liar_with_columns[\"label\"] == \"true\") | (liar_with_columns[\"label\"] == \"false\")]\n",
        "liar_train_v2.to_csv(f'{DATASET_DIR}/LIAR/liar_train_v2.csv',\n",
        "                      header=[\"label\", \"text\"], index=False)"
      ]
    },
    {
      "cell_type": "code",
      "execution_count": null,
      "id": "944aa2eb-5fff-4512-95e3-e24c329056bd",
      "metadata": {
        "colab": {
          "base_uri": "https://localhost:8080/",
          "height": 424
        },
        "id": "944aa2eb-5fff-4512-95e3-e24c329056bd",
        "outputId": "b964618a-3fac-4762-f608-7ebfacc2798c"
      },
      "outputs": [],
      "source": [
        "liar_train_v2[liar_train_v2['label']=='false']"
      ]
    },
    {
      "cell_type": "code",
      "execution_count": null,
      "id": "b9524dbb-3ad0-4285-8dad-cf689fbc76bb",
      "metadata": {
        "colab": {
          "base_uri": "https://localhost:8080/",
          "height": 424
        },
        "id": "b9524dbb-3ad0-4285-8dad-cf689fbc76bb",
        "outputId": "e2bdc771-1aee-43d2-e9e2-dfc0f3b7b7d7"
      },
      "outputs": [],
      "source": [
        "liar_test = pd.read_csv(f'{DATASET_DIR}/LIAR/test.tsv', sep='\\t', header=None)\n",
        "liar_test_with_columns = liar_test[[1, 2]]\n",
        "liar_test_with_columns.columns = [\"label\", \"text\"]\n",
        "liar_test_v2 = liar_test_with_columns[(liar_test_with_columns[\"label\"] == \"true\") | (liar_test_with_columns[\"label\"] == \"false\")]\n",
        "liar_test_v2.to_csv(f'{DATASET_DIR}/LIAR/liar_test_v2.csv',\n",
        "                      header=[\"label\", \"text\"], index=False)\n",
        "liar_test_v2"
      ]
    },
    {
      "cell_type": "markdown",
      "id": "tIw-ts8X1t27",
      "metadata": {
        "id": "tIw-ts8X1t27"
      },
      "source": [
        "## final version"
      ]
    },
    {
      "cell_type": "code",
      "execution_count": null,
      "id": "S5Uaeqpg1ntU",
      "metadata": {
        "colab": {
          "base_uri": "https://localhost:8080/",
          "height": 480
        },
        "id": "S5Uaeqpg1ntU",
        "outputId": "bf57c760-2560-4711-f5f5-86e83eda5b18"
      },
      "outputs": [],
      "source": [
        "liar_full = pd.read_csv(f'{DATASET_DIR}/LIAR/liar_train.csv')\n",
        "liar_full[\"label\"] = liar_full[\"label\"].replace({False: 0, True: 1})\n",
        "liar_full"
      ]
    },
    {
      "cell_type": "code",
      "execution_count": null,
      "id": "ngv18YIK4w8S",
      "metadata": {
        "id": "ngv18YIK4w8S"
      },
      "outputs": [],
      "source": [
        "liar_full.to_csv(f'{DATASET_DIR}/LIAR/liar_full.csv', index=False)"
      ]
    },
    {
      "cell_type": "code",
      "execution_count": null,
      "id": "RXmhF7C_6SLr",
      "metadata": {
        "colab": {
          "base_uri": "https://localhost:8080/",
          "height": 424
        },
        "id": "RXmhF7C_6SLr",
        "outputId": "c8594082-d2ea-4b0c-c6b3-e41452a6ecbb"
      },
      "outputs": [],
      "source": [
        "liar_full = pd.read_csv(f'{DATASET_DIR}/LIAR/liar_full.csv')\n",
        "liar_full"
      ]
    },
    {
      "cell_type": "code",
      "execution_count": null,
      "id": "xaM5L27PpjyZ",
      "metadata": {
        "colab": {
          "base_uri": "https://localhost:8080/"
        },
        "id": "xaM5L27PpjyZ",
        "outputId": "58ac9748-20db-42bf-aa8d-1b3f39a83b43"
      },
      "outputs": [
        {
          "data": {
            "text/plain": [
              "(3990, 3352)"
            ]
          },
          "execution_count": 6,
          "metadata": {},
          "output_type": "execute_result"
        }
      ],
      "source": [
        "len(liar_full[liar_full['label'] == 0]), len(liar_full[liar_full['label'] == 1])"
      ]
    },
    {
      "cell_type": "code",
      "execution_count": null,
      "id": "GY9-yE4XpwcT",
      "metadata": {
        "id": "GY9-yE4XpwcT"
      },
      "outputs": [],
      "source": [
        "len(liar_full[liar_full['label'] == 0])"
      ]
    }
  ],
  "metadata": {
    "colab": {
      "provenance": [],
      "toc_visible": true
    },
    "kernelspec": {
      "display_name": "Python 3",
      "name": "python3"
    },
    "language_info": {
      "codemirror_mode": {
        "name": "ipython",
        "version": 3
      },
      "file_extension": ".py",
      "mimetype": "text/x-python",
      "name": "python",
      "nbconvert_exporter": "python",
      "pygments_lexer": "ipython3",
      "version": "3.12.2"
    }
  },
  "nbformat": 4,
  "nbformat_minor": 5
}
