{
  "cells": [
    {
      "cell_type": "code",
      "execution_count": null,
      "metadata": {
        "colab": {
          "base_uri": "https://localhost:8080/"
        },
        "id": "x8-xAmfxEJHs",
        "outputId": "a2b8364e-206e-4486-f841-299cd829c9fe"
      },
      "outputs": [],
      "source": [
        "import os\n",
        "import requests\n",
        "import json\n",
        "from google.colab import drive\n",
        "drive.mount(\"/content/drive/\")\n",
        "\n",
        "realNewsWebsites_path = os.path.join(DATASET_DIR, \"realNewsWebsites.json\") # 1368\n",
        "with open(realNewsWebsites_path) as file:\n",
        "    realNewsWebsites = json.load(file)\n",
        "\n",
        "realbrsites_path = f\"{DATASET_DIR}/realbrsites.txt\" #73\n",
        "with open(realbrsites_path) as file:\n",
        "    realbrsites = file.readlines()\n",
        "\n",
        "LEGITM_SITES = realNewsWebsites + realbrsites\n",
        "len(LEGITM_SITES)"
      ]
    },
    {
      "cell_type": "markdown",
      "metadata": {
        "id": "BkC0ekSGih8S"
      },
      "source": [
        "# Setup and Imports\n",
        "\n"
      ]
    },
    {
      "cell_type": "code",
      "execution_count": null,
      "metadata": {
        "colab": {
          "base_uri": "https://localhost:8080/"
        },
        "id": "mSGY5-AG5T4M",
        "outputId": "08f8c218-8baa-47f4-b90a-bdaa91d0c759"
      },
      "outputs": [],
      "source": [
        "import re\n",
        "import pandas as pd\n",
        "import os\n",
        "import matplotlib.pyplot as plt\n",
        "from sklearn.metrics import confusion_matrix, accuracy_score, precision_score, recall_score, f1_score\n",
        "from sklearn.metrics import ConfusionMatrixDisplay\n",
        "\n",
        "from google.colab import drive\n",
        "drive.mount(\"/content/drive/\")\n",
        "DATASET_DIR = os.path.join(\"/content/drive/MyDrive/TCC/workspace/datasets\")\n",
        "RESULTS_DIR =  os.path.join(\"/content/drive/MyDrive/TCC/workspace/experiments/results\")\n",
        "\n",
        "fakebrcorpus_full = pd.read_csv(f\"{DATASET_DIR}/Fakebr/full_text_fakebrcorpus.csv\")\n",
        "liar_full = pd.read_csv(f'{DATASET_DIR}/LIAR/liar_full.csv')\n",
        "\n",
        "REGEX_EXPLANATION = r\"(Explanation|Explicação):\\s*\\**(.*)\"\n",
        "REGEX_ANSWER_EN = r\"\\**(Answer)\\**:\\**\\s*\\[?(\\d+)\\]?\"\n",
        "REGEX_ANSWER_PT = r\"\\**(Resposta|Avaliação)\\**:\\**\\s*\\[?(\\d+)\\]?\"\n",
        "REGEX_0_EXCEPTION = r\"N/A|0/1|[?]\"\n",
        "REGEX_1_EXCEPTION = r\"1/1\"\n",
        "REGEX_ANSWER_EXCEPTION = r\"(Answer|Resposta):\"\n",
        "\n",
        "def plot(confusion_matrix, title):\n",
        "  disp = ConfusionMatrixDisplay(confusion_matrix=confusion_matrix, display_labels=[\"Fake News\", \"True News\"])\n",
        "  disp.plot()\n",
        "  plt.title(title)\n",
        "  plt.show()\n",
        "\n",
        "\n",
        "def evaluate_assistant_answer(true_labels, predicted_labels):\n",
        "    y_true = list(true_labels['label'])\n",
        "    y_pred = list(predicted_labels['label'])\n",
        "\n",
        "    cm = confusion_matrix(y_true, y_pred, labels=[0,1], normalize='true')\n",
        "\n",
        "    # TP = cm[0, 0]  # True Positives\n",
        "    # FN = cm[0, 1]  # False Negatives\n",
        "    # FP = cm[1, 0]  # False Positives\n",
        "    # TN = cm[1, 1]  # True Negatives\n",
        "\n",
        "    # # Accuracy: (TP + TN) / Total\n",
        "    # accuracy = (TP + TN) / (TP + TN + FP + FN)\n",
        "\n",
        "    # # Precision: TP / (TP + FP)\n",
        "    # precision = TP / (TP + FP) if (TP + FP) != 0 else 0\n",
        "\n",
        "    # # Recall: TP / (TP + FN)\n",
        "    # recall = TP / (TP + FN) if (TP + FN) != 0 else 0\n",
        "\n",
        "    # # F1-Score: 2 * (Precision * Recall) / (Precision + Recall)\n",
        "    # f1 = 2 * (precision * recall) / (precision + recall) if (precision + recall) != 0 else 0\n",
        "\n",
        "    accuracy = accuracy_score(y_true, y_pred)\n",
        "\n",
        "   # 0 = Fake news. Using pos_label=0, we're telling that the class of the interesse is 0 (fake news), then the \"positive\" values is Fake news\n",
        "    precision_f = precision_score(y_true, y_pred, pos_label=0)\n",
        "    recall_f = recall_score(y_true, y_pred, pos_label=0)\n",
        "    f1_f = f1_score(y_true, y_pred, pos_label=0)\n",
        "\n",
        "    precision_t = precision_score(y_true, y_pred, pos_label=1)\n",
        "    recall_t = recall_score(y_true, y_pred, pos_label=1)\n",
        "    f1_t = f1_score(y_true, y_pred, pos_label=1)\n",
        "\n",
        "    f1_micro = f1_score(y_true, y_pred, average='micro')\n",
        "    f1_macro = f1_score(y_true, y_pred, average='macro')\n",
        "\n",
        "    metrics = {\n",
        "        # \"method\": predicted_labels[\"method\"].loc[0],\n",
        "        \"accuracy\": round(accuracy,4),\n",
        "        \"f1_macro\": round(f1_macro,4),\n",
        "        \"f1_micro\": round(f1_micro,4),\n",
        "        \"f1_t\": round(f1_t,4),\n",
        "        \"precision_t\": round(precision_t,4),\n",
        "        \"recall_t\": round(recall_t,4),\n",
        "        \"f1_f\": round(f1_f,4),\n",
        "        \"precision_f\": round(precision_f,4),\n",
        "        \"recall_f\": round(recall_f,4)\n",
        "    }\n",
        "\n",
        "    return cm, metrics\n",
        "\n",
        "def get_results_df(outputs):\n",
        "    results_df = pd.DataFrame(columns=[\"label\", \"explanation\", \"output\"])\n",
        "    outputs = list(outputs[\"output\"])\n",
        "    for i, out in enumerate(outputs):\n",
        "      explanation_out = re.search(REGEX_EXPLANATION, out)\n",
        "      explanation =  explanation_out.group(2) if explanation_out else \"Model couln't give a explanation or answer.\"\n",
        "\n",
        "      answer_out = re.search(REGEX_ANSWER_EN, out) or re.search(REGEX_ANSWER_PT, out)\n",
        "      if answer_out:\n",
        "        answer = int(answer_out.group(2))\n",
        "      elif re.search(REGEX_0_EXCEPTION, out):\n",
        "        answer = 0\n",
        "      elif re.search(REGEX_1_EXCEPTION, out):\n",
        "        answer = 1\n",
        "      elif not re.search(REGEX_ANSWER_EXCEPTION, out):\n",
        "        answer = 0\n",
        "      else:\n",
        "          raise Exception(f\"ANSWER PROBLEM FOUND IN CLAIM {i+2}:\\n {out} \")\n",
        "\n",
        "\n",
        "      new_row = [answer, explanation, out]\n",
        "      results_df.loc[len(results_df)] = new_row\n",
        "\n",
        "    return results_df\n"
      ]
    },
    {
      "cell_type": "code",
      "execution_count": null,
      "metadata": {
        "colab": {
          "base_uri": "https://localhost:8080/"
        },
        "id": "ssEez18I9FyS",
        "outputId": "ab75e70b-b150-4a90-89d1-05c58dadab56"
      },
      "outputs": [],
      "source": [
        "!pip install unsloth==2025.1.1\n",
        "!pip install pyarrow==17.0.0\n",
        "!pip install transformers==4.47.1\n",
        "!pip install accelerate==1.2.1\n",
        "!pip install torch==2.5.1\n",
        "!pip install bitsandbytes==0.45.0\n",
        "!pip install trl==0.13.0\n",
        "!pip install datasets==3.2.0\n",
        "\n",
        "!python --version"
      ]
    },
    {
      "cell_type": "markdown",
      "metadata": {
        "id": "DFHyZDmN73pM"
      },
      "source": [
        "# FakeBR"
      ]
    },
    {
      "cell_type": "code",
      "execution_count": null,
      "metadata": {
        "colab": {
          "base_uri": "https://localhost:8080/"
        },
        "id": "9Qqz-ZUT6YCU",
        "outputId": "d3904f06-795b-4feb-ff2c-341ae408ff58"
      },
      "outputs": [],
      "source": [
        "import numpy as np\n",
        "\n",
        "tokenizer.truncation_side = \"left\"\n",
        "tokenizer.pad_token = tokenizer.eos_token\n",
        "lengths = [len(tokenizer(text, truncation=False)[\"input_ids\"]) for text in fakebr_corpus_df[\"prompt\"]]\n",
        "print(f'''Max: {max(lengths)},\n",
        "Mean: {sum(lengths)/len(lengths)},\n",
        "90th Percentile: {np.percentile(lengths, 90)}\n",
        "70th Percentile: {np.percentile(lengths, 70)}''')"
      ]
    },
    {
      "cell_type": "code",
      "execution_count": null,
      "metadata": {
        "id": "oyKWNQsI6fwU"
      },
      "outputs": [],
      "source": [
        "fakebr_corpus_df[\"tokenized\"] = lengths\n",
        "analysis_br_0_512 = fakebr_corpus_df[fakebr_corpus_df[\"tokenized\"].between(0,512)]\n",
        "analysis_br_0_1024 = fakebr_corpus_df[fakebr_corpus_df[\"tokenized\"].between(0,1024)]\n",
        "analysis_br_0_2048 = fakebr_corpus_df[fakebr_corpus_df[\"tokenized\"].between(0,2048)]"
      ]
    },
    {
      "cell_type": "code",
      "execution_count": null,
      "metadata": {
        "colab": {
          "base_uri": "https://localhost:8080/"
        },
        "id": "PqzoF3LN6hsM",
        "outputId": "39b6dc2c-aad4-4211-9d34-37cc7b6ddfd8"
      },
      "outputs": [],
      "source": [
        "print(\"Between 0 and 512 tokens\")\n",
        "print(f'''Falsas: {len(analysis_br_0_512[analysis_br_0_512['label']==0])}\n",
        "Verdadeiras: {len(analysis_br_0_512[analysis_br_0_512['label']==1])}\n",
        "Total: {len(analysis_br_0_512)}''')\n",
        "\n",
        "print(\"\\nBetween 0 and 1024 tokens\")\n",
        "print(f'''Falsas: {len(analysis_br_0_1024[analysis_br_0_1024['label']==0])}\n",
        "Verdadeiras: {len(analysis_br_0_1024[analysis_br_0_1024['label']==1])}\n",
        "Total: {len(analysis_br_0_1024)}''')\n",
        "\n",
        "print(\"\\nBetween 0 and 2048 tokens\")\n",
        "print(f'''Falsas: {len(analysis_br_0_2048[analysis_br_0_2048['label']==0])}\n",
        "Verdadeiras: {len(analysis_br_0_2048[analysis_br_0_2048['label']==1])}\n",
        "Total: {len(analysis_br_0_2048)}''')"
      ]
    },
    {
      "cell_type": "markdown",
      "metadata": {
        "id": "7pjA3pZM-DVM"
      },
      "source": [
        "# LIAR"
      ]
    },
    {
      "cell_type": "code",
      "execution_count": null,
      "metadata": {
        "colab": {
          "base_uri": "https://localhost:8080/"
        },
        "id": "ivR5LF6W-PUK",
        "outputId": "b1d80a6b-4004-42c0-f2dc-950eae8a27e7"
      },
      "outputs": [],
      "source": [
        "import numpy as np\n",
        "\n",
        "tokenizer.truncation_side = \"left\"\n",
        "tokenizer.pad_token = tokenizer.eos_token\n",
        "lengths = [len(tokenizer(text, truncation=False)[\"input_ids\"]) for text in liar_train_v2[\"text\"]]\n",
        "print(f'''Max: {max(lengths)},\n",
        "Mean: {sum(lengths)/len(lengths)},\n",
        "90th Percentile: {np.percentile(lengths, 90)}\n",
        "70th Percentile: {np.percentile(lengths, 70)}''')"
      ]
    },
    {
      "cell_type": "code",
      "execution_count": null,
      "metadata": {
        "id": "Zz2C0EZk-PUL"
      },
      "outputs": [],
      "source": [
        "liar_train_v2[\"tokenized\"] = lengths\n",
        "analysis_liart_0_512 = liar_train_v2[liar_train_v2[\"tokenized\"].between(0,512)]\n",
        "analysis_liart_0_1024 = liar_train_v2[liar_train_v2[\"tokenized\"].between(0,1024)]\n",
        "analysis_liart_0_2048 = liar_train_v2[liar_train_v2[\"tokenized\"].between(0,2048)]"
      ]
    },
    {
      "cell_type": "code",
      "execution_count": null,
      "metadata": {
        "colab": {
          "base_uri": "https://localhost:8080/"
        },
        "id": "K9hXwAWA-PUL",
        "outputId": "27b741cf-b188-4d12-91b1-2448d9e148fc"
      },
      "outputs": [],
      "source": [
        "print(\"Between 0 and 512 tokens\")\n",
        "print(f'''Falsas: {len(analysis_liart_0_512[analysis_liart_0_512['label']==0])}\n",
        "Verdadeiras: {len(analysis_liart_0_512[analysis_liart_0_512['label']==1])}\n",
        "Total: {len(analysis_liart_0_512)}''')\n",
        "\n",
        "print(\"\\nBetween 0 and 1024 tokens\")\n",
        "print(f'''Falsas: {len(analysis_liart_0_1024[analysis_liart_0_1024['label']==0])}\n",
        "Verdadeiras: {len(analysis_liart_0_1024[analysis_liart_0_1024['label']==1])}\n",
        "Total: {len(analysis_liart_0_1024)}''')\n",
        "\n",
        "print(\"\\nBetween 0 and 2048 tokens\")\n",
        "print(f'''Falsas: {len(analysis_liart_0_2048[analysis_liart_0_2048['label']==0])}\n",
        "Verdadeiras: {len(analysis_liart_0_2048[analysis_liart_0_2048['label']==1])}\n",
        "Total: {len(analysis_liart_0_2048)}''')"
      ]
    },
    {
      "cell_type": "code",
      "execution_count": null,
      "metadata": {
        "colab": {
          "base_uri": "https://localhost:8080/"
        },
        "id": "22Nqe_MTIGFU",
        "outputId": "1246006b-4e97-416f-fed6-25bb8ac6e5da"
      },
      "outputs": [],
      "source": [
        "new_df = liar_train_v2[liar_train_v2[\"tokenized\"] > 2048]\n",
        "len(new_df[new_df['label']==0]), len(new_df[new_df['label']==1]), len(new_df)"
      ]
    },
    {
      "cell_type": "markdown",
      "metadata": {
        "id": "R-GVWRw9TQYE"
      },
      "source": [
        "# Benchmark results (English)"
      ]
    },
    {
      "cell_type": "code",
      "execution_count": null,
      "metadata": {
        "id": "x0qxs2zAyEnS"
      },
      "outputs": [],
      "source": [
        "enUS_LLaMA_full = get_results_df(pd.read_csv(os.path.join(RESULTS_DIR, \"raw_enUS_LLaMA_full.csv\"), index_col=False))\n",
        "enUS_Qwen_full = get_results_df(pd.read_csv(os.path.join(RESULTS_DIR, \"raw_enUS_Qwen_full.csv\"), index_col=False))\n",
        "enUS_Ministral_full = get_results_df(pd.read_csv(os.path.join(RESULTS_DIR, \"raw_enUS_Ministral_full.csv\"), index_col=False))\n",
        "enUS_STEEL_HyDE_full = pd.read_csv(os.path.join(RESULTS_DIR, \"raw_enUS_STEEL_HyDE_full.csv\"), index_col=False)\n",
        "enUS_STEEL_HyDE_full['label'] = enUS_STEEL_HyDE_full['label'].replace({2:0})\n",
        "\n",
        "enUS_LLaMA_full[\"method\"] = \"Llama-3.1-8B-Instruct\"\n",
        "enUS_Qwen_full[\"method\"] = \"Qwen2.5-7B-Instruct \"\n",
        "enUS_Ministral_full[\"method\"] = \"Ministral-8B-Instruct-2410\"\n",
        "enUS_STEEL_HyDE_full[\"method\"] = \"STEEL_HyDE\"\n",
        "\n",
        "\n",
        "enUS_LLaMA_full = enUS_LLaMA_full[:len(enUS_LLaMA_full)//2]\n",
        "enUS_Qwen_full = enUS_Qwen_full[:len(enUS_Qwen_full)//2]\n",
        "enUS_Ministral_full = enUS_Ministral_full[:len(enUS_Ministral_full)//2]\n",
        "enUS_STEEL_HyDE_full = enUS_STEEL_HyDE_full[:len(enUS_STEEL_HyDE_full)//2]"
      ]
    },
    {
      "cell_type": "code",
      "execution_count": null,
      "metadata": {
        "id": "ut5ymZXM1C3B"
      },
      "outputs": [],
      "source": [
        "enUS_metrics = []\n",
        "enUS_cm = []\n",
        "for df in [enUS_LLaMA_full, enUS_Qwen_full, enUS_Ministral_full, enUS_STEEL_HyDE_full]:\n",
        "  cm, metrics = evaluate_assistant_answer(liar_full[:len(liar_full)//2], df)\n",
        "  enUS_cm.append(cm)\n",
        "  enUS_metrics.append(metrics)\n",
        "\n",
        "metrics_df = pd.DataFrame(enUS_metrics)"
      ]
    },
    {
      "cell_type": "code",
      "execution_count": null,
      "metadata": {
        "id": "GD6CgSpF3ekZ"
      },
      "outputs": [],
      "source": [
        "metrics_df.to_csv(os.path.join(os.getcwd(), \"enUS_metrics.csv\"))"
      ]
    },
    {
      "cell_type": "code",
      "execution_count": null,
      "metadata": {
        "colab": {
          "base_uri": "https://localhost:8080/",
          "height": 1000
        },
        "collapsed": true,
        "id": "Haeh9YEC-QTm",
        "outputId": "29e6c4fb-3c09-4de8-cc09-1c4cb00c161e"
      },
      "outputs": [],
      "source": [
        "plot(enUS_cm[0], \"LLaMA\"), plot(enUS_cm[1], \"Qwen\"), plot(enUS_cm[2], \"Ministral\"), plot(enUS_cm[3], \"STEEL_HyDE\")"
      ]
    },
    {
      "cell_type": "markdown",
      "metadata": {
        "id": "yncxarUxzmWa"
      },
      "source": [
        "# Benchmark results (Brazilian)"
      ]
    },
    {
      "cell_type": "code",
      "execution_count": null,
      "metadata": {
        "id": "j_8xgINCzmWa"
      },
      "outputs": [],
      "source": [
        "ptBR_LLaMA_full = get_results_df(pd.read_csv(os.path.join(RESULTS_DIR, \"raw_ptBR_LLaMA_full.csv\"), index_col=False))\n",
        "ptBR_Qwen_full = get_results_df(pd.read_csv(os.path.join(RESULTS_DIR, \"raw_ptBR_Qwen_full.csv\"), index_col=False))\n",
        "ptBR_Ministral_full = get_results_df(pd.read_csv(os.path.join(RESULTS_DIR, \"raw_ptBR_Ministral_full.csv\"), index_col=False))\n",
        "ptBR_STEEL_HyDE_full = pd.read_csv(os.path.join(RESULTS_DIR, \"raw_ptBR_STEEL_HyDE_full.csv\"), index_col=False)\n",
        "ptBR_STEEL_HyDE_full['label'] = ptBR_STEEL_HyDE_full['label'].replace({2:0})\n",
        "\n",
        "ptBR_LLaMA_full[\"method\"] = \"Llama-3.1-8B-Instruct\"\n",
        "ptBR_Qwen_full[\"method\"] = \"Qwen2.5-7B-Instruct \"\n",
        "ptBR_Ministral_full[\"method\"] = \"Ministral-8B-Instruct-2410\"\n",
        "ptBR_STEEL_HyDE_full[\"method\"] = \"STEEL_HyDE\""
      ]
    },
    {
      "cell_type": "code",
      "execution_count": null,
      "metadata": {
        "id": "qp8_s2GE65wJ"
      },
      "outputs": [],
      "source": [
        "ptBR_metrics = []\n",
        "ptBR_cm = []\n",
        "for df in [ptBR_LLaMA_full, ptBR_Qwen_full, ptBR_Ministral_full, ptBR_STEEL_HyDE_full]:\n",
        "  cm, metrics = evaluate_assistant_answer(fakebrcorpus_full, df)\n",
        "  ptBR_cm.append(cm)\n",
        "  ptBR_metrics.append(metrics)\n",
        "\n",
        "metrics_df = pd.DataFrame(ptBR_metrics)"
      ]
    },
    {
      "cell_type": "code",
      "execution_count": null,
      "metadata": {
        "id": "MUS_QStx65wK"
      },
      "outputs": [],
      "source": [
        "metrics_df.to_csv(os.path.join(os.getcwd(), \"ptBR_metrics.csv\"))"
      ]
    },
    {
      "cell_type": "code",
      "execution_count": null,
      "metadata": {
        "colab": {
          "base_uri": "https://localhost:8080/",
          "height": 1000
        },
        "id": "DcBTqb745_ag",
        "outputId": "26946fc5-f748-4edd-872f-d36e594e2a49"
      },
      "outputs": [],
      "source": [
        "plot(ptBR_cm[0], \"LLaMA\"), plot(ptBR_cm[1], \"Qwen\"), plot(ptBR_cm[2], \"Ministral\"), plot(ptBR_cm[3], \"STEEL_HyDE\")"
      ]
    },
    {
      "cell_type": "code",
      "execution_count": null,
      "metadata": {
        "id": "zaLR8H4blhtP"
      },
      "outputs": [],
      "source": [
        "without_NEI = ptBR_STEEL_HyDE_full[ptBR_STEEL_HyDE_full['label'] != 2]\n",
        "filtered = fakebrcorpus_full[fakebrcorpus_full.index.isin(without_NEI.index)]\n",
        "\n",
        "cm, metrics = evaluate_assistant_answer(filtered, without_NEI)"
      ]
    },
    {
      "cell_type": "code",
      "execution_count": null,
      "metadata": {
        "colab": {
          "base_uri": "https://localhost:8080/"
        },
        "id": "7_zwSxdmmXNv",
        "outputId": "509add01-b345-42cd-c43d-544c0bfc56ed"
      },
      "outputs": [],
      "source": [
        "cm, metrics"
      ]
    },
    {
      "cell_type": "markdown",
      "metadata": {
        "id": "Iwwyj-0pjB3X"
      },
      "source": [
        "## NEI analyses"
      ]
    },
    {
      "cell_type": "code",
      "execution_count": null,
      "metadata": {
        "id": "HRq3Czy2gVsn"
      },
      "outputs": [],
      "source": [
        "ptBR_STEEL_HyDE_full = pd.read_csv(os.path.join(RESULTS_DIR, \"raw_ptBR_STEEL_HyDE_full.csv\"), index_col=False)\n",
        "\n",
        "NEI = ptBR_STEEL_HyDE_full[ptBR_STEEL_HyDE_full['label'] == 2]\n",
        "false = ptBR_STEEL_HyDE_full[ptBR_STEEL_HyDE_full['label'] == 0]\n",
        "true = ptBR_STEEL_HyDE_full[ptBR_STEEL_HyDE_full['label'] == 1]"
      ]
    },
    {
      "cell_type": "code",
      "execution_count": null,
      "metadata": {
        "colab": {
          "base_uri": "https://localhost:8080/",
          "height": 406
        },
        "id": "h7BMjENrjWxI",
        "outputId": "264fd5d0-93ee-4ea0-aba1-27abe609799b"
      },
      "outputs": [],
      "source": [
        "import matplotlib.pyplot as plt\n",
        "\n",
        "labels = [\"NEI\", \"False\", \"True\"]\n",
        "sizes = [len(NEI), len(false), len(true)]\n",
        "\n",
        "fig, ax = plt.subplots()\n",
        "ax.pie(sizes, labels=labels, startangle=90, autopct='%1.1f%%')\n",
        "ax.axis('equal')\n",
        "\n",
        "plt.show()"
      ]
    },
    {
      "cell_type": "code",
      "execution_count": null,
      "metadata": {
        "id": "-IZbLLA-kuR4"
      },
      "outputs": [],
      "source": [
        "enUS_STEEL_HyDE_full = pd.read_csv(os.path.join(RESULTS_DIR, \"raw_enUS_STEEL_HyDE_full.csv\"), index_col=False)\n",
        "\n",
        "NEI = enUS_STEEL_HyDE_full[enUS_STEEL_HyDE_full['label'] == 2]\n",
        "false = enUS_STEEL_HyDE_full[enUS_STEEL_HyDE_full['label'] == 0]\n",
        "true = enUS_STEEL_HyDE_full[enUS_STEEL_HyDE_full['label'] == 1]"
      ]
    },
    {
      "cell_type": "code",
      "execution_count": null,
      "metadata": {
        "colab": {
          "base_uri": "https://localhost:8080/",
          "height": 409
        },
        "id": "PkNpTEpNkyCk",
        "outputId": "a8da4a16-a480-48ce-c7d8-8d940962674f"
      },
      "outputs": [],
      "source": [
        "import matplotlib.pyplot as plt\n",
        "\n",
        "labels = [\"NEI\", \"False\", \"True\"]\n",
        "sizes = [len(NEI), len(false), len(true)]\n",
        "\n",
        "fig, ax = plt.subplots()\n",
        "ax.pie(sizes, labels=labels, startangle=90, autopct='%1.1f%%')\n",
        "ax.axis('equal')\n",
        "\n",
        "plt.show()"
      ]
    }
  ],
  "metadata": {
    "colab": {
      "collapsed_sections": [
        "BkC0ekSGih8S",
        "Mt57uFEgDmwU",
        "DFHyZDmN73pM",
        "7pjA3pZM-DVM"
      ],
      "provenance": []
    },
    "kernelspec": {
      "display_name": "Python 3",
      "name": "python3"
    },
    "language_info": {
      "name": "python"
    }
  },
  "nbformat": 4,
  "nbformat_minor": 0
}
