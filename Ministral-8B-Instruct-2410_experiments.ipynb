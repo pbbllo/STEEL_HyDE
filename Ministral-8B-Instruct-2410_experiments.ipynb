{
 "cells": [
  {
   "cell_type": "markdown",
   "id": "edTMfHLDYyLD",
   "metadata": {
    "id": "edTMfHLDYyLD"
   },
   "source": [
    "# Datasets"
   ]
  },
  {
   "cell_type": "code",
   "execution_count": 1,
   "id": "nG1ib945YxUD",
   "metadata": {
    "colab": {
     "base_uri": "https://localhost:8080/"
    },
    "executionInfo": {
     "elapsed": 26966,
     "status": "ok",
     "timestamp": 1739399566438,
     "user": {
      "displayName": "PABLO FONSECA",
      "userId": "08072571061568482593"
     },
     "user_tz": 180
    },
    "id": "nG1ib945YxUD",
    "outputId": "cd5d0686-c426-47cb-f6d4-4362c5811381"
   },
   "outputs": [
    {
     "name": "stdout",
     "output_type": "stream",
     "text": [
      "Mounted at /content/drive/\n"
     ]
    }
   ],
   "source": [
    "import os\n",
    "import json\n",
    "import pandas as pd\n",
    "from google.colab import drive\n",
    "drive.mount(\"/content/drive/\")\n",
    "\n",
    "DATASET_DIR = os.path.join(\"/content/drive/MyDrive/TCC/workspace/datasets\")\n",
    "RESULTS_DIR =  os.path.join(\"/content/drive/MyDrive/TCC/workspace/experiments/results\")\n"
   ]
  },
  {
   "cell_type": "code",
   "execution_count": null,
   "id": "G5HqF_St6Htx",
   "metadata": {
    "executionInfo": {
     "elapsed": 4639,
     "status": "ok",
     "timestamp": 1739399571074,
     "user": {
      "displayName": "PABLO FONSECA",
      "userId": "08072571061568482593"
     },
     "user_tz": 180
    },
    "id": "G5HqF_St6Htx"
   },
   "outputs": [],
   "source": [
    "fakebrcorpus_full = pd.read_csv(f\"{DATASET_DIR}/Fakebr/full_text_fakebrcorpus.csv\")\n",
    "liar_full = pd.read_csv(f'{DATASET_DIR}/LIAR/liar_train.csv')"
   ]
  },
  {
   "cell_type": "markdown",
   "id": "zO4ThlBqqs-P",
   "metadata": {
    "id": "zO4ThlBqqs-P"
   },
   "source": [
    "# Setup\n",
    "- Install packages\n",
    "- Load model"
   ]
  },
  {
   "cell_type": "code",
   "execution_count": null,
   "id": "mSGY5-AG5T4M",
   "metadata": {
    "colab": {
     "base_uri": "https://localhost:8080/"
    },
    "executionInfo": {
     "elapsed": 322,
     "status": "ok",
     "timestamp": 1738249673916,
     "user": {
      "displayName": "Pablo Weslley",
      "userId": "13204540486827778511"
     },
     "user_tz": 180
    },
    "id": "mSGY5-AG5T4M",
    "outputId": "6f900f77-ebeb-42f6-fb16-a24c074ad16b"
   },
   "outputs": [],
   "source": [
    "!python --version"
   ]
  },
  {
   "cell_type": "code",
   "execution_count": null,
   "id": "ssEez18I9FyS",
   "metadata": {
    "colab": {
     "base_uri": "https://localhost:8080/",
     "height": 1000
    },
    "collapsed": true,
    "executionInfo": {
     "elapsed": 123304,
     "status": "ok",
     "timestamp": 1738249797506,
     "user": {
      "displayName": "Pablo Weslley",
      "userId": "13204540486827778511"
     },
     "user_tz": 180
    },
    "id": "ssEez18I9FyS",
    "outputId": "7082b7ef-3feb-41fd-cbbe-cc48dcf69046"
   },
   "outputs": [],
   "source": [
    "!pip install unsloth==2025.1.1\n",
    "!pip install pyarrow==17.0.0\n",
    "!pip install transformers==4.47.1\n",
    "!pip install torch==2.5.1"
   ]
  },
  {
   "cell_type": "code",
   "execution_count": null,
   "id": "4rLIfAv23zEk",
   "metadata": {
    "colab": {
     "base_uri": "https://localhost:8080/"
    },
    "executionInfo": {
     "elapsed": 5337,
     "status": "ok",
     "timestamp": 1738249802835,
     "user": {
      "displayName": "Pablo Weslley",
      "userId": "13204540486827778511"
     },
     "user_tz": 180
    },
    "id": "4rLIfAv23zEk",
    "outputId": "84253f04-aad1-48cb-e150-7306e4d7ce99"
   },
   "outputs": [],
   "source": [
    "import torch\n",
    "torch.cuda.is_available()"
   ]
  },
  {
   "cell_type": "code",
   "execution_count": null,
   "id": "3HEk2v73SIcJ",
   "metadata": {
    "colab": {
     "base_uri": "https://localhost:8080/",
     "height": 573,
     "referenced_widgets": [
      "579c503e0ae34a1c95cbd7bbdce8bc13",
      "0e85f1ba714944bfa212765d5ad9bb73",
      "a64ff1dd4c284959856d39615c78b08c",
      "871d5ccb78f24b65ae6ef5616b21847a",
      "12ccfd3d19504336957676d03e8bd038",
      "a85276917586483e83262d4e9324f197",
      "0041fa14c718491f89f2fb82f18848af",
      "56edf93e85f041ec97f4d5043c261361",
      "3363512110ea4dd391d07ee0c5cdd1ef",
      "41c32a4270e04cf3ab7246e703689568",
      "a2993bc9a6c34c5ab956cad4d85ebc5f",
      "b736cfd494ab41f2be46bf26b4c05ba6",
      "076845754eb24023a42ec2a53b4c3534",
      "5bddf95891a54cf8ba2e897945edf1f0",
      "5b2b00f5d5ef44acb6874c63df87352d",
      "8ec79d1563824112ac886988dd8e7702",
      "953655e8c2474b9597c931f3bdf08b6c",
      "1383d9fe99664e46b2958b2feb1b0290",
      "c902f6c08c394435919d881d14411b27",
      "3b91aaba52cd43e6a31b19a01a15bd32",
      "50397868f1ab412bbd21de37eacb76a0",
      "a4bd0c3955374789b2b1f32d7aa0f5e7",
      "b91abf1f0f224da59fa2bcc050a79cd0",
      "520ce61656fd4a10ab26241c0518b26e",
      "379a764bdc8747438415f66a6655b363",
      "f80967d8e6574d0e880b9c14bae70537",
      "5b498f3da9ab41be88a2b5575c74866b",
      "d636cad47e6b4e20882a894a8565df58",
      "7c6a5af5fb5748ffb19fc0273995a088",
      "6ec207764462447fad49e1767b2c58d5",
      "20a2e01eb6de442499f7ec1ba9d0d814",
      "4396d35133674eda9dbeb033fde931e4",
      "554d55befbc74c3ea15d3f7f4710c6f1",
      "578ae7fa5e074c3e8f7ddc86ff55ff15",
      "1cbcbbffbe934b1499eb394623d62159",
      "741db04869124d8ead93121f0f060138",
      "fe40ba4b63654c15b18f6dbd4b3a6c49",
      "21d691e45a3c40a0835535cb8077f85f",
      "64d127f737b34ecab4e76d0e1ed520f7",
      "7ded95d233654507a9ab83901265d301",
      "24105814b1924aa5a0a96c5cea3058f1",
      "e37047e10aa647baba6f61e0ce9232e1",
      "01d876a2b3c84d6ca3a98299b946c159",
      "0bfa7e7f4fba42e2a1641f7b3c653498",
      "a52d74f1e25f4003b1dca8104246d195",
      "25c6e61651c14d31b1ba8185f2c029c7",
      "476690a3cf26499ab2968e2fed9fe157",
      "30f8192a8f064557a1d9b00b6bbbbcb7",
      "0d825ddf605b4f08b31cc01c0cc5370d",
      "7e0462bb59ae4a00af7c476832999742",
      "30a96a52544640cea384a17e617e65e3",
      "2371a59527b04e71b88afe8183593953",
      "0f457b3969f64087844bee7ad740e1a1",
      "e6321dca07c0497e8bda41c912d34a14",
      "03a48c7eee2145eeb6e0fb5a13a9c4c4",
      "6def3b8f12bf4ca2ae6c8ff0ee440f9d",
      "9ba2d51194ae4cf99303967b6f720957",
      "80ffd517474f4511b98efe0c13e9af5e",
      "948a1918cf0346f487bf75e30bfa0e2f",
      "c6fbd7fa37584a96be738ddada0fe099",
      "724b4bccc93c48dd8747a43b4eb4f7a5",
      "c87287ddc24c4911b4f081facdea403f",
      "a633c032291047b8becfaadd5971a06a",
      "0ce292576e3f409d9eb969dc33077145",
      "746de3dc276346ad92ce7699c2d9ec4a",
      "c4f2b72d5db74b1e8d30687f43ce6d84",
      "66a20a38890645018c90466e107589d9",
      "d2225cc796fc4f89940101f0306e2481",
      "3453bf672efb4e99807d050383fa9f39",
      "0c8951aad2df4a92884aae99af334b93",
      "9567ba98393c4a06aa9a50ef2a47027c",
      "ce4a28b9b048498b8c9aa9eccb184802",
      "437fbb1a58b847af9295f37921f88f6c",
      "22cf07001b09474bb298a758cd7a4c12",
      "34359ca19445493da2079daf67da3200",
      "f0cc0de804374477a7bd49b29bee989d",
      "3a239a91a2164e44b4cb38411b14835b",
      "35524cca47e4478a91e72eb31c320672",
      "907e257e0a0f46e08d19950062c9306e",
      "87a6094ef758498aa29a1e6fea3d914e",
      "ec252760cb8e4079b77ad21c3f7b0c93",
      "d755895c09ef4261bea0543cf3bf1c62",
      "9aa09ca4409c45a7a71ac052b31053fb",
      "68e7d8ea769248b584aff7249a239207",
      "de0a321662b244a9b7169249145cfba0",
      "4092f2d03cd545dbb58393de257b1125",
      "940fd8caad594a4ba633eaa6dcac1013",
      "fd28fe5c69fd4d41a87134f4484fa035",
      "21a64ab08ab344bbb936b0865fa8775d",
      "9ddefbf42fa14a7daf34f29fb5de5c33",
      "9462b14da1484c5f87f4ab593233f32a",
      "de31fab5127f4befa70f659e568c558d",
      "ac8c4d2eac4847dc8ffbe56ca4032a4d",
      "87631294bf2944a4b0a294d946703cc8",
      "7cb42eeee84a4632af4d96d8e36afd22",
      "6df5f4cdb38148c49618c603ac2fafe9",
      "1cb5fdd6d30847d4aba2fd549a1f266f",
      "152df4516fc74ff0a5a9ddbeadaa7f89",
      "a0526773da1c49f1bce8f10771be8ae2",
      "26cdb02381614544ae6a92b57ec6a635",
      "f76392bac58a439ba063571f41fc67ab",
      "2b06b65ad05c46ab936c7916a6fa7098",
      "9168ac376bc045ebb55f2553c185b1f3",
      "345b904fa7f544e79402a9236808916c",
      "e024d7a4c4584e2ebf165217bdeea7ab",
      "798ee4b6343e4e88928782bc18c932c6",
      "87d134d24c824997bbf08f33c2da73b8",
      "f9d8edbea3754338bbadb7df346971c0",
      "aac7ffb26b0b4f9fae4831799b452e73",
      "266e9fb6b9dd4597977580e86496b9de",
      "6f573bd1934348e0b5011ee0ee163219",
      "aff710e8beca454f9c8142c33f7dea42",
      "6b8594f5cc3043e5ad185e0fb3d11322",
      "524a1f5509064e6e91622e72ea7dc0d1",
      "6f5bc645fed9463da2fe91585e4f39ac",
      "483785daa7744e798e50bd99f59e1aff",
      "a4e1df43b194456bb152c784de003b62",
      "b804715a40df439a9557e0f9823073cc",
      "24919305b0744da9970d49e41b3d895d",
      "76e98d17becb43119a13edb201dbaedc",
      "dad153ba77db40f0a81f7968630ffbf8"
     ]
    },
    "executionInfo": {
     "elapsed": 322569,
     "status": "ok",
     "timestamp": 1738250126631,
     "user": {
      "displayName": "Pablo Weslley",
      "userId": "13204540486827778511"
     },
     "user_tz": 180
    },
    "id": "3HEk2v73SIcJ",
    "outputId": "4fcad985-22cb-4ab9-a481-436b1166b366"
   },
   "outputs": [],
   "source": [
    "from unsloth import FastLanguageModel\n",
    "\n",
    "base_model_id = \"mistralai/Ministral-8B-Instruct-2410\"\n",
    "max_seq_length = 4096\n",
    "random_state = 2210\n",
    "dtype = None\n",
    "load_in_4bit = True\n",
    "device_map = \"auto\"\n",
    "\n",
    "model, tokenizer = FastLanguageModel.from_pretrained(\n",
    "    model_name=base_model_id,\n",
    "    max_seq_length=max_seq_length,\n",
    "    dtype=dtype,\n",
    "    load_in_4bit=load_in_4bit,\n",
    "    device_map=device_map,\n",
    ")\n"
   ]
  },
  {
   "cell_type": "markdown",
   "id": "-5XMVS6_q3YE",
   "metadata": {
    "id": "-5XMVS6_q3YE"
   },
   "source": [
    "# Functions"
   ]
  },
  {
   "cell_type": "code",
   "execution_count": 3,
   "id": "4juJflxYSpkH",
   "metadata": {
    "executionInfo": {
     "elapsed": 1299,
     "status": "ok",
     "timestamp": 1739399662568,
     "user": {
      "displayName": "PABLO FONSECA",
      "userId": "08072571061568482593"
     },
     "user_tz": 180
    },
    "id": "4juJflxYSpkH"
   },
   "outputs": [],
   "source": [
    "import re\n",
    "from sklearn.metrics import confusion_matrix, accuracy_score, precision_score, recall_score, f1_score\n",
    "from sklearn.metrics import ConfusionMatrixDisplay\n",
    "\n",
    "\n",
    "REGEX_EXPLANATION = r\"(Explanation|Explicação):\\s*\\**(.*)\"\n",
    "REGEX_ANSWER_EN = r\"\\**(Answer)\\**:\\**\\s*\\[?(\\d+)\\]?\"\n",
    "REGEX_ANSWER_PT = r\"\\**(Resposta|Avaliação)\\**:\\**\\s*\\[?(\\d+)\\]?\"\n",
    "REGEX_0_EXCEPTION = r\"N/A|0/1|[?]\"\n",
    "REGEX_1_EXCEPTION = r\"1/1\"\n",
    "REGEX_ANSWER_EXCEPTION = r\"(Answer|Resposta):\"\n",
    "\n",
    "def plot(confusion_matrix, title):\n",
    "  disp = ConfusionMatrixDisplay(confusion_matrix=confusion_matrix, display_labels=[\"Fake News\", \"True News\"])\n",
    "  disp.plot()\n",
    "  plt.title(title)\n",
    "  plt.show()\n",
    "\n",
    "\n",
    "def evaluate_assistant_answer(true_labels, predicted_labels):\n",
    "    y_true = list(true_labels['label'])\n",
    "    y_pred = list(predicted_labels['label'])\n",
    "\n",
    "    cm = confusion_matrix(y_true, y_pred, labels=[0,1], normalize='true')\n",
    "\n",
    "    # TP = cm[0, 0]  # True Positives\n",
    "    # FN = cm[0, 1]  # False Negatives\n",
    "    # FP = cm[1, 0]  # False Positives\n",
    "    # TN = cm[1, 1]  # True Negatives\n",
    "\n",
    "    # # Accuracy: (TP + TN) / Total\n",
    "    # accuracy = (TP + TN) / (TP + TN + FP + FN)\n",
    "\n",
    "    # # Precision: TP / (TP + FP)\n",
    "    # precision = TP / (TP + FP) if (TP + FP) != 0 else 0\n",
    "\n",
    "    # # Recall: TP / (TP + FN)\n",
    "    # recall = TP / (TP + FN) if (TP + FN) != 0 else 0\n",
    "\n",
    "    # # F1-Score: 2 * (Precision * Recall) / (Precision + Recall)\n",
    "    # f1 = 2 * (precision * recall) / (precision + recall) if (precision + recall) != 0 else 0\n",
    "\n",
    "    accuracy = accuracy_score(y_true, y_pred)\n",
    "\n",
    "   # 0 = Fake news. Using pos_label=0, we're telling that the class of the interesse is 0 (fake news), then the \"positive\" values is Fake news\n",
    "    precision_f = precision_score(y_true, y_pred, pos_label=0)\n",
    "    recall_f = recall_score(y_true, y_pred, pos_label=0)\n",
    "    f1_f = f1_score(y_true, y_pred, pos_label=0)\n",
    "\n",
    "    precision_t = precision_score(y_true, y_pred, pos_label=1)\n",
    "    recall_t = recall_score(y_true, y_pred, pos_label=1)\n",
    "    f1_t = f1_score(y_true, y_pred, pos_label=1)\n",
    "\n",
    "    f1_micro = f1_score(y_true, y_pred, average='micro')\n",
    "    f1_macro = f1_score(y_true, y_pred, average='macro')\n",
    "\n",
    "    metrics = {\n",
    "        \"accuracy\": round(accuracy,4),\n",
    "        \"precision_f\": round(precision_f,4),\n",
    "        \"recall_f\": round(recall_f,4),\n",
    "        \"f1_f\": round(f1_f,4),\n",
    "        \"precision_t\": round(precision_t,4),\n",
    "        \"recall_t\": round(recall_t,4),\n",
    "        \"f1_t\": round(f1_t,4),\n",
    "        \"f1_micro\": round(f1_micro,4),\n",
    "        \"f1_macro\": round(f1_macro,4)\n",
    "\n",
    "    }\n",
    "\n",
    "    return cm, metrics\n",
    "\n",
    "def get_results_df(outputs):\n",
    "    results_df = pd.DataFrame(columns=[\"label\", \"explanation\", \"output\"])\n",
    "    outputs = list(outputs[\"output\"])\n",
    "    for i, out in enumerate(outputs):\n",
    "      explanation_out = re.search(REGEX_EXPLANATION, out)\n",
    "      explanation =  explanation_out.group(2) if explanation_out else \"Model couln't give a explanation or answer.\"\n",
    "\n",
    "      answer_out = re.search(REGEX_ANSWER_EN, out) or re.search(REGEX_ANSWER_PT, out)\n",
    "      if answer_out:\n",
    "        answer = int(answer_out.group(2))\n",
    "      elif re.search(REGEX_0_EXCEPTION, out):\n",
    "        answer = 0\n",
    "      elif re.search(REGEX_1_EXCEPTION, out):\n",
    "        answer = 1\n",
    "      elif not re.search(REGEX_ANSWER_EXCEPTION, out):\n",
    "        answer = 0\n",
    "      else:\n",
    "          raise Exception(f\"ANSWER PROBLEM FOUND IN CLAIM {i+2}:\\n {out} \")\n",
    "\n",
    "\n",
    "      new_row = [answer, explanation, out]\n",
    "      results_df.loc[len(results_df)] = new_row\n",
    "\n",
    "    return results_df"
   ]
  },
  {
   "cell_type": "code",
   "execution_count": null,
   "id": "SGlMZhcDlgL7",
   "metadata": {
    "id": "SGlMZhcDlgL7"
   },
   "outputs": [],
   "source": [
    "import pandas as pd\n",
    "import re\n",
    "import matplotlib.pyplot as plt\n",
    "import numpy as np\n",
    "from transformers import TextStreamer, TextIteratorStreamer\n",
    "\n",
    "REGEX_EXPLANATION = r\"(Explanation|Explicação):\\s*\\**(.*)\"\n",
    "REGEX_ANSWER_EN = r\"\\**(Answer)\\**:\\**\\s*\\[?(\\d+)\\]?\"\n",
    "REGEX_ANSWER_PT = r\"\\**(Resposta|Avaliação)\\**:\\**\\s*\\[?(\\d+)\\]?\"\n",
    "REGEX_0_EXCEPTION = r\"N/A|0/1\"\n",
    "REGEX_1_EXCEPTION = r\"1/1\"\n",
    "REGEX_ANSWER_EXCEPTION = r\"(Answer|Resposta):\"\n",
    "\n",
    "VANILLA_PROMPT = {\n",
    "\"en_US\": '''Instructions: Analyze and judge if the claim is true or false.\n",
    "Claim: {search_text}\n",
    "Please provide your evaluation of the claim based on the following format:\n",
    "Explanation: [Explain why you make this judgement.]\n",
    "Answer: [0/1] (0 if this claim is false or 1 if this claim is true)\n",
    "Remember to fill in all required fields based on your judgement. You must and can only choose one answer from 1 or 0.''',\n",
    "\"pt_BR\": '''Instruções: Analise e julgue se a notícia é verdadeira ou falsa.\n",
    "Notícia: {search_text}\n",
    "Forneça sua avaliação da notícia com base no seguinte formato:\n",
    "Explicação: [Explique por que você fez esse julgamento.]\n",
    "Resposta: [0/1] (0 se esta notícia for falsa ou 1 se esta notícia for verdadeira)\n",
    "Lembre-se de preencher todos os campos obrigatórios com base no seu julgamento. Você deve e só pode escolher uma resposta entre 1 ou 0.'''\n",
    "}\n",
    "\n",
    "\n",
    "class Model:\n",
    "  def __init__(self, model, tokenizer, system_prompt=\"You are a helpful assistant\"):\n",
    "      self.model = model\n",
    "      self.tokenizer = tokenizer\n",
    "      self.max_new_tokens = 4096\n",
    "      self.system_prompt = system_prompt\n",
    "      self.messages_base = {\"role\": \"system\", \"content\": system_prompt}\n",
    "      self.terminators = [self.tokenizer.eos_token_id, self.tokenizer.convert_tokens_to_ids(\"<|eot_id|>\")]\n",
    "\n",
    "\n",
    "  def generate_message(self, messages):\n",
    "      chat = [self.messages_base, messages]\n",
    "\n",
    "      input_ids = self.tokenizer.apply_chat_template(\n",
    "          chat,\n",
    "          add_generation_prompt=True,\n",
    "          return_tensors=\"pt\"\n",
    "      ).to(self.model.device)\n",
    "\n",
    "      outputs = self.model.generate(\n",
    "          input_ids,\n",
    "          max_new_tokens=self.max_new_tokens,\n",
    "          eos_token_id=self.terminators,\n",
    "          pad_token_id=self.tokenizer.eos_token_id,\n",
    "          do_sample=False,\n",
    "          temperature=0.1,\n",
    "          top_p=0.75,\n",
    "          use_cache=True,\n",
    "          streamer=TextIteratorStreamer(self.tokenizer),\n",
    "      )\n",
    "\n",
    "      response = outputs[0][input_ids.shape[-1]:]\n",
    "      return self.tokenizer.decode(response, skip_special_tokens=True)\n",
    "\n",
    "\n",
    "  def set_for_inference(self):\n",
    "      FastLanguageModel.for_inference(self.model)\n",
    "\n",
    "\n",
    "def run_experiments(agent, dataset, language):\n",
    "    claims = list(dataset[\"text\"])\n",
    "    results = []\n",
    "\n",
    "    print(f\"Total of claims to classify: {len(claims)}\")\n",
    "    print(f\"{VANILLA_PROMPT[language]}\\n\")\n",
    "    for i, claim in enumerate(claims):\n",
    "      print(f\"Running claim number [{i+1}]: {claim}\")\n",
    "      prompt = VANILLA_PROMPT[language].format(search_text=claim)\n",
    "      messages = {\"role\": \"user\", \"content\": prompt}\n",
    "      output = agent.generate_message(messages)\n",
    "\n",
    "      results.append({\"output\": output})\n",
    "\n",
    "    return results"
   ]
  },
  {
   "cell_type": "markdown",
   "id": "FJuAFCa-q_96",
   "metadata": {
    "id": "FJuAFCa-q_96"
   },
   "source": [
    "# Experiments"
   ]
  },
  {
   "cell_type": "markdown",
   "id": "-NpWnitanUhL",
   "metadata": {
    "id": "-NpWnitanUhL"
   },
   "source": [
    "## en_US"
   ]
  },
  {
   "cell_type": "code",
   "execution_count": null,
   "id": "mEHV3C7JkalV",
   "metadata": {
    "colab": {
     "base_uri": "https://localhost:8080/"
    },
    "executionInfo": {
     "elapsed": 660,
     "status": "ok",
     "timestamp": 1738023083092,
     "user": {
      "displayName": "Pablo Weslley Silva da Fonseca",
      "userId": "08454828087730091057"
     },
     "user_tz": 180
    },
    "id": "mEHV3C7JkalV",
    "outputId": "9fb1afe4-9373-43e1-9d73-043ac55febfc"
   },
   "outputs": [],
   "source": [
    "SYSTEM_PROMPT = \"You are an assistant specialized in analyzing and identifying fake or true news.\"\n",
    "agent = Model(model, tokenizer, SYSTEM_PROMPT)\n",
    "agent.set_for_inference()\n",
    "agent.max_new_tokens"
   ]
  },
  {
   "cell_type": "markdown",
   "id": "7adw_1bLzcwr",
   "metadata": {
    "id": "7adw_1bLzcwr"
   },
   "source": [
    "### 0 - 1000 (DONE)"
   ]
  },
  {
   "cell_type": "code",
   "execution_count": null,
   "id": "NLSGzYL8zWDV",
   "metadata": {
    "colab": {
     "base_uri": "https://localhost:8080/",
     "height": 1000
    },
    "executionInfo": {
     "elapsed": 5925459,
     "status": "error",
     "timestamp": 1737939234827,
     "user": {
      "displayName": "PABLO FONSECA",
      "userId": "08072571061568482593"
     },
     "user_tz": 180
    },
    "id": "NLSGzYL8zWDV",
    "outputId": "ba36035c-98f2-4679-fcd1-871d38ce339e"
   },
   "outputs": [],
   "source": [
    "outputs = run_experiments(agent, liar_full[:1000], \"en_US\")"
   ]
  },
  {
   "cell_type": "code",
   "execution_count": null,
   "id": "izD9j_oQSpVR",
   "metadata": {
    "id": "izD9j_oQSpVR"
   },
   "outputs": [],
   "source": [
    "raw_df = pd.DataFrame.from_records(outputs, columns=[\"output\"])\n",
    "raw_df.to_csv(os.path.join(RESULTS_DIR, \"raw_enUS_Ministral_0_1000.csv\"))"
   ]
  },
  {
   "cell_type": "markdown",
   "id": "EIJTR2duVuFX",
   "metadata": {
    "id": "EIJTR2duVuFX"
   },
   "source": [
    "### 1000 - 2000 (DONE)"
   ]
  },
  {
   "cell_type": "code",
   "execution_count": null,
   "id": "8F7ieaQ2Vtnv",
   "metadata": {
    "colab": {
     "base_uri": "https://localhost:8080/"
    },
    "executionInfo": {
     "elapsed": 6331486,
     "status": "ok",
     "timestamp": 1737946811014,
     "user": {
      "displayName": "PABLO FONSECA",
      "userId": "08072571061568482593"
     },
     "user_tz": 180
    },
    "id": "8F7ieaQ2Vtnv",
    "outputId": "d51794a4-d1f1-4a56-b070-c5044cc690e7"
   },
   "outputs": [],
   "source": [
    "outputs = run_experiments(agent, liar_full[1000:2000], \"en_US\")"
   ]
  },
  {
   "cell_type": "code",
   "execution_count": null,
   "id": "NTFFBvYHSmUx",
   "metadata": {
    "id": "NTFFBvYHSmUx"
   },
   "outputs": [],
   "source": [
    "raw_df = pd.DataFrame.from_records(outputs, columns=[\"output\"])\n",
    "raw_df.to_csv(os.path.join(RESULTS_DIR, \"raw_enUS_Ministral_1000_2000.csv\"))"
   ]
  },
  {
   "cell_type": "markdown",
   "id": "Qcifm33HWH5u",
   "metadata": {
    "id": "Qcifm33HWH5u"
   },
   "source": [
    "### 2000 - 3000 (DONE)"
   ]
  },
  {
   "cell_type": "code",
   "execution_count": null,
   "id": "fsrZz_t1WM5P",
   "metadata": {
    "colab": {
     "base_uri": "https://localhost:8080/"
    },
    "executionInfo": {
     "elapsed": 6515290,
     "status": "ok",
     "timestamp": 1737999582675,
     "user": {
      "displayName": "Pablo Weslley",
      "userId": "01590026520414852215"
     },
     "user_tz": 180
    },
    "id": "fsrZz_t1WM5P",
    "outputId": "b106f745-05e3-4617-aed4-270a1bf0d861"
   },
   "outputs": [],
   "source": [
    "outputs = run_experiments(agent, liar_full[2000:3000], \"en_US\")\n",
    "raw_df = pd.DataFrame.from_records(outputs, columns=[\"output\"])\n",
    "raw_df.to_csv(os.path.join(RESULTS_DIR, \"raw_enUS_Ministral_2000_3000.csv\"))"
   ]
  },
  {
   "cell_type": "markdown",
   "id": "Xc3YEic0Wd2f",
   "metadata": {
    "id": "Xc3YEic0Wd2f"
   },
   "source": [
    "### 3000 - 4000 (DONE)"
   ]
  },
  {
   "cell_type": "code",
   "execution_count": null,
   "id": "dHu8NALAWdc_",
   "metadata": {
    "colab": {
     "base_uri": "https://localhost:8080/"
    },
    "executionInfo": {
     "elapsed": 6170386,
     "status": "ok",
     "timestamp": 1738006520520,
     "user": {
      "displayName": "Pablo Weslley",
      "userId": "01590026520414852215"
     },
     "user_tz": 180
    },
    "id": "dHu8NALAWdc_",
    "outputId": "4cdd545e-fa97-4cfd-afe6-2218d37932f9"
   },
   "outputs": [],
   "source": [
    "outputs = run_experiments(agent, liar_full[3000:4000], \"en_US\")\n",
    "raw_df = pd.DataFrame.from_records(outputs, columns=[\"output\"])\n",
    "raw_df.to_csv(os.path.join(RESULTS_DIR, \"raw_enUS_Ministral_3000_4000.csv\"))"
   ]
  },
  {
   "cell_type": "markdown",
   "id": "3tLj7OEgW2-O",
   "metadata": {
    "id": "3tLj7OEgW2-O"
   },
   "source": [
    "### 4000 - 5000 (DONE)"
   ]
  },
  {
   "cell_type": "code",
   "execution_count": null,
   "id": "36gI16nNW6CH",
   "metadata": {
    "colab": {
     "base_uri": "https://localhost:8080/"
    },
    "collapsed": true,
    "executionInfo": {
     "elapsed": 6553084,
     "status": "ok",
     "timestamp": 1738013222905,
     "user": {
      "displayName": "Pablo Weslley",
      "userId": "01590026520414852215"
     },
     "user_tz": 180
    },
    "id": "36gI16nNW6CH",
    "outputId": "1640300e-8428-41df-e328-5c1fba17d7c6"
   },
   "outputs": [],
   "source": [
    "outputs = run_experiments(agent, liar_full[4000:5000], \"en_US\")\n",
    "raw_df = pd.DataFrame.from_records(outputs, columns=[\"output\"])\n",
    "raw_df.to_csv(os.path.join(RESULTS_DIR, \"raw_enUS_Ministral_4000_5000.csv\"))"
   ]
  },
  {
   "cell_type": "markdown",
   "id": "WhYn3uQmyyu4",
   "metadata": {
    "id": "WhYn3uQmyyu4"
   },
   "source": [
    "### 5000 - 6000 (DONE)"
   ]
  },
  {
   "cell_type": "code",
   "execution_count": null,
   "id": "wIycGX0iyyu4",
   "metadata": {
    "colab": {
     "base_uri": "https://localhost:8080/",
     "height": 1000
    },
    "executionInfo": {
     "elapsed": 3854002,
     "status": "error",
     "timestamp": 1738026956616,
     "user": {
      "displayName": "Pablo Weslley Silva da Fonseca",
      "userId": "08454828087730091057"
     },
     "user_tz": 180
    },
    "id": "wIycGX0iyyu4",
    "outputId": "2522fd73-c162-4766-f4d7-2e145031bebf"
   },
   "outputs": [],
   "source": [
    "outputs = run_experiments(agent, liar_full[5000:6000], \"en_US\")\n",
    "raw_df = pd.DataFrame.from_records(outputs, columns=[\"output\"])\n",
    "raw_df.to_csv(os.path.join(RESULTS_DIR, \"raw_enUS_Ministral_5000_6000.csv\"))"
   ]
  },
  {
   "cell_type": "markdown",
   "id": "S356MUb3y6qv",
   "metadata": {
    "id": "S356MUb3y6qv"
   },
   "source": [
    "### 6000 - 7342 (DONE)"
   ]
  },
  {
   "cell_type": "code",
   "execution_count": null,
   "id": "K-Y_azEmy6qv",
   "metadata": {
    "colab": {
     "base_uri": "https://localhost:8080/"
    },
    "executionInfo": {
     "elapsed": 8324589,
     "status": "ok",
     "timestamp": 1738035360716,
     "user": {
      "displayName": "Pablo Weslley Silva da Fonseca",
      "userId": "08454828087730091057"
     },
     "user_tz": 180
    },
    "id": "K-Y_azEmy6qv",
    "outputId": "33a9b0aa-25b2-4385-e40d-739d57d3b081"
   },
   "outputs": [],
   "source": [
    "outputs = run_experiments(agent, liar_full[6000:], \"en_US\")\n",
    "raw_df = pd.DataFrame.from_records(outputs, columns=[\"output\"])\n",
    "raw_df.to_csv(os.path.join(RESULTS_DIR, \"raw_enUS_Ministral_6000_7342.csv\"))"
   ]
  },
  {
   "cell_type": "markdown",
   "id": "f5zXOOiAB5au",
   "metadata": {
    "id": "f5zXOOiAB5au"
   },
   "source": [
    "### full results"
   ]
  },
  {
   "cell_type": "code",
   "execution_count": null,
   "id": "BGlBCxA0B4dO",
   "metadata": {
    "id": "BGlBCxA0B4dO"
   },
   "outputs": [],
   "source": [
    "enUS_0_1000    = pd.read_csv(os.path.join(RESULTS_DIR, \"raw_enUS_Ministral_0_1000.csv\"), index_col=False)[\"output\"]\n",
    "enUS_1000_2000 = pd.read_csv(os.path.join(RESULTS_DIR, \"raw_enUS_Ministral_1000_2000.csv\"), index_col=False)[\"output\"]\n",
    "enUS_2000_3000 = pd.read_csv(os.path.join(RESULTS_DIR, \"raw_enUS_Ministral_2000_3000.csv\"), index_col=False)[\"output\"]\n",
    "enUS_3000_4000 = pd.read_csv(os.path.join(RESULTS_DIR, \"raw_enUS_Ministral_3000_4000.csv\"), index_col=False)[\"output\"]\n",
    "enUS_4000_5000 = pd.read_csv(os.path.join(RESULTS_DIR, \"raw_enUS_Ministral_4000_5000.csv\"), index_col=False)[\"output\"]\n",
    "enUS_5000_6000 = pd.read_csv(os.path.join(RESULTS_DIR, \"raw_enUS_Ministral_5000_6000.csv\"), index_col=False)[\"output\"]\n",
    "enUS_6000_7342 = pd.read_csv(os.path.join(RESULTS_DIR, \"raw_enUS_Ministral_6000_7342.csv\"), index_col=False)[\"output\"]\n",
    "enUS_full = pd.concat([enUS_0_1000,enUS_1000_2000,enUS_2000_3000,enUS_3000_4000,enUS_4000_5000,enUS_5000_6000,enUS_6000_7342])\n",
    "enUS_full.to_csv(os.path.join(RESULTS_DIR, \"raw_enUS_Ministral_full.csv\"), index=False)"
   ]
  },
  {
   "cell_type": "code",
   "execution_count": null,
   "id": "sg9sMl9CER5G",
   "metadata": {
    "colab": {
     "base_uri": "https://localhost:8080/",
     "height": 424
    },
    "executionInfo": {
     "elapsed": 2275,
     "status": "ok",
     "timestamp": 1739399672159,
     "user": {
      "displayName": "PABLO FONSECA",
      "userId": "08072571061568482593"
     },
     "user_tz": 180
    },
    "id": "sg9sMl9CER5G",
    "outputId": "2d6166f0-0c00-4156-b4a8-0cc71c922813"
   },
   "outputs": [],
   "source": [
    "enUS_full = pd.read_csv(os.path.join(RESULTS_DIR, \"raw_enUS_Ministral_full.csv\"))\n",
    "enUS_full"
   ]
  },
  {
   "cell_type": "code",
   "execution_count": 5,
   "id": "W9PcJ32VAXxm",
   "metadata": {
    "collapsed": true,
    "executionInfo": {
     "elapsed": 8236,
     "status": "ok",
     "timestamp": 1739399685461,
     "user": {
      "displayName": "PABLO FONSECA",
      "userId": "08072571061568482593"
     },
     "user_tz": 180
    },
    "id": "W9PcJ32VAXxm"
   },
   "outputs": [],
   "source": [
    "results_enUS_df = get_results_df(enUS_full)"
   ]
  },
  {
   "cell_type": "code",
   "execution_count": null,
   "id": "M8F9tanCUpN3",
   "metadata": {
    "colab": {
     "base_uri": "https://localhost:8080/",
     "height": 424
    },
    "executionInfo": {
     "elapsed": 313,
     "status": "ok",
     "timestamp": 1739399687664,
     "user": {
      "displayName": "PABLO FONSECA",
      "userId": "08072571061568482593"
     },
     "user_tz": 180
    },
    "id": "M8F9tanCUpN3",
    "outputId": "671c4ce2-a976-40ee-ff29-08bfd8216275"
   },
   "outputs": [],
   "source": [
    "results_enUS_df"
   ]
  },
  {
   "cell_type": "code",
   "execution_count": null,
   "id": "2NaDZRLnGDb4",
   "metadata": {
    "colab": {
     "base_uri": "https://localhost:8080/"
    },
    "executionInfo": {
     "elapsed": 288,
     "status": "ok",
     "timestamp": 1739399690851,
     "user": {
      "displayName": "PABLO FONSECA",
      "userId": "08072571061568482593"
     },
     "user_tz": 180
    },
    "id": "2NaDZRLnGDb4",
    "outputId": "dd23119c-d13d-44b5-ae37-d36ac431f17c"
   },
   "outputs": [],
   "source": [
    "cm, metrics = evaluate_assistant_answer(liar_full, results_enUS_df)\n",
    "cm, metrics\n",
    "\n"
   ]
  },
  {
   "cell_type": "code",
   "execution_count": null,
   "id": "es2fT08BhEPY",
   "metadata": {
    "colab": {
     "base_uri": "https://localhost:8080/",
     "height": 472
    },
    "executionInfo": {
     "elapsed": 348,
     "status": "ok",
     "timestamp": 1738382916923,
     "user": {
      "displayName": "Pablo Weslley Silva da Fonseca",
      "userId": "08454828087730091057"
     },
     "user_tz": 180
    },
    "id": "es2fT08BhEPY",
    "outputId": "436c14b1-48bb-447b-b352-31d8d1fd9a38"
   },
   "outputs": [],
   "source": [
    "plot(cm, \"Ministral-8B-Instruct\")"
   ]
  },
  {
   "cell_type": "markdown",
   "id": "oq21T-mbnWth",
   "metadata": {
    "id": "oq21T-mbnWth"
   },
   "source": [
    "## pt_BR"
   ]
  },
  {
   "cell_type": "code",
   "execution_count": null,
   "id": "SPygbxynqdzO",
   "metadata": {
    "colab": {
     "base_uri": "https://localhost:8080/"
    },
    "executionInfo": {
     "elapsed": 315,
     "status": "ok",
     "timestamp": 1738250458683,
     "user": {
      "displayName": "Pablo Weslley",
      "userId": "13204540486827778511"
     },
     "user_tz": 180
    },
    "id": "SPygbxynqdzO",
    "outputId": "05d35a85-3d4a-4558-e4ff-dc2b9284be8c"
   },
   "outputs": [
    {
     "data": {
      "text/plain": [
       "4096"
      ]
     },
     "execution_count": 10,
     "metadata": {},
     "output_type": "execute_result"
    }
   ],
   "source": [
    "SYSTEM_PROMPT = \"Você é um assistente especializado em analisar e identificar notícias falsas ou verdadeiras.\"\n",
    "agent = Model(model, tokenizer, SYSTEM_PROMPT)\n",
    "agent.set_for_inference()\n",
    "agent.max_new_tokens"
   ]
  },
  {
   "cell_type": "code",
   "execution_count": null,
   "id": "QZVCWGWJ_1P2",
   "metadata": {
    "colab": {
     "base_uri": "https://localhost:8080/",
     "height": 111
    },
    "executionInfo": {
     "elapsed": 12347,
     "status": "ok",
     "timestamp": 1738250473360,
     "user": {
      "displayName": "Pablo Weslley",
      "userId": "13204540486827778511"
     },
     "user_tz": 180
    },
    "id": "QZVCWGWJ_1P2",
    "outputId": "b30c335b-35eb-414b-fef8-3be65a9ad60e"
   },
   "outputs": [],
   "source": [
    "claim = \"O presidente dos Estados Unidos, Donald Trump, anunciou nesta terça-feira (21) um investimento de até US$ 500 bilhões em inteligência artificial por meio de uma parceria com as empresas OpenAI, criadora do ChatGPT, Oracle, de gerenciamento de servidores e bancos de dados, e o banco SoftBank.\"\n",
    "prompt = VANILLA_PROMPT[\"pt_BR\"].format(search_text=claim)\n",
    "messages = {\"role\": \"user\", \"content\": prompt}\n",
    "output = agent.generate_message(messages)\n",
    "output"
   ]
  },
  {
   "cell_type": "markdown",
   "id": "oG1mt-NF80JG",
   "metadata": {
    "id": "oG1mt-NF80JG"
   },
   "source": [
    "### 0 - 1000 (DONE)"
   ]
  },
  {
   "cell_type": "code",
   "execution_count": null,
   "id": "sA99DoXS80JH",
   "metadata": {
    "colab": {
     "base_uri": "https://localhost:8080/"
    },
    "collapsed": true,
    "executionInfo": {
     "elapsed": 34279,
     "status": "ok",
     "timestamp": 1738167536703,
     "user": {
      "displayName": "Pablo Weslley",
      "userId": "01590026520414852215"
     },
     "user_tz": 180
    },
    "id": "sA99DoXS80JH",
    "outputId": "8bc98f18-0aa0-4df3-e13e-d6facd3f315a"
   },
   "outputs": [],
   "source": [
    "outputs = run_experiments(agent, fakebrcorpus_full[:500], \"pt_BR\")\n",
    "raw_df = pd.DataFrame.from_records(outputs, columns=[\"output\"])\n",
    "raw_df.to_csv(os.path.join(RESULTS_DIR, \"raw_ptBR_Ministral_0_500.csv\"))"
   ]
  },
  {
   "cell_type": "code",
   "execution_count": null,
   "id": "0VVWRY1Ia0Sw",
   "metadata": {
    "colab": {
     "base_uri": "https://localhost:8080/"
    },
    "collapsed": true,
    "executionInfo": {
     "elapsed": 2367017,
     "status": "ok",
     "timestamp": 1738174772211,
     "user": {
      "displayName": "Pablo Weslley",
      "userId": "01590026520414852215"
     },
     "user_tz": 180
    },
    "id": "0VVWRY1Ia0Sw",
    "outputId": "52c90dd8-89bb-4ddb-d8e0-11d439541903"
   },
   "outputs": [],
   "source": [
    "outputs = run_experiments(agent, fakebrcorpus_full[500:1000], \"pt_BR\")\n",
    "raw_df = pd.DataFrame.from_records(outputs, columns=[\"output\"])\n",
    "raw_df.to_csv(os.path.join(RESULTS_DIR, \"raw_ptBR_Ministral_500_1000.csv\"))"
   ]
  },
  {
   "cell_type": "markdown",
   "id": "2L2zHIe980JH",
   "metadata": {
    "id": "2L2zHIe980JH"
   },
   "source": [
    "### 1000 - 2000 (done)"
   ]
  },
  {
   "cell_type": "code",
   "execution_count": null,
   "id": "Ktgy1GYd80JH",
   "metadata": {
    "colab": {
     "base_uri": "https://localhost:8080/"
    },
    "collapsed": true,
    "executionInfo": {
     "elapsed": 1,
     "status": "ok",
     "timestamp": 1738199022267,
     "user": {
      "displayName": "Pablo Weslley",
      "userId": "13204540486827778511"
     },
     "user_tz": 180
    },
    "id": "Ktgy1GYd80JH",
    "outputId": "009147d2-a4c7-44bf-d38f-01d52a6911fb"
   },
   "outputs": [],
   "source": [
    "outputs = run_experiments(agent, fakebrcorpus_full[1000:1500], \"pt_BR\")\n",
    "raw_df = pd.DataFrame.from_records(outputs, columns=[\"output\"])\n",
    "raw_df.to_csv(os.path.join(RESULTS_DIR, \"raw_ptBR_Ministral_1000_1500.csv\"))"
   ]
  },
  {
   "cell_type": "code",
   "execution_count": null,
   "id": "CFJGKyaybHMw",
   "metadata": {
    "colab": {
     "base_uri": "https://localhost:8080/"
    },
    "executionInfo": {
     "elapsed": 1114031,
     "status": "ok",
     "timestamp": 1738205207764,
     "user": {
      "displayName": "Pablo Weslley",
      "userId": "13204540486827778511"
     },
     "user_tz": 180
    },
    "id": "CFJGKyaybHMw",
    "outputId": "892a3aec-f462-4828-beb8-5130cd05817b"
   },
   "outputs": [],
   "source": [
    "outputs = run_experiments(agent, fakebrcorpus_full[1500:2000], \"pt_BR\")\n",
    "raw_df = pd.DataFrame.from_records(outputs, columns=[\"output\"])\n",
    "raw_df.to_csv(os.path.join(RESULTS_DIR, \"raw_ptBR_Ministral_1500_2000.csv\"))"
   ]
  },
  {
   "cell_type": "markdown",
   "id": "YD_Vn1Xn80JH",
   "metadata": {
    "id": "YD_Vn1Xn80JH"
   },
   "source": [
    "### 2000 - 3000 (done)"
   ]
  },
  {
   "cell_type": "code",
   "execution_count": null,
   "id": "Nq3mn4sE80JI",
   "metadata": {
    "colab": {
     "base_uri": "https://localhost:8080/"
    },
    "collapsed": true,
    "executionInfo": {
     "elapsed": 6114092,
     "status": "ok",
     "timestamp": 1738211321857,
     "user": {
      "displayName": "Pablo Weslley",
      "userId": "13204540486827778511"
     },
     "user_tz": 180
    },
    "id": "Nq3mn4sE80JI",
    "outputId": "88a6492c-629f-4e2f-bcc6-2efd4e89bfbe"
   },
   "outputs": [],
   "source": [
    "outputs = run_experiments(agent, fakebrcorpus_full[2000:2500], \"pt_BR\")\n",
    "raw_df = pd.DataFrame.from_records(outputs, columns=[\"output\"])\n",
    "raw_df.to_csv(os.path.join(RESULTS_DIR, \"raw_ptBR_Ministral_2000_2500.csv\"))"
   ]
  },
  {
   "cell_type": "code",
   "execution_count": null,
   "id": "3M5BESLzbemH",
   "metadata": {
    "colab": {
     "base_uri": "https://localhost:8080/"
    },
    "executionInfo": {
     "elapsed": 7298369,
     "status": "ok",
     "timestamp": 1738218620228,
     "user": {
      "displayName": "Pablo Weslley",
      "userId": "13204540486827778511"
     },
     "user_tz": 180
    },
    "id": "3M5BESLzbemH",
    "outputId": "f545a54f-4dd1-4db4-bd98-6e3048964fdd"
   },
   "outputs": [],
   "source": [
    "outputs = run_experiments(agent, fakebrcorpus_full[2500:3000], \"pt_BR\")\n",
    "raw_df = pd.DataFrame.from_records(outputs, columns=[\"output\"])\n",
    "raw_df.to_csv(os.path.join(RESULTS_DIR, \"raw_ptBR_Ministral_2500_3000.csv\"))"
   ]
  },
  {
   "cell_type": "markdown",
   "id": "ZIRUJxsK80JI",
   "metadata": {
    "id": "ZIRUJxsK80JI"
   },
   "source": [
    "### 3000 - 4000 (done)"
   ]
  },
  {
   "cell_type": "code",
   "execution_count": null,
   "id": "GBL-EQGc80JI",
   "metadata": {
    "colab": {
     "base_uri": "https://localhost:8080/"
    },
    "collapsed": true,
    "executionInfo": {
     "elapsed": 7303016,
     "status": "ok",
     "timestamp": 1738225924452,
     "user": {
      "displayName": "Pablo Weslley",
      "userId": "13204540486827778511"
     },
     "user_tz": 180
    },
    "id": "GBL-EQGc80JI",
    "outputId": "e5810ba0-3815-4e22-c4ef-f506196db777"
   },
   "outputs": [],
   "source": [
    "outputs = run_experiments(agent, fakebrcorpus_full[3000:3500], \"pt_BR\")\n",
    "raw_df = pd.DataFrame.from_records(outputs, columns=[\"output\"])\n",
    "raw_df.to_csv(os.path.join(RESULTS_DIR, \"raw_ptBR_Ministral_3000_3500.csv\"))"
   ]
  },
  {
   "cell_type": "code",
   "execution_count": null,
   "id": "sqgD3jM1bqiv",
   "metadata": {
    "colab": {
     "base_uri": "https://localhost:8080/"
    },
    "executionInfo": {
     "elapsed": 4853010,
     "status": "ok",
     "timestamp": 1738230777457,
     "user": {
      "displayName": "Pablo Weslley",
      "userId": "13204540486827778511"
     },
     "user_tz": 180
    },
    "id": "sqgD3jM1bqiv",
    "outputId": "e33ff07c-d073-4bdc-979f-c403e1810ed8"
   },
   "outputs": [],
   "source": [
    "outputs = run_experiments(agent, fakebrcorpus_full[3500:4000], \"pt_BR\")\n",
    "raw_df = pd.DataFrame.from_records(outputs, columns=[\"output\"])\n",
    "raw_df.to_csv(os.path.join(RESULTS_DIR, \"raw_ptBR_Ministral_3500_4000.csv\"))"
   ]
  },
  {
   "cell_type": "markdown",
   "id": "Tck92Pk380JI",
   "metadata": {
    "id": "Tck92Pk380JI"
   },
   "source": [
    "### 4000 - 5000 (done)"
   ]
  },
  {
   "cell_type": "code",
   "execution_count": null,
   "id": "7qhj8owx80JI",
   "metadata": {
    "colab": {
     "base_uri": "https://localhost:8080/"
    },
    "collapsed": true,
    "executionInfo": {
     "elapsed": 4704366,
     "status": "ok",
     "timestamp": 1738235481817,
     "user": {
      "displayName": "Pablo Weslley",
      "userId": "13204540486827778511"
     },
     "user_tz": 180
    },
    "id": "7qhj8owx80JI",
    "outputId": "d6cd9ea3-e3c9-42f4-bea6-85ce6c9fe422"
   },
   "outputs": [],
   "source": [
    "outputs = run_experiments(agent, fakebrcorpus_full[4000:4500], \"pt_BR\")\n",
    "raw_df = pd.DataFrame.from_records(outputs, columns=[\"output\"])\n",
    "raw_df.to_csv(os.path.join(RESULTS_DIR, \"raw_ptBR_Ministral_4000_4500.csv\"))"
   ]
  },
  {
   "cell_type": "code",
   "execution_count": null,
   "id": "6Q6Cm75Qb1wQ",
   "metadata": {
    "colab": {
     "base_uri": "https://localhost:8080/"
    },
    "executionInfo": {
     "elapsed": 4204985,
     "status": "ok",
     "timestamp": 1738239686796,
     "user": {
      "displayName": "Pablo Weslley",
      "userId": "13204540486827778511"
     },
     "user_tz": 180
    },
    "id": "6Q6Cm75Qb1wQ",
    "outputId": "6e98ebb4-0059-4001-f0e3-352419a8a76b"
   },
   "outputs": [],
   "source": [
    "outputs = run_experiments(agent, fakebrcorpus_full[4500:5000], \"pt_BR\")\n",
    "raw_df = pd.DataFrame.from_records(outputs, columns=[\"output\"])\n",
    "raw_df.to_csv(os.path.join(RESULTS_DIR, \"raw_ptBR_Ministral_4500_5000.csv\"))"
   ]
  },
  {
   "cell_type": "markdown",
   "id": "tOTOZ5ZJ80JI",
   "metadata": {
    "id": "tOTOZ5ZJ80JI"
   },
   "source": [
    "### 5000 - 6000 (done)"
   ]
  },
  {
   "cell_type": "code",
   "execution_count": null,
   "id": "DMf2lQxp80JI",
   "metadata": {
    "colab": {
     "background_save": true,
     "base_uri": "https://localhost:8080/"
    },
    "collapsed": true,
    "id": "DMf2lQxp80JI",
    "outputId": "82140185-471a-4a03-b4b6-58a2f7483d38"
   },
   "outputs": [],
   "source": [
    "outputs = run_experiments(agent, fakebrcorpus_full[5000:5500], \"pt_BR\")\n",
    "raw_df = pd.DataFrame.from_records(outputs, columns=[\"output\"])\n",
    "raw_df.to_csv(os.path.join(RESULTS_DIR, \"raw_ptBR_Ministral_5000_5500.csv\"))"
   ]
  },
  {
   "cell_type": "code",
   "execution_count": null,
   "id": "UQg7sfVxb9CH",
   "metadata": {
    "colab": {
     "base_uri": "https://localhost:8080/"
    },
    "collapsed": true,
    "executionInfo": {
     "elapsed": 4424748,
     "status": "ok",
     "timestamp": 1738254908748,
     "user": {
      "displayName": "Pablo Weslley",
      "userId": "13204540486827778511"
     },
     "user_tz": 180
    },
    "id": "UQg7sfVxb9CH",
    "outputId": "38f49f73-92f3-4c9c-a351-9b4d47e88acd"
   },
   "outputs": [],
   "source": [
    "outputs = run_experiments(agent, fakebrcorpus_full[5500:6000], \"pt_BR\")\n",
    "raw_df = pd.DataFrame.from_records(outputs, columns=[\"output\"])\n",
    "raw_df.to_csv(os.path.join(RESULTS_DIR, \"raw_ptBR_Ministral_5500_6000.csv\"))"
   ]
  },
  {
   "cell_type": "markdown",
   "id": "hZc0c1tx80JI",
   "metadata": {
    "id": "hZc0c1tx80JI"
   },
   "source": [
    "### 6000 - 7200 (done)"
   ]
  },
  {
   "cell_type": "code",
   "execution_count": null,
   "id": "O4d_Hiof80JI",
   "metadata": {
    "colab": {
     "base_uri": "https://localhost:8080/"
    },
    "collapsed": true,
    "executionInfo": {
     "elapsed": 1380982,
     "status": "ok",
     "timestamp": 1738259248680,
     "user": {
      "displayName": "Pablo Weslley",
      "userId": "13204540486827778511"
     },
     "user_tz": 180
    },
    "id": "O4d_Hiof80JI",
    "outputId": "79ee5280-843f-4a36-9b0d-7bfae8a2557c"
   },
   "outputs": [],
   "source": [
    "outputs = run_experiments(agent, fakebrcorpus_full[6000:6500], \"pt_BR\")\n",
    "raw_df = pd.DataFrame.from_records(outputs, columns=[\"output\"])\n",
    "raw_df.to_csv(os.path.join(RESULTS_DIR, \"raw_ptBR_Ministral_6000_6500.csv\"))"
   ]
  },
  {
   "cell_type": "code",
   "execution_count": null,
   "id": "jXb3xld8cKWf",
   "metadata": {
    "colab": {
     "base_uri": "https://localhost:8080/"
    },
    "collapsed": true,
    "executionInfo": {
     "elapsed": 3546621,
     "status": "ok",
     "timestamp": 1738265504959,
     "user": {
      "displayName": "Pablo Weslley",
      "userId": "13204540486827778511"
     },
     "user_tz": 180
    },
    "id": "jXb3xld8cKWf",
    "outputId": "c221d79f-7776-4323-d1ad-369f648a3c87"
   },
   "outputs": [],
   "source": [
    "outputs = run_experiments(agent, fakebrcorpus_full[6500:], \"pt_BR\")\n",
    "raw_df = pd.DataFrame.from_records(outputs, columns=[\"output\"])\n",
    "raw_df.to_csv(os.path.join(RESULTS_DIR, \"raw_ptBR_Ministral_6500_7200.csv\"))"
   ]
  },
  {
   "cell_type": "markdown",
   "id": "Ws-tY_ujcTDm",
   "metadata": {
    "id": "Ws-tY_ujcTDm"
   },
   "source": [
    "### full results"
   ]
  },
  {
   "cell_type": "code",
   "execution_count": null,
   "id": "2XKH8ymS25bD",
   "metadata": {
    "id": "2XKH8ymS25bD"
   },
   "outputs": [],
   "source": [
    "ptBR_0_500    = pd.read_csv(os.path.join(RESULTS_DIR, \"raw_ptBR_Ministral_0_500.csv\"), index_col=False)[\"output\"]\n",
    "ptBR_500_1000    = pd.read_csv(os.path.join(RESULTS_DIR, \"raw_ptBR_Ministral_500_1000.csv\"), index_col=False)[\"output\"]\n",
    "ptBR_1000_1500 = pd.read_csv(os.path.join(RESULTS_DIR, \"raw_ptBR_Ministral_1000_1500.csv\"), index_col=False)[\"output\"]\n",
    "ptBR_1500_2000 = pd.read_csv(os.path.join(RESULTS_DIR, \"raw_ptBR_Ministral_1500_2000.csv\"), index_col=False)[\"output\"]\n",
    "ptBR_2000_2500 = pd.read_csv(os.path.join(RESULTS_DIR, \"raw_ptBR_Ministral_2000_2500.csv\"), index_col=False)[\"output\"]\n",
    "ptBR_2500_3000 = pd.read_csv(os.path.join(RESULTS_DIR, \"raw_ptBR_Ministral_2500_3000.csv\"), index_col=False)[\"output\"]\n",
    "ptBR_3000_3500 = pd.read_csv(os.path.join(RESULTS_DIR, \"raw_ptBR_Ministral_3000_3500.csv\"), index_col=False)[\"output\"]\n",
    "ptBR_3500_4000 = pd.read_csv(os.path.join(RESULTS_DIR, \"raw_ptBR_Ministral_3500_4000.csv\"), index_col=False)[\"output\"]\n",
    "ptBR_4000_4500 = pd.read_csv(os.path.join(RESULTS_DIR, \"raw_ptBR_Ministral_4000_4500.csv\"), index_col=False)[\"output\"]\n",
    "ptBR_4500_5000 = pd.read_csv(os.path.join(RESULTS_DIR, \"raw_ptBR_Ministral_4500_5000.csv\"), index_col=False)[\"output\"]\n",
    "ptBR_5000_5500 = pd.read_csv(os.path.join(RESULTS_DIR, \"raw_ptBR_Ministral_5000_5500.csv\"), index_col=False)[\"output\"]\n",
    "ptBR_5500_6000 = pd.read_csv(os.path.join(RESULTS_DIR, \"raw_ptBR_Ministral_5500_6000.csv\"), index_col=False)[\"output\"]\n",
    "ptBR_6000_6500 = pd.read_csv(os.path.join(RESULTS_DIR, \"raw_ptBR_Ministral_6000_6500.csv\"), index_col=False)[\"output\"]\n",
    "ptBR_6500_7200 = pd.read_csv(os.path.join(RESULTS_DIR, \"raw_ptBR_Ministral_6500_7200.csv\"), index_col=False)[\"output\"]\n",
    "\n",
    "ptBR_full = pd.concat([ptBR_0_500,ptBR_500_1000,ptBR_1000_1500,ptBR_1500_2000,ptBR_2000_2500,ptBR_2500_3000,\n",
    "                       ptBR_3000_3500,ptBR_3500_4000,ptBR_4000_4500,ptBR_4500_5000,ptBR_5000_5500,ptBR_5500_6000,\n",
    "                       ptBR_6000_6500,ptBR_6500_7200])\n",
    "\n",
    "ptBR_full.to_csv(os.path.join(RESULTS_DIR, \"raw_ptBR_Ministral_full.csv\"), index=False)"
   ]
  },
  {
   "cell_type": "code",
   "execution_count": null,
   "id": "D9XgWS1o25bE",
   "metadata": {
    "colab": {
     "base_uri": "https://localhost:8080/",
     "height": 423
    },
    "executionInfo": {
     "elapsed": 307,
     "status": "ok",
     "timestamp": 1738382950366,
     "user": {
      "displayName": "Pablo Weslley Silva da Fonseca",
      "userId": "08454828087730091057"
     },
     "user_tz": 180
    },
    "id": "D9XgWS1o25bE",
    "outputId": "9b19f1a5-7df5-4e16-f2d8-d5ffb010e104"
   },
   "outputs": [],
   "source": [
    "ptBR_full = pd.read_csv(os.path.join(RESULTS_DIR, \"raw_ptBR_Ministral_full.csv\"))\n",
    "ptBR_full"
   ]
  },
  {
   "cell_type": "code",
   "execution_count": null,
   "id": "HzgT45cxqdzO",
   "metadata": {
    "id": "HzgT45cxqdzO"
   },
   "outputs": [],
   "source": [
    "results_ptBR_df = get_results_df(ptBR_full)"
   ]
  },
  {
   "cell_type": "code",
   "execution_count": null,
   "id": "dj-hH5EuqdzO",
   "metadata": {
    "colab": {
     "base_uri": "https://localhost:8080/"
    },
    "executionInfo": {
     "elapsed": 259,
     "status": "ok",
     "timestamp": 1738384672412,
     "user": {
      "displayName": "Pablo Weslley Silva da Fonseca",
      "userId": "08454828087730091057"
     },
     "user_tz": 180
    },
    "id": "dj-hH5EuqdzO",
    "outputId": "cbbe15b1-6f37-48da-eb13-d54c0476ea13"
   },
   "outputs": [],
   "source": [
    "cm, metrics = evaluate_assistant_answer(fakebrcorpus_full, results_ptBR_df)\n",
    "cm, metrics"
   ]
  },
  {
   "cell_type": "code",
   "execution_count": null,
   "id": "aUQ7bloNBibM",
   "metadata": {
    "colab": {
     "base_uri": "https://localhost:8080/",
     "height": 472
    },
    "executionInfo": {
     "elapsed": 340,
     "status": "ok",
     "timestamp": 1738382964720,
     "user": {
      "displayName": "Pablo Weslley Silva da Fonseca",
      "userId": "08454828087730091057"
     },
     "user_tz": 180
    },
    "id": "aUQ7bloNBibM",
    "outputId": "5b6489fe-73e1-47d3-d3a4-7ad49a295cc6"
   },
   "outputs": [],
   "source": [
    "plot(cm, \"Ministral-8B-Instruct\")"
   ]
  }
 ],
 "metadata": {
  "colab": {
   "collapsed_sections": [
    "edTMfHLDYyLD",
    "7adw_1bLzcwr",
    "EIJTR2duVuFX",
    "Qcifm33HWH5u",
    "Xc3YEic0Wd2f",
    "3tLj7OEgW2-O",
    "WhYn3uQmyyu4",
    "S356MUb3y6qv",
    "oG1mt-NF80JG",
    "2L2zHIe980JH",
    "YD_Vn1Xn80JH",
    "ZIRUJxsK80JI",
    "Tck92Pk380JI",
    "tOTOZ5ZJ80JI",
    "hZc0c1tx80JI"
   ],
   "provenance": [],
   "toc_visible": true
  },
  "kernelspec": {
   "display_name": "Python 3",
   "name": "python3"
  },
  "language_info": {
   "name": "python"
  },
  "widgets": {
   "application/vnd.jupyter.widget-state+json": {
    "0041fa14c718491f89f2fb82f18848af": {
     "model_module": "@jupyter-widgets/controls",
     "model_module_version": "1.5.0",
     "model_name": "DescriptionStyleModel",
     "state": {
      "_model_module": "@jupyter-widgets/controls",
      "_model_module_version": "1.5.0",
      "_model_name": "DescriptionStyleModel",
      "_view_count": null,
      "_view_module": "@jupyter-widgets/base",
      "_view_module_version": "1.2.0",
      "_view_name": "StyleView",
      "description_width": ""
     }
    },
    "01d876a2b3c84d6ca3a98299b946c159": {
     "model_module": "@jupyter-widgets/base",
     "model_module_version": "1.2.0",
     "model_name": "LayoutModel",
     "state": {
      "_model_module": "@jupyter-widgets/base",
      "_model_module_version": "1.2.0",
      "_model_name": "LayoutModel",
      "_view_count": null,
      "_view_module": "@jupyter-widgets/base",
      "_view_module_version": "1.2.0",
      "_view_name": "LayoutView",
      "align_content": null,
      "align_items": null,
      "align_self": null,
      "border": null,
      "bottom": null,
      "display": null,
      "flex": null,
      "flex_flow": null,
      "grid_area": null,
      "grid_auto_columns": null,
      "grid_auto_flow": null,
      "grid_auto_rows": null,
      "grid_column": null,
      "grid_gap": null,
      "grid_row": null,
      "grid_template_areas": null,
      "grid_template_columns": null,
      "grid_template_rows": null,
      "height": null,
      "justify_content": null,
      "justify_items": null,
      "left": null,
      "margin": null,
      "max_height": null,
      "max_width": null,
      "min_height": null,
      "min_width": null,
      "object_fit": null,
      "object_position": null,
      "order": null,
      "overflow": null,
      "overflow_x": null,
      "overflow_y": null,
      "padding": null,
      "right": null,
      "top": null,
      "visibility": null,
      "width": null
     }
    },
    "03a48c7eee2145eeb6e0fb5a13a9c4c4": {
     "model_module": "@jupyter-widgets/controls",
     "model_module_version": "1.5.0",
     "model_name": "DescriptionStyleModel",
     "state": {
      "_model_module": "@jupyter-widgets/controls",
      "_model_module_version": "1.5.0",
      "_model_name": "DescriptionStyleModel",
      "_view_count": null,
      "_view_module": "@jupyter-widgets/base",
      "_view_module_version": "1.2.0",
      "_view_name": "StyleView",
      "description_width": ""
     }
    },
    "076845754eb24023a42ec2a53b4c3534": {
     "model_module": "@jupyter-widgets/controls",
     "model_module_version": "1.5.0",
     "model_name": "HTMLModel",
     "state": {
      "_dom_classes": [],
      "_model_module": "@jupyter-widgets/controls",
      "_model_module_version": "1.5.0",
      "_model_name": "HTMLModel",
      "_view_count": null,
      "_view_module": "@jupyter-widgets/controls",
      "_view_module_version": "1.5.0",
      "_view_name": "HTMLView",
      "description": "",
      "description_tooltip": null,
      "layout": "IPY_MODEL_953655e8c2474b9597c931f3bdf08b6c",
      "placeholder": "​",
      "style": "IPY_MODEL_1383d9fe99664e46b2958b2feb1b0290",
      "value": "Downloading shards: 100%"
     }
    },
    "0bfa7e7f4fba42e2a1641f7b3c653498": {
     "model_module": "@jupyter-widgets/controls",
     "model_module_version": "1.5.0",
     "model_name": "DescriptionStyleModel",
     "state": {
      "_model_module": "@jupyter-widgets/controls",
      "_model_module_version": "1.5.0",
      "_model_name": "DescriptionStyleModel",
      "_view_count": null,
      "_view_module": "@jupyter-widgets/base",
      "_view_module_version": "1.2.0",
      "_view_name": "StyleView",
      "description_width": ""
     }
    },
    "0c8951aad2df4a92884aae99af334b93": {
     "model_module": "@jupyter-widgets/controls",
     "model_module_version": "1.5.0",
     "model_name": "HTMLModel",
     "state": {
      "_dom_classes": [],
      "_model_module": "@jupyter-widgets/controls",
      "_model_module_version": "1.5.0",
      "_model_name": "HTMLModel",
      "_view_count": null,
      "_view_module": "@jupyter-widgets/controls",
      "_view_module_version": "1.5.0",
      "_view_name": "HTMLView",
      "description": "",
      "description_tooltip": null,
      "layout": "IPY_MODEL_f0cc0de804374477a7bd49b29bee989d",
      "placeholder": "​",
      "style": "IPY_MODEL_3a239a91a2164e44b4cb38411b14835b",
      "value": " 4/4 [01:19&lt;00:00, 17.13s/it]"
     }
    },
    "0ce292576e3f409d9eb969dc33077145": {
     "model_module": "@jupyter-widgets/controls",
     "model_module_version": "1.5.0",
     "model_name": "ProgressStyleModel",
     "state": {
      "_model_module": "@jupyter-widgets/controls",
      "_model_module_version": "1.5.0",
      "_model_name": "ProgressStyleModel",
      "_view_count": null,
      "_view_module": "@jupyter-widgets/base",
      "_view_module_version": "1.2.0",
      "_view_name": "StyleView",
      "bar_color": null,
      "description_width": ""
     }
    },
    "0d825ddf605b4f08b31cc01c0cc5370d": {
     "model_module": "@jupyter-widgets/base",
     "model_module_version": "1.2.0",
     "model_name": "LayoutModel",
     "state": {
      "_model_module": "@jupyter-widgets/base",
      "_model_module_version": "1.2.0",
      "_model_name": "LayoutModel",
      "_view_count": null,
      "_view_module": "@jupyter-widgets/base",
      "_view_module_version": "1.2.0",
      "_view_name": "LayoutView",
      "align_content": null,
      "align_items": null,
      "align_self": null,
      "border": null,
      "bottom": null,
      "display": null,
      "flex": null,
      "flex_flow": null,
      "grid_area": null,
      "grid_auto_columns": null,
      "grid_auto_flow": null,
      "grid_auto_rows": null,
      "grid_column": null,
      "grid_gap": null,
      "grid_row": null,
      "grid_template_areas": null,
      "grid_template_columns": null,
      "grid_template_rows": null,
      "height": null,
      "justify_content": null,
      "justify_items": null,
      "left": null,
      "margin": null,
      "max_height": null,
      "max_width": null,
      "min_height": null,
      "min_width": null,
      "object_fit": null,
      "object_position": null,
      "order": null,
      "overflow": null,
      "overflow_x": null,
      "overflow_y": null,
      "padding": null,
      "right": null,
      "top": null,
      "visibility": null,
      "width": null
     }
    },
    "0e85f1ba714944bfa212765d5ad9bb73": {
     "model_module": "@jupyter-widgets/controls",
     "model_module_version": "1.5.0",
     "model_name": "HTMLModel",
     "state": {
      "_dom_classes": [],
      "_model_module": "@jupyter-widgets/controls",
      "_model_module_version": "1.5.0",
      "_model_name": "HTMLModel",
      "_view_count": null,
      "_view_module": "@jupyter-widgets/controls",
      "_view_module_version": "1.5.0",
      "_view_name": "HTMLView",
      "description": "",
      "description_tooltip": null,
      "layout": "IPY_MODEL_a85276917586483e83262d4e9324f197",
      "placeholder": "​",
      "style": "IPY_MODEL_0041fa14c718491f89f2fb82f18848af",
      "value": "model.safetensors.index.json: 100%"
     }
    },
    "0f457b3969f64087844bee7ad740e1a1": {
     "model_module": "@jupyter-widgets/controls",
     "model_module_version": "1.5.0",
     "model_name": "ProgressStyleModel",
     "state": {
      "_model_module": "@jupyter-widgets/controls",
      "_model_module_version": "1.5.0",
      "_model_name": "ProgressStyleModel",
      "_view_count": null,
      "_view_module": "@jupyter-widgets/base",
      "_view_module_version": "1.2.0",
      "_view_name": "StyleView",
      "bar_color": null,
      "description_width": ""
     }
    },
    "12ccfd3d19504336957676d03e8bd038": {
     "model_module": "@jupyter-widgets/base",
     "model_module_version": "1.2.0",
     "model_name": "LayoutModel",
     "state": {
      "_model_module": "@jupyter-widgets/base",
      "_model_module_version": "1.2.0",
      "_model_name": "LayoutModel",
      "_view_count": null,
      "_view_module": "@jupyter-widgets/base",
      "_view_module_version": "1.2.0",
      "_view_name": "LayoutView",
      "align_content": null,
      "align_items": null,
      "align_self": null,
      "border": null,
      "bottom": null,
      "display": null,
      "flex": null,
      "flex_flow": null,
      "grid_area": null,
      "grid_auto_columns": null,
      "grid_auto_flow": null,
      "grid_auto_rows": null,
      "grid_column": null,
      "grid_gap": null,
      "grid_row": null,
      "grid_template_areas": null,
      "grid_template_columns": null,
      "grid_template_rows": null,
      "height": null,
      "justify_content": null,
      "justify_items": null,
      "left": null,
      "margin": null,
      "max_height": null,
      "max_width": null,
      "min_height": null,
      "min_width": null,
      "object_fit": null,
      "object_position": null,
      "order": null,
      "overflow": null,
      "overflow_x": null,
      "overflow_y": null,
      "padding": null,
      "right": null,
      "top": null,
      "visibility": null,
      "width": null
     }
    },
    "1383d9fe99664e46b2958b2feb1b0290": {
     "model_module": "@jupyter-widgets/controls",
     "model_module_version": "1.5.0",
     "model_name": "DescriptionStyleModel",
     "state": {
      "_model_module": "@jupyter-widgets/controls",
      "_model_module_version": "1.5.0",
      "_model_name": "DescriptionStyleModel",
      "_view_count": null,
      "_view_module": "@jupyter-widgets/base",
      "_view_module_version": "1.2.0",
      "_view_name": "StyleView",
      "description_width": ""
     }
    },
    "152df4516fc74ff0a5a9ddbeadaa7f89": {
     "model_module": "@jupyter-widgets/base",
     "model_module_version": "1.2.0",
     "model_name": "LayoutModel",
     "state": {
      "_model_module": "@jupyter-widgets/base",
      "_model_module_version": "1.2.0",
      "_model_name": "LayoutModel",
      "_view_count": null,
      "_view_module": "@jupyter-widgets/base",
      "_view_module_version": "1.2.0",
      "_view_name": "LayoutView",
      "align_content": null,
      "align_items": null,
      "align_self": null,
      "border": null,
      "bottom": null,
      "display": null,
      "flex": null,
      "flex_flow": null,
      "grid_area": null,
      "grid_auto_columns": null,
      "grid_auto_flow": null,
      "grid_auto_rows": null,
      "grid_column": null,
      "grid_gap": null,
      "grid_row": null,
      "grid_template_areas": null,
      "grid_template_columns": null,
      "grid_template_rows": null,
      "height": null,
      "justify_content": null,
      "justify_items": null,
      "left": null,
      "margin": null,
      "max_height": null,
      "max_width": null,
      "min_height": null,
      "min_width": null,
      "object_fit": null,
      "object_position": null,
      "order": null,
      "overflow": null,
      "overflow_x": null,
      "overflow_y": null,
      "padding": null,
      "right": null,
      "top": null,
      "visibility": null,
      "width": null
     }
    },
    "1cb5fdd6d30847d4aba2fd549a1f266f": {
     "model_module": "@jupyter-widgets/controls",
     "model_module_version": "1.5.0",
     "model_name": "ProgressStyleModel",
     "state": {
      "_model_module": "@jupyter-widgets/controls",
      "_model_module_version": "1.5.0",
      "_model_name": "ProgressStyleModel",
      "_view_count": null,
      "_view_module": "@jupyter-widgets/base",
      "_view_module_version": "1.2.0",
      "_view_name": "StyleView",
      "bar_color": null,
      "description_width": ""
     }
    },
    "1cbcbbffbe934b1499eb394623d62159": {
     "model_module": "@jupyter-widgets/controls",
     "model_module_version": "1.5.0",
     "model_name": "HTMLModel",
     "state": {
      "_dom_classes": [],
      "_model_module": "@jupyter-widgets/controls",
      "_model_module_version": "1.5.0",
      "_model_name": "HTMLModel",
      "_view_count": null,
      "_view_module": "@jupyter-widgets/controls",
      "_view_module_version": "1.5.0",
      "_view_name": "HTMLView",
      "description": "",
      "description_tooltip": null,
      "layout": "IPY_MODEL_64d127f737b34ecab4e76d0e1ed520f7",
      "placeholder": "​",
      "style": "IPY_MODEL_7ded95d233654507a9ab83901265d301",
      "value": "model-00002-of-00004.safetensors: 100%"
     }
    },
    "20a2e01eb6de442499f7ec1ba9d0d814": {
     "model_module": "@jupyter-widgets/controls",
     "model_module_version": "1.5.0",
     "model_name": "ProgressStyleModel",
     "state": {
      "_model_module": "@jupyter-widgets/controls",
      "_model_module_version": "1.5.0",
      "_model_name": "ProgressStyleModel",
      "_view_count": null,
      "_view_module": "@jupyter-widgets/base",
      "_view_module_version": "1.2.0",
      "_view_name": "StyleView",
      "bar_color": null,
      "description_width": ""
     }
    },
    "21a64ab08ab344bbb936b0865fa8775d": {
     "model_module": "@jupyter-widgets/controls",
     "model_module_version": "1.5.0",
     "model_name": "HBoxModel",
     "state": {
      "_dom_classes": [],
      "_model_module": "@jupyter-widgets/controls",
      "_model_module_version": "1.5.0",
      "_model_name": "HBoxModel",
      "_view_count": null,
      "_view_module": "@jupyter-widgets/controls",
      "_view_module_version": "1.5.0",
      "_view_name": "HBoxView",
      "box_style": "",
      "children": [
       "IPY_MODEL_9ddefbf42fa14a7daf34f29fb5de5c33",
       "IPY_MODEL_9462b14da1484c5f87f4ab593233f32a",
       "IPY_MODEL_de31fab5127f4befa70f659e568c558d"
      ],
      "layout": "IPY_MODEL_ac8c4d2eac4847dc8ffbe56ca4032a4d"
     }
    },
    "21d691e45a3c40a0835535cb8077f85f": {
     "model_module": "@jupyter-widgets/base",
     "model_module_version": "1.2.0",
     "model_name": "LayoutModel",
     "state": {
      "_model_module": "@jupyter-widgets/base",
      "_model_module_version": "1.2.0",
      "_model_name": "LayoutModel",
      "_view_count": null,
      "_view_module": "@jupyter-widgets/base",
      "_view_module_version": "1.2.0",
      "_view_name": "LayoutView",
      "align_content": null,
      "align_items": null,
      "align_self": null,
      "border": null,
      "bottom": null,
      "display": null,
      "flex": null,
      "flex_flow": null,
      "grid_area": null,
      "grid_auto_columns": null,
      "grid_auto_flow": null,
      "grid_auto_rows": null,
      "grid_column": null,
      "grid_gap": null,
      "grid_row": null,
      "grid_template_areas": null,
      "grid_template_columns": null,
      "grid_template_rows": null,
      "height": null,
      "justify_content": null,
      "justify_items": null,
      "left": null,
      "margin": null,
      "max_height": null,
      "max_width": null,
      "min_height": null,
      "min_width": null,
      "object_fit": null,
      "object_position": null,
      "order": null,
      "overflow": null,
      "overflow_x": null,
      "overflow_y": null,
      "padding": null,
      "right": null,
      "top": null,
      "visibility": null,
      "width": null
     }
    },
    "22cf07001b09474bb298a758cd7a4c12": {
     "model_module": "@jupyter-widgets/base",
     "model_module_version": "1.2.0",
     "model_name": "LayoutModel",
     "state": {
      "_model_module": "@jupyter-widgets/base",
      "_model_module_version": "1.2.0",
      "_model_name": "LayoutModel",
      "_view_count": null,
      "_view_module": "@jupyter-widgets/base",
      "_view_module_version": "1.2.0",
      "_view_name": "LayoutView",
      "align_content": null,
      "align_items": null,
      "align_self": null,
      "border": null,
      "bottom": null,
      "display": null,
      "flex": null,
      "flex_flow": null,
      "grid_area": null,
      "grid_auto_columns": null,
      "grid_auto_flow": null,
      "grid_auto_rows": null,
      "grid_column": null,
      "grid_gap": null,
      "grid_row": null,
      "grid_template_areas": null,
      "grid_template_columns": null,
      "grid_template_rows": null,
      "height": null,
      "justify_content": null,
      "justify_items": null,
      "left": null,
      "margin": null,
      "max_height": null,
      "max_width": null,
      "min_height": null,
      "min_width": null,
      "object_fit": null,
      "object_position": null,
      "order": null,
      "overflow": null,
      "overflow_x": null,
      "overflow_y": null,
      "padding": null,
      "right": null,
      "top": null,
      "visibility": null,
      "width": null
     }
    },
    "2371a59527b04e71b88afe8183593953": {
     "model_module": "@jupyter-widgets/base",
     "model_module_version": "1.2.0",
     "model_name": "LayoutModel",
     "state": {
      "_model_module": "@jupyter-widgets/base",
      "_model_module_version": "1.2.0",
      "_model_name": "LayoutModel",
      "_view_count": null,
      "_view_module": "@jupyter-widgets/base",
      "_view_module_version": "1.2.0",
      "_view_name": "LayoutView",
      "align_content": null,
      "align_items": null,
      "align_self": null,
      "border": null,
      "bottom": null,
      "display": null,
      "flex": null,
      "flex_flow": null,
      "grid_area": null,
      "grid_auto_columns": null,
      "grid_auto_flow": null,
      "grid_auto_rows": null,
      "grid_column": null,
      "grid_gap": null,
      "grid_row": null,
      "grid_template_areas": null,
      "grid_template_columns": null,
      "grid_template_rows": null,
      "height": null,
      "justify_content": null,
      "justify_items": null,
      "left": null,
      "margin": null,
      "max_height": null,
      "max_width": null,
      "min_height": null,
      "min_width": null,
      "object_fit": null,
      "object_position": null,
      "order": null,
      "overflow": null,
      "overflow_x": null,
      "overflow_y": null,
      "padding": null,
      "right": null,
      "top": null,
      "visibility": null,
      "width": null
     }
    },
    "24105814b1924aa5a0a96c5cea3058f1": {
     "model_module": "@jupyter-widgets/base",
     "model_module_version": "1.2.0",
     "model_name": "LayoutModel",
     "state": {
      "_model_module": "@jupyter-widgets/base",
      "_model_module_version": "1.2.0",
      "_model_name": "LayoutModel",
      "_view_count": null,
      "_view_module": "@jupyter-widgets/base",
      "_view_module_version": "1.2.0",
      "_view_name": "LayoutView",
      "align_content": null,
      "align_items": null,
      "align_self": null,
      "border": null,
      "bottom": null,
      "display": null,
      "flex": null,
      "flex_flow": null,
      "grid_area": null,
      "grid_auto_columns": null,
      "grid_auto_flow": null,
      "grid_auto_rows": null,
      "grid_column": null,
      "grid_gap": null,
      "grid_row": null,
      "grid_template_areas": null,
      "grid_template_columns": null,
      "grid_template_rows": null,
      "height": null,
      "justify_content": null,
      "justify_items": null,
      "left": null,
      "margin": null,
      "max_height": null,
      "max_width": null,
      "min_height": null,
      "min_width": null,
      "object_fit": null,
      "object_position": null,
      "order": null,
      "overflow": null,
      "overflow_x": null,
      "overflow_y": null,
      "padding": null,
      "right": null,
      "top": null,
      "visibility": null,
      "width": null
     }
    },
    "24919305b0744da9970d49e41b3d895d": {
     "model_module": "@jupyter-widgets/controls",
     "model_module_version": "1.5.0",
     "model_name": "ProgressStyleModel",
     "state": {
      "_model_module": "@jupyter-widgets/controls",
      "_model_module_version": "1.5.0",
      "_model_name": "ProgressStyleModel",
      "_view_count": null,
      "_view_module": "@jupyter-widgets/base",
      "_view_module_version": "1.2.0",
      "_view_name": "StyleView",
      "bar_color": null,
      "description_width": ""
     }
    },
    "25c6e61651c14d31b1ba8185f2c029c7": {
     "model_module": "@jupyter-widgets/controls",
     "model_module_version": "1.5.0",
     "model_name": "HTMLModel",
     "state": {
      "_dom_classes": [],
      "_model_module": "@jupyter-widgets/controls",
      "_model_module_version": "1.5.0",
      "_model_name": "HTMLModel",
      "_view_count": null,
      "_view_module": "@jupyter-widgets/controls",
      "_view_module_version": "1.5.0",
      "_view_name": "HTMLView",
      "description": "",
      "description_tooltip": null,
      "layout": "IPY_MODEL_7e0462bb59ae4a00af7c476832999742",
      "placeholder": "​",
      "style": "IPY_MODEL_30a96a52544640cea384a17e617e65e3",
      "value": "model-00003-of-00004.safetensors: 100%"
     }
    },
    "266e9fb6b9dd4597977580e86496b9de": {
     "model_module": "@jupyter-widgets/controls",
     "model_module_version": "1.5.0",
     "model_name": "DescriptionStyleModel",
     "state": {
      "_model_module": "@jupyter-widgets/controls",
      "_model_module_version": "1.5.0",
      "_model_name": "DescriptionStyleModel",
      "_view_count": null,
      "_view_module": "@jupyter-widgets/base",
      "_view_module_version": "1.2.0",
      "_view_name": "StyleView",
      "description_width": ""
     }
    },
    "26cdb02381614544ae6a92b57ec6a635": {
     "model_module": "@jupyter-widgets/controls",
     "model_module_version": "1.5.0",
     "model_name": "HBoxModel",
     "state": {
      "_dom_classes": [],
      "_model_module": "@jupyter-widgets/controls",
      "_model_module_version": "1.5.0",
      "_model_name": "HBoxModel",
      "_view_count": null,
      "_view_module": "@jupyter-widgets/controls",
      "_view_module_version": "1.5.0",
      "_view_name": "HBoxView",
      "box_style": "",
      "children": [
       "IPY_MODEL_f76392bac58a439ba063571f41fc67ab",
       "IPY_MODEL_2b06b65ad05c46ab936c7916a6fa7098",
       "IPY_MODEL_9168ac376bc045ebb55f2553c185b1f3"
      ],
      "layout": "IPY_MODEL_345b904fa7f544e79402a9236808916c"
     }
    },
    "2b06b65ad05c46ab936c7916a6fa7098": {
     "model_module": "@jupyter-widgets/controls",
     "model_module_version": "1.5.0",
     "model_name": "FloatProgressModel",
     "state": {
      "_dom_classes": [],
      "_model_module": "@jupyter-widgets/controls",
      "_model_module_version": "1.5.0",
      "_model_name": "FloatProgressModel",
      "_view_count": null,
      "_view_module": "@jupyter-widgets/controls",
      "_view_module_version": "1.5.0",
      "_view_name": "ProgressView",
      "bar_style": "success",
      "description": "",
      "description_tooltip": null,
      "layout": "IPY_MODEL_87d134d24c824997bbf08f33c2da73b8",
      "max": 414,
      "min": 0,
      "orientation": "horizontal",
      "style": "IPY_MODEL_f9d8edbea3754338bbadb7df346971c0",
      "value": 414
     }
    },
    "30a96a52544640cea384a17e617e65e3": {
     "model_module": "@jupyter-widgets/controls",
     "model_module_version": "1.5.0",
     "model_name": "DescriptionStyleModel",
     "state": {
      "_model_module": "@jupyter-widgets/controls",
      "_model_module_version": "1.5.0",
      "_model_name": "DescriptionStyleModel",
      "_view_count": null,
      "_view_module": "@jupyter-widgets/base",
      "_view_module_version": "1.2.0",
      "_view_name": "StyleView",
      "description_width": ""
     }
    },
    "30f8192a8f064557a1d9b00b6bbbbcb7": {
     "model_module": "@jupyter-widgets/controls",
     "model_module_version": "1.5.0",
     "model_name": "HTMLModel",
     "state": {
      "_dom_classes": [],
      "_model_module": "@jupyter-widgets/controls",
      "_model_module_version": "1.5.0",
      "_model_name": "HTMLModel",
      "_view_count": null,
      "_view_module": "@jupyter-widgets/controls",
      "_view_module_version": "1.5.0",
      "_view_name": "HTMLView",
      "description": "",
      "description_tooltip": null,
      "layout": "IPY_MODEL_e6321dca07c0497e8bda41c912d34a14",
      "placeholder": "​",
      "style": "IPY_MODEL_03a48c7eee2145eeb6e0fb5a13a9c4c4",
      "value": " 4.98G/4.98G [00:46&lt;00:00, 217MB/s]"
     }
    },
    "3363512110ea4dd391d07ee0c5cdd1ef": {
     "model_module": "@jupyter-widgets/controls",
     "model_module_version": "1.5.0",
     "model_name": "ProgressStyleModel",
     "state": {
      "_model_module": "@jupyter-widgets/controls",
      "_model_module_version": "1.5.0",
      "_model_name": "ProgressStyleModel",
      "_view_count": null,
      "_view_module": "@jupyter-widgets/base",
      "_view_module_version": "1.2.0",
      "_view_name": "StyleView",
      "bar_color": null,
      "description_width": ""
     }
    },
    "34359ca19445493da2079daf67da3200": {
     "model_module": "@jupyter-widgets/controls",
     "model_module_version": "1.5.0",
     "model_name": "ProgressStyleModel",
     "state": {
      "_model_module": "@jupyter-widgets/controls",
      "_model_module_version": "1.5.0",
      "_model_name": "ProgressStyleModel",
      "_view_count": null,
      "_view_module": "@jupyter-widgets/base",
      "_view_module_version": "1.2.0",
      "_view_name": "StyleView",
      "bar_color": null,
      "description_width": ""
     }
    },
    "3453bf672efb4e99807d050383fa9f39": {
     "model_module": "@jupyter-widgets/controls",
     "model_module_version": "1.5.0",
     "model_name": "FloatProgressModel",
     "state": {
      "_dom_classes": [],
      "_model_module": "@jupyter-widgets/controls",
      "_model_module_version": "1.5.0",
      "_model_name": "FloatProgressModel",
      "_view_count": null,
      "_view_module": "@jupyter-widgets/controls",
      "_view_module_version": "1.5.0",
      "_view_name": "ProgressView",
      "bar_style": "success",
      "description": "",
      "description_tooltip": null,
      "layout": "IPY_MODEL_22cf07001b09474bb298a758cd7a4c12",
      "max": 4,
      "min": 0,
      "orientation": "horizontal",
      "style": "IPY_MODEL_34359ca19445493da2079daf67da3200",
      "value": 4
     }
    },
    "345b904fa7f544e79402a9236808916c": {
     "model_module": "@jupyter-widgets/base",
     "model_module_version": "1.2.0",
     "model_name": "LayoutModel",
     "state": {
      "_model_module": "@jupyter-widgets/base",
      "_model_module_version": "1.2.0",
      "_model_name": "LayoutModel",
      "_view_count": null,
      "_view_module": "@jupyter-widgets/base",
      "_view_module_version": "1.2.0",
      "_view_name": "LayoutView",
      "align_content": null,
      "align_items": null,
      "align_self": null,
      "border": null,
      "bottom": null,
      "display": null,
      "flex": null,
      "flex_flow": null,
      "grid_area": null,
      "grid_auto_columns": null,
      "grid_auto_flow": null,
      "grid_auto_rows": null,
      "grid_column": null,
      "grid_gap": null,
      "grid_row": null,
      "grid_template_areas": null,
      "grid_template_columns": null,
      "grid_template_rows": null,
      "height": null,
      "justify_content": null,
      "justify_items": null,
      "left": null,
      "margin": null,
      "max_height": null,
      "max_width": null,
      "min_height": null,
      "min_width": null,
      "object_fit": null,
      "object_position": null,
      "order": null,
      "overflow": null,
      "overflow_x": null,
      "overflow_y": null,
      "padding": null,
      "right": null,
      "top": null,
      "visibility": null,
      "width": null
     }
    },
    "35524cca47e4478a91e72eb31c320672": {
     "model_module": "@jupyter-widgets/controls",
     "model_module_version": "1.5.0",
     "model_name": "HBoxModel",
     "state": {
      "_dom_classes": [],
      "_model_module": "@jupyter-widgets/controls",
      "_model_module_version": "1.5.0",
      "_model_name": "HBoxModel",
      "_view_count": null,
      "_view_module": "@jupyter-widgets/controls",
      "_view_module_version": "1.5.0",
      "_view_name": "HBoxView",
      "box_style": "",
      "children": [
       "IPY_MODEL_907e257e0a0f46e08d19950062c9306e",
       "IPY_MODEL_87a6094ef758498aa29a1e6fea3d914e",
       "IPY_MODEL_ec252760cb8e4079b77ad21c3f7b0c93"
      ],
      "layout": "IPY_MODEL_d755895c09ef4261bea0543cf3bf1c62"
     }
    },
    "379a764bdc8747438415f66a6655b363": {
     "model_module": "@jupyter-widgets/controls",
     "model_module_version": "1.5.0",
     "model_name": "FloatProgressModel",
     "state": {
      "_dom_classes": [],
      "_model_module": "@jupyter-widgets/controls",
      "_model_module_version": "1.5.0",
      "_model_name": "FloatProgressModel",
      "_view_count": null,
      "_view_module": "@jupyter-widgets/controls",
      "_view_module_version": "1.5.0",
      "_view_name": "ProgressView",
      "bar_style": "danger",
      "description": "",
      "description_tooltip": null,
      "layout": "IPY_MODEL_6ec207764462447fad49e1767b2c58d5",
      "max": 4983007904,
      "min": 0,
      "orientation": "horizontal",
      "style": "IPY_MODEL_20a2e01eb6de442499f7ec1ba9d0d814",
      "value": 4983007429
     }
    },
    "3a239a91a2164e44b4cb38411b14835b": {
     "model_module": "@jupyter-widgets/controls",
     "model_module_version": "1.5.0",
     "model_name": "DescriptionStyleModel",
     "state": {
      "_model_module": "@jupyter-widgets/controls",
      "_model_module_version": "1.5.0",
      "_model_name": "DescriptionStyleModel",
      "_view_count": null,
      "_view_module": "@jupyter-widgets/base",
      "_view_module_version": "1.2.0",
      "_view_name": "StyleView",
      "description_width": ""
     }
    },
    "3b91aaba52cd43e6a31b19a01a15bd32": {
     "model_module": "@jupyter-widgets/controls",
     "model_module_version": "1.5.0",
     "model_name": "ProgressStyleModel",
     "state": {
      "_model_module": "@jupyter-widgets/controls",
      "_model_module_version": "1.5.0",
      "_model_name": "ProgressStyleModel",
      "_view_count": null,
      "_view_module": "@jupyter-widgets/base",
      "_view_module_version": "1.2.0",
      "_view_name": "StyleView",
      "bar_color": null,
      "description_width": ""
     }
    },
    "4092f2d03cd545dbb58393de257b1125": {
     "model_module": "@jupyter-widgets/controls",
     "model_module_version": "1.5.0",
     "model_name": "ProgressStyleModel",
     "state": {
      "_model_module": "@jupyter-widgets/controls",
      "_model_module_version": "1.5.0",
      "_model_name": "ProgressStyleModel",
      "_view_count": null,
      "_view_module": "@jupyter-widgets/base",
      "_view_module_version": "1.2.0",
      "_view_name": "StyleView",
      "bar_color": null,
      "description_width": ""
     }
    },
    "41c32a4270e04cf3ab7246e703689568": {
     "model_module": "@jupyter-widgets/base",
     "model_module_version": "1.2.0",
     "model_name": "LayoutModel",
     "state": {
      "_model_module": "@jupyter-widgets/base",
      "_model_module_version": "1.2.0",
      "_model_name": "LayoutModel",
      "_view_count": null,
      "_view_module": "@jupyter-widgets/base",
      "_view_module_version": "1.2.0",
      "_view_name": "LayoutView",
      "align_content": null,
      "align_items": null,
      "align_self": null,
      "border": null,
      "bottom": null,
      "display": null,
      "flex": null,
      "flex_flow": null,
      "grid_area": null,
      "grid_auto_columns": null,
      "grid_auto_flow": null,
      "grid_auto_rows": null,
      "grid_column": null,
      "grid_gap": null,
      "grid_row": null,
      "grid_template_areas": null,
      "grid_template_columns": null,
      "grid_template_rows": null,
      "height": null,
      "justify_content": null,
      "justify_items": null,
      "left": null,
      "margin": null,
      "max_height": null,
      "max_width": null,
      "min_height": null,
      "min_width": null,
      "object_fit": null,
      "object_position": null,
      "order": null,
      "overflow": null,
      "overflow_x": null,
      "overflow_y": null,
      "padding": null,
      "right": null,
      "top": null,
      "visibility": null,
      "width": null
     }
    },
    "437fbb1a58b847af9295f37921f88f6c": {
     "model_module": "@jupyter-widgets/controls",
     "model_module_version": "1.5.0",
     "model_name": "DescriptionStyleModel",
     "state": {
      "_model_module": "@jupyter-widgets/controls",
      "_model_module_version": "1.5.0",
      "_model_name": "DescriptionStyleModel",
      "_view_count": null,
      "_view_module": "@jupyter-widgets/base",
      "_view_module_version": "1.2.0",
      "_view_name": "StyleView",
      "description_width": ""
     }
    },
    "4396d35133674eda9dbeb033fde931e4": {
     "model_module": "@jupyter-widgets/base",
     "model_module_version": "1.2.0",
     "model_name": "LayoutModel",
     "state": {
      "_model_module": "@jupyter-widgets/base",
      "_model_module_version": "1.2.0",
      "_model_name": "LayoutModel",
      "_view_count": null,
      "_view_module": "@jupyter-widgets/base",
      "_view_module_version": "1.2.0",
      "_view_name": "LayoutView",
      "align_content": null,
      "align_items": null,
      "align_self": null,
      "border": null,
      "bottom": null,
      "display": null,
      "flex": null,
      "flex_flow": null,
      "grid_area": null,
      "grid_auto_columns": null,
      "grid_auto_flow": null,
      "grid_auto_rows": null,
      "grid_column": null,
      "grid_gap": null,
      "grid_row": null,
      "grid_template_areas": null,
      "grid_template_columns": null,
      "grid_template_rows": null,
      "height": null,
      "justify_content": null,
      "justify_items": null,
      "left": null,
      "margin": null,
      "max_height": null,
      "max_width": null,
      "min_height": null,
      "min_width": null,
      "object_fit": null,
      "object_position": null,
      "order": null,
      "overflow": null,
      "overflow_x": null,
      "overflow_y": null,
      "padding": null,
      "right": null,
      "top": null,
      "visibility": null,
      "width": null
     }
    },
    "476690a3cf26499ab2968e2fed9fe157": {
     "model_module": "@jupyter-widgets/controls",
     "model_module_version": "1.5.0",
     "model_name": "FloatProgressModel",
     "state": {
      "_dom_classes": [],
      "_model_module": "@jupyter-widgets/controls",
      "_model_module_version": "1.5.0",
      "_model_name": "FloatProgressModel",
      "_view_count": null,
      "_view_module": "@jupyter-widgets/controls",
      "_view_module_version": "1.5.0",
      "_view_name": "ProgressView",
      "bar_style": "danger",
      "description": "",
      "description_tooltip": null,
      "layout": "IPY_MODEL_2371a59527b04e71b88afe8183593953",
      "max": 4983067960,
      "min": 0,
      "orientation": "horizontal",
      "style": "IPY_MODEL_0f457b3969f64087844bee7ad740e1a1",
      "value": 4983067485
     }
    },
    "483785daa7744e798e50bd99f59e1aff": {
     "model_module": "@jupyter-widgets/base",
     "model_module_version": "1.2.0",
     "model_name": "LayoutModel",
     "state": {
      "_model_module": "@jupyter-widgets/base",
      "_model_module_version": "1.2.0",
      "_model_name": "LayoutModel",
      "_view_count": null,
      "_view_module": "@jupyter-widgets/base",
      "_view_module_version": "1.2.0",
      "_view_name": "LayoutView",
      "align_content": null,
      "align_items": null,
      "align_self": null,
      "border": null,
      "bottom": null,
      "display": null,
      "flex": null,
      "flex_flow": null,
      "grid_area": null,
      "grid_auto_columns": null,
      "grid_auto_flow": null,
      "grid_auto_rows": null,
      "grid_column": null,
      "grid_gap": null,
      "grid_row": null,
      "grid_template_areas": null,
      "grid_template_columns": null,
      "grid_template_rows": null,
      "height": null,
      "justify_content": null,
      "justify_items": null,
      "left": null,
      "margin": null,
      "max_height": null,
      "max_width": null,
      "min_height": null,
      "min_width": null,
      "object_fit": null,
      "object_position": null,
      "order": null,
      "overflow": null,
      "overflow_x": null,
      "overflow_y": null,
      "padding": null,
      "right": null,
      "top": null,
      "visibility": null,
      "width": null
     }
    },
    "50397868f1ab412bbd21de37eacb76a0": {
     "model_module": "@jupyter-widgets/base",
     "model_module_version": "1.2.0",
     "model_name": "LayoutModel",
     "state": {
      "_model_module": "@jupyter-widgets/base",
      "_model_module_version": "1.2.0",
      "_model_name": "LayoutModel",
      "_view_count": null,
      "_view_module": "@jupyter-widgets/base",
      "_view_module_version": "1.2.0",
      "_view_name": "LayoutView",
      "align_content": null,
      "align_items": null,
      "align_self": null,
      "border": null,
      "bottom": null,
      "display": null,
      "flex": null,
      "flex_flow": null,
      "grid_area": null,
      "grid_auto_columns": null,
      "grid_auto_flow": null,
      "grid_auto_rows": null,
      "grid_column": null,
      "grid_gap": null,
      "grid_row": null,
      "grid_template_areas": null,
      "grid_template_columns": null,
      "grid_template_rows": null,
      "height": null,
      "justify_content": null,
      "justify_items": null,
      "left": null,
      "margin": null,
      "max_height": null,
      "max_width": null,
      "min_height": null,
      "min_width": null,
      "object_fit": null,
      "object_position": null,
      "order": null,
      "overflow": null,
      "overflow_x": null,
      "overflow_y": null,
      "padding": null,
      "right": null,
      "top": null,
      "visibility": null,
      "width": null
     }
    },
    "520ce61656fd4a10ab26241c0518b26e": {
     "model_module": "@jupyter-widgets/controls",
     "model_module_version": "1.5.0",
     "model_name": "HTMLModel",
     "state": {
      "_dom_classes": [],
      "_model_module": "@jupyter-widgets/controls",
      "_model_module_version": "1.5.0",
      "_model_name": "HTMLModel",
      "_view_count": null,
      "_view_module": "@jupyter-widgets/controls",
      "_view_module_version": "1.5.0",
      "_view_name": "HTMLView",
      "description": "",
      "description_tooltip": null,
      "layout": "IPY_MODEL_d636cad47e6b4e20882a894a8565df58",
      "placeholder": "​",
      "style": "IPY_MODEL_7c6a5af5fb5748ffb19fc0273995a088",
      "value": "model-00001-of-00004.safetensors: 100%"
     }
    },
    "524a1f5509064e6e91622e72ea7dc0d1": {
     "model_module": "@jupyter-widgets/controls",
     "model_module_version": "1.5.0",
     "model_name": "HTMLModel",
     "state": {
      "_dom_classes": [],
      "_model_module": "@jupyter-widgets/controls",
      "_model_module_version": "1.5.0",
      "_model_name": "HTMLModel",
      "_view_count": null,
      "_view_module": "@jupyter-widgets/controls",
      "_view_module_version": "1.5.0",
      "_view_name": "HTMLView",
      "description": "",
      "description_tooltip": null,
      "layout": "IPY_MODEL_76e98d17becb43119a13edb201dbaedc",
      "placeholder": "​",
      "style": "IPY_MODEL_dad153ba77db40f0a81f7968630ffbf8",
      "value": " 17.1M/17.1M [00:00&lt;00:00, 37.4MB/s]"
     }
    },
    "554d55befbc74c3ea15d3f7f4710c6f1": {
     "model_module": "@jupyter-widgets/controls",
     "model_module_version": "1.5.0",
     "model_name": "DescriptionStyleModel",
     "state": {
      "_model_module": "@jupyter-widgets/controls",
      "_model_module_version": "1.5.0",
      "_model_name": "DescriptionStyleModel",
      "_view_count": null,
      "_view_module": "@jupyter-widgets/base",
      "_view_module_version": "1.2.0",
      "_view_name": "StyleView",
      "description_width": ""
     }
    },
    "56edf93e85f041ec97f4d5043c261361": {
     "model_module": "@jupyter-widgets/base",
     "model_module_version": "1.2.0",
     "model_name": "LayoutModel",
     "state": {
      "_model_module": "@jupyter-widgets/base",
      "_model_module_version": "1.2.0",
      "_model_name": "LayoutModel",
      "_view_count": null,
      "_view_module": "@jupyter-widgets/base",
      "_view_module_version": "1.2.0",
      "_view_name": "LayoutView",
      "align_content": null,
      "align_items": null,
      "align_self": null,
      "border": null,
      "bottom": null,
      "display": null,
      "flex": null,
      "flex_flow": null,
      "grid_area": null,
      "grid_auto_columns": null,
      "grid_auto_flow": null,
      "grid_auto_rows": null,
      "grid_column": null,
      "grid_gap": null,
      "grid_row": null,
      "grid_template_areas": null,
      "grid_template_columns": null,
      "grid_template_rows": null,
      "height": null,
      "justify_content": null,
      "justify_items": null,
      "left": null,
      "margin": null,
      "max_height": null,
      "max_width": null,
      "min_height": null,
      "min_width": null,
      "object_fit": null,
      "object_position": null,
      "order": null,
      "overflow": null,
      "overflow_x": null,
      "overflow_y": null,
      "padding": null,
      "right": null,
      "top": null,
      "visibility": null,
      "width": null
     }
    },
    "578ae7fa5e074c3e8f7ddc86ff55ff15": {
     "model_module": "@jupyter-widgets/controls",
     "model_module_version": "1.5.0",
     "model_name": "HBoxModel",
     "state": {
      "_dom_classes": [],
      "_model_module": "@jupyter-widgets/controls",
      "_model_module_version": "1.5.0",
      "_model_name": "HBoxModel",
      "_view_count": null,
      "_view_module": "@jupyter-widgets/controls",
      "_view_module_version": "1.5.0",
      "_view_name": "HBoxView",
      "box_style": "",
      "children": [
       "IPY_MODEL_1cbcbbffbe934b1499eb394623d62159",
       "IPY_MODEL_741db04869124d8ead93121f0f060138",
       "IPY_MODEL_fe40ba4b63654c15b18f6dbd4b3a6c49"
      ],
      "layout": "IPY_MODEL_21d691e45a3c40a0835535cb8077f85f"
     }
    },
    "579c503e0ae34a1c95cbd7bbdce8bc13": {
     "model_module": "@jupyter-widgets/controls",
     "model_module_version": "1.5.0",
     "model_name": "HBoxModel",
     "state": {
      "_dom_classes": [],
      "_model_module": "@jupyter-widgets/controls",
      "_model_module_version": "1.5.0",
      "_model_name": "HBoxModel",
      "_view_count": null,
      "_view_module": "@jupyter-widgets/controls",
      "_view_module_version": "1.5.0",
      "_view_name": "HBoxView",
      "box_style": "",
      "children": [
       "IPY_MODEL_0e85f1ba714944bfa212765d5ad9bb73",
       "IPY_MODEL_a64ff1dd4c284959856d39615c78b08c",
       "IPY_MODEL_871d5ccb78f24b65ae6ef5616b21847a"
      ],
      "layout": "IPY_MODEL_12ccfd3d19504336957676d03e8bd038"
     }
    },
    "5b2b00f5d5ef44acb6874c63df87352d": {
     "model_module": "@jupyter-widgets/controls",
     "model_module_version": "1.5.0",
     "model_name": "HTMLModel",
     "state": {
      "_dom_classes": [],
      "_model_module": "@jupyter-widgets/controls",
      "_model_module_version": "1.5.0",
      "_model_name": "HTMLModel",
      "_view_count": null,
      "_view_module": "@jupyter-widgets/controls",
      "_view_module_version": "1.5.0",
      "_view_name": "HTMLView",
      "description": "",
      "description_tooltip": null,
      "layout": "IPY_MODEL_50397868f1ab412bbd21de37eacb76a0",
      "placeholder": "​",
      "style": "IPY_MODEL_a4bd0c3955374789b2b1f32d7aa0f5e7",
      "value": " 4/4 [03:07&lt;00:00, 40.86s/it]"
     }
    },
    "5b498f3da9ab41be88a2b5575c74866b": {
     "model_module": "@jupyter-widgets/base",
     "model_module_version": "1.2.0",
     "model_name": "LayoutModel",
     "state": {
      "_model_module": "@jupyter-widgets/base",
      "_model_module_version": "1.2.0",
      "_model_name": "LayoutModel",
      "_view_count": null,
      "_view_module": "@jupyter-widgets/base",
      "_view_module_version": "1.2.0",
      "_view_name": "LayoutView",
      "align_content": null,
      "align_items": null,
      "align_self": null,
      "border": null,
      "bottom": null,
      "display": null,
      "flex": null,
      "flex_flow": null,
      "grid_area": null,
      "grid_auto_columns": null,
      "grid_auto_flow": null,
      "grid_auto_rows": null,
      "grid_column": null,
      "grid_gap": null,
      "grid_row": null,
      "grid_template_areas": null,
      "grid_template_columns": null,
      "grid_template_rows": null,
      "height": null,
      "justify_content": null,
      "justify_items": null,
      "left": null,
      "margin": null,
      "max_height": null,
      "max_width": null,
      "min_height": null,
      "min_width": null,
      "object_fit": null,
      "object_position": null,
      "order": null,
      "overflow": null,
      "overflow_x": null,
      "overflow_y": null,
      "padding": null,
      "right": null,
      "top": null,
      "visibility": null,
      "width": null
     }
    },
    "5bddf95891a54cf8ba2e897945edf1f0": {
     "model_module": "@jupyter-widgets/controls",
     "model_module_version": "1.5.0",
     "model_name": "FloatProgressModel",
     "state": {
      "_dom_classes": [],
      "_model_module": "@jupyter-widgets/controls",
      "_model_module_version": "1.5.0",
      "_model_name": "FloatProgressModel",
      "_view_count": null,
      "_view_module": "@jupyter-widgets/controls",
      "_view_module_version": "1.5.0",
      "_view_name": "ProgressView",
      "bar_style": "success",
      "description": "",
      "description_tooltip": null,
      "layout": "IPY_MODEL_c902f6c08c394435919d881d14411b27",
      "max": 4,
      "min": 0,
      "orientation": "horizontal",
      "style": "IPY_MODEL_3b91aaba52cd43e6a31b19a01a15bd32",
      "value": 4
     }
    },
    "64d127f737b34ecab4e76d0e1ed520f7": {
     "model_module": "@jupyter-widgets/base",
     "model_module_version": "1.2.0",
     "model_name": "LayoutModel",
     "state": {
      "_model_module": "@jupyter-widgets/base",
      "_model_module_version": "1.2.0",
      "_model_name": "LayoutModel",
      "_view_count": null,
      "_view_module": "@jupyter-widgets/base",
      "_view_module_version": "1.2.0",
      "_view_name": "LayoutView",
      "align_content": null,
      "align_items": null,
      "align_self": null,
      "border": null,
      "bottom": null,
      "display": null,
      "flex": null,
      "flex_flow": null,
      "grid_area": null,
      "grid_auto_columns": null,
      "grid_auto_flow": null,
      "grid_auto_rows": null,
      "grid_column": null,
      "grid_gap": null,
      "grid_row": null,
      "grid_template_areas": null,
      "grid_template_columns": null,
      "grid_template_rows": null,
      "height": null,
      "justify_content": null,
      "justify_items": null,
      "left": null,
      "margin": null,
      "max_height": null,
      "max_width": null,
      "min_height": null,
      "min_width": null,
      "object_fit": null,
      "object_position": null,
      "order": null,
      "overflow": null,
      "overflow_x": null,
      "overflow_y": null,
      "padding": null,
      "right": null,
      "top": null,
      "visibility": null,
      "width": null
     }
    },
    "66a20a38890645018c90466e107589d9": {
     "model_module": "@jupyter-widgets/controls",
     "model_module_version": "1.5.0",
     "model_name": "HBoxModel",
     "state": {
      "_dom_classes": [],
      "_model_module": "@jupyter-widgets/controls",
      "_model_module_version": "1.5.0",
      "_model_name": "HBoxModel",
      "_view_count": null,
      "_view_module": "@jupyter-widgets/controls",
      "_view_module_version": "1.5.0",
      "_view_name": "HBoxView",
      "box_style": "",
      "children": [
       "IPY_MODEL_d2225cc796fc4f89940101f0306e2481",
       "IPY_MODEL_3453bf672efb4e99807d050383fa9f39",
       "IPY_MODEL_0c8951aad2df4a92884aae99af334b93"
      ],
      "layout": "IPY_MODEL_9567ba98393c4a06aa9a50ef2a47027c"
     }
    },
    "68e7d8ea769248b584aff7249a239207": {
     "model_module": "@jupyter-widgets/controls",
     "model_module_version": "1.5.0",
     "model_name": "DescriptionStyleModel",
     "state": {
      "_model_module": "@jupyter-widgets/controls",
      "_model_module_version": "1.5.0",
      "_model_name": "DescriptionStyleModel",
      "_view_count": null,
      "_view_module": "@jupyter-widgets/base",
      "_view_module_version": "1.2.0",
      "_view_name": "StyleView",
      "description_width": ""
     }
    },
    "6b8594f5cc3043e5ad185e0fb3d11322": {
     "model_module": "@jupyter-widgets/controls",
     "model_module_version": "1.5.0",
     "model_name": "FloatProgressModel",
     "state": {
      "_dom_classes": [],
      "_model_module": "@jupyter-widgets/controls",
      "_model_module_version": "1.5.0",
      "_model_name": "FloatProgressModel",
      "_view_count": null,
      "_view_module": "@jupyter-widgets/controls",
      "_view_module_version": "1.5.0",
      "_view_name": "ProgressView",
      "bar_style": "success",
      "description": "",
      "description_tooltip": null,
      "layout": "IPY_MODEL_b804715a40df439a9557e0f9823073cc",
      "max": 17078136,
      "min": 0,
      "orientation": "horizontal",
      "style": "IPY_MODEL_24919305b0744da9970d49e41b3d895d",
      "value": 17078136
     }
    },
    "6def3b8f12bf4ca2ae6c8ff0ee440f9d": {
     "model_module": "@jupyter-widgets/controls",
     "model_module_version": "1.5.0",
     "model_name": "HBoxModel",
     "state": {
      "_dom_classes": [],
      "_model_module": "@jupyter-widgets/controls",
      "_model_module_version": "1.5.0",
      "_model_name": "HBoxModel",
      "_view_count": null,
      "_view_module": "@jupyter-widgets/controls",
      "_view_module_version": "1.5.0",
      "_view_name": "HBoxView",
      "box_style": "",
      "children": [
       "IPY_MODEL_9ba2d51194ae4cf99303967b6f720957",
       "IPY_MODEL_80ffd517474f4511b98efe0c13e9af5e",
       "IPY_MODEL_948a1918cf0346f487bf75e30bfa0e2f"
      ],
      "layout": "IPY_MODEL_c6fbd7fa37584a96be738ddada0fe099"
     }
    },
    "6df5f4cdb38148c49618c603ac2fafe9": {
     "model_module": "@jupyter-widgets/base",
     "model_module_version": "1.2.0",
     "model_name": "LayoutModel",
     "state": {
      "_model_module": "@jupyter-widgets/base",
      "_model_module_version": "1.2.0",
      "_model_name": "LayoutModel",
      "_view_count": null,
      "_view_module": "@jupyter-widgets/base",
      "_view_module_version": "1.2.0",
      "_view_name": "LayoutView",
      "align_content": null,
      "align_items": null,
      "align_self": null,
      "border": null,
      "bottom": null,
      "display": null,
      "flex": null,
      "flex_flow": null,
      "grid_area": null,
      "grid_auto_columns": null,
      "grid_auto_flow": null,
      "grid_auto_rows": null,
      "grid_column": null,
      "grid_gap": null,
      "grid_row": null,
      "grid_template_areas": null,
      "grid_template_columns": null,
      "grid_template_rows": null,
      "height": null,
      "justify_content": null,
      "justify_items": null,
      "left": null,
      "margin": null,
      "max_height": null,
      "max_width": null,
      "min_height": null,
      "min_width": null,
      "object_fit": null,
      "object_position": null,
      "order": null,
      "overflow": null,
      "overflow_x": null,
      "overflow_y": null,
      "padding": null,
      "right": null,
      "top": null,
      "visibility": null,
      "width": null
     }
    },
    "6ec207764462447fad49e1767b2c58d5": {
     "model_module": "@jupyter-widgets/base",
     "model_module_version": "1.2.0",
     "model_name": "LayoutModel",
     "state": {
      "_model_module": "@jupyter-widgets/base",
      "_model_module_version": "1.2.0",
      "_model_name": "LayoutModel",
      "_view_count": null,
      "_view_module": "@jupyter-widgets/base",
      "_view_module_version": "1.2.0",
      "_view_name": "LayoutView",
      "align_content": null,
      "align_items": null,
      "align_self": null,
      "border": null,
      "bottom": null,
      "display": null,
      "flex": null,
      "flex_flow": null,
      "grid_area": null,
      "grid_auto_columns": null,
      "grid_auto_flow": null,
      "grid_auto_rows": null,
      "grid_column": null,
      "grid_gap": null,
      "grid_row": null,
      "grid_template_areas": null,
      "grid_template_columns": null,
      "grid_template_rows": null,
      "height": null,
      "justify_content": null,
      "justify_items": null,
      "left": null,
      "margin": null,
      "max_height": null,
      "max_width": null,
      "min_height": null,
      "min_width": null,
      "object_fit": null,
      "object_position": null,
      "order": null,
      "overflow": null,
      "overflow_x": null,
      "overflow_y": null,
      "padding": null,
      "right": null,
      "top": null,
      "visibility": null,
      "width": null
     }
    },
    "6f573bd1934348e0b5011ee0ee163219": {
     "model_module": "@jupyter-widgets/controls",
     "model_module_version": "1.5.0",
     "model_name": "HBoxModel",
     "state": {
      "_dom_classes": [],
      "_model_module": "@jupyter-widgets/controls",
      "_model_module_version": "1.5.0",
      "_model_name": "HBoxModel",
      "_view_count": null,
      "_view_module": "@jupyter-widgets/controls",
      "_view_module_version": "1.5.0",
      "_view_name": "HBoxView",
      "box_style": "",
      "children": [
       "IPY_MODEL_aff710e8beca454f9c8142c33f7dea42",
       "IPY_MODEL_6b8594f5cc3043e5ad185e0fb3d11322",
       "IPY_MODEL_524a1f5509064e6e91622e72ea7dc0d1"
      ],
      "layout": "IPY_MODEL_6f5bc645fed9463da2fe91585e4f39ac"
     }
    },
    "6f5bc645fed9463da2fe91585e4f39ac": {
     "model_module": "@jupyter-widgets/base",
     "model_module_version": "1.2.0",
     "model_name": "LayoutModel",
     "state": {
      "_model_module": "@jupyter-widgets/base",
      "_model_module_version": "1.2.0",
      "_model_name": "LayoutModel",
      "_view_count": null,
      "_view_module": "@jupyter-widgets/base",
      "_view_module_version": "1.2.0",
      "_view_name": "LayoutView",
      "align_content": null,
      "align_items": null,
      "align_self": null,
      "border": null,
      "bottom": null,
      "display": null,
      "flex": null,
      "flex_flow": null,
      "grid_area": null,
      "grid_auto_columns": null,
      "grid_auto_flow": null,
      "grid_auto_rows": null,
      "grid_column": null,
      "grid_gap": null,
      "grid_row": null,
      "grid_template_areas": null,
      "grid_template_columns": null,
      "grid_template_rows": null,
      "height": null,
      "justify_content": null,
      "justify_items": null,
      "left": null,
      "margin": null,
      "max_height": null,
      "max_width": null,
      "min_height": null,
      "min_width": null,
      "object_fit": null,
      "object_position": null,
      "order": null,
      "overflow": null,
      "overflow_x": null,
      "overflow_y": null,
      "padding": null,
      "right": null,
      "top": null,
      "visibility": null,
      "width": null
     }
    },
    "724b4bccc93c48dd8747a43b4eb4f7a5": {
     "model_module": "@jupyter-widgets/base",
     "model_module_version": "1.2.0",
     "model_name": "LayoutModel",
     "state": {
      "_model_module": "@jupyter-widgets/base",
      "_model_module_version": "1.2.0",
      "_model_name": "LayoutModel",
      "_view_count": null,
      "_view_module": "@jupyter-widgets/base",
      "_view_module_version": "1.2.0",
      "_view_name": "LayoutView",
      "align_content": null,
      "align_items": null,
      "align_self": null,
      "border": null,
      "bottom": null,
      "display": null,
      "flex": null,
      "flex_flow": null,
      "grid_area": null,
      "grid_auto_columns": null,
      "grid_auto_flow": null,
      "grid_auto_rows": null,
      "grid_column": null,
      "grid_gap": null,
      "grid_row": null,
      "grid_template_areas": null,
      "grid_template_columns": null,
      "grid_template_rows": null,
      "height": null,
      "justify_content": null,
      "justify_items": null,
      "left": null,
      "margin": null,
      "max_height": null,
      "max_width": null,
      "min_height": null,
      "min_width": null,
      "object_fit": null,
      "object_position": null,
      "order": null,
      "overflow": null,
      "overflow_x": null,
      "overflow_y": null,
      "padding": null,
      "right": null,
      "top": null,
      "visibility": null,
      "width": null
     }
    },
    "741db04869124d8ead93121f0f060138": {
     "model_module": "@jupyter-widgets/controls",
     "model_module_version": "1.5.0",
     "model_name": "FloatProgressModel",
     "state": {
      "_dom_classes": [],
      "_model_module": "@jupyter-widgets/controls",
      "_model_module_version": "1.5.0",
      "_model_name": "FloatProgressModel",
      "_view_count": null,
      "_view_module": "@jupyter-widgets/controls",
      "_view_module_version": "1.5.0",
      "_view_name": "ProgressView",
      "bar_style": "danger",
      "description": "",
      "description_tooltip": null,
      "layout": "IPY_MODEL_24105814b1924aa5a0a96c5cea3058f1",
      "max": 4999836776,
      "min": 0,
      "orientation": "horizontal",
      "style": "IPY_MODEL_e37047e10aa647baba6f61e0ce9232e1",
      "value": 4999836300
     }
    },
    "746de3dc276346ad92ce7699c2d9ec4a": {
     "model_module": "@jupyter-widgets/base",
     "model_module_version": "1.2.0",
     "model_name": "LayoutModel",
     "state": {
      "_model_module": "@jupyter-widgets/base",
      "_model_module_version": "1.2.0",
      "_model_name": "LayoutModel",
      "_view_count": null,
      "_view_module": "@jupyter-widgets/base",
      "_view_module_version": "1.2.0",
      "_view_name": "LayoutView",
      "align_content": null,
      "align_items": null,
      "align_self": null,
      "border": null,
      "bottom": null,
      "display": null,
      "flex": null,
      "flex_flow": null,
      "grid_area": null,
      "grid_auto_columns": null,
      "grid_auto_flow": null,
      "grid_auto_rows": null,
      "grid_column": null,
      "grid_gap": null,
      "grid_row": null,
      "grid_template_areas": null,
      "grid_template_columns": null,
      "grid_template_rows": null,
      "height": null,
      "justify_content": null,
      "justify_items": null,
      "left": null,
      "margin": null,
      "max_height": null,
      "max_width": null,
      "min_height": null,
      "min_width": null,
      "object_fit": null,
      "object_position": null,
      "order": null,
      "overflow": null,
      "overflow_x": null,
      "overflow_y": null,
      "padding": null,
      "right": null,
      "top": null,
      "visibility": null,
      "width": null
     }
    },
    "76e98d17becb43119a13edb201dbaedc": {
     "model_module": "@jupyter-widgets/base",
     "model_module_version": "1.2.0",
     "model_name": "LayoutModel",
     "state": {
      "_model_module": "@jupyter-widgets/base",
      "_model_module_version": "1.2.0",
      "_model_name": "LayoutModel",
      "_view_count": null,
      "_view_module": "@jupyter-widgets/base",
      "_view_module_version": "1.2.0",
      "_view_name": "LayoutView",
      "align_content": null,
      "align_items": null,
      "align_self": null,
      "border": null,
      "bottom": null,
      "display": null,
      "flex": null,
      "flex_flow": null,
      "grid_area": null,
      "grid_auto_columns": null,
      "grid_auto_flow": null,
      "grid_auto_rows": null,
      "grid_column": null,
      "grid_gap": null,
      "grid_row": null,
      "grid_template_areas": null,
      "grid_template_columns": null,
      "grid_template_rows": null,
      "height": null,
      "justify_content": null,
      "justify_items": null,
      "left": null,
      "margin": null,
      "max_height": null,
      "max_width": null,
      "min_height": null,
      "min_width": null,
      "object_fit": null,
      "object_position": null,
      "order": null,
      "overflow": null,
      "overflow_x": null,
      "overflow_y": null,
      "padding": null,
      "right": null,
      "top": null,
      "visibility": null,
      "width": null
     }
    },
    "798ee4b6343e4e88928782bc18c932c6": {
     "model_module": "@jupyter-widgets/controls",
     "model_module_version": "1.5.0",
     "model_name": "DescriptionStyleModel",
     "state": {
      "_model_module": "@jupyter-widgets/controls",
      "_model_module_version": "1.5.0",
      "_model_name": "DescriptionStyleModel",
      "_view_count": null,
      "_view_module": "@jupyter-widgets/base",
      "_view_module_version": "1.2.0",
      "_view_name": "StyleView",
      "description_width": ""
     }
    },
    "7c6a5af5fb5748ffb19fc0273995a088": {
     "model_module": "@jupyter-widgets/controls",
     "model_module_version": "1.5.0",
     "model_name": "DescriptionStyleModel",
     "state": {
      "_model_module": "@jupyter-widgets/controls",
      "_model_module_version": "1.5.0",
      "_model_name": "DescriptionStyleModel",
      "_view_count": null,
      "_view_module": "@jupyter-widgets/base",
      "_view_module_version": "1.2.0",
      "_view_name": "StyleView",
      "description_width": ""
     }
    },
    "7cb42eeee84a4632af4d96d8e36afd22": {
     "model_module": "@jupyter-widgets/controls",
     "model_module_version": "1.5.0",
     "model_name": "DescriptionStyleModel",
     "state": {
      "_model_module": "@jupyter-widgets/controls",
      "_model_module_version": "1.5.0",
      "_model_name": "DescriptionStyleModel",
      "_view_count": null,
      "_view_module": "@jupyter-widgets/base",
      "_view_module_version": "1.2.0",
      "_view_name": "StyleView",
      "description_width": ""
     }
    },
    "7ded95d233654507a9ab83901265d301": {
     "model_module": "@jupyter-widgets/controls",
     "model_module_version": "1.5.0",
     "model_name": "DescriptionStyleModel",
     "state": {
      "_model_module": "@jupyter-widgets/controls",
      "_model_module_version": "1.5.0",
      "_model_name": "DescriptionStyleModel",
      "_view_count": null,
      "_view_module": "@jupyter-widgets/base",
      "_view_module_version": "1.2.0",
      "_view_name": "StyleView",
      "description_width": ""
     }
    },
    "7e0462bb59ae4a00af7c476832999742": {
     "model_module": "@jupyter-widgets/base",
     "model_module_version": "1.2.0",
     "model_name": "LayoutModel",
     "state": {
      "_model_module": "@jupyter-widgets/base",
      "_model_module_version": "1.2.0",
      "_model_name": "LayoutModel",
      "_view_count": null,
      "_view_module": "@jupyter-widgets/base",
      "_view_module_version": "1.2.0",
      "_view_name": "LayoutView",
      "align_content": null,
      "align_items": null,
      "align_self": null,
      "border": null,
      "bottom": null,
      "display": null,
      "flex": null,
      "flex_flow": null,
      "grid_area": null,
      "grid_auto_columns": null,
      "grid_auto_flow": null,
      "grid_auto_rows": null,
      "grid_column": null,
      "grid_gap": null,
      "grid_row": null,
      "grid_template_areas": null,
      "grid_template_columns": null,
      "grid_template_rows": null,
      "height": null,
      "justify_content": null,
      "justify_items": null,
      "left": null,
      "margin": null,
      "max_height": null,
      "max_width": null,
      "min_height": null,
      "min_width": null,
      "object_fit": null,
      "object_position": null,
      "order": null,
      "overflow": null,
      "overflow_x": null,
      "overflow_y": null,
      "padding": null,
      "right": null,
      "top": null,
      "visibility": null,
      "width": null
     }
    },
    "80ffd517474f4511b98efe0c13e9af5e": {
     "model_module": "@jupyter-widgets/controls",
     "model_module_version": "1.5.0",
     "model_name": "FloatProgressModel",
     "state": {
      "_dom_classes": [],
      "_model_module": "@jupyter-widgets/controls",
      "_model_module_version": "1.5.0",
      "_model_name": "FloatProgressModel",
      "_view_count": null,
      "_view_module": "@jupyter-widgets/controls",
      "_view_module_version": "1.5.0",
      "_view_name": "ProgressView",
      "bar_style": "danger",
      "description": "",
      "description_tooltip": null,
      "layout": "IPY_MODEL_a633c032291047b8becfaadd5971a06a",
      "max": 1073741952,
      "min": 0,
      "orientation": "horizontal",
      "style": "IPY_MODEL_0ce292576e3f409d9eb969dc33077145",
      "value": 1073741850
     }
    },
    "871d5ccb78f24b65ae6ef5616b21847a": {
     "model_module": "@jupyter-widgets/controls",
     "model_module_version": "1.5.0",
     "model_name": "HTMLModel",
     "state": {
      "_dom_classes": [],
      "_model_module": "@jupyter-widgets/controls",
      "_model_module_version": "1.5.0",
      "_model_name": "HTMLModel",
      "_view_count": null,
      "_view_module": "@jupyter-widgets/controls",
      "_view_module_version": "1.5.0",
      "_view_name": "HTMLView",
      "description": "",
      "description_tooltip": null,
      "layout": "IPY_MODEL_41c32a4270e04cf3ab7246e703689568",
      "placeholder": "​",
      "style": "IPY_MODEL_a2993bc9a6c34c5ab956cad4d85ebc5f",
      "value": " 26.9k/26.9k [00:00&lt;00:00, 1.11MB/s]"
     }
    },
    "87631294bf2944a4b0a294d946703cc8": {
     "model_module": "@jupyter-widgets/base",
     "model_module_version": "1.2.0",
     "model_name": "LayoutModel",
     "state": {
      "_model_module": "@jupyter-widgets/base",
      "_model_module_version": "1.2.0",
      "_model_name": "LayoutModel",
      "_view_count": null,
      "_view_module": "@jupyter-widgets/base",
      "_view_module_version": "1.2.0",
      "_view_name": "LayoutView",
      "align_content": null,
      "align_items": null,
      "align_self": null,
      "border": null,
      "bottom": null,
      "display": null,
      "flex": null,
      "flex_flow": null,
      "grid_area": null,
      "grid_auto_columns": null,
      "grid_auto_flow": null,
      "grid_auto_rows": null,
      "grid_column": null,
      "grid_gap": null,
      "grid_row": null,
      "grid_template_areas": null,
      "grid_template_columns": null,
      "grid_template_rows": null,
      "height": null,
      "justify_content": null,
      "justify_items": null,
      "left": null,
      "margin": null,
      "max_height": null,
      "max_width": null,
      "min_height": null,
      "min_width": null,
      "object_fit": null,
      "object_position": null,
      "order": null,
      "overflow": null,
      "overflow_x": null,
      "overflow_y": null,
      "padding": null,
      "right": null,
      "top": null,
      "visibility": null,
      "width": null
     }
    },
    "87a6094ef758498aa29a1e6fea3d914e": {
     "model_module": "@jupyter-widgets/controls",
     "model_module_version": "1.5.0",
     "model_name": "FloatProgressModel",
     "state": {
      "_dom_classes": [],
      "_model_module": "@jupyter-widgets/controls",
      "_model_module_version": "1.5.0",
      "_model_name": "FloatProgressModel",
      "_view_count": null,
      "_view_module": "@jupyter-widgets/controls",
      "_view_module_version": "1.5.0",
      "_view_name": "ProgressView",
      "bar_style": "success",
      "description": "",
      "description_tooltip": null,
      "layout": "IPY_MODEL_de0a321662b244a9b7169249145cfba0",
      "max": 116,
      "min": 0,
      "orientation": "horizontal",
      "style": "IPY_MODEL_4092f2d03cd545dbb58393de257b1125",
      "value": 116
     }
    },
    "87d134d24c824997bbf08f33c2da73b8": {
     "model_module": "@jupyter-widgets/base",
     "model_module_version": "1.2.0",
     "model_name": "LayoutModel",
     "state": {
      "_model_module": "@jupyter-widgets/base",
      "_model_module_version": "1.2.0",
      "_model_name": "LayoutModel",
      "_view_count": null,
      "_view_module": "@jupyter-widgets/base",
      "_view_module_version": "1.2.0",
      "_view_name": "LayoutView",
      "align_content": null,
      "align_items": null,
      "align_self": null,
      "border": null,
      "bottom": null,
      "display": null,
      "flex": null,
      "flex_flow": null,
      "grid_area": null,
      "grid_auto_columns": null,
      "grid_auto_flow": null,
      "grid_auto_rows": null,
      "grid_column": null,
      "grid_gap": null,
      "grid_row": null,
      "grid_template_areas": null,
      "grid_template_columns": null,
      "grid_template_rows": null,
      "height": null,
      "justify_content": null,
      "justify_items": null,
      "left": null,
      "margin": null,
      "max_height": null,
      "max_width": null,
      "min_height": null,
      "min_width": null,
      "object_fit": null,
      "object_position": null,
      "order": null,
      "overflow": null,
      "overflow_x": null,
      "overflow_y": null,
      "padding": null,
      "right": null,
      "top": null,
      "visibility": null,
      "width": null
     }
    },
    "8ec79d1563824112ac886988dd8e7702": {
     "model_module": "@jupyter-widgets/base",
     "model_module_version": "1.2.0",
     "model_name": "LayoutModel",
     "state": {
      "_model_module": "@jupyter-widgets/base",
      "_model_module_version": "1.2.0",
      "_model_name": "LayoutModel",
      "_view_count": null,
      "_view_module": "@jupyter-widgets/base",
      "_view_module_version": "1.2.0",
      "_view_name": "LayoutView",
      "align_content": null,
      "align_items": null,
      "align_self": null,
      "border": null,
      "bottom": null,
      "display": null,
      "flex": null,
      "flex_flow": null,
      "grid_area": null,
      "grid_auto_columns": null,
      "grid_auto_flow": null,
      "grid_auto_rows": null,
      "grid_column": null,
      "grid_gap": null,
      "grid_row": null,
      "grid_template_areas": null,
      "grid_template_columns": null,
      "grid_template_rows": null,
      "height": null,
      "justify_content": null,
      "justify_items": null,
      "left": null,
      "margin": null,
      "max_height": null,
      "max_width": null,
      "min_height": null,
      "min_width": null,
      "object_fit": null,
      "object_position": null,
      "order": null,
      "overflow": null,
      "overflow_x": null,
      "overflow_y": null,
      "padding": null,
      "right": null,
      "top": null,
      "visibility": null,
      "width": null
     }
    },
    "907e257e0a0f46e08d19950062c9306e": {
     "model_module": "@jupyter-widgets/controls",
     "model_module_version": "1.5.0",
     "model_name": "HTMLModel",
     "state": {
      "_dom_classes": [],
      "_model_module": "@jupyter-widgets/controls",
      "_model_module_version": "1.5.0",
      "_model_name": "HTMLModel",
      "_view_count": null,
      "_view_module": "@jupyter-widgets/controls",
      "_view_module_version": "1.5.0",
      "_view_name": "HTMLView",
      "description": "",
      "description_tooltip": null,
      "layout": "IPY_MODEL_9aa09ca4409c45a7a71ac052b31053fb",
      "placeholder": "​",
      "style": "IPY_MODEL_68e7d8ea769248b584aff7249a239207",
      "value": "generation_config.json: 100%"
     }
    },
    "9168ac376bc045ebb55f2553c185b1f3": {
     "model_module": "@jupyter-widgets/controls",
     "model_module_version": "1.5.0",
     "model_name": "HTMLModel",
     "state": {
      "_dom_classes": [],
      "_model_module": "@jupyter-widgets/controls",
      "_model_module_version": "1.5.0",
      "_model_name": "HTMLModel",
      "_view_count": null,
      "_view_module": "@jupyter-widgets/controls",
      "_view_module_version": "1.5.0",
      "_view_name": "HTMLView",
      "description": "",
      "description_tooltip": null,
      "layout": "IPY_MODEL_aac7ffb26b0b4f9fae4831799b452e73",
      "placeholder": "​",
      "style": "IPY_MODEL_266e9fb6b9dd4597977580e86496b9de",
      "value": " 414/414 [00:00&lt;00:00, 25.6kB/s]"
     }
    },
    "940fd8caad594a4ba633eaa6dcac1013": {
     "model_module": "@jupyter-widgets/base",
     "model_module_version": "1.2.0",
     "model_name": "LayoutModel",
     "state": {
      "_model_module": "@jupyter-widgets/base",
      "_model_module_version": "1.2.0",
      "_model_name": "LayoutModel",
      "_view_count": null,
      "_view_module": "@jupyter-widgets/base",
      "_view_module_version": "1.2.0",
      "_view_name": "LayoutView",
      "align_content": null,
      "align_items": null,
      "align_self": null,
      "border": null,
      "bottom": null,
      "display": null,
      "flex": null,
      "flex_flow": null,
      "grid_area": null,
      "grid_auto_columns": null,
      "grid_auto_flow": null,
      "grid_auto_rows": null,
      "grid_column": null,
      "grid_gap": null,
      "grid_row": null,
      "grid_template_areas": null,
      "grid_template_columns": null,
      "grid_template_rows": null,
      "height": null,
      "justify_content": null,
      "justify_items": null,
      "left": null,
      "margin": null,
      "max_height": null,
      "max_width": null,
      "min_height": null,
      "min_width": null,
      "object_fit": null,
      "object_position": null,
      "order": null,
      "overflow": null,
      "overflow_x": null,
      "overflow_y": null,
      "padding": null,
      "right": null,
      "top": null,
      "visibility": null,
      "width": null
     }
    },
    "9462b14da1484c5f87f4ab593233f32a": {
     "model_module": "@jupyter-widgets/controls",
     "model_module_version": "1.5.0",
     "model_name": "FloatProgressModel",
     "state": {
      "_dom_classes": [],
      "_model_module": "@jupyter-widgets/controls",
      "_model_module_version": "1.5.0",
      "_model_name": "FloatProgressModel",
      "_view_count": null,
      "_view_module": "@jupyter-widgets/controls",
      "_view_module_version": "1.5.0",
      "_view_name": "ProgressView",
      "bar_style": "success",
      "description": "",
      "description_tooltip": null,
      "layout": "IPY_MODEL_6df5f4cdb38148c49618c603ac2fafe9",
      "max": 181258,
      "min": 0,
      "orientation": "horizontal",
      "style": "IPY_MODEL_1cb5fdd6d30847d4aba2fd549a1f266f",
      "value": 181258
     }
    },
    "948a1918cf0346f487bf75e30bfa0e2f": {
     "model_module": "@jupyter-widgets/controls",
     "model_module_version": "1.5.0",
     "model_name": "HTMLModel",
     "state": {
      "_dom_classes": [],
      "_model_module": "@jupyter-widgets/controls",
      "_model_module_version": "1.5.0",
      "_model_name": "HTMLModel",
      "_view_count": null,
      "_view_module": "@jupyter-widgets/controls",
      "_view_module_version": "1.5.0",
      "_view_name": "HTMLView",
      "description": "",
      "description_tooltip": null,
      "layout": "IPY_MODEL_746de3dc276346ad92ce7699c2d9ec4a",
      "placeholder": "​",
      "style": "IPY_MODEL_c4f2b72d5db74b1e8d30687f43ce6d84",
      "value": " 1.07G/1.07G [00:20&lt;00:00, 26.4MB/s]"
     }
    },
    "953655e8c2474b9597c931f3bdf08b6c": {
     "model_module": "@jupyter-widgets/base",
     "model_module_version": "1.2.0",
     "model_name": "LayoutModel",
     "state": {
      "_model_module": "@jupyter-widgets/base",
      "_model_module_version": "1.2.0",
      "_model_name": "LayoutModel",
      "_view_count": null,
      "_view_module": "@jupyter-widgets/base",
      "_view_module_version": "1.2.0",
      "_view_name": "LayoutView",
      "align_content": null,
      "align_items": null,
      "align_self": null,
      "border": null,
      "bottom": null,
      "display": null,
      "flex": null,
      "flex_flow": null,
      "grid_area": null,
      "grid_auto_columns": null,
      "grid_auto_flow": null,
      "grid_auto_rows": null,
      "grid_column": null,
      "grid_gap": null,
      "grid_row": null,
      "grid_template_areas": null,
      "grid_template_columns": null,
      "grid_template_rows": null,
      "height": null,
      "justify_content": null,
      "justify_items": null,
      "left": null,
      "margin": null,
      "max_height": null,
      "max_width": null,
      "min_height": null,
      "min_width": null,
      "object_fit": null,
      "object_position": null,
      "order": null,
      "overflow": null,
      "overflow_x": null,
      "overflow_y": null,
      "padding": null,
      "right": null,
      "top": null,
      "visibility": null,
      "width": null
     }
    },
    "9567ba98393c4a06aa9a50ef2a47027c": {
     "model_module": "@jupyter-widgets/base",
     "model_module_version": "1.2.0",
     "model_name": "LayoutModel",
     "state": {
      "_model_module": "@jupyter-widgets/base",
      "_model_module_version": "1.2.0",
      "_model_name": "LayoutModel",
      "_view_count": null,
      "_view_module": "@jupyter-widgets/base",
      "_view_module_version": "1.2.0",
      "_view_name": "LayoutView",
      "align_content": null,
      "align_items": null,
      "align_self": null,
      "border": null,
      "bottom": null,
      "display": null,
      "flex": null,
      "flex_flow": null,
      "grid_area": null,
      "grid_auto_columns": null,
      "grid_auto_flow": null,
      "grid_auto_rows": null,
      "grid_column": null,
      "grid_gap": null,
      "grid_row": null,
      "grid_template_areas": null,
      "grid_template_columns": null,
      "grid_template_rows": null,
      "height": null,
      "justify_content": null,
      "justify_items": null,
      "left": null,
      "margin": null,
      "max_height": null,
      "max_width": null,
      "min_height": null,
      "min_width": null,
      "object_fit": null,
      "object_position": null,
      "order": null,
      "overflow": null,
      "overflow_x": null,
      "overflow_y": null,
      "padding": null,
      "right": null,
      "top": null,
      "visibility": null,
      "width": null
     }
    },
    "9aa09ca4409c45a7a71ac052b31053fb": {
     "model_module": "@jupyter-widgets/base",
     "model_module_version": "1.2.0",
     "model_name": "LayoutModel",
     "state": {
      "_model_module": "@jupyter-widgets/base",
      "_model_module_version": "1.2.0",
      "_model_name": "LayoutModel",
      "_view_count": null,
      "_view_module": "@jupyter-widgets/base",
      "_view_module_version": "1.2.0",
      "_view_name": "LayoutView",
      "align_content": null,
      "align_items": null,
      "align_self": null,
      "border": null,
      "bottom": null,
      "display": null,
      "flex": null,
      "flex_flow": null,
      "grid_area": null,
      "grid_auto_columns": null,
      "grid_auto_flow": null,
      "grid_auto_rows": null,
      "grid_column": null,
      "grid_gap": null,
      "grid_row": null,
      "grid_template_areas": null,
      "grid_template_columns": null,
      "grid_template_rows": null,
      "height": null,
      "justify_content": null,
      "justify_items": null,
      "left": null,
      "margin": null,
      "max_height": null,
      "max_width": null,
      "min_height": null,
      "min_width": null,
      "object_fit": null,
      "object_position": null,
      "order": null,
      "overflow": null,
      "overflow_x": null,
      "overflow_y": null,
      "padding": null,
      "right": null,
      "top": null,
      "visibility": null,
      "width": null
     }
    },
    "9ba2d51194ae4cf99303967b6f720957": {
     "model_module": "@jupyter-widgets/controls",
     "model_module_version": "1.5.0",
     "model_name": "HTMLModel",
     "state": {
      "_dom_classes": [],
      "_model_module": "@jupyter-widgets/controls",
      "_model_module_version": "1.5.0",
      "_model_name": "HTMLModel",
      "_view_count": null,
      "_view_module": "@jupyter-widgets/controls",
      "_view_module_version": "1.5.0",
      "_view_name": "HTMLView",
      "description": "",
      "description_tooltip": null,
      "layout": "IPY_MODEL_724b4bccc93c48dd8747a43b4eb4f7a5",
      "placeholder": "​",
      "style": "IPY_MODEL_c87287ddc24c4911b4f081facdea403f",
      "value": "model-00004-of-00004.safetensors: 100%"
     }
    },
    "9ddefbf42fa14a7daf34f29fb5de5c33": {
     "model_module": "@jupyter-widgets/controls",
     "model_module_version": "1.5.0",
     "model_name": "HTMLModel",
     "state": {
      "_dom_classes": [],
      "_model_module": "@jupyter-widgets/controls",
      "_model_module_version": "1.5.0",
      "_model_name": "HTMLModel",
      "_view_count": null,
      "_view_module": "@jupyter-widgets/controls",
      "_view_module_version": "1.5.0",
      "_view_name": "HTMLView",
      "description": "",
      "description_tooltip": null,
      "layout": "IPY_MODEL_87631294bf2944a4b0a294d946703cc8",
      "placeholder": "​",
      "style": "IPY_MODEL_7cb42eeee84a4632af4d96d8e36afd22",
      "value": "tokenizer_config.json: 100%"
     }
    },
    "a0526773da1c49f1bce8f10771be8ae2": {
     "model_module": "@jupyter-widgets/controls",
     "model_module_version": "1.5.0",
     "model_name": "DescriptionStyleModel",
     "state": {
      "_model_module": "@jupyter-widgets/controls",
      "_model_module_version": "1.5.0",
      "_model_name": "DescriptionStyleModel",
      "_view_count": null,
      "_view_module": "@jupyter-widgets/base",
      "_view_module_version": "1.2.0",
      "_view_name": "StyleView",
      "description_width": ""
     }
    },
    "a2993bc9a6c34c5ab956cad4d85ebc5f": {
     "model_module": "@jupyter-widgets/controls",
     "model_module_version": "1.5.0",
     "model_name": "DescriptionStyleModel",
     "state": {
      "_model_module": "@jupyter-widgets/controls",
      "_model_module_version": "1.5.0",
      "_model_name": "DescriptionStyleModel",
      "_view_count": null,
      "_view_module": "@jupyter-widgets/base",
      "_view_module_version": "1.2.0",
      "_view_name": "StyleView",
      "description_width": ""
     }
    },
    "a4bd0c3955374789b2b1f32d7aa0f5e7": {
     "model_module": "@jupyter-widgets/controls",
     "model_module_version": "1.5.0",
     "model_name": "DescriptionStyleModel",
     "state": {
      "_model_module": "@jupyter-widgets/controls",
      "_model_module_version": "1.5.0",
      "_model_name": "DescriptionStyleModel",
      "_view_count": null,
      "_view_module": "@jupyter-widgets/base",
      "_view_module_version": "1.2.0",
      "_view_name": "StyleView",
      "description_width": ""
     }
    },
    "a4e1df43b194456bb152c784de003b62": {
     "model_module": "@jupyter-widgets/controls",
     "model_module_version": "1.5.0",
     "model_name": "DescriptionStyleModel",
     "state": {
      "_model_module": "@jupyter-widgets/controls",
      "_model_module_version": "1.5.0",
      "_model_name": "DescriptionStyleModel",
      "_view_count": null,
      "_view_module": "@jupyter-widgets/base",
      "_view_module_version": "1.2.0",
      "_view_name": "StyleView",
      "description_width": ""
     }
    },
    "a52d74f1e25f4003b1dca8104246d195": {
     "model_module": "@jupyter-widgets/controls",
     "model_module_version": "1.5.0",
     "model_name": "HBoxModel",
     "state": {
      "_dom_classes": [],
      "_model_module": "@jupyter-widgets/controls",
      "_model_module_version": "1.5.0",
      "_model_name": "HBoxModel",
      "_view_count": null,
      "_view_module": "@jupyter-widgets/controls",
      "_view_module_version": "1.5.0",
      "_view_name": "HBoxView",
      "box_style": "",
      "children": [
       "IPY_MODEL_25c6e61651c14d31b1ba8185f2c029c7",
       "IPY_MODEL_476690a3cf26499ab2968e2fed9fe157",
       "IPY_MODEL_30f8192a8f064557a1d9b00b6bbbbcb7"
      ],
      "layout": "IPY_MODEL_0d825ddf605b4f08b31cc01c0cc5370d"
     }
    },
    "a633c032291047b8becfaadd5971a06a": {
     "model_module": "@jupyter-widgets/base",
     "model_module_version": "1.2.0",
     "model_name": "LayoutModel",
     "state": {
      "_model_module": "@jupyter-widgets/base",
      "_model_module_version": "1.2.0",
      "_model_name": "LayoutModel",
      "_view_count": null,
      "_view_module": "@jupyter-widgets/base",
      "_view_module_version": "1.2.0",
      "_view_name": "LayoutView",
      "align_content": null,
      "align_items": null,
      "align_self": null,
      "border": null,
      "bottom": null,
      "display": null,
      "flex": null,
      "flex_flow": null,
      "grid_area": null,
      "grid_auto_columns": null,
      "grid_auto_flow": null,
      "grid_auto_rows": null,
      "grid_column": null,
      "grid_gap": null,
      "grid_row": null,
      "grid_template_areas": null,
      "grid_template_columns": null,
      "grid_template_rows": null,
      "height": null,
      "justify_content": null,
      "justify_items": null,
      "left": null,
      "margin": null,
      "max_height": null,
      "max_width": null,
      "min_height": null,
      "min_width": null,
      "object_fit": null,
      "object_position": null,
      "order": null,
      "overflow": null,
      "overflow_x": null,
      "overflow_y": null,
      "padding": null,
      "right": null,
      "top": null,
      "visibility": null,
      "width": null
     }
    },
    "a64ff1dd4c284959856d39615c78b08c": {
     "model_module": "@jupyter-widgets/controls",
     "model_module_version": "1.5.0",
     "model_name": "FloatProgressModel",
     "state": {
      "_dom_classes": [],
      "_model_module": "@jupyter-widgets/controls",
      "_model_module_version": "1.5.0",
      "_model_name": "FloatProgressModel",
      "_view_count": null,
      "_view_module": "@jupyter-widgets/controls",
      "_view_module_version": "1.5.0",
      "_view_name": "ProgressView",
      "bar_style": "success",
      "description": "",
      "description_tooltip": null,
      "layout": "IPY_MODEL_56edf93e85f041ec97f4d5043c261361",
      "max": 26922,
      "min": 0,
      "orientation": "horizontal",
      "style": "IPY_MODEL_3363512110ea4dd391d07ee0c5cdd1ef",
      "value": 26922
     }
    },
    "a85276917586483e83262d4e9324f197": {
     "model_module": "@jupyter-widgets/base",
     "model_module_version": "1.2.0",
     "model_name": "LayoutModel",
     "state": {
      "_model_module": "@jupyter-widgets/base",
      "_model_module_version": "1.2.0",
      "_model_name": "LayoutModel",
      "_view_count": null,
      "_view_module": "@jupyter-widgets/base",
      "_view_module_version": "1.2.0",
      "_view_name": "LayoutView",
      "align_content": null,
      "align_items": null,
      "align_self": null,
      "border": null,
      "bottom": null,
      "display": null,
      "flex": null,
      "flex_flow": null,
      "grid_area": null,
      "grid_auto_columns": null,
      "grid_auto_flow": null,
      "grid_auto_rows": null,
      "grid_column": null,
      "grid_gap": null,
      "grid_row": null,
      "grid_template_areas": null,
      "grid_template_columns": null,
      "grid_template_rows": null,
      "height": null,
      "justify_content": null,
      "justify_items": null,
      "left": null,
      "margin": null,
      "max_height": null,
      "max_width": null,
      "min_height": null,
      "min_width": null,
      "object_fit": null,
      "object_position": null,
      "order": null,
      "overflow": null,
      "overflow_x": null,
      "overflow_y": null,
      "padding": null,
      "right": null,
      "top": null,
      "visibility": null,
      "width": null
     }
    },
    "aac7ffb26b0b4f9fae4831799b452e73": {
     "model_module": "@jupyter-widgets/base",
     "model_module_version": "1.2.0",
     "model_name": "LayoutModel",
     "state": {
      "_model_module": "@jupyter-widgets/base",
      "_model_module_version": "1.2.0",
      "_model_name": "LayoutModel",
      "_view_count": null,
      "_view_module": "@jupyter-widgets/base",
      "_view_module_version": "1.2.0",
      "_view_name": "LayoutView",
      "align_content": null,
      "align_items": null,
      "align_self": null,
      "border": null,
      "bottom": null,
      "display": null,
      "flex": null,
      "flex_flow": null,
      "grid_area": null,
      "grid_auto_columns": null,
      "grid_auto_flow": null,
      "grid_auto_rows": null,
      "grid_column": null,
      "grid_gap": null,
      "grid_row": null,
      "grid_template_areas": null,
      "grid_template_columns": null,
      "grid_template_rows": null,
      "height": null,
      "justify_content": null,
      "justify_items": null,
      "left": null,
      "margin": null,
      "max_height": null,
      "max_width": null,
      "min_height": null,
      "min_width": null,
      "object_fit": null,
      "object_position": null,
      "order": null,
      "overflow": null,
      "overflow_x": null,
      "overflow_y": null,
      "padding": null,
      "right": null,
      "top": null,
      "visibility": null,
      "width": null
     }
    },
    "ac8c4d2eac4847dc8ffbe56ca4032a4d": {
     "model_module": "@jupyter-widgets/base",
     "model_module_version": "1.2.0",
     "model_name": "LayoutModel",
     "state": {
      "_model_module": "@jupyter-widgets/base",
      "_model_module_version": "1.2.0",
      "_model_name": "LayoutModel",
      "_view_count": null,
      "_view_module": "@jupyter-widgets/base",
      "_view_module_version": "1.2.0",
      "_view_name": "LayoutView",
      "align_content": null,
      "align_items": null,
      "align_self": null,
      "border": null,
      "bottom": null,
      "display": null,
      "flex": null,
      "flex_flow": null,
      "grid_area": null,
      "grid_auto_columns": null,
      "grid_auto_flow": null,
      "grid_auto_rows": null,
      "grid_column": null,
      "grid_gap": null,
      "grid_row": null,
      "grid_template_areas": null,
      "grid_template_columns": null,
      "grid_template_rows": null,
      "height": null,
      "justify_content": null,
      "justify_items": null,
      "left": null,
      "margin": null,
      "max_height": null,
      "max_width": null,
      "min_height": null,
      "min_width": null,
      "object_fit": null,
      "object_position": null,
      "order": null,
      "overflow": null,
      "overflow_x": null,
      "overflow_y": null,
      "padding": null,
      "right": null,
      "top": null,
      "visibility": null,
      "width": null
     }
    },
    "aff710e8beca454f9c8142c33f7dea42": {
     "model_module": "@jupyter-widgets/controls",
     "model_module_version": "1.5.0",
     "model_name": "HTMLModel",
     "state": {
      "_dom_classes": [],
      "_model_module": "@jupyter-widgets/controls",
      "_model_module_version": "1.5.0",
      "_model_name": "HTMLModel",
      "_view_count": null,
      "_view_module": "@jupyter-widgets/controls",
      "_view_module_version": "1.5.0",
      "_view_name": "HTMLView",
      "description": "",
      "description_tooltip": null,
      "layout": "IPY_MODEL_483785daa7744e798e50bd99f59e1aff",
      "placeholder": "​",
      "style": "IPY_MODEL_a4e1df43b194456bb152c784de003b62",
      "value": "tokenizer.json: 100%"
     }
    },
    "b736cfd494ab41f2be46bf26b4c05ba6": {
     "model_module": "@jupyter-widgets/controls",
     "model_module_version": "1.5.0",
     "model_name": "HBoxModel",
     "state": {
      "_dom_classes": [],
      "_model_module": "@jupyter-widgets/controls",
      "_model_module_version": "1.5.0",
      "_model_name": "HBoxModel",
      "_view_count": null,
      "_view_module": "@jupyter-widgets/controls",
      "_view_module_version": "1.5.0",
      "_view_name": "HBoxView",
      "box_style": "",
      "children": [
       "IPY_MODEL_076845754eb24023a42ec2a53b4c3534",
       "IPY_MODEL_5bddf95891a54cf8ba2e897945edf1f0",
       "IPY_MODEL_5b2b00f5d5ef44acb6874c63df87352d"
      ],
      "layout": "IPY_MODEL_8ec79d1563824112ac886988dd8e7702"
     }
    },
    "b804715a40df439a9557e0f9823073cc": {
     "model_module": "@jupyter-widgets/base",
     "model_module_version": "1.2.0",
     "model_name": "LayoutModel",
     "state": {
      "_model_module": "@jupyter-widgets/base",
      "_model_module_version": "1.2.0",
      "_model_name": "LayoutModel",
      "_view_count": null,
      "_view_module": "@jupyter-widgets/base",
      "_view_module_version": "1.2.0",
      "_view_name": "LayoutView",
      "align_content": null,
      "align_items": null,
      "align_self": null,
      "border": null,
      "bottom": null,
      "display": null,
      "flex": null,
      "flex_flow": null,
      "grid_area": null,
      "grid_auto_columns": null,
      "grid_auto_flow": null,
      "grid_auto_rows": null,
      "grid_column": null,
      "grid_gap": null,
      "grid_row": null,
      "grid_template_areas": null,
      "grid_template_columns": null,
      "grid_template_rows": null,
      "height": null,
      "justify_content": null,
      "justify_items": null,
      "left": null,
      "margin": null,
      "max_height": null,
      "max_width": null,
      "min_height": null,
      "min_width": null,
      "object_fit": null,
      "object_position": null,
      "order": null,
      "overflow": null,
      "overflow_x": null,
      "overflow_y": null,
      "padding": null,
      "right": null,
      "top": null,
      "visibility": null,
      "width": null
     }
    },
    "b91abf1f0f224da59fa2bcc050a79cd0": {
     "model_module": "@jupyter-widgets/controls",
     "model_module_version": "1.5.0",
     "model_name": "HBoxModel",
     "state": {
      "_dom_classes": [],
      "_model_module": "@jupyter-widgets/controls",
      "_model_module_version": "1.5.0",
      "_model_name": "HBoxModel",
      "_view_count": null,
      "_view_module": "@jupyter-widgets/controls",
      "_view_module_version": "1.5.0",
      "_view_name": "HBoxView",
      "box_style": "",
      "children": [
       "IPY_MODEL_520ce61656fd4a10ab26241c0518b26e",
       "IPY_MODEL_379a764bdc8747438415f66a6655b363",
       "IPY_MODEL_f80967d8e6574d0e880b9c14bae70537"
      ],
      "layout": "IPY_MODEL_5b498f3da9ab41be88a2b5575c74866b"
     }
    },
    "c4f2b72d5db74b1e8d30687f43ce6d84": {
     "model_module": "@jupyter-widgets/controls",
     "model_module_version": "1.5.0",
     "model_name": "DescriptionStyleModel",
     "state": {
      "_model_module": "@jupyter-widgets/controls",
      "_model_module_version": "1.5.0",
      "_model_name": "DescriptionStyleModel",
      "_view_count": null,
      "_view_module": "@jupyter-widgets/base",
      "_view_module_version": "1.2.0",
      "_view_name": "StyleView",
      "description_width": ""
     }
    },
    "c6fbd7fa37584a96be738ddada0fe099": {
     "model_module": "@jupyter-widgets/base",
     "model_module_version": "1.2.0",
     "model_name": "LayoutModel",
     "state": {
      "_model_module": "@jupyter-widgets/base",
      "_model_module_version": "1.2.0",
      "_model_name": "LayoutModel",
      "_view_count": null,
      "_view_module": "@jupyter-widgets/base",
      "_view_module_version": "1.2.0",
      "_view_name": "LayoutView",
      "align_content": null,
      "align_items": null,
      "align_self": null,
      "border": null,
      "bottom": null,
      "display": null,
      "flex": null,
      "flex_flow": null,
      "grid_area": null,
      "grid_auto_columns": null,
      "grid_auto_flow": null,
      "grid_auto_rows": null,
      "grid_column": null,
      "grid_gap": null,
      "grid_row": null,
      "grid_template_areas": null,
      "grid_template_columns": null,
      "grid_template_rows": null,
      "height": null,
      "justify_content": null,
      "justify_items": null,
      "left": null,
      "margin": null,
      "max_height": null,
      "max_width": null,
      "min_height": null,
      "min_width": null,
      "object_fit": null,
      "object_position": null,
      "order": null,
      "overflow": null,
      "overflow_x": null,
      "overflow_y": null,
      "padding": null,
      "right": null,
      "top": null,
      "visibility": null,
      "width": null
     }
    },
    "c87287ddc24c4911b4f081facdea403f": {
     "model_module": "@jupyter-widgets/controls",
     "model_module_version": "1.5.0",
     "model_name": "DescriptionStyleModel",
     "state": {
      "_model_module": "@jupyter-widgets/controls",
      "_model_module_version": "1.5.0",
      "_model_name": "DescriptionStyleModel",
      "_view_count": null,
      "_view_module": "@jupyter-widgets/base",
      "_view_module_version": "1.2.0",
      "_view_name": "StyleView",
      "description_width": ""
     }
    },
    "c902f6c08c394435919d881d14411b27": {
     "model_module": "@jupyter-widgets/base",
     "model_module_version": "1.2.0",
     "model_name": "LayoutModel",
     "state": {
      "_model_module": "@jupyter-widgets/base",
      "_model_module_version": "1.2.0",
      "_model_name": "LayoutModel",
      "_view_count": null,
      "_view_module": "@jupyter-widgets/base",
      "_view_module_version": "1.2.0",
      "_view_name": "LayoutView",
      "align_content": null,
      "align_items": null,
      "align_self": null,
      "border": null,
      "bottom": null,
      "display": null,
      "flex": null,
      "flex_flow": null,
      "grid_area": null,
      "grid_auto_columns": null,
      "grid_auto_flow": null,
      "grid_auto_rows": null,
      "grid_column": null,
      "grid_gap": null,
      "grid_row": null,
      "grid_template_areas": null,
      "grid_template_columns": null,
      "grid_template_rows": null,
      "height": null,
      "justify_content": null,
      "justify_items": null,
      "left": null,
      "margin": null,
      "max_height": null,
      "max_width": null,
      "min_height": null,
      "min_width": null,
      "object_fit": null,
      "object_position": null,
      "order": null,
      "overflow": null,
      "overflow_x": null,
      "overflow_y": null,
      "padding": null,
      "right": null,
      "top": null,
      "visibility": null,
      "width": null
     }
    },
    "ce4a28b9b048498b8c9aa9eccb184802": {
     "model_module": "@jupyter-widgets/base",
     "model_module_version": "1.2.0",
     "model_name": "LayoutModel",
     "state": {
      "_model_module": "@jupyter-widgets/base",
      "_model_module_version": "1.2.0",
      "_model_name": "LayoutModel",
      "_view_count": null,
      "_view_module": "@jupyter-widgets/base",
      "_view_module_version": "1.2.0",
      "_view_name": "LayoutView",
      "align_content": null,
      "align_items": null,
      "align_self": null,
      "border": null,
      "bottom": null,
      "display": null,
      "flex": null,
      "flex_flow": null,
      "grid_area": null,
      "grid_auto_columns": null,
      "grid_auto_flow": null,
      "grid_auto_rows": null,
      "grid_column": null,
      "grid_gap": null,
      "grid_row": null,
      "grid_template_areas": null,
      "grid_template_columns": null,
      "grid_template_rows": null,
      "height": null,
      "justify_content": null,
      "justify_items": null,
      "left": null,
      "margin": null,
      "max_height": null,
      "max_width": null,
      "min_height": null,
      "min_width": null,
      "object_fit": null,
      "object_position": null,
      "order": null,
      "overflow": null,
      "overflow_x": null,
      "overflow_y": null,
      "padding": null,
      "right": null,
      "top": null,
      "visibility": null,
      "width": null
     }
    },
    "d2225cc796fc4f89940101f0306e2481": {
     "model_module": "@jupyter-widgets/controls",
     "model_module_version": "1.5.0",
     "model_name": "HTMLModel",
     "state": {
      "_dom_classes": [],
      "_model_module": "@jupyter-widgets/controls",
      "_model_module_version": "1.5.0",
      "_model_name": "HTMLModel",
      "_view_count": null,
      "_view_module": "@jupyter-widgets/controls",
      "_view_module_version": "1.5.0",
      "_view_name": "HTMLView",
      "description": "",
      "description_tooltip": null,
      "layout": "IPY_MODEL_ce4a28b9b048498b8c9aa9eccb184802",
      "placeholder": "​",
      "style": "IPY_MODEL_437fbb1a58b847af9295f37921f88f6c",
      "value": "Loading checkpoint shards: 100%"
     }
    },
    "d636cad47e6b4e20882a894a8565df58": {
     "model_module": "@jupyter-widgets/base",
     "model_module_version": "1.2.0",
     "model_name": "LayoutModel",
     "state": {
      "_model_module": "@jupyter-widgets/base",
      "_model_module_version": "1.2.0",
      "_model_name": "LayoutModel",
      "_view_count": null,
      "_view_module": "@jupyter-widgets/base",
      "_view_module_version": "1.2.0",
      "_view_name": "LayoutView",
      "align_content": null,
      "align_items": null,
      "align_self": null,
      "border": null,
      "bottom": null,
      "display": null,
      "flex": null,
      "flex_flow": null,
      "grid_area": null,
      "grid_auto_columns": null,
      "grid_auto_flow": null,
      "grid_auto_rows": null,
      "grid_column": null,
      "grid_gap": null,
      "grid_row": null,
      "grid_template_areas": null,
      "grid_template_columns": null,
      "grid_template_rows": null,
      "height": null,
      "justify_content": null,
      "justify_items": null,
      "left": null,
      "margin": null,
      "max_height": null,
      "max_width": null,
      "min_height": null,
      "min_width": null,
      "object_fit": null,
      "object_position": null,
      "order": null,
      "overflow": null,
      "overflow_x": null,
      "overflow_y": null,
      "padding": null,
      "right": null,
      "top": null,
      "visibility": null,
      "width": null
     }
    },
    "d755895c09ef4261bea0543cf3bf1c62": {
     "model_module": "@jupyter-widgets/base",
     "model_module_version": "1.2.0",
     "model_name": "LayoutModel",
     "state": {
      "_model_module": "@jupyter-widgets/base",
      "_model_module_version": "1.2.0",
      "_model_name": "LayoutModel",
      "_view_count": null,
      "_view_module": "@jupyter-widgets/base",
      "_view_module_version": "1.2.0",
      "_view_name": "LayoutView",
      "align_content": null,
      "align_items": null,
      "align_self": null,
      "border": null,
      "bottom": null,
      "display": null,
      "flex": null,
      "flex_flow": null,
      "grid_area": null,
      "grid_auto_columns": null,
      "grid_auto_flow": null,
      "grid_auto_rows": null,
      "grid_column": null,
      "grid_gap": null,
      "grid_row": null,
      "grid_template_areas": null,
      "grid_template_columns": null,
      "grid_template_rows": null,
      "height": null,
      "justify_content": null,
      "justify_items": null,
      "left": null,
      "margin": null,
      "max_height": null,
      "max_width": null,
      "min_height": null,
      "min_width": null,
      "object_fit": null,
      "object_position": null,
      "order": null,
      "overflow": null,
      "overflow_x": null,
      "overflow_y": null,
      "padding": null,
      "right": null,
      "top": null,
      "visibility": null,
      "width": null
     }
    },
    "dad153ba77db40f0a81f7968630ffbf8": {
     "model_module": "@jupyter-widgets/controls",
     "model_module_version": "1.5.0",
     "model_name": "DescriptionStyleModel",
     "state": {
      "_model_module": "@jupyter-widgets/controls",
      "_model_module_version": "1.5.0",
      "_model_name": "DescriptionStyleModel",
      "_view_count": null,
      "_view_module": "@jupyter-widgets/base",
      "_view_module_version": "1.2.0",
      "_view_name": "StyleView",
      "description_width": ""
     }
    },
    "de0a321662b244a9b7169249145cfba0": {
     "model_module": "@jupyter-widgets/base",
     "model_module_version": "1.2.0",
     "model_name": "LayoutModel",
     "state": {
      "_model_module": "@jupyter-widgets/base",
      "_model_module_version": "1.2.0",
      "_model_name": "LayoutModel",
      "_view_count": null,
      "_view_module": "@jupyter-widgets/base",
      "_view_module_version": "1.2.0",
      "_view_name": "LayoutView",
      "align_content": null,
      "align_items": null,
      "align_self": null,
      "border": null,
      "bottom": null,
      "display": null,
      "flex": null,
      "flex_flow": null,
      "grid_area": null,
      "grid_auto_columns": null,
      "grid_auto_flow": null,
      "grid_auto_rows": null,
      "grid_column": null,
      "grid_gap": null,
      "grid_row": null,
      "grid_template_areas": null,
      "grid_template_columns": null,
      "grid_template_rows": null,
      "height": null,
      "justify_content": null,
      "justify_items": null,
      "left": null,
      "margin": null,
      "max_height": null,
      "max_width": null,
      "min_height": null,
      "min_width": null,
      "object_fit": null,
      "object_position": null,
      "order": null,
      "overflow": null,
      "overflow_x": null,
      "overflow_y": null,
      "padding": null,
      "right": null,
      "top": null,
      "visibility": null,
      "width": null
     }
    },
    "de31fab5127f4befa70f659e568c558d": {
     "model_module": "@jupyter-widgets/controls",
     "model_module_version": "1.5.0",
     "model_name": "HTMLModel",
     "state": {
      "_dom_classes": [],
      "_model_module": "@jupyter-widgets/controls",
      "_model_module_version": "1.5.0",
      "_model_name": "HTMLModel",
      "_view_count": null,
      "_view_module": "@jupyter-widgets/controls",
      "_view_module_version": "1.5.0",
      "_view_name": "HTMLView",
      "description": "",
      "description_tooltip": null,
      "layout": "IPY_MODEL_152df4516fc74ff0a5a9ddbeadaa7f89",
      "placeholder": "​",
      "style": "IPY_MODEL_a0526773da1c49f1bce8f10771be8ae2",
      "value": " 181k/181k [00:00&lt;00:00, 2.64MB/s]"
     }
    },
    "e024d7a4c4584e2ebf165217bdeea7ab": {
     "model_module": "@jupyter-widgets/base",
     "model_module_version": "1.2.0",
     "model_name": "LayoutModel",
     "state": {
      "_model_module": "@jupyter-widgets/base",
      "_model_module_version": "1.2.0",
      "_model_name": "LayoutModel",
      "_view_count": null,
      "_view_module": "@jupyter-widgets/base",
      "_view_module_version": "1.2.0",
      "_view_name": "LayoutView",
      "align_content": null,
      "align_items": null,
      "align_self": null,
      "border": null,
      "bottom": null,
      "display": null,
      "flex": null,
      "flex_flow": null,
      "grid_area": null,
      "grid_auto_columns": null,
      "grid_auto_flow": null,
      "grid_auto_rows": null,
      "grid_column": null,
      "grid_gap": null,
      "grid_row": null,
      "grid_template_areas": null,
      "grid_template_columns": null,
      "grid_template_rows": null,
      "height": null,
      "justify_content": null,
      "justify_items": null,
      "left": null,
      "margin": null,
      "max_height": null,
      "max_width": null,
      "min_height": null,
      "min_width": null,
      "object_fit": null,
      "object_position": null,
      "order": null,
      "overflow": null,
      "overflow_x": null,
      "overflow_y": null,
      "padding": null,
      "right": null,
      "top": null,
      "visibility": null,
      "width": null
     }
    },
    "e37047e10aa647baba6f61e0ce9232e1": {
     "model_module": "@jupyter-widgets/controls",
     "model_module_version": "1.5.0",
     "model_name": "ProgressStyleModel",
     "state": {
      "_model_module": "@jupyter-widgets/controls",
      "_model_module_version": "1.5.0",
      "_model_name": "ProgressStyleModel",
      "_view_count": null,
      "_view_module": "@jupyter-widgets/base",
      "_view_module_version": "1.2.0",
      "_view_name": "StyleView",
      "bar_color": null,
      "description_width": ""
     }
    },
    "e6321dca07c0497e8bda41c912d34a14": {
     "model_module": "@jupyter-widgets/base",
     "model_module_version": "1.2.0",
     "model_name": "LayoutModel",
     "state": {
      "_model_module": "@jupyter-widgets/base",
      "_model_module_version": "1.2.0",
      "_model_name": "LayoutModel",
      "_view_count": null,
      "_view_module": "@jupyter-widgets/base",
      "_view_module_version": "1.2.0",
      "_view_name": "LayoutView",
      "align_content": null,
      "align_items": null,
      "align_self": null,
      "border": null,
      "bottom": null,
      "display": null,
      "flex": null,
      "flex_flow": null,
      "grid_area": null,
      "grid_auto_columns": null,
      "grid_auto_flow": null,
      "grid_auto_rows": null,
      "grid_column": null,
      "grid_gap": null,
      "grid_row": null,
      "grid_template_areas": null,
      "grid_template_columns": null,
      "grid_template_rows": null,
      "height": null,
      "justify_content": null,
      "justify_items": null,
      "left": null,
      "margin": null,
      "max_height": null,
      "max_width": null,
      "min_height": null,
      "min_width": null,
      "object_fit": null,
      "object_position": null,
      "order": null,
      "overflow": null,
      "overflow_x": null,
      "overflow_y": null,
      "padding": null,
      "right": null,
      "top": null,
      "visibility": null,
      "width": null
     }
    },
    "ec252760cb8e4079b77ad21c3f7b0c93": {
     "model_module": "@jupyter-widgets/controls",
     "model_module_version": "1.5.0",
     "model_name": "HTMLModel",
     "state": {
      "_dom_classes": [],
      "_model_module": "@jupyter-widgets/controls",
      "_model_module_version": "1.5.0",
      "_model_name": "HTMLModel",
      "_view_count": null,
      "_view_module": "@jupyter-widgets/controls",
      "_view_module_version": "1.5.0",
      "_view_name": "HTMLView",
      "description": "",
      "description_tooltip": null,
      "layout": "IPY_MODEL_940fd8caad594a4ba633eaa6dcac1013",
      "placeholder": "​",
      "style": "IPY_MODEL_fd28fe5c69fd4d41a87134f4484fa035",
      "value": " 116/116 [00:00&lt;00:00, 6.74kB/s]"
     }
    },
    "f0cc0de804374477a7bd49b29bee989d": {
     "model_module": "@jupyter-widgets/base",
     "model_module_version": "1.2.0",
     "model_name": "LayoutModel",
     "state": {
      "_model_module": "@jupyter-widgets/base",
      "_model_module_version": "1.2.0",
      "_model_name": "LayoutModel",
      "_view_count": null,
      "_view_module": "@jupyter-widgets/base",
      "_view_module_version": "1.2.0",
      "_view_name": "LayoutView",
      "align_content": null,
      "align_items": null,
      "align_self": null,
      "border": null,
      "bottom": null,
      "display": null,
      "flex": null,
      "flex_flow": null,
      "grid_area": null,
      "grid_auto_columns": null,
      "grid_auto_flow": null,
      "grid_auto_rows": null,
      "grid_column": null,
      "grid_gap": null,
      "grid_row": null,
      "grid_template_areas": null,
      "grid_template_columns": null,
      "grid_template_rows": null,
      "height": null,
      "justify_content": null,
      "justify_items": null,
      "left": null,
      "margin": null,
      "max_height": null,
      "max_width": null,
      "min_height": null,
      "min_width": null,
      "object_fit": null,
      "object_position": null,
      "order": null,
      "overflow": null,
      "overflow_x": null,
      "overflow_y": null,
      "padding": null,
      "right": null,
      "top": null,
      "visibility": null,
      "width": null
     }
    },
    "f76392bac58a439ba063571f41fc67ab": {
     "model_module": "@jupyter-widgets/controls",
     "model_module_version": "1.5.0",
     "model_name": "HTMLModel",
     "state": {
      "_dom_classes": [],
      "_model_module": "@jupyter-widgets/controls",
      "_model_module_version": "1.5.0",
      "_model_name": "HTMLModel",
      "_view_count": null,
      "_view_module": "@jupyter-widgets/controls",
      "_view_module_version": "1.5.0",
      "_view_name": "HTMLView",
      "description": "",
      "description_tooltip": null,
      "layout": "IPY_MODEL_e024d7a4c4584e2ebf165217bdeea7ab",
      "placeholder": "​",
      "style": "IPY_MODEL_798ee4b6343e4e88928782bc18c932c6",
      "value": "special_tokens_map.json: 100%"
     }
    },
    "f80967d8e6574d0e880b9c14bae70537": {
     "model_module": "@jupyter-widgets/controls",
     "model_module_version": "1.5.0",
     "model_name": "HTMLModel",
     "state": {
      "_dom_classes": [],
      "_model_module": "@jupyter-widgets/controls",
      "_model_module_version": "1.5.0",
      "_model_name": "HTMLModel",
      "_view_count": null,
      "_view_module": "@jupyter-widgets/controls",
      "_view_module_version": "1.5.0",
      "_view_name": "HTMLView",
      "description": "",
      "description_tooltip": null,
      "layout": "IPY_MODEL_4396d35133674eda9dbeb033fde931e4",
      "placeholder": "​",
      "style": "IPY_MODEL_554d55befbc74c3ea15d3f7f4710c6f1",
      "value": " 4.98G/4.98G [00:58&lt;00:00, 26.9MB/s]"
     }
    },
    "f9d8edbea3754338bbadb7df346971c0": {
     "model_module": "@jupyter-widgets/controls",
     "model_module_version": "1.5.0",
     "model_name": "ProgressStyleModel",
     "state": {
      "_model_module": "@jupyter-widgets/controls",
      "_model_module_version": "1.5.0",
      "_model_name": "ProgressStyleModel",
      "_view_count": null,
      "_view_module": "@jupyter-widgets/base",
      "_view_module_version": "1.2.0",
      "_view_name": "StyleView",
      "bar_color": null,
      "description_width": ""
     }
    },
    "fd28fe5c69fd4d41a87134f4484fa035": {
     "model_module": "@jupyter-widgets/controls",
     "model_module_version": "1.5.0",
     "model_name": "DescriptionStyleModel",
     "state": {
      "_model_module": "@jupyter-widgets/controls",
      "_model_module_version": "1.5.0",
      "_model_name": "DescriptionStyleModel",
      "_view_count": null,
      "_view_module": "@jupyter-widgets/base",
      "_view_module_version": "1.2.0",
      "_view_name": "StyleView",
      "description_width": ""
     }
    },
    "fe40ba4b63654c15b18f6dbd4b3a6c49": {
     "model_module": "@jupyter-widgets/controls",
     "model_module_version": "1.5.0",
     "model_name": "HTMLModel",
     "state": {
      "_dom_classes": [],
      "_model_module": "@jupyter-widgets/controls",
      "_model_module_version": "1.5.0",
      "_model_name": "HTMLModel",
      "_view_count": null,
      "_view_module": "@jupyter-widgets/controls",
      "_view_module_version": "1.5.0",
      "_view_name": "HTMLView",
      "description": "",
      "description_tooltip": null,
      "layout": "IPY_MODEL_01d876a2b3c84d6ca3a98299b946c159",
      "placeholder": "​",
      "style": "IPY_MODEL_0bfa7e7f4fba42e2a1641f7b3c653498",
      "value": " 5.00G/5.00G [01:01&lt;00:00, 107MB/s]"
     }
    }
   }
  }
 },
 "nbformat": 4,
 "nbformat_minor": 5
}
