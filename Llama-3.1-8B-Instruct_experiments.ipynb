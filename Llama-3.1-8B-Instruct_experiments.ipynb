{
 "cells": [
  {
   "cell_type": "markdown",
   "id": "edTMfHLDYyLD",
   "metadata": {
    "id": "edTMfHLDYyLD"
   },
   "source": [
    "# Datasets"
   ]
  },
  {
   "cell_type": "code",
   "execution_count": null,
   "id": "nG1ib945YxUD",
   "metadata": {
    "colab": {
     "base_uri": "https://localhost:8080/"
    },
    "executionInfo": {
     "elapsed": 28208,
     "status": "ok",
     "timestamp": 1739399218199,
     "user": {
      "displayName": "PABLO FONSECA",
      "userId": "08072571061568482593"
     },
     "user_tz": 180
    },
    "id": "nG1ib945YxUD",
    "outputId": "8e40e5e9-9646-4351-b825-c22d6521df98"
   },
   "outputs": [],
   "source": [
    "import os\n",
    "import json\n",
    "import pandas as pd\n",
    "from google.colab import drive\n",
    "drive.mount(\"/content/drive/\")\n",
    "\n",
    "DATASET_DIR = os.path.join(\"/content/drive/MyDrive/TCC/workspace/datasets\")\n",
    "RESULTS_DIR =  os.path.join(\"/content/drive/MyDrive/TCC/workspace/experiments/results\")\n"
   ]
  },
  {
   "cell_type": "code",
   "execution_count": null,
   "id": "G5HqF_St6Htx",
   "metadata": {
    "id": "G5HqF_St6Htx"
   },
   "outputs": [],
   "source": [
    "fakebrcorpus_full = pd.read_csv(f\"{DATASET_DIR}/Fakebr/full_text_fakebrcorpus.csv\")\n",
    "liar_full = pd.read_csv(f'{DATASET_DIR}/LIAR/liar_train.csv')"
   ]
  },
  {
   "cell_type": "markdown",
   "id": "zO4ThlBqqs-P",
   "metadata": {
    "id": "zO4ThlBqqs-P"
   },
   "source": [
    "# Setup\n",
    "- Install packages\n",
    "- Load model"
   ]
  },
  {
   "cell_type": "code",
   "execution_count": null,
   "id": "mSGY5-AG5T4M",
   "metadata": {
    "colab": {
     "base_uri": "https://localhost:8080/"
    },
    "executionInfo": {
     "elapsed": 307,
     "status": "ok",
     "timestamp": 1738338580510,
     "user": {
      "displayName": "PABLO FONSECA",
      "userId": "08072571061568482593"
     },
     "user_tz": 180
    },
    "id": "mSGY5-AG5T4M",
    "outputId": "d5af4e6c-0de3-43f7-ed7c-648c6f7290f0"
   },
   "outputs": [],
   "source": [
    "!python --version"
   ]
  },
  {
   "cell_type": "code",
   "execution_count": null,
   "id": "ssEez18I9FyS",
   "metadata": {
    "colab": {
     "base_uri": "https://localhost:8080/",
     "height": 1000
    },
    "collapsed": true,
    "executionInfo": {
     "elapsed": 105877,
     "status": "ok",
     "timestamp": 1738338686749,
     "user": {
      "displayName": "PABLO FONSECA",
      "userId": "08072571061568482593"
     },
     "user_tz": 180
    },
    "id": "ssEez18I9FyS",
    "outputId": "989b3dfb-16c9-4687-bf0b-331d2589f32f"
   },
   "outputs": [],
   "source": [
    "!pip install unsloth==2025.1.1\n",
    "!pip install pyarrow==17.0.0\n",
    "!pip install transformers==4.47.1\n",
    "!pip install torch==2.5.1"
   ]
  },
  {
   "cell_type": "code",
   "execution_count": null,
   "id": "4rLIfAv23zEk",
   "metadata": {
    "colab": {
     "base_uri": "https://localhost:8080/"
    },
    "executionInfo": {
     "elapsed": 6697,
     "status": "ok",
     "timestamp": 1738338693438,
     "user": {
      "displayName": "PABLO FONSECA",
      "userId": "08072571061568482593"
     },
     "user_tz": 180
    },
    "id": "4rLIfAv23zEk",
    "outputId": "3666db0c-fdc9-4d9b-ddeb-d1ddad2e3ffc"
   },
   "outputs": [
    {
     "data": {
      "text/plain": [
       "True"
      ]
     },
     "execution_count": 5,
     "metadata": {},
     "output_type": "execute_result"
    }
   ],
   "source": [
    "import torch\n",
    "torch.cuda.is_available()"
   ]
  },
  {
   "cell_type": "code",
   "execution_count": null,
   "id": "3HEk2v73SIcJ",
   "metadata": {
    "colab": {
     "base_uri": "https://localhost:8080/",
     "height": 535,
     "referenced_widgets": [
      "a54c392e04ec4739a46e94cd79f44986",
      "d09ef9dabb9d48b2b4c4c5c66ea391ee",
      "3717e5588613407d9db040488542eb51",
      "16759389a8724550a5861bbe7ce1c73e",
      "8805465295c74b5ca25bc1ce4a624ebe",
      "fed355979fb94feca157aea9d1b20f42",
      "ddf56777186e4e84b287bad4cc1c792f",
      "521d513da42b49cc9fbbc8712f3a87e1",
      "e542f6ed280a4fd4ac6b1422d9bcaf28",
      "6d73cb28291d414aa3bc9898a3d222f1",
      "b97c6b03f6db49d5876f41af68715d11",
      "e18e88b13ba04c859c1a96fba215b75e",
      "82b6e52d14924440adaeb8ec345feeef",
      "263056fc164b4147802f935da1808236",
      "7604907baa9f420680ae9df7ffcdd2cb",
      "0cb57a9340ae4652881c1634a8795f89",
      "5c514231cef04d0f8d8ba55839292cb2",
      "aedd6e19fc2d4e75b7cfa202d069080e",
      "bf36a9b1e2134d099354676cc10313fb",
      "ca43011e71e540fa9865f7d5772b565b",
      "90a66f7520324a14aa2b4f775058c954",
      "bb1d5322c63e49e4b693938f9f6311a0",
      "8f31eee865584e8aa592ad6b6b904f6b",
      "ebdfe4a66be34b9b8e3c11817367676d",
      "82e9eaabf65546eca9baa9b14e9b84af",
      "1c1b229f856e4c2cb600366785ffce33",
      "5064069227c54cd1af82f60e05368bc6",
      "a67c642e977741949efd7d1cc319c9a3",
      "61b19c98fcc84953a0250ad4aa12e274",
      "56af00cbf6fe430d90fb89a5dc6484da",
      "5a1af5851caf4535b7207113722cdbf0",
      "006408da5552414eb2f333929ea64edb",
      "d87a56b2f57e49cc82a4efd000635e28",
      "b723dbf05f5b4071a80dae2d529fa16e",
      "49215ac050aa47ec94fdd7c4fb183452",
      "41a76823c73b40d2a989165493de6d8c",
      "f24ae528b0cf464eab0fbf8df5ae8a69",
      "f4e0067ff5db451a84488c39fdada6b0",
      "f6f1438955c7441eb0a90c5f8ec62739",
      "c9f4b5e5e109486f97a951acbc032665",
      "bf45cf7d5bb14fc48bfdb59ee7bee523",
      "274b245d33dd4dee81ddb726148ea670",
      "849cc884dd6d4aafad11136d3d767bb0",
      "d636c0b46166445997e33a3e8ac208d6",
      "0cfd4c3372f342e78c33e7422932cbb2",
      "a04528060c8843ac8a55ab6e7bae31c5",
      "5011a6b2dc3a408fbb4804afcab4b4fe",
      "42862958f22d45e3949bde72d55465bb",
      "26c59f91b20544a6a549fe4896b4609d",
      "0288202eb71f436cbc7387c4aecfe3cf",
      "7e3e10a6c7e747f2a616e73c66ed6b71",
      "6efe741b51804af5b2d42062bf46b11c",
      "26605e3c5b1846699a532a97c828e195",
      "5982056f501047028bf53db10c301269",
      "294506b6ee09483eba8306ae1e963846",
      "7459575dd500452fa1b03d4c93365973",
      "11678579aeff4873aea20da0545fcbb5",
      "b0995366af0f483a9ad542fe2f6cad44",
      "080265933d134e21a1d181af3159e9b1",
      "84acf01584ce4dc9a61d25592853583f",
      "597f5e3193794951aa214c997d9b1cf1",
      "f5ec4cc0f4894b6dbd739ade69c53ce9",
      "43f26260ce6a4720a3bb433ed7489d5e",
      "b637205c7fe2434dbb130cf3c8031b2a",
      "d0f980e126ad4df4a0e1e73431f6f0f9",
      "a185eaccc6fe46b9a3d1629286af7daa",
      "349df95ed68b459681354f371d7b349e",
      "298b37bc9d4141ed9483a5122ec9f674",
      "f6086f18ecbd4f3ca5048d86bff894ff",
      "751f4526c3af42e6a795bd375576cd5b",
      "3cd9cc16db074a84954046f88c99f346",
      "8fa5672264d04d45803183b611b5b4d3",
      "f24628bcf4d64ecda5d6f208c497b1c8",
      "8323f5ae5842441cb48b8fb89ff79843",
      "aed6698fcb76414cb79d6f52c32b8442",
      "25c77bf060d147b4bb8c34496fc6b21a",
      "8e8228dd88c04f649ab189099f3b5820",
      "254e8dbf570342e0942f05555549ce0c",
      "c8c9296fbebb42b4888525b27c5d3850",
      "c8aaa491968a4ce4bc22bbb09aa30b5f",
      "a7ddd27458dd473987f6d1f476b23dae",
      "1bcb802dd90f4215a9a1e3715f41afde",
      "b42a7e9dd7f7457b9c3fccbc719750cf",
      "6c7bab54737d4362a62a6f772530808b",
      "979d69bdfe22441d80a4c04a5ae3cedb",
      "377666cc649442ffa72d84c5c8839d9e",
      "062ab601f12c486088a5c0fb4552ea87",
      "96a20fb7bdc54390a39129492e9873fc",
      "161e27cfc8874e738aaa62623bca5dd7",
      "6d807b7e85424bc79c6eb2877041f57a",
      "9b7d22703bc14525be9b4089d5713f64",
      "eaaececf3be9407c9987ce0f8573e434",
      "99e0b69564ea4174af704261a7982c89",
      "9079429a84464fa4aa6233a98007c72f",
      "dedf079b49924364b38fae07f0847d58",
      "e63b38309447428da5fbb0180bf01a59",
      "575ea1aa4fdf4bf48559b5bb1e1f97fa",
      "e37276312c4a4a0eb43366fdbe8f111d",
      "51a1d4201e1641bfba6d2be5fe391241",
      "d22b088e8aeb4a5aac0d6fc886d19f67",
      "59526feb59bf4a13910960c13d1b0730",
      "e1d8f943e0494494ac2fe9658eb1593f",
      "0a4e1597ff714e9abc458ae4685e89ee",
      "a12d4b0abe944b7eb38cff66c79a9581",
      "23baa4d92708446da1a129776c9eba86",
      "8276f1ed8a4b45ff8c61631ab80498f1",
      "075b80dc8d4340f6a9a8d61e6885bea7",
      "df79135f6f8d4367b0f9d307c3b1cd9a",
      "42e81a880fea49c48489529bcc056944",
      "31837f6c398f43f7afffb9f9a978b018",
      "45d48fc77c6343ce8b06f52b7a07fe7b",
      "31da38878dfe446ab029da7acb7d19e0",
      "5e62aff05c7545108a09858d2d816122",
      "56a893cb44a74d448620d116e240d525",
      "b7ef55c1ff8445678fbd4b1c442e218f",
      "4be04b11cf4e40039c5326de95869609",
      "81736e60329e43d0a6899e6f5e62c9c5",
      "f96f4361b6be45ef908086e52aaa9c08",
      "b54b54a29f1d4824bb36dcbeb686b5cb",
      "c497adea0f7d4e35a02c8f5e10753adb",
      "45edf212ea7442f4864cde2fd6187003"
     ]
    },
    "executionInfo": {
     "elapsed": 299908,
     "status": "ok",
     "timestamp": 1738338994393,
     "user": {
      "displayName": "PABLO FONSECA",
      "userId": "08072571061568482593"
     },
     "user_tz": 180
    },
    "id": "3HEk2v73SIcJ",
    "outputId": "ceb11710-0753-4ced-ca03-1e52bcc941b6"
   },
   "outputs": [],
   "source": [
    "from unsloth import FastLanguageModel\n",
    "\n",
    "base_model_id = \"meta-llama/Llama-3.1-8B-Instruct\"\n",
    "max_seq_length = 4096\n",
    "dtype = None\n",
    "load_in_4bit = True\n",
    "device_map = \"auto\"\n",
    "\n",
    "model, tokenizer = FastLanguageModel.from_pretrained(\n",
    "    model_name=base_model_id,\n",
    "    max_seq_length=max_seq_length,\n",
    "    dtype=dtype,\n",
    "    load_in_4bit=load_in_4bit,\n",
    "    device_map=device_map,\n",
    ")\n"
   ]
  },
  {
   "cell_type": "markdown",
   "id": "-5XMVS6_q3YE",
   "metadata": {
    "id": "-5XMVS6_q3YE"
   },
   "source": [
    "# Functions"
   ]
  },
  {
   "cell_type": "code",
   "execution_count": null,
   "id": "hpO3399kRYgA",
   "metadata": {
    "id": "hpO3399kRYgA"
   },
   "outputs": [],
   "source": [
    "import re\n",
    "import matplotlib.pyplot as plt\n",
    "from sklearn.metrics import confusion_matrix, accuracy_score, precision_score, recall_score, f1_score\n",
    "from sklearn.metrics import ConfusionMatrixDisplay\n",
    "\n",
    "\n",
    "REGEX_EXPLANATION = r\"(Explanation|Explicação):\\s*\\**(.*)\"\n",
    "REGEX_ANSWER_EN = r\"\\**(Answer)\\**:\\**\\s*\\[?(\\d+)\\]?\"\n",
    "REGEX_ANSWER_PT = r\"\\**(Resposta|Avaliação)\\**:\\**\\s*\\[?(\\d+)\\]?\"\n",
    "REGEX_0_EXCEPTION = r\"N/A|0/1|[?]\"\n",
    "REGEX_1_EXCEPTION = r\"1/1\"\n",
    "REGEX_ANSWER_EXCEPTION = r\"(Answer|Resposta):\"\n",
    "\n",
    "def plot(confusion_matrix, title):\n",
    "  disp = ConfusionMatrixDisplay(confusion_matrix=confusion_matrix, display_labels=[\"Fake News\", \"True News\"])\n",
    "  disp.plot()\n",
    "  plt.title(title)\n",
    "  plt.show()\n",
    "\n",
    "\n",
    "def evaluate_assistant_answer(true_labels, predicted_labels):\n",
    "    y_true = list(true_labels['label'])\n",
    "    y_pred = list(predicted_labels['label'])\n",
    "\n",
    "    cm = confusion_matrix(y_true, y_pred, labels=[0,1], normalize='true')\n",
    "\n",
    "    # TP = cm[0, 0]  # True Positives\n",
    "    # FN = cm[0, 1]  # False Negatives\n",
    "    # FP = cm[1, 0]  # False Positives\n",
    "    # TN = cm[1, 1]  # True Negatives\n",
    "\n",
    "    # # Accuracy: (TP + TN) / Total\n",
    "    # accuracy = (TP + TN) / (TP + TN + FP + FN)\n",
    "\n",
    "    # # Precision: TP / (TP + FP)\n",
    "    # precision = TP / (TP + FP) if (TP + FP) != 0 else 0\n",
    "\n",
    "    # # Recall: TP / (TP + FN)\n",
    "    # recall = TP / (TP + FN) if (TP + FN) != 0 else 0\n",
    "\n",
    "    # # F1-Score: 2 * (Precision * Recall) / (Precision + Recall)\n",
    "    # f1 = 2 * (precision * recall) / (precision + recall) if (precision + recall) != 0 else 0\n",
    "\n",
    "    accuracy = accuracy_score(y_true, y_pred)\n",
    "\n",
    "   # 0 = Fake news. Using pos_label=0, we're telling that the class of the interesse is 0 (fake news), then the \"positive\" values is Fake news\n",
    "    precision_f = precision_score(y_true, y_pred, pos_label=0)\n",
    "    recall_f = recall_score(y_true, y_pred, pos_label=0)\n",
    "    f1_f = f1_score(y_true, y_pred, pos_label=0)\n",
    "\n",
    "    precision_t = precision_score(y_true, y_pred, pos_label=1)\n",
    "    recall_t = recall_score(y_true, y_pred, pos_label=1)\n",
    "    f1_t = f1_score(y_true, y_pred, pos_label=1)\n",
    "\n",
    "    f1_micro = f1_score(y_true, y_pred, average='micro')\n",
    "    f1_macro = f1_score(y_true, y_pred, average='macro')\n",
    "\n",
    "    metrics = {\n",
    "        \"accuracy\": round(accuracy,4),\n",
    "        \"precision_f\": round(precision_f,4),\n",
    "        \"recall_f\": round(recall_f,4),\n",
    "        \"f1_f\": round(f1_f,4),\n",
    "        \"precision_t\": round(precision_t,4),\n",
    "        \"recall_t\": round(recall_t,4),\n",
    "        \"f1_t\": round(f1_t,4),\n",
    "        \"f1_micro\": round(f1_micro,4),\n",
    "        \"f1_macro\": round(f1_macro,4)\n",
    "\n",
    "    }\n",
    "\n",
    "    return cm, metrics\n",
    "\n",
    "def get_results_df(outputs):\n",
    "    results_df = pd.DataFrame(columns=[\"label\", \"explanation\", \"output\"])\n",
    "    outputs = list(outputs[\"output\"])\n",
    "    for i, out in enumerate(outputs):\n",
    "      explanation_out = re.search(REGEX_EXPLANATION, out)\n",
    "      explanation =  explanation_out.group(2) if explanation_out else \"Model couln't give a explanation or answer.\"\n",
    "\n",
    "      answer_out = re.search(REGEX_ANSWER_EN, out) or re.search(REGEX_ANSWER_PT, out)\n",
    "      if answer_out:\n",
    "        answer = int(answer_out.group(2))\n",
    "      elif re.search(REGEX_0_EXCEPTION, out):\n",
    "        answer = 0\n",
    "      elif re.search(REGEX_1_EXCEPTION, out):\n",
    "        answer = 1\n",
    "      elif not re.search(REGEX_ANSWER_EXCEPTION, out):\n",
    "        answer = 0\n",
    "      else:\n",
    "          raise Exception(f\"ANSWER PROBLEM FOUND IN CLAIM {i+2}:\\n {out} \")\n",
    "\n",
    "\n",
    "      new_row = [answer, explanation, out]\n",
    "      results_df.loc[len(results_df)] = new_row\n",
    "\n",
    "    return results_df"
   ]
  },
  {
   "cell_type": "code",
   "execution_count": null,
   "id": "SGlMZhcDlgL7",
   "metadata": {
    "id": "SGlMZhcDlgL7"
   },
   "outputs": [],
   "source": [
    "import pandas as pd\n",
    "import re\n",
    "\n",
    "import numpy as np\n",
    "from transformers import TextStreamer, TextIteratorStreamer\n",
    "from sklearn.metrics import confusion_matrix, accuracy_score, precision_score, recall_score, f1_score\n",
    "from sklearn.metrics import ConfusionMatrixDisplay\n",
    "\n",
    "\n",
    "REGEX_EXPLANATION = r\"(Explanation|Explicação):\\s*\\**(.*)\"\n",
    "REGEX_ANSWER_EN = r\"\\**(Answer)\\**:\\**\\s*\\[?(\\d+)\\]?\"\n",
    "REGEX_ANSWER_PT = r\"\\**(Resposta|Avaliação)\\**:\\**\\s*(\\d+)\"\n",
    "REGEX_0_EXCEPTION = r\"N/A|0/1\"\n",
    "REGEX_1_EXCEPTION = r\"1/1\"\n",
    "REGEX_ANSWER_EXCEPTION = r\"(Answer|Resposta):\"\n",
    "\n",
    "VANILLA_PROMPT = {\n",
    "\"en_US\": '''Instructions: Analyze and judge if the claim is true or false.\n",
    "Claim: {search_text}\n",
    "Please provide your evaluation of the claim based on the following format:\n",
    "Explanation: [Explain why you make this judgement.]\n",
    "Answer: [0/1] (0 if this claim is false or 1 if this claim is true)\n",
    "Remember to fill in all required fields based on your judgement. You must and can only choose one answer from 1 or 0.''',\n",
    "\"pt_BR\": '''Instruções: Analise e julgue se a notícia é verdadeira ou falsa.\n",
    "Notícia: {search_text}\n",
    "Forneça sua avaliação da notícia com base no seguinte formato:\n",
    "Explicação: [Explique por que você fez esse julgamento.]\n",
    "Resposta: [0/1] (0 se esta notícia for falsa ou 1 se esta notícia for verdadeira)\n",
    "Lembre-se de preencher todos os campos obrigatórios com base no seu julgamento. Você deve e só pode escolher uma resposta entre 1 ou 0.'''\n",
    "}\n",
    "\n",
    "\n",
    "class Model:\n",
    "  def __init__(self, model, tokenizer, system_prompt=\"You are a helpful assistant\"):\n",
    "      self.model = model\n",
    "      self.tokenizer = tokenizer\n",
    "      self.max_new_tokens = 4096\n",
    "      self.system_prompt = system_prompt\n",
    "      self.messages_base = {\"role\": \"system\", \"content\": system_prompt}\n",
    "      self.terminators = [self.tokenizer.eos_token_id, self.tokenizer.convert_tokens_to_ids(\"<|eot_id|>\")]\n",
    "\n",
    "\n",
    "  def generate_message(self, messages):\n",
    "      chat = [self.messages_base, messages]\n",
    "\n",
    "      input_ids = self.tokenizer.apply_chat_template(\n",
    "          chat,\n",
    "          add_generation_prompt=True,\n",
    "          return_tensors=\"pt\"\n",
    "      ).to(self.model.device)\n",
    "\n",
    "      outputs = self.model.generate(\n",
    "          input_ids,\n",
    "          max_new_tokens=self.max_new_tokens,\n",
    "          eos_token_id=self.terminators,\n",
    "          pad_token_id=self.tokenizer.eos_token_id,\n",
    "          do_sample=False,\n",
    "          temperature=0.1,\n",
    "          top_p=0.75,\n",
    "          use_cache=True,\n",
    "          streamer=TextIteratorStreamer(self.tokenizer),\n",
    "      )\n",
    "\n",
    "      response = outputs[0][input_ids.shape[-1]:]\n",
    "      return self.tokenizer.decode(response, skip_special_tokens=True)\n",
    "\n",
    "\n",
    "  def set_for_inference(self):\n",
    "      FastLanguageModel.for_inference(self.model)\n",
    "\n",
    "\n",
    "def run_experiments(agent, dataset, language):\n",
    "    claims = list(dataset[\"text\"])\n",
    "    results = []\n",
    "\n",
    "    print(f\"Total of claims to classify: {len(claims)}\")\n",
    "    print(f\"{VANILLA_PROMPT[language]}\\n\")\n",
    "    for i, claim in enumerate(claims):\n",
    "      print(f\"Running claim number [{i+1}]: {claim}\")\n",
    "      prompt = VANILLA_PROMPT[language].format(search_text=claim)\n",
    "      messages = {\"role\": \"user\", \"content\": prompt}\n",
    "      output = agent.generate_message(messages)\n",
    "\n",
    "      results.append({\"output\": output})\n",
    "\n",
    "    return results\n",
    "\n",
    "def get_results_df(outputs):\n",
    "    results_df = pd.DataFrame(columns=[\"label\", \"explanation\", \"output\"])\n",
    "    outputs = list(outputs[\"output\"])\n",
    "    for i, out in enumerate(outputs):\n",
    "      explanation_out = re.search(REGEX_EXPLANATION, out)\n",
    "      explanation =  explanation_out.group(2) if explanation_out else \"Model couln't give a explanation or answer.\"\n",
    "\n",
    "      answer_out = re.search(REGEX_ANSWER_EN, out) or re.search(REGEX_ANSWER_PT, out)\n",
    "      if answer_out:\n",
    "        answer = int(answer_out.group(2))\n",
    "      elif re.search(REGEX_0_EXCEPTION, out):\n",
    "        answer = 0\n",
    "      elif re.search(REGEX_1_EXCEPTION, out):\n",
    "        answer = 1\n",
    "      elif not re.search(REGEX_ANSWER_EXCEPTION, out):\n",
    "        answer = 0\n",
    "      else:\n",
    "          raise Exception(f\"ANSWER PROBLEM FOUND IN CLAIM {i+2}:\\n {out} \")\n",
    "\n",
    "\n",
    "      new_row = [answer, explanation, out]\n",
    "      results_df.loc[len(results_df)] = new_row\n",
    "\n",
    "    return results_df"
   ]
  },
  {
   "cell_type": "markdown",
   "id": "FJuAFCa-q_96",
   "metadata": {
    "id": "FJuAFCa-q_96"
   },
   "source": [
    "# Experiments"
   ]
  },
  {
   "cell_type": "markdown",
   "id": "-NpWnitanUhL",
   "metadata": {
    "id": "-NpWnitanUhL"
   },
   "source": [
    "## en_US"
   ]
  },
  {
   "cell_type": "code",
   "execution_count": null,
   "id": "mEHV3C7JkalV",
   "metadata": {
    "colab": {
     "base_uri": "https://localhost:8080/"
    },
    "executionInfo": {
     "elapsed": 3,
     "status": "ok",
     "timestamp": 1738117671078,
     "user": {
      "displayName": "Pablo Weslley",
      "userId": "13204540486827778511"
     },
     "user_tz": 180
    },
    "id": "mEHV3C7JkalV",
    "outputId": "55002c1b-c223-47c5-fd2e-06532a62d01a"
   },
   "outputs": [],
   "source": [
    "SYSTEM_PROMPT = \"You are an assistant specialized in analyzing and identifying fake or true news.\"\n",
    "agent = Model(model, tokenizer, SYSTEM_PROMPT)\n",
    "agent.set_for_inference()\n",
    "agent.max_new_tokens"
   ]
  },
  {
   "cell_type": "markdown",
   "id": "xyNQGxO0VlCH",
   "metadata": {
    "id": "xyNQGxO0VlCH"
   },
   "source": [
    "### 0 - 1000 (DONE)"
   ]
  },
  {
   "cell_type": "code",
   "execution_count": null,
   "id": "AL9zLXmE5D5r",
   "metadata": {
    "colab": {
     "base_uri": "https://localhost:8080/"
    },
    "executionInfo": {
     "elapsed": 11418320,
     "status": "ok",
     "timestamp": 1737952547736,
     "user": {
      "displayName": "Pablo Weslley",
      "userId": "01590026520414852215"
     },
     "user_tz": 180
    },
    "id": "AL9zLXmE5D5r",
    "outputId": "f61def79-7466-4802-ea10-39d12857695a"
   },
   "outputs": [],
   "source": [
    "outputs = run_experiments(agent, liar_full[:1000], \"en_US\")\n",
    "raw_df = pd.DataFrame.from_records(outputs, columns=[\"output\"])\n",
    "raw_df.to_csv(os.path.join(RESULTS_DIR, \"raw_enUS_LLaMA_0_1000.csv\"))"
   ]
  },
  {
   "cell_type": "markdown",
   "id": "EIJTR2duVuFX",
   "metadata": {
    "id": "EIJTR2duVuFX"
   },
   "source": [
    "### 1000 - 2000 (DONE)"
   ]
  },
  {
   "cell_type": "code",
   "execution_count": null,
   "id": "8F7ieaQ2Vtnv",
   "metadata": {
    "colab": {
     "base_uri": "https://localhost:8080/"
    },
    "executionInfo": {
     "elapsed": 9981581,
     "status": "ok",
     "timestamp": 1738017404523,
     "user": {
      "displayName": "Pablo Weslley",
      "userId": "01590026520414852215"
     },
     "user_tz": 180
    },
    "id": "8F7ieaQ2Vtnv",
    "outputId": "5115da8d-bd1f-4554-be14-75a6b3d58171"
   },
   "outputs": [],
   "source": [
    "outputs = run_experiments(agent, liar_full[1000:2000], \"en_US\")\n",
    "raw_df = pd.DataFrame.from_records(outputs, columns=[\"output\"])\n",
    "raw_df.to_csv(os.path.join(RESULTS_DIR, \"raw_enUS_LLaMA_1000_2000.csv\"))"
   ]
  },
  {
   "cell_type": "markdown",
   "id": "Qcifm33HWH5u",
   "metadata": {
    "id": "Qcifm33HWH5u"
   },
   "source": [
    "### 2000 - 3000 (DONE)"
   ]
  },
  {
   "cell_type": "code",
   "execution_count": null,
   "id": "fsrZz_t1WM5P",
   "metadata": {
    "colab": {
     "base_uri": "https://localhost:8080/"
    },
    "collapsed": true,
    "executionInfo": {
     "elapsed": 4535237,
     "status": "ok",
     "timestamp": 1738103316989,
     "user": {
      "displayName": "Pablo Weslley",
      "userId": "13204540486827778511"
     },
     "user_tz": 180
    },
    "id": "fsrZz_t1WM5P",
    "outputId": "dc0de49e-003f-4e39-f7f5-8284a11477a1"
   },
   "outputs": [],
   "source": [
    "outputs = run_experiments(agent, liar_full[2000:2500], \"en_US\")\n",
    "raw_df = pd.DataFrame.from_records(outputs, columns=[\"output\"])\n",
    "raw_df.to_csv(os.path.join(RESULTS_DIR, \"raw_enUS_LLaMA_2000_2500.csv\"))"
   ]
  },
  {
   "cell_type": "code",
   "execution_count": null,
   "id": "3Ksx2jM9HzZp",
   "metadata": {
    "colab": {
     "base_uri": "https://localhost:8080/"
    },
    "collapsed": true,
    "executionInfo": {
     "elapsed": 5617766,
     "status": "ok",
     "timestamp": 1738110512932,
     "user": {
      "displayName": "Pablo Weslley",
      "userId": "13204540486827778511"
     },
     "user_tz": 180
    },
    "id": "3Ksx2jM9HzZp",
    "outputId": "8599f25a-b881-4bc4-b419-5bf3323f48c2"
   },
   "outputs": [],
   "source": [
    "outputs = run_experiments(agent, liar_full[2500:3000], \"en_US\")\n",
    "raw_df = pd.DataFrame.from_records(outputs, columns=[\"output\"])\n",
    "raw_df.to_csv(os.path.join(RESULTS_DIR, \"raw_enUS_LLaMA_2500_3000.csv\"))"
   ]
  },
  {
   "cell_type": "markdown",
   "id": "Xc3YEic0Wd2f",
   "metadata": {
    "id": "Xc3YEic0Wd2f"
   },
   "source": [
    "### 3000 - 4000 (DONE)"
   ]
  },
  {
   "cell_type": "code",
   "execution_count": null,
   "id": "dHu8NALAWdc_",
   "metadata": {
    "colab": {
     "base_uri": "https://localhost:8080/"
    },
    "executionInfo": {
     "elapsed": 5402918,
     "status": "ok",
     "timestamp": 1738123175811,
     "user": {
      "displayName": "Pablo Weslley",
      "userId": "13204540486827778511"
     },
     "user_tz": 180
    },
    "id": "dHu8NALAWdc_",
    "outputId": "a273ead4-9d89-4c6e-ce9b-a7789060deb6"
   },
   "outputs": [],
   "source": [
    "outputs = run_experiments(agent, liar_full[3000:3500], \"en_US\")\n",
    "raw_df = pd.DataFrame.from_records(outputs, columns=[\"output\"])\n",
    "raw_df.to_csv(os.path.join(RESULTS_DIR, \"raw_enUS_LLaMA_3000_3500.csv\"))"
   ]
  },
  {
   "cell_type": "code",
   "execution_count": null,
   "id": "D8X-l90D2oSP",
   "metadata": {
    "colab": {
     "base_uri": "https://localhost:8080/"
    },
    "executionInfo": {
     "elapsed": 6711965,
     "status": "ok",
     "timestamp": 1738129887769,
     "user": {
      "displayName": "Pablo Weslley",
      "userId": "13204540486827778511"
     },
     "user_tz": 180
    },
    "id": "D8X-l90D2oSP",
    "outputId": "2e8e649d-833f-4cac-904a-9834b7db8d31"
   },
   "outputs": [],
   "source": [
    "outputs = run_experiments(agent, liar_full[3500:4000], \"en_US\")\n",
    "raw_df = pd.DataFrame.from_records(outputs, columns=[\"output\"])\n",
    "raw_df.to_csv(os.path.join(RESULTS_DIR, \"raw_enUS_LLaMA_3500_4000.csv\"))"
   ]
  },
  {
   "cell_type": "markdown",
   "id": "pnLnwQPpWOsg",
   "metadata": {
    "id": "pnLnwQPpWOsg"
   },
   "source": [
    "### 4000 - 5000 (DONE)"
   ]
  },
  {
   "cell_type": "code",
   "execution_count": null,
   "id": "mQwWisVJWN-I",
   "metadata": {
    "colab": {
     "base_uri": "https://localhost:8080/"
    },
    "executionInfo": {
     "elapsed": 5183390,
     "status": "ok",
     "timestamp": 1738135072139,
     "user": {
      "displayName": "Pablo Weslley",
      "userId": "13204540486827778511"
     },
     "user_tz": 180
    },
    "id": "mQwWisVJWN-I",
    "outputId": "04ce1630-9dc6-495b-cb7d-9899efc54c52"
   },
   "outputs": [],
   "source": [
    "outputs = run_experiments(agent, liar_full[4000:4500], \"en_US\")\n",
    "raw_df = pd.DataFrame.from_records(outputs, columns=[\"output\"])\n",
    "raw_df.to_csv(os.path.join(RESULTS_DIR, \"raw_enUS_LLaMA_4000_4500.csv\"))"
   ]
  },
  {
   "cell_type": "code",
   "execution_count": null,
   "id": "QDKjtsbtmNGj",
   "metadata": {
    "colab": {
     "base_uri": "https://localhost:8080/"
    },
    "executionInfo": {
     "elapsed": 4950071,
     "status": "ok",
     "timestamp": 1738140022205,
     "user": {
      "displayName": "Pablo Weslley",
      "userId": "13204540486827778511"
     },
     "user_tz": 180
    },
    "id": "QDKjtsbtmNGj",
    "outputId": "c32f90cb-a0aa-4e2a-e1a6-22e023eec405"
   },
   "outputs": [],
   "source": [
    "outputs = run_experiments(agent, liar_full[4500:5000], \"en_US\")\n",
    "raw_df = pd.DataFrame.from_records(outputs, columns=[\"output\"])\n",
    "raw_df.to_csv(os.path.join(RESULTS_DIR, \"raw_enUS_LLaMA_4500_5000.csv\"))"
   ]
  },
  {
   "cell_type": "markdown",
   "id": "vhwGQ3P9WaV2",
   "metadata": {
    "id": "vhwGQ3P9WaV2"
   },
   "source": [
    "### 5000 - 6000 (DONE)"
   ]
  },
  {
   "cell_type": "code",
   "execution_count": null,
   "id": "ULVleN1EWaV2",
   "metadata": {
    "colab": {
     "base_uri": "https://localhost:8080/"
    },
    "executionInfo": {
     "elapsed": 5119329,
     "status": "ok",
     "timestamp": 1738145141519,
     "user": {
      "displayName": "Pablo Weslley",
      "userId": "13204540486827778511"
     },
     "user_tz": 180
    },
    "id": "ULVleN1EWaV2",
    "outputId": "57ed68b6-9511-4c28-e342-727b38ed8bf8"
   },
   "outputs": [],
   "source": [
    "outputs = run_experiments(agent, liar_full[5000:5500], \"en_US\")\n",
    "raw_df = pd.DataFrame.from_records(outputs, columns=[\"output\"])\n",
    "raw_df.to_csv(os.path.join(RESULTS_DIR, \"raw_enUS_LLaMA_5000_5500.csv\"))"
   ]
  },
  {
   "cell_type": "code",
   "execution_count": null,
   "id": "H2vtw3R3mVhu",
   "metadata": {
    "colab": {
     "base_uri": "https://localhost:8080/"
    },
    "executionInfo": {
     "elapsed": 4496465,
     "status": "ok",
     "timestamp": 1738149637978,
     "user": {
      "displayName": "Pablo Weslley",
      "userId": "13204540486827778511"
     },
     "user_tz": 180
    },
    "id": "H2vtw3R3mVhu",
    "outputId": "d0546401-b485-4799-f8b7-ef02e19386f9"
   },
   "outputs": [],
   "source": [
    "outputs = run_experiments(agent, liar_full[5500:6000], \"en_US\")\n",
    "raw_df = pd.DataFrame.from_records(outputs, columns=[\"output\"])\n",
    "raw_df.to_csv(os.path.join(RESULTS_DIR, \"raw_enUS_LLaMA_5500_6000.csv\"))"
   ]
  },
  {
   "cell_type": "markdown",
   "id": "3tLj7OEgW2-O",
   "metadata": {
    "id": "3tLj7OEgW2-O"
   },
   "source": [
    "### 6000 - 7342 (DONE)"
   ]
  },
  {
   "cell_type": "code",
   "execution_count": null,
   "id": "36gI16nNW6CH",
   "metadata": {
    "colab": {
     "base_uri": "https://localhost:8080/"
    },
    "executionInfo": {
     "elapsed": 5679831,
     "status": "ok",
     "timestamp": 1738155317794,
     "user": {
      "displayName": "Pablo Weslley",
      "userId": "13204540486827778511"
     },
     "user_tz": 180
    },
    "id": "36gI16nNW6CH",
    "outputId": "6bb001ef-4a58-4f4a-c743-f97c18f0d76c"
   },
   "outputs": [],
   "source": [
    "outputs = run_experiments(agent, liar_full[6000:6500], \"en_US\")\n",
    "raw_df = pd.DataFrame.from_records(outputs, columns=[\"output\"])\n",
    "raw_df.to_csv(os.path.join(RESULTS_DIR, \"raw_enUS_LLaMA_6000_6500.csv\"))"
   ]
  },
  {
   "cell_type": "code",
   "execution_count": null,
   "id": "QZSQN2p3mko_",
   "metadata": {
    "colab": {
     "base_uri": "https://localhost:8080/"
    },
    "executionInfo": {
     "elapsed": 8939284,
     "status": "ok",
     "timestamp": 1738164257072,
     "user": {
      "displayName": "Pablo Weslley",
      "userId": "13204540486827778511"
     },
     "user_tz": 180
    },
    "id": "QZSQN2p3mko_",
    "outputId": "91986f14-b174-4edc-c0c0-0e9c95221991"
   },
   "outputs": [],
   "source": [
    "outputs = run_experiments(agent, liar_full[6500:], \"en_US\")\n",
    "raw_df = pd.DataFrame.from_records(outputs, columns=[\"output\"])\n",
    "raw_df.to_csv(os.path.join(RESULTS_DIR, \"raw_enUS_LLaMA_6500_7342.csv\"))"
   ]
  },
  {
   "cell_type": "markdown",
   "id": "sBVucNQtn_yD",
   "metadata": {
    "id": "sBVucNQtn_yD"
   },
   "source": [
    "### full results"
   ]
  },
  {
   "cell_type": "code",
   "execution_count": null,
   "id": "D1kJoPfyDAZM",
   "metadata": {
    "id": "D1kJoPfyDAZM"
   },
   "outputs": [],
   "source": [
    "enUS_0_1000    = pd.read_csv(os.path.join(RESULTS_DIR, \"raw_enUS_LLaMA_0_1000.csv\"), index_col=False)[\"output\"]\n",
    "enUS_1000_2000    = pd.read_csv(os.path.join(RESULTS_DIR, \"raw_enUS_LLaMA_1000_2000.csv\"), index_col=False)[\"output\"]\n",
    "enUS_2000_2500 = pd.read_csv(os.path.join(RESULTS_DIR, \"raw_enUS_LLaMA_2000_2500.csv\"), index_col=False)[\"output\"]\n",
    "enUS_2500_3000 = pd.read_csv(os.path.join(RESULTS_DIR, \"raw_enUS_LLaMA_2500_3000.csv\"), index_col=False)[\"output\"]\n",
    "enUS_3000_3500 = pd.read_csv(os.path.join(RESULTS_DIR, \"raw_enUS_LLaMA_3000_3500.csv\"), index_col=False)[\"output\"]\n",
    "enUS_3500_4000 = pd.read_csv(os.path.join(RESULTS_DIR, \"raw_enUS_LLaMA_3500_4000.csv\"), index_col=False)[\"output\"]\n",
    "enUS_4000_4500 = pd.read_csv(os.path.join(RESULTS_DIR, \"raw_enUS_LLaMA_4000_4500.csv\"), index_col=False)[\"output\"]\n",
    "enUS_4500_5000 = pd.read_csv(os.path.join(RESULTS_DIR, \"raw_enUS_LLaMA_4500_5000.csv\"), index_col=False)[\"output\"]\n",
    "enUS_5000_5500 = pd.read_csv(os.path.join(RESULTS_DIR, \"raw_enUS_LLaMA_5000_5500.csv\"), index_col=False)[\"output\"]\n",
    "enUS_5500_6000 = pd.read_csv(os.path.join(RESULTS_DIR, \"raw_enUS_LLaMA_5500_6000.csv\"), index_col=False)[\"output\"]\n",
    "enUS_6000_6500 = pd.read_csv(os.path.join(RESULTS_DIR, \"raw_enUS_LLaMA_6000_6500.csv\"), index_col=False)[\"output\"]\n",
    "enUS_6500_7342 = pd.read_csv(os.path.join(RESULTS_DIR, \"raw_enUS_LLaMA_6500_7342.csv\"), index_col=False)[\"output\"]\n",
    "\n",
    "enUS_full = pd.concat([enUS_0_1000,enUS_1000_2000,enUS_2000_2500,enUS_2500_3000,\n",
    "                       enUS_3000_3500,enUS_3500_4000,enUS_4000_4500,enUS_4500_5000,enUS_5000_5500,enUS_5500_6000,\n",
    "                       enUS_6000_6500,enUS_6500_7342])\n",
    "\n",
    "enUS_full.to_csv(os.path.join(RESULTS_DIR, \"raw_enUS_LLaMA_full.csv\"), index=False)"
   ]
  },
  {
   "cell_type": "code",
   "execution_count": null,
   "id": "tXhcaFPkDAZM",
   "metadata": {
    "colab": {
     "base_uri": "https://localhost:8080/",
     "height": 424
    },
    "executionInfo": {
     "elapsed": 2383,
     "status": "ok",
     "timestamp": 1739399233905,
     "user": {
      "displayName": "PABLO FONSECA",
      "userId": "08072571061568482593"
     },
     "user_tz": 180
    },
    "id": "tXhcaFPkDAZM",
    "outputId": "aa043f45-764e-4ff8-ab39-300f20f82302"
   },
   "outputs": [],
   "source": [
    "enUS_full = pd.read_csv(os.path.join(RESULTS_DIR, \"raw_enUS_LLaMA_full.csv\"))\n",
    "enUS_full"
   ]
  },
  {
   "cell_type": "code",
   "execution_count": null,
   "id": "BtMYY4dUDAZM",
   "metadata": {
    "id": "BtMYY4dUDAZM"
   },
   "outputs": [],
   "source": [
    "results_enUS_df = get_results_df(enUS_full)"
   ]
  },
  {
   "cell_type": "code",
   "execution_count": null,
   "id": "8FXwAhjEJO3V",
   "metadata": {
    "colab": {
     "base_uri": "https://localhost:8080/",
     "height": 424
    },
    "executionInfo": {
     "elapsed": 440,
     "status": "ok",
     "timestamp": 1739399317511,
     "user": {
      "displayName": "PABLO FONSECA",
      "userId": "08072571061568482593"
     },
     "user_tz": 180
    },
    "id": "8FXwAhjEJO3V",
    "outputId": "a5188249-881f-4052-aef5-d87c15c41736"
   },
   "outputs": [],
   "source": [
    "results_enUS_df"
   ]
  },
  {
   "cell_type": "code",
   "execution_count": null,
   "id": "bq9IsFp5DAZN",
   "metadata": {
    "colab": {
     "base_uri": "https://localhost:8080/"
    },
    "executionInfo": {
     "elapsed": 385,
     "status": "ok",
     "timestamp": 1739399320695,
     "user": {
      "displayName": "PABLO FONSECA",
      "userId": "08072571061568482593"
     },
     "user_tz": 180
    },
    "id": "bq9IsFp5DAZN",
    "outputId": "b33307ee-6eeb-4036-aad8-9c540fdc0c77"
   },
   "outputs": [],
   "source": [
    "cm, metrics = evaluate_assistant_answer(liar_full, results_enUS_df)\n",
    "cm, metrics"
   ]
  },
  {
   "cell_type": "code",
   "execution_count": null,
   "id": "oX6ZUDXpDAZN",
   "metadata": {
    "colab": {
     "base_uri": "https://localhost:8080/",
     "height": 472
    },
    "executionInfo": {
     "elapsed": 319,
     "status": "ok",
     "timestamp": 1738382531334,
     "user": {
      "displayName": "Pablo Weslley Silva da Fonseca",
      "userId": "08454828087730091057"
     },
     "user_tz": 180
    },
    "id": "oX6ZUDXpDAZN",
    "outputId": "9e533d54-8f83-4939-832d-2af41e9879c5"
   },
   "outputs": [],
   "source": [
    "plot(cm, \"LLaMA-3.1-8B-Instruct\")"
   ]
  },
  {
   "cell_type": "markdown",
   "id": "oq21T-mbnWth",
   "metadata": {
    "id": "oq21T-mbnWth"
   },
   "source": [
    "## pt_BR"
   ]
  },
  {
   "cell_type": "code",
   "execution_count": null,
   "id": "PFhZaGyL-k6h",
   "metadata": {
    "colab": {
     "base_uri": "https://localhost:8080/"
    },
    "executionInfo": {
     "elapsed": 351,
     "status": "ok",
     "timestamp": 1738324865143,
     "user": {
      "displayName": "Pablo Weslley",
      "userId": "01590026520414852215"
     },
     "user_tz": 180
    },
    "id": "PFhZaGyL-k6h",
    "outputId": "eb01260d-b377-4d9f-801b-9b373c6f2f57"
   },
   "outputs": [
    {
     "data": {
      "text/plain": [
       "2048"
      ]
     },
     "execution_count": 21,
     "metadata": {},
     "output_type": "execute_result"
    }
   ],
   "source": [
    "SYSTEM_PROMPT = \"Você é um assistente especializado em analisar e identificar notícias falsas ou verdadeiras.\"\n",
    "agent = Model(model, tokenizer, SYSTEM_PROMPT)\n",
    "agent.set_for_inference()\n",
    "agent.max_new_tokens"
   ]
  },
  {
   "cell_type": "code",
   "execution_count": null,
   "id": "QZVCWGWJ_1P2",
   "metadata": {
    "colab": {
     "base_uri": "https://localhost:8080/",
     "height": 91
    },
    "executionInfo": {
     "elapsed": 12616,
     "status": "ok",
     "timestamp": 1738324882144,
     "user": {
      "displayName": "Pablo Weslley",
      "userId": "01590026520414852215"
     },
     "user_tz": 180
    },
    "id": "QZVCWGWJ_1P2",
    "outputId": "a7d0dc3b-1278-4c85-b55e-40438a8aa450"
   },
   "outputs": [],
   "source": [
    "claim = \"O presidente dos Estados Unidos, Donald Trump, anunciou nesta terça-feira (21) um investimento de até US$ 500 bilhões em inteligência artificial por meio de uma parceria com as empresas OpenAI, criadora do ChatGPT, Oracle, de gerenciamento de servidores e bancos de dados, e o banco SoftBank.\"\n",
    "prompt = VANILLA_PROMPT[\"pt_BR\"].format(search_text=fakebrcorpus_full[\"text\"][0])\n",
    "messages = {\"role\": \"user\", \"content\": prompt}\n",
    "output = agent.generate_message(messages)\n",
    "output"
   ]
  },
  {
   "cell_type": "markdown",
   "id": "oG1mt-NF80JG",
   "metadata": {
    "id": "oG1mt-NF80JG"
   },
   "source": [
    "### 0 - 1000 (done)"
   ]
  },
  {
   "cell_type": "code",
   "execution_count": null,
   "id": "sA99DoXS80JH",
   "metadata": {
    "colab": {
     "base_uri": "https://localhost:8080/"
    },
    "collapsed": true,
    "executionInfo": {
     "elapsed": 8877661,
     "status": "ok",
     "timestamp": 1738218133419,
     "user": {
      "displayName": "Pablo Weslley",
      "userId": "01590026520414852215"
     },
     "user_tz": 180
    },
    "id": "sA99DoXS80JH",
    "outputId": "d517a2ec-d5fc-4a76-b570-e7d1df782230"
   },
   "outputs": [],
   "source": [
    "outputs = run_experiments(agent, fakebrcorpus_full[:500], \"pt_BR\")\n",
    "raw_df = pd.DataFrame.from_records(outputs, columns=[\"output\"])\n",
    "raw_df.to_csv(os.path.join(RESULTS_DIR, \"raw_ptBR_LLaMA_0_500.csv\"))"
   ]
  },
  {
   "cell_type": "code",
   "execution_count": null,
   "id": "0VVWRY1Ia0Sw",
   "metadata": {
    "colab": {
     "base_uri": "https://localhost:8080/"
    },
    "collapsed": true,
    "executionInfo": {
     "elapsed": 915062,
     "status": "ok",
     "timestamp": 1738258960464,
     "user": {
      "displayName": "Pablo Weslley",
      "userId": "01590026520414852215"
     },
     "user_tz": 180
    },
    "id": "0VVWRY1Ia0Sw",
    "outputId": "51359512-af25-48bc-db88-a4fc5c417a97"
   },
   "outputs": [],
   "source": [
    "outputs = run_experiments(agent, fakebrcorpus_full[500:1000], \"pt_BR\")\n",
    "raw_df = pd.DataFrame.from_records(outputs, columns=[\"output\"])\n",
    "raw_df.to_csv(os.path.join(RESULTS_DIR, \"raw_ptBR_LLaMA_500_1000.csv\"))"
   ]
  },
  {
   "cell_type": "markdown",
   "id": "2L2zHIe980JH",
   "metadata": {
    "id": "2L2zHIe980JH"
   },
   "source": [
    "### 1000 - 2000 (done)"
   ]
  },
  {
   "cell_type": "code",
   "execution_count": null,
   "id": "Ktgy1GYd80JH",
   "metadata": {
    "colab": {
     "base_uri": "https://localhost:8080/"
    },
    "collapsed": true,
    "executionInfo": {
     "elapsed": 8785940,
     "status": "ok",
     "timestamp": 1738268834453,
     "user": {
      "displayName": "Pablo Weslley",
      "userId": "01590026520414852215"
     },
     "user_tz": 180
    },
    "id": "Ktgy1GYd80JH",
    "outputId": "4dd22e12-4f31-460b-e2fc-5a1b9fcf4a00"
   },
   "outputs": [],
   "source": [
    "outputs = run_experiments(agent, fakebrcorpus_full[1000:1500], \"pt_BR\")\n",
    "raw_df = pd.DataFrame.from_records(outputs, columns=[\"output\"])\n",
    "raw_df.to_csv(os.path.join(RESULTS_DIR, \"raw_ptBR_LLaMA_1000_1500.csv\"))"
   ]
  },
  {
   "cell_type": "code",
   "execution_count": null,
   "id": "CFJGKyaybHMw",
   "metadata": {
    "colab": {
     "base_uri": "https://localhost:8080/"
    },
    "executionInfo": {
     "elapsed": 9109926,
     "status": "ok",
     "timestamp": 1738277944374,
     "user": {
      "displayName": "Pablo Weslley",
      "userId": "01590026520414852215"
     },
     "user_tz": 180
    },
    "id": "CFJGKyaybHMw",
    "outputId": "cd808655-564f-4716-e8d5-cac1987aff08"
   },
   "outputs": [],
   "source": [
    "outputs = run_experiments(agent, fakebrcorpus_full[1500:2000], \"pt_BR\")\n",
    "raw_df = pd.DataFrame.from_records(outputs, columns=[\"output\"])\n",
    "raw_df.to_csv(os.path.join(RESULTS_DIR, \"raw_ptBR_LLaMA_1500_2000.csv\"))"
   ]
  },
  {
   "cell_type": "markdown",
   "id": "YD_Vn1Xn80JH",
   "metadata": {
    "id": "YD_Vn1Xn80JH"
   },
   "source": [
    "### 2000 - 3000 (done)"
   ]
  },
  {
   "cell_type": "code",
   "execution_count": null,
   "id": "Nq3mn4sE80JI",
   "metadata": {
    "colab": {
     "base_uri": "https://localhost:8080/"
    },
    "collapsed": true,
    "executionInfo": {
     "elapsed": 9218289,
     "status": "ok",
     "timestamp": 1738289551332,
     "user": {
      "displayName": "Pablo Weslley",
      "userId": "01590026520414852215"
     },
     "user_tz": 180
    },
    "id": "Nq3mn4sE80JI",
    "outputId": "4c86fd1f-b6e5-4ee0-c3d6-f93cd3827271"
   },
   "outputs": [],
   "source": [
    "outputs = run_experiments(agent, fakebrcorpus_full[2000:2500], \"pt_BR\")\n",
    "raw_df = pd.DataFrame.from_records(outputs, columns=[\"output\"])\n",
    "raw_df.to_csv(os.path.join(RESULTS_DIR, \"raw_ptBR_LLaMA_2000_2500.csv\"))"
   ]
  },
  {
   "cell_type": "code",
   "execution_count": null,
   "id": "3M5BESLzbemH",
   "metadata": {
    "colab": {
     "base_uri": "https://localhost:8080/"
    },
    "executionInfo": {
     "elapsed": 7352,
     "status": "ok",
     "timestamp": 1738299422315,
     "user": {
      "displayName": "Pablo Weslley",
      "userId": "01590026520414852215"
     },
     "user_tz": 180
    },
    "id": "3M5BESLzbemH",
    "outputId": "ad8f46a8-6e2f-4740-d003-b19ad7835954"
   },
   "outputs": [],
   "source": [
    "outputs = run_experiments(agent, fakebrcorpus_full[2500:3000], \"pt_BR\")\n",
    "raw_df = pd.DataFrame.from_records(outputs, columns=[\"output\"])\n",
    "raw_df.to_csv(os.path.join(RESULTS_DIR, \"raw_ptBR_LLaMA_2500_3000.csv\"))"
   ]
  },
  {
   "cell_type": "markdown",
   "id": "ZIRUJxsK80JI",
   "metadata": {
    "id": "ZIRUJxsK80JI"
   },
   "source": [
    "### 3000 - 4000 (done)"
   ]
  },
  {
   "cell_type": "code",
   "execution_count": null,
   "id": "GBL-EQGc80JI",
   "metadata": {
    "colab": {
     "base_uri": "https://localhost:8080/"
    },
    "collapsed": true,
    "executionInfo": {
     "elapsed": 9641012,
     "status": "ok",
     "timestamp": 1738334606345,
     "user": {
      "displayName": "Pablo Weslley",
      "userId": "01590026520414852215"
     },
     "user_tz": 180
    },
    "id": "GBL-EQGc80JI",
    "outputId": "657fea85-0a5f-466a-84d8-cc8e8fa95e86"
   },
   "outputs": [],
   "source": [
    "outputs = run_experiments(agent, fakebrcorpus_full[3000:3500], \"pt_BR\")\n",
    "raw_df = pd.DataFrame.from_records(outputs, columns=[\"output\"])\n",
    "raw_df.to_csv(os.path.join(RESULTS_DIR, \"raw_ptBR_LLaMA_3000_3500.csv\"))"
   ]
  },
  {
   "cell_type": "code",
   "execution_count": null,
   "id": "sqgD3jM1bqiv",
   "metadata": {
    "id": "sqgD3jM1bqiv"
   },
   "outputs": [],
   "source": [
    "outputs = run_experiments(agent, fakebrcorpus_full[3500:4000], \"pt_BR\")\n",
    "raw_df = pd.DataFrame.from_records(outputs, columns=[\"output\"])\n",
    "raw_df.to_csv(os.path.join(RESULTS_DIR, \"raw_ptBR_LLaMA_3500_4000.csv\"))"
   ]
  },
  {
   "cell_type": "markdown",
   "id": "Tck92Pk380JI",
   "metadata": {
    "id": "Tck92Pk380JI"
   },
   "source": [
    "### 4000 - 5000 (done)"
   ]
  },
  {
   "cell_type": "code",
   "execution_count": null,
   "id": "7qhj8owx80JI",
   "metadata": {
    "collapsed": true,
    "id": "7qhj8owx80JI"
   },
   "outputs": [],
   "source": [
    "outputs = run_experiments(agent, fakebrcorpus_full[4000:4500], \"pt_BR\")\n",
    "raw_df = pd.DataFrame.from_records(outputs, columns=[\"output\"])\n",
    "raw_df.to_csv(os.path.join(RESULTS_DIR, \"raw_ptBR_LLaMA_4000_4500.csv\"))"
   ]
  },
  {
   "cell_type": "code",
   "execution_count": null,
   "id": "6Q6Cm75Qb1wQ",
   "metadata": {
    "id": "6Q6Cm75Qb1wQ"
   },
   "outputs": [],
   "source": [
    "outputs = run_experiments(agent, fakebrcorpus_full[4500:5000], \"pt_BR\")\n",
    "raw_df = pd.DataFrame.from_records(outputs, columns=[\"output\"])\n",
    "raw_df.to_csv(os.path.join(RESULTS_DIR, \"raw_ptBR_LLaMA_4500_5000.csv\"))"
   ]
  },
  {
   "cell_type": "markdown",
   "id": "tOTOZ5ZJ80JI",
   "metadata": {
    "id": "tOTOZ5ZJ80JI"
   },
   "source": [
    "### 5000 - 6000 (done)"
   ]
  },
  {
   "cell_type": "code",
   "execution_count": null,
   "id": "DMf2lQxp80JI",
   "metadata": {
    "collapsed": true,
    "id": "DMf2lQxp80JI"
   },
   "outputs": [],
   "source": [
    "outputs = run_experiments(agent, fakebrcorpus_full[5000:5500], \"pt_BR\")\n",
    "raw_df = pd.DataFrame.from_records(outputs, columns=[\"output\"])\n",
    "raw_df.to_csv(os.path.join(RESULTS_DIR, \"raw_ptBR_LLaMA_5000_5500.csv\"))"
   ]
  },
  {
   "cell_type": "code",
   "execution_count": null,
   "id": "UQg7sfVxb9CH",
   "metadata": {
    "id": "UQg7sfVxb9CH"
   },
   "outputs": [],
   "source": [
    "outputs = run_experiments(agent, fakebrcorpus_full[5500:6000], \"pt_BR\")\n",
    "raw_df = pd.DataFrame.from_records(outputs, columns=[\"output\"])\n",
    "raw_df.to_csv(os.path.join(RESULTS_DIR, \"raw_ptBR_LLaMA_5500_6000.csv\"))"
   ]
  },
  {
   "cell_type": "markdown",
   "id": "hZc0c1tx80JI",
   "metadata": {
    "id": "hZc0c1tx80JI"
   },
   "source": [
    "### 6000 - 7200 (done)"
   ]
  },
  {
   "cell_type": "code",
   "execution_count": null,
   "id": "O4d_Hiof80JI",
   "metadata": {
    "collapsed": true,
    "id": "O4d_Hiof80JI"
   },
   "outputs": [],
   "source": [
    "outputs = run_experiments(agent, fakebrcorpus_full[6000:6500], \"pt_BR\")\n",
    "raw_df = pd.DataFrame.from_records(outputs, columns=[\"output\"])\n",
    "raw_df.to_csv(os.path.join(RESULTS_DIR, \"raw_ptBR_LLaMA_6000_6500.csv\"))"
   ]
  },
  {
   "cell_type": "code",
   "execution_count": null,
   "id": "jXb3xld8cKWf",
   "metadata": {
    "id": "jXb3xld8cKWf"
   },
   "outputs": [],
   "source": [
    "outputs = run_experiments(agent, fakebrcorpus_full[6500:], \"pt_BR\")\n",
    "raw_df = pd.DataFrame.from_records(outputs, columns=[\"output\"])\n",
    "raw_df.to_csv(os.path.join(RESULTS_DIR, \"raw_ptBR_LLaMA_6500_7200.csv\"))"
   ]
  },
  {
   "cell_type": "markdown",
   "id": "DhiNlFT8BnWV",
   "metadata": {
    "id": "DhiNlFT8BnWV"
   },
   "source": [
    "### full results"
   ]
  },
  {
   "cell_type": "code",
   "execution_count": null,
   "id": "2XKH8ymS25bD",
   "metadata": {
    "id": "2XKH8ymS25bD"
   },
   "outputs": [],
   "source": [
    "ptBR_0_500    = pd.read_csv(os.path.join(RESULTS_DIR, \"raw_ptBR_LLaMA_0_500.csv\"), index_col=False)[\"output\"]\n",
    "ptBR_500_1000    = pd.read_csv(os.path.join(RESULTS_DIR, \"raw_ptBR_LLaMA_500_1000.csv\"), index_col=False)[\"output\"]\n",
    "ptBR_1000_1500 = pd.read_csv(os.path.join(RESULTS_DIR, \"raw_ptBR_LLaMA_1000_1500.csv\"), index_col=False)[\"output\"]\n",
    "ptBR_1500_2000 = pd.read_csv(os.path.join(RESULTS_DIR, \"raw_ptBR_LLaMA_1500_2000.csv\"), index_col=False)[\"output\"]\n",
    "ptBR_2000_2500 = pd.read_csv(os.path.join(RESULTS_DIR, \"raw_ptBR_LLaMA_2000_2500.csv\"), index_col=False)[\"output\"]\n",
    "ptBR_2500_3000 = pd.read_csv(os.path.join(RESULTS_DIR, \"raw_ptBR_LLaMA_2500_3000.csv\"), index_col=False)[\"output\"]\n",
    "ptBR_3000_3500 = pd.read_csv(os.path.join(RESULTS_DIR, \"raw_ptBR_LLaMA_3000_3500.csv\"), index_col=False)[\"output\"]\n",
    "ptBR_3500_4000 = pd.read_csv(os.path.join(RESULTS_DIR, \"raw_ptBR_LLaMA_3500_4000.csv\"), index_col=False)[\"output\"]\n",
    "ptBR_4000_4500 = pd.read_csv(os.path.join(RESULTS_DIR, \"raw_ptBR_LLaMA_4000_4500.csv\"), index_col=False)[\"output\"]\n",
    "ptBR_4500_5000 = pd.read_csv(os.path.join(RESULTS_DIR, \"raw_ptBR_LLaMA_4500_5000.csv\"), index_col=False)[\"output\"]\n",
    "ptBR_5000_5500 = pd.read_csv(os.path.join(RESULTS_DIR, \"raw_ptBR_LLaMA_5000_5500.csv\"), index_col=False)[\"output\"]\n",
    "ptBR_5500_6000 = pd.read_csv(os.path.join(RESULTS_DIR, \"raw_ptBR_LLaMA_5500_6000.csv\"), index_col=False)[\"output\"]\n",
    "ptBR_6000_6500 = pd.read_csv(os.path.join(RESULTS_DIR, \"raw_ptBR_LLaMA_6000_6500.csv\"), index_col=False)[\"output\"]\n",
    "ptBR_6500_7200 = pd.read_csv(os.path.join(RESULTS_DIR, \"raw_ptBR_LLaMA_6500_7200.csv\"), index_col=False)[\"output\"]\n",
    "\n",
    "ptBR_full = pd.concat([ptBR_0_500,ptBR_500_1000,ptBR_1000_1500,ptBR_1500_2000,ptBR_2000_2500,ptBR_2500_3000,\n",
    "                       ptBR_3000_3500,ptBR_3500_4000,ptBR_4000_4500,ptBR_4500_5000,ptBR_5000_5500,ptBR_5500_6000,\n",
    "                       ptBR_6000_6500,ptBR_6500_7200])\n",
    "\n",
    "ptBR_full.to_csv(os.path.join(RESULTS_DIR, \"raw_ptBR_LLaMA_full.csv\"), index=False)"
   ]
  },
  {
   "cell_type": "code",
   "execution_count": null,
   "id": "D9XgWS1o25bE",
   "metadata": {
    "colab": {
     "base_uri": "https://localhost:8080/",
     "height": 423
    },
    "executionInfo": {
     "elapsed": 874,
     "status": "ok",
     "timestamp": 1738382573209,
     "user": {
      "displayName": "Pablo Weslley Silva da Fonseca",
      "userId": "08454828087730091057"
     },
     "user_tz": 180
    },
    "id": "D9XgWS1o25bE",
    "outputId": "5ac13159-fd1f-4795-fbd9-a0ad9ab8897b"
   },
   "outputs": [],
   "source": [
    "ptBR_full = pd.read_csv(os.path.join(RESULTS_DIR, \"raw_ptBR_LLaMA_full.csv\"))\n",
    "ptBR_full"
   ]
  },
  {
   "cell_type": "code",
   "execution_count": null,
   "id": "HzgT45cxqdzO",
   "metadata": {
    "id": "HzgT45cxqdzO"
   },
   "outputs": [],
   "source": [
    "results_ptBR_df = get_results_df(ptBR_full)"
   ]
  },
  {
   "cell_type": "code",
   "execution_count": null,
   "id": "J27Y4tuCJwOn",
   "metadata": {
    "colab": {
     "base_uri": "https://localhost:8080/",
     "height": 423
    },
    "executionInfo": {
     "elapsed": 14,
     "status": "ok",
     "timestamp": 1738384459339,
     "user": {
      "displayName": "Pablo Weslley Silva da Fonseca",
      "userId": "08454828087730091057"
     },
     "user_tz": 180
    },
    "id": "J27Y4tuCJwOn",
    "outputId": "3409f2a5-66ff-496b-a577-98b463258fc5"
   },
   "outputs": [],
   "source": [
    "results_ptBR_df"
   ]
  },
  {
   "cell_type": "code",
   "execution_count": null,
   "id": "dj-hH5EuqdzO",
   "metadata": {
    "colab": {
     "base_uri": "https://localhost:8080/"
    },
    "executionInfo": {
     "elapsed": 265,
     "status": "ok",
     "timestamp": 1738384462731,
     "user": {
      "displayName": "Pablo Weslley Silva da Fonseca",
      "userId": "08454828087730091057"
     },
     "user_tz": 180
    },
    "id": "dj-hH5EuqdzO",
    "outputId": "442386d4-16db-4a0f-c474-578f72c89e27"
   },
   "outputs": [],
   "source": [
    "cm, metrics = evaluate_assistant_answer(fakebrcorpus_full, results_ptBR_df)\n",
    "cm, metrics"
   ]
  },
  {
   "cell_type": "code",
   "execution_count": null,
   "id": "aUQ7bloNBibM",
   "metadata": {
    "colab": {
     "base_uri": "https://localhost:8080/",
     "height": 472
    },
    "executionInfo": {
     "elapsed": 676,
     "status": "ok",
     "timestamp": 1738382594751,
     "user": {
      "displayName": "Pablo Weslley Silva da Fonseca",
      "userId": "08454828087730091057"
     },
     "user_tz": 180
    },
    "id": "aUQ7bloNBibM",
    "outputId": "1b94681e-73f6-4a4b-cff9-13bc8a9e528a"
   },
   "outputs": [],
   "source": [
    "plot(cm, \"LLaMA-3.1-8B-Instruct\")"
   ]
  }
 ],
 "metadata": {
  "colab": {
   "collapsed_sections": [
    "xyNQGxO0VlCH",
    "EIJTR2duVuFX",
    "oG1mt-NF80JG",
    "2L2zHIe980JH",
    "YD_Vn1Xn80JH"
   ],
   "provenance": [],
   "toc_visible": true
  },
  "kernelspec": {
   "display_name": "Python 3",
   "name": "python3"
  },
  "language_info": {
   "name": "python"
  },
  "widgets": {
   "application/vnd.jupyter.widget-state+json": {
    "006408da5552414eb2f333929ea64edb": {
     "model_module": "@jupyter-widgets/base",
     "model_module_version": "1.2.0",
     "model_name": "LayoutModel",
     "state": {
      "_model_module": "@jupyter-widgets/base",
      "_model_module_version": "1.2.0",
      "_model_name": "LayoutModel",
      "_view_count": null,
      "_view_module": "@jupyter-widgets/base",
      "_view_module_version": "1.2.0",
      "_view_name": "LayoutView",
      "align_content": null,
      "align_items": null,
      "align_self": null,
      "border": null,
      "bottom": null,
      "display": null,
      "flex": null,
      "flex_flow": null,
      "grid_area": null,
      "grid_auto_columns": null,
      "grid_auto_flow": null,
      "grid_auto_rows": null,
      "grid_column": null,
      "grid_gap": null,
      "grid_row": null,
      "grid_template_areas": null,
      "grid_template_columns": null,
      "grid_template_rows": null,
      "height": null,
      "justify_content": null,
      "justify_items": null,
      "left": null,
      "margin": null,
      "max_height": null,
      "max_width": null,
      "min_height": null,
      "min_width": null,
      "object_fit": null,
      "object_position": null,
      "order": null,
      "overflow": null,
      "overflow_x": null,
      "overflow_y": null,
      "padding": null,
      "right": null,
      "top": null,
      "visibility": null,
      "width": null
     }
    },
    "0288202eb71f436cbc7387c4aecfe3cf": {
     "model_module": "@jupyter-widgets/base",
     "model_module_version": "1.2.0",
     "model_name": "LayoutModel",
     "state": {
      "_model_module": "@jupyter-widgets/base",
      "_model_module_version": "1.2.0",
      "_model_name": "LayoutModel",
      "_view_count": null,
      "_view_module": "@jupyter-widgets/base",
      "_view_module_version": "1.2.0",
      "_view_name": "LayoutView",
      "align_content": null,
      "align_items": null,
      "align_self": null,
      "border": null,
      "bottom": null,
      "display": null,
      "flex": null,
      "flex_flow": null,
      "grid_area": null,
      "grid_auto_columns": null,
      "grid_auto_flow": null,
      "grid_auto_rows": null,
      "grid_column": null,
      "grid_gap": null,
      "grid_row": null,
      "grid_template_areas": null,
      "grid_template_columns": null,
      "grid_template_rows": null,
      "height": null,
      "justify_content": null,
      "justify_items": null,
      "left": null,
      "margin": null,
      "max_height": null,
      "max_width": null,
      "min_height": null,
      "min_width": null,
      "object_fit": null,
      "object_position": null,
      "order": null,
      "overflow": null,
      "overflow_x": null,
      "overflow_y": null,
      "padding": null,
      "right": null,
      "top": null,
      "visibility": null,
      "width": null
     }
    },
    "062ab601f12c486088a5c0fb4552ea87": {
     "model_module": "@jupyter-widgets/base",
     "model_module_version": "1.2.0",
     "model_name": "LayoutModel",
     "state": {
      "_model_module": "@jupyter-widgets/base",
      "_model_module_version": "1.2.0",
      "_model_name": "LayoutModel",
      "_view_count": null,
      "_view_module": "@jupyter-widgets/base",
      "_view_module_version": "1.2.0",
      "_view_name": "LayoutView",
      "align_content": null,
      "align_items": null,
      "align_self": null,
      "border": null,
      "bottom": null,
      "display": null,
      "flex": null,
      "flex_flow": null,
      "grid_area": null,
      "grid_auto_columns": null,
      "grid_auto_flow": null,
      "grid_auto_rows": null,
      "grid_column": null,
      "grid_gap": null,
      "grid_row": null,
      "grid_template_areas": null,
      "grid_template_columns": null,
      "grid_template_rows": null,
      "height": null,
      "justify_content": null,
      "justify_items": null,
      "left": null,
      "margin": null,
      "max_height": null,
      "max_width": null,
      "min_height": null,
      "min_width": null,
      "object_fit": null,
      "object_position": null,
      "order": null,
      "overflow": null,
      "overflow_x": null,
      "overflow_y": null,
      "padding": null,
      "right": null,
      "top": null,
      "visibility": null,
      "width": null
     }
    },
    "075b80dc8d4340f6a9a8d61e6885bea7": {
     "model_module": "@jupyter-widgets/base",
     "model_module_version": "1.2.0",
     "model_name": "LayoutModel",
     "state": {
      "_model_module": "@jupyter-widgets/base",
      "_model_module_version": "1.2.0",
      "_model_name": "LayoutModel",
      "_view_count": null,
      "_view_module": "@jupyter-widgets/base",
      "_view_module_version": "1.2.0",
      "_view_name": "LayoutView",
      "align_content": null,
      "align_items": null,
      "align_self": null,
      "border": null,
      "bottom": null,
      "display": null,
      "flex": null,
      "flex_flow": null,
      "grid_area": null,
      "grid_auto_columns": null,
      "grid_auto_flow": null,
      "grid_auto_rows": null,
      "grid_column": null,
      "grid_gap": null,
      "grid_row": null,
      "grid_template_areas": null,
      "grid_template_columns": null,
      "grid_template_rows": null,
      "height": null,
      "justify_content": null,
      "justify_items": null,
      "left": null,
      "margin": null,
      "max_height": null,
      "max_width": null,
      "min_height": null,
      "min_width": null,
      "object_fit": null,
      "object_position": null,
      "order": null,
      "overflow": null,
      "overflow_x": null,
      "overflow_y": null,
      "padding": null,
      "right": null,
      "top": null,
      "visibility": null,
      "width": null
     }
    },
    "080265933d134e21a1d181af3159e9b1": {
     "model_module": "@jupyter-widgets/controls",
     "model_module_version": "1.5.0",
     "model_name": "HTMLModel",
     "state": {
      "_dom_classes": [],
      "_model_module": "@jupyter-widgets/controls",
      "_model_module_version": "1.5.0",
      "_model_name": "HTMLModel",
      "_view_count": null,
      "_view_module": "@jupyter-widgets/controls",
      "_view_module_version": "1.5.0",
      "_view_name": "HTMLView",
      "description": "",
      "description_tooltip": null,
      "layout": "IPY_MODEL_d0f980e126ad4df4a0e1e73431f6f0f9",
      "placeholder": "​",
      "style": "IPY_MODEL_a185eaccc6fe46b9a3d1629286af7daa",
      "value": " 1.17G/1.17G [00:53&lt;00:00, 27.7MB/s]"
     }
    },
    "0a4e1597ff714e9abc458ae4685e89ee": {
     "model_module": "@jupyter-widgets/controls",
     "model_module_version": "1.5.0",
     "model_name": "HTMLModel",
     "state": {
      "_dom_classes": [],
      "_model_module": "@jupyter-widgets/controls",
      "_model_module_version": "1.5.0",
      "_model_name": "HTMLModel",
      "_view_count": null,
      "_view_module": "@jupyter-widgets/controls",
      "_view_module_version": "1.5.0",
      "_view_name": "HTMLView",
      "description": "",
      "description_tooltip": null,
      "layout": "IPY_MODEL_42e81a880fea49c48489529bcc056944",
      "placeholder": "​",
      "style": "IPY_MODEL_31837f6c398f43f7afffb9f9a978b018",
      "value": " 9.09M/9.09M [00:00&lt;00:00, 18.7MB/s]"
     }
    },
    "0cb57a9340ae4652881c1634a8795f89": {
     "model_module": "@jupyter-widgets/base",
     "model_module_version": "1.2.0",
     "model_name": "LayoutModel",
     "state": {
      "_model_module": "@jupyter-widgets/base",
      "_model_module_version": "1.2.0",
      "_model_name": "LayoutModel",
      "_view_count": null,
      "_view_module": "@jupyter-widgets/base",
      "_view_module_version": "1.2.0",
      "_view_name": "LayoutView",
      "align_content": null,
      "align_items": null,
      "align_self": null,
      "border": null,
      "bottom": null,
      "display": null,
      "flex": null,
      "flex_flow": null,
      "grid_area": null,
      "grid_auto_columns": null,
      "grid_auto_flow": null,
      "grid_auto_rows": null,
      "grid_column": null,
      "grid_gap": null,
      "grid_row": null,
      "grid_template_areas": null,
      "grid_template_columns": null,
      "grid_template_rows": null,
      "height": null,
      "justify_content": null,
      "justify_items": null,
      "left": null,
      "margin": null,
      "max_height": null,
      "max_width": null,
      "min_height": null,
      "min_width": null,
      "object_fit": null,
      "object_position": null,
      "order": null,
      "overflow": null,
      "overflow_x": null,
      "overflow_y": null,
      "padding": null,
      "right": null,
      "top": null,
      "visibility": null,
      "width": null
     }
    },
    "0cfd4c3372f342e78c33e7422932cbb2": {
     "model_module": "@jupyter-widgets/controls",
     "model_module_version": "1.5.0",
     "model_name": "HBoxModel",
     "state": {
      "_dom_classes": [],
      "_model_module": "@jupyter-widgets/controls",
      "_model_module_version": "1.5.0",
      "_model_name": "HBoxModel",
      "_view_count": null,
      "_view_module": "@jupyter-widgets/controls",
      "_view_module_version": "1.5.0",
      "_view_name": "HBoxView",
      "box_style": "",
      "children": [
       "IPY_MODEL_a04528060c8843ac8a55ab6e7bae31c5",
       "IPY_MODEL_5011a6b2dc3a408fbb4804afcab4b4fe",
       "IPY_MODEL_42862958f22d45e3949bde72d55465bb"
      ],
      "layout": "IPY_MODEL_26c59f91b20544a6a549fe4896b4609d"
     }
    },
    "11678579aeff4873aea20da0545fcbb5": {
     "model_module": "@jupyter-widgets/controls",
     "model_module_version": "1.5.0",
     "model_name": "HTMLModel",
     "state": {
      "_dom_classes": [],
      "_model_module": "@jupyter-widgets/controls",
      "_model_module_version": "1.5.0",
      "_model_name": "HTMLModel",
      "_view_count": null,
      "_view_module": "@jupyter-widgets/controls",
      "_view_module_version": "1.5.0",
      "_view_name": "HTMLView",
      "description": "",
      "description_tooltip": null,
      "layout": "IPY_MODEL_597f5e3193794951aa214c997d9b1cf1",
      "placeholder": "​",
      "style": "IPY_MODEL_f5ec4cc0f4894b6dbd739ade69c53ce9",
      "value": "model-00004-of-00004.safetensors: 100%"
     }
    },
    "161e27cfc8874e738aaa62623bca5dd7": {
     "model_module": "@jupyter-widgets/controls",
     "model_module_version": "1.5.0",
     "model_name": "HBoxModel",
     "state": {
      "_dom_classes": [],
      "_model_module": "@jupyter-widgets/controls",
      "_model_module_version": "1.5.0",
      "_model_name": "HBoxModel",
      "_view_count": null,
      "_view_module": "@jupyter-widgets/controls",
      "_view_module_version": "1.5.0",
      "_view_name": "HBoxView",
      "box_style": "",
      "children": [
       "IPY_MODEL_6d807b7e85424bc79c6eb2877041f57a",
       "IPY_MODEL_9b7d22703bc14525be9b4089d5713f64",
       "IPY_MODEL_eaaececf3be9407c9987ce0f8573e434"
      ],
      "layout": "IPY_MODEL_99e0b69564ea4174af704261a7982c89"
     }
    },
    "16759389a8724550a5861bbe7ce1c73e": {
     "model_module": "@jupyter-widgets/controls",
     "model_module_version": "1.5.0",
     "model_name": "HTMLModel",
     "state": {
      "_dom_classes": [],
      "_model_module": "@jupyter-widgets/controls",
      "_model_module_version": "1.5.0",
      "_model_name": "HTMLModel",
      "_view_count": null,
      "_view_module": "@jupyter-widgets/controls",
      "_view_module_version": "1.5.0",
      "_view_name": "HTMLView",
      "description": "",
      "description_tooltip": null,
      "layout": "IPY_MODEL_6d73cb28291d414aa3bc9898a3d222f1",
      "placeholder": "​",
      "style": "IPY_MODEL_b97c6b03f6db49d5876f41af68715d11",
      "value": " 23.9k/23.9k [00:00&lt;00:00, 1.31MB/s]"
     }
    },
    "1bcb802dd90f4215a9a1e3715f41afde": {
     "model_module": "@jupyter-widgets/base",
     "model_module_version": "1.2.0",
     "model_name": "LayoutModel",
     "state": {
      "_model_module": "@jupyter-widgets/base",
      "_model_module_version": "1.2.0",
      "_model_name": "LayoutModel",
      "_view_count": null,
      "_view_module": "@jupyter-widgets/base",
      "_view_module_version": "1.2.0",
      "_view_name": "LayoutView",
      "align_content": null,
      "align_items": null,
      "align_self": null,
      "border": null,
      "bottom": null,
      "display": null,
      "flex": null,
      "flex_flow": null,
      "grid_area": null,
      "grid_auto_columns": null,
      "grid_auto_flow": null,
      "grid_auto_rows": null,
      "grid_column": null,
      "grid_gap": null,
      "grid_row": null,
      "grid_template_areas": null,
      "grid_template_columns": null,
      "grid_template_rows": null,
      "height": null,
      "justify_content": null,
      "justify_items": null,
      "left": null,
      "margin": null,
      "max_height": null,
      "max_width": null,
      "min_height": null,
      "min_width": null,
      "object_fit": null,
      "object_position": null,
      "order": null,
      "overflow": null,
      "overflow_x": null,
      "overflow_y": null,
      "padding": null,
      "right": null,
      "top": null,
      "visibility": null,
      "width": null
     }
    },
    "1c1b229f856e4c2cb600366785ffce33": {
     "model_module": "@jupyter-widgets/controls",
     "model_module_version": "1.5.0",
     "model_name": "HTMLModel",
     "state": {
      "_dom_classes": [],
      "_model_module": "@jupyter-widgets/controls",
      "_model_module_version": "1.5.0",
      "_model_name": "HTMLModel",
      "_view_count": null,
      "_view_module": "@jupyter-widgets/controls",
      "_view_module_version": "1.5.0",
      "_view_name": "HTMLView",
      "description": "",
      "description_tooltip": null,
      "layout": "IPY_MODEL_006408da5552414eb2f333929ea64edb",
      "placeholder": "​",
      "style": "IPY_MODEL_d87a56b2f57e49cc82a4efd000635e28",
      "value": " 4.98G/4.98G [00:31&lt;00:00, 303MB/s]"
     }
    },
    "23baa4d92708446da1a129776c9eba86": {
     "model_module": "@jupyter-widgets/base",
     "model_module_version": "1.2.0",
     "model_name": "LayoutModel",
     "state": {
      "_model_module": "@jupyter-widgets/base",
      "_model_module_version": "1.2.0",
      "_model_name": "LayoutModel",
      "_view_count": null,
      "_view_module": "@jupyter-widgets/base",
      "_view_module_version": "1.2.0",
      "_view_name": "LayoutView",
      "align_content": null,
      "align_items": null,
      "align_self": null,
      "border": null,
      "bottom": null,
      "display": null,
      "flex": null,
      "flex_flow": null,
      "grid_area": null,
      "grid_auto_columns": null,
      "grid_auto_flow": null,
      "grid_auto_rows": null,
      "grid_column": null,
      "grid_gap": null,
      "grid_row": null,
      "grid_template_areas": null,
      "grid_template_columns": null,
      "grid_template_rows": null,
      "height": null,
      "justify_content": null,
      "justify_items": null,
      "left": null,
      "margin": null,
      "max_height": null,
      "max_width": null,
      "min_height": null,
      "min_width": null,
      "object_fit": null,
      "object_position": null,
      "order": null,
      "overflow": null,
      "overflow_x": null,
      "overflow_y": null,
      "padding": null,
      "right": null,
      "top": null,
      "visibility": null,
      "width": null
     }
    },
    "254e8dbf570342e0942f05555549ce0c": {
     "model_module": "@jupyter-widgets/controls",
     "model_module_version": "1.5.0",
     "model_name": "HBoxModel",
     "state": {
      "_dom_classes": [],
      "_model_module": "@jupyter-widgets/controls",
      "_model_module_version": "1.5.0",
      "_model_name": "HBoxModel",
      "_view_count": null,
      "_view_module": "@jupyter-widgets/controls",
      "_view_module_version": "1.5.0",
      "_view_name": "HBoxView",
      "box_style": "",
      "children": [
       "IPY_MODEL_c8c9296fbebb42b4888525b27c5d3850",
       "IPY_MODEL_c8aaa491968a4ce4bc22bbb09aa30b5f",
       "IPY_MODEL_a7ddd27458dd473987f6d1f476b23dae"
      ],
      "layout": "IPY_MODEL_1bcb802dd90f4215a9a1e3715f41afde"
     }
    },
    "25c77bf060d147b4bb8c34496fc6b21a": {
     "model_module": "@jupyter-widgets/base",
     "model_module_version": "1.2.0",
     "model_name": "LayoutModel",
     "state": {
      "_model_module": "@jupyter-widgets/base",
      "_model_module_version": "1.2.0",
      "_model_name": "LayoutModel",
      "_view_count": null,
      "_view_module": "@jupyter-widgets/base",
      "_view_module_version": "1.2.0",
      "_view_name": "LayoutView",
      "align_content": null,
      "align_items": null,
      "align_self": null,
      "border": null,
      "bottom": null,
      "display": null,
      "flex": null,
      "flex_flow": null,
      "grid_area": null,
      "grid_auto_columns": null,
      "grid_auto_flow": null,
      "grid_auto_rows": null,
      "grid_column": null,
      "grid_gap": null,
      "grid_row": null,
      "grid_template_areas": null,
      "grid_template_columns": null,
      "grid_template_rows": null,
      "height": null,
      "justify_content": null,
      "justify_items": null,
      "left": null,
      "margin": null,
      "max_height": null,
      "max_width": null,
      "min_height": null,
      "min_width": null,
      "object_fit": null,
      "object_position": null,
      "order": null,
      "overflow": null,
      "overflow_x": null,
      "overflow_y": null,
      "padding": null,
      "right": null,
      "top": null,
      "visibility": null,
      "width": null
     }
    },
    "263056fc164b4147802f935da1808236": {
     "model_module": "@jupyter-widgets/controls",
     "model_module_version": "1.5.0",
     "model_name": "FloatProgressModel",
     "state": {
      "_dom_classes": [],
      "_model_module": "@jupyter-widgets/controls",
      "_model_module_version": "1.5.0",
      "_model_name": "FloatProgressModel",
      "_view_count": null,
      "_view_module": "@jupyter-widgets/controls",
      "_view_module_version": "1.5.0",
      "_view_name": "ProgressView",
      "bar_style": "success",
      "description": "",
      "description_tooltip": null,
      "layout": "IPY_MODEL_bf36a9b1e2134d099354676cc10313fb",
      "max": 4,
      "min": 0,
      "orientation": "horizontal",
      "style": "IPY_MODEL_ca43011e71e540fa9865f7d5772b565b",
      "value": 4
     }
    },
    "26605e3c5b1846699a532a97c828e195": {
     "model_module": "@jupyter-widgets/controls",
     "model_module_version": "1.5.0",
     "model_name": "ProgressStyleModel",
     "state": {
      "_model_module": "@jupyter-widgets/controls",
      "_model_module_version": "1.5.0",
      "_model_name": "ProgressStyleModel",
      "_view_count": null,
      "_view_module": "@jupyter-widgets/base",
      "_view_module_version": "1.2.0",
      "_view_name": "StyleView",
      "bar_color": null,
      "description_width": ""
     }
    },
    "26c59f91b20544a6a549fe4896b4609d": {
     "model_module": "@jupyter-widgets/base",
     "model_module_version": "1.2.0",
     "model_name": "LayoutModel",
     "state": {
      "_model_module": "@jupyter-widgets/base",
      "_model_module_version": "1.2.0",
      "_model_name": "LayoutModel",
      "_view_count": null,
      "_view_module": "@jupyter-widgets/base",
      "_view_module_version": "1.2.0",
      "_view_name": "LayoutView",
      "align_content": null,
      "align_items": null,
      "align_self": null,
      "border": null,
      "bottom": null,
      "display": null,
      "flex": null,
      "flex_flow": null,
      "grid_area": null,
      "grid_auto_columns": null,
      "grid_auto_flow": null,
      "grid_auto_rows": null,
      "grid_column": null,
      "grid_gap": null,
      "grid_row": null,
      "grid_template_areas": null,
      "grid_template_columns": null,
      "grid_template_rows": null,
      "height": null,
      "justify_content": null,
      "justify_items": null,
      "left": null,
      "margin": null,
      "max_height": null,
      "max_width": null,
      "min_height": null,
      "min_width": null,
      "object_fit": null,
      "object_position": null,
      "order": null,
      "overflow": null,
      "overflow_x": null,
      "overflow_y": null,
      "padding": null,
      "right": null,
      "top": null,
      "visibility": null,
      "width": null
     }
    },
    "274b245d33dd4dee81ddb726148ea670": {
     "model_module": "@jupyter-widgets/controls",
     "model_module_version": "1.5.0",
     "model_name": "ProgressStyleModel",
     "state": {
      "_model_module": "@jupyter-widgets/controls",
      "_model_module_version": "1.5.0",
      "_model_name": "ProgressStyleModel",
      "_view_count": null,
      "_view_module": "@jupyter-widgets/base",
      "_view_module_version": "1.2.0",
      "_view_name": "StyleView",
      "bar_color": null,
      "description_width": ""
     }
    },
    "294506b6ee09483eba8306ae1e963846": {
     "model_module": "@jupyter-widgets/controls",
     "model_module_version": "1.5.0",
     "model_name": "DescriptionStyleModel",
     "state": {
      "_model_module": "@jupyter-widgets/controls",
      "_model_module_version": "1.5.0",
      "_model_name": "DescriptionStyleModel",
      "_view_count": null,
      "_view_module": "@jupyter-widgets/base",
      "_view_module_version": "1.2.0",
      "_view_name": "StyleView",
      "description_width": ""
     }
    },
    "298b37bc9d4141ed9483a5122ec9f674": {
     "model_module": "@jupyter-widgets/controls",
     "model_module_version": "1.5.0",
     "model_name": "HTMLModel",
     "state": {
      "_dom_classes": [],
      "_model_module": "@jupyter-widgets/controls",
      "_model_module_version": "1.5.0",
      "_model_name": "HTMLModel",
      "_view_count": null,
      "_view_module": "@jupyter-widgets/controls",
      "_view_module_version": "1.5.0",
      "_view_name": "HTMLView",
      "description": "",
      "description_tooltip": null,
      "layout": "IPY_MODEL_8fa5672264d04d45803183b611b5b4d3",
      "placeholder": "​",
      "style": "IPY_MODEL_f24628bcf4d64ecda5d6f208c497b1c8",
      "value": "Loading checkpoint shards: 100%"
     }
    },
    "31837f6c398f43f7afffb9f9a978b018": {
     "model_module": "@jupyter-widgets/controls",
     "model_module_version": "1.5.0",
     "model_name": "DescriptionStyleModel",
     "state": {
      "_model_module": "@jupyter-widgets/controls",
      "_model_module_version": "1.5.0",
      "_model_name": "DescriptionStyleModel",
      "_view_count": null,
      "_view_module": "@jupyter-widgets/base",
      "_view_module_version": "1.2.0",
      "_view_name": "StyleView",
      "description_width": ""
     }
    },
    "31da38878dfe446ab029da7acb7d19e0": {
     "model_module": "@jupyter-widgets/controls",
     "model_module_version": "1.5.0",
     "model_name": "HTMLModel",
     "state": {
      "_dom_classes": [],
      "_model_module": "@jupyter-widgets/controls",
      "_model_module_version": "1.5.0",
      "_model_name": "HTMLModel",
      "_view_count": null,
      "_view_module": "@jupyter-widgets/controls",
      "_view_module_version": "1.5.0",
      "_view_name": "HTMLView",
      "description": "",
      "description_tooltip": null,
      "layout": "IPY_MODEL_4be04b11cf4e40039c5326de95869609",
      "placeholder": "​",
      "style": "IPY_MODEL_81736e60329e43d0a6899e6f5e62c9c5",
      "value": "special_tokens_map.json: 100%"
     }
    },
    "349df95ed68b459681354f371d7b349e": {
     "model_module": "@jupyter-widgets/controls",
     "model_module_version": "1.5.0",
     "model_name": "HBoxModel",
     "state": {
      "_dom_classes": [],
      "_model_module": "@jupyter-widgets/controls",
      "_model_module_version": "1.5.0",
      "_model_name": "HBoxModel",
      "_view_count": null,
      "_view_module": "@jupyter-widgets/controls",
      "_view_module_version": "1.5.0",
      "_view_name": "HBoxView",
      "box_style": "",
      "children": [
       "IPY_MODEL_298b37bc9d4141ed9483a5122ec9f674",
       "IPY_MODEL_f6086f18ecbd4f3ca5048d86bff894ff",
       "IPY_MODEL_751f4526c3af42e6a795bd375576cd5b"
      ],
      "layout": "IPY_MODEL_3cd9cc16db074a84954046f88c99f346"
     }
    },
    "3717e5588613407d9db040488542eb51": {
     "model_module": "@jupyter-widgets/controls",
     "model_module_version": "1.5.0",
     "model_name": "FloatProgressModel",
     "state": {
      "_dom_classes": [],
      "_model_module": "@jupyter-widgets/controls",
      "_model_module_version": "1.5.0",
      "_model_name": "FloatProgressModel",
      "_view_count": null,
      "_view_module": "@jupyter-widgets/controls",
      "_view_module_version": "1.5.0",
      "_view_name": "ProgressView",
      "bar_style": "success",
      "description": "",
      "description_tooltip": null,
      "layout": "IPY_MODEL_521d513da42b49cc9fbbc8712f3a87e1",
      "max": 23950,
      "min": 0,
      "orientation": "horizontal",
      "style": "IPY_MODEL_e542f6ed280a4fd4ac6b1422d9bcaf28",
      "value": 23950
     }
    },
    "377666cc649442ffa72d84c5c8839d9e": {
     "model_module": "@jupyter-widgets/controls",
     "model_module_version": "1.5.0",
     "model_name": "ProgressStyleModel",
     "state": {
      "_model_module": "@jupyter-widgets/controls",
      "_model_module_version": "1.5.0",
      "_model_name": "ProgressStyleModel",
      "_view_count": null,
      "_view_module": "@jupyter-widgets/base",
      "_view_module_version": "1.2.0",
      "_view_name": "StyleView",
      "bar_color": null,
      "description_width": ""
     }
    },
    "3cd9cc16db074a84954046f88c99f346": {
     "model_module": "@jupyter-widgets/base",
     "model_module_version": "1.2.0",
     "model_name": "LayoutModel",
     "state": {
      "_model_module": "@jupyter-widgets/base",
      "_model_module_version": "1.2.0",
      "_model_name": "LayoutModel",
      "_view_count": null,
      "_view_module": "@jupyter-widgets/base",
      "_view_module_version": "1.2.0",
      "_view_name": "LayoutView",
      "align_content": null,
      "align_items": null,
      "align_self": null,
      "border": null,
      "bottom": null,
      "display": null,
      "flex": null,
      "flex_flow": null,
      "grid_area": null,
      "grid_auto_columns": null,
      "grid_auto_flow": null,
      "grid_auto_rows": null,
      "grid_column": null,
      "grid_gap": null,
      "grid_row": null,
      "grid_template_areas": null,
      "grid_template_columns": null,
      "grid_template_rows": null,
      "height": null,
      "justify_content": null,
      "justify_items": null,
      "left": null,
      "margin": null,
      "max_height": null,
      "max_width": null,
      "min_height": null,
      "min_width": null,
      "object_fit": null,
      "object_position": null,
      "order": null,
      "overflow": null,
      "overflow_x": null,
      "overflow_y": null,
      "padding": null,
      "right": null,
      "top": null,
      "visibility": null,
      "width": null
     }
    },
    "41a76823c73b40d2a989165493de6d8c": {
     "model_module": "@jupyter-widgets/controls",
     "model_module_version": "1.5.0",
     "model_name": "FloatProgressModel",
     "state": {
      "_dom_classes": [],
      "_model_module": "@jupyter-widgets/controls",
      "_model_module_version": "1.5.0",
      "_model_name": "FloatProgressModel",
      "_view_count": null,
      "_view_module": "@jupyter-widgets/controls",
      "_view_module_version": "1.5.0",
      "_view_name": "ProgressView",
      "bar_style": "danger",
      "description": "",
      "description_tooltip": null,
      "layout": "IPY_MODEL_bf45cf7d5bb14fc48bfdb59ee7bee523",
      "max": 4999802720,
      "min": 0,
      "orientation": "horizontal",
      "style": "IPY_MODEL_274b245d33dd4dee81ddb726148ea670",
      "value": 4999802244
     }
    },
    "42862958f22d45e3949bde72d55465bb": {
     "model_module": "@jupyter-widgets/controls",
     "model_module_version": "1.5.0",
     "model_name": "HTMLModel",
     "state": {
      "_dom_classes": [],
      "_model_module": "@jupyter-widgets/controls",
      "_model_module_version": "1.5.0",
      "_model_name": "HTMLModel",
      "_view_count": null,
      "_view_module": "@jupyter-widgets/controls",
      "_view_module_version": "1.5.0",
      "_view_name": "HTMLView",
      "description": "",
      "description_tooltip": null,
      "layout": "IPY_MODEL_5982056f501047028bf53db10c301269",
      "placeholder": "​",
      "style": "IPY_MODEL_294506b6ee09483eba8306ae1e963846",
      "value": " 4.92G/4.92G [00:38&lt;00:00, 202MB/s]"
     }
    },
    "42e81a880fea49c48489529bcc056944": {
     "model_module": "@jupyter-widgets/base",
     "model_module_version": "1.2.0",
     "model_name": "LayoutModel",
     "state": {
      "_model_module": "@jupyter-widgets/base",
      "_model_module_version": "1.2.0",
      "_model_name": "LayoutModel",
      "_view_count": null,
      "_view_module": "@jupyter-widgets/base",
      "_view_module_version": "1.2.0",
      "_view_name": "LayoutView",
      "align_content": null,
      "align_items": null,
      "align_self": null,
      "border": null,
      "bottom": null,
      "display": null,
      "flex": null,
      "flex_flow": null,
      "grid_area": null,
      "grid_auto_columns": null,
      "grid_auto_flow": null,
      "grid_auto_rows": null,
      "grid_column": null,
      "grid_gap": null,
      "grid_row": null,
      "grid_template_areas": null,
      "grid_template_columns": null,
      "grid_template_rows": null,
      "height": null,
      "justify_content": null,
      "justify_items": null,
      "left": null,
      "margin": null,
      "max_height": null,
      "max_width": null,
      "min_height": null,
      "min_width": null,
      "object_fit": null,
      "object_position": null,
      "order": null,
      "overflow": null,
      "overflow_x": null,
      "overflow_y": null,
      "padding": null,
      "right": null,
      "top": null,
      "visibility": null,
      "width": null
     }
    },
    "43f26260ce6a4720a3bb433ed7489d5e": {
     "model_module": "@jupyter-widgets/base",
     "model_module_version": "1.2.0",
     "model_name": "LayoutModel",
     "state": {
      "_model_module": "@jupyter-widgets/base",
      "_model_module_version": "1.2.0",
      "_model_name": "LayoutModel",
      "_view_count": null,
      "_view_module": "@jupyter-widgets/base",
      "_view_module_version": "1.2.0",
      "_view_name": "LayoutView",
      "align_content": null,
      "align_items": null,
      "align_self": null,
      "border": null,
      "bottom": null,
      "display": null,
      "flex": null,
      "flex_flow": null,
      "grid_area": null,
      "grid_auto_columns": null,
      "grid_auto_flow": null,
      "grid_auto_rows": null,
      "grid_column": null,
      "grid_gap": null,
      "grid_row": null,
      "grid_template_areas": null,
      "grid_template_columns": null,
      "grid_template_rows": null,
      "height": null,
      "justify_content": null,
      "justify_items": null,
      "left": null,
      "margin": null,
      "max_height": null,
      "max_width": null,
      "min_height": null,
      "min_width": null,
      "object_fit": null,
      "object_position": null,
      "order": null,
      "overflow": null,
      "overflow_x": null,
      "overflow_y": null,
      "padding": null,
      "right": null,
      "top": null,
      "visibility": null,
      "width": null
     }
    },
    "45d48fc77c6343ce8b06f52b7a07fe7b": {
     "model_module": "@jupyter-widgets/controls",
     "model_module_version": "1.5.0",
     "model_name": "HBoxModel",
     "state": {
      "_dom_classes": [],
      "_model_module": "@jupyter-widgets/controls",
      "_model_module_version": "1.5.0",
      "_model_name": "HBoxModel",
      "_view_count": null,
      "_view_module": "@jupyter-widgets/controls",
      "_view_module_version": "1.5.0",
      "_view_name": "HBoxView",
      "box_style": "",
      "children": [
       "IPY_MODEL_31da38878dfe446ab029da7acb7d19e0",
       "IPY_MODEL_5e62aff05c7545108a09858d2d816122",
       "IPY_MODEL_56a893cb44a74d448620d116e240d525"
      ],
      "layout": "IPY_MODEL_b7ef55c1ff8445678fbd4b1c442e218f"
     }
    },
    "45edf212ea7442f4864cde2fd6187003": {
     "model_module": "@jupyter-widgets/controls",
     "model_module_version": "1.5.0",
     "model_name": "DescriptionStyleModel",
     "state": {
      "_model_module": "@jupyter-widgets/controls",
      "_model_module_version": "1.5.0",
      "_model_name": "DescriptionStyleModel",
      "_view_count": null,
      "_view_module": "@jupyter-widgets/base",
      "_view_module_version": "1.2.0",
      "_view_name": "StyleView",
      "description_width": ""
     }
    },
    "49215ac050aa47ec94fdd7c4fb183452": {
     "model_module": "@jupyter-widgets/controls",
     "model_module_version": "1.5.0",
     "model_name": "HTMLModel",
     "state": {
      "_dom_classes": [],
      "_model_module": "@jupyter-widgets/controls",
      "_model_module_version": "1.5.0",
      "_model_name": "HTMLModel",
      "_view_count": null,
      "_view_module": "@jupyter-widgets/controls",
      "_view_module_version": "1.5.0",
      "_view_name": "HTMLView",
      "description": "",
      "description_tooltip": null,
      "layout": "IPY_MODEL_f6f1438955c7441eb0a90c5f8ec62739",
      "placeholder": "​",
      "style": "IPY_MODEL_c9f4b5e5e109486f97a951acbc032665",
      "value": "model-00002-of-00004.safetensors: 100%"
     }
    },
    "4be04b11cf4e40039c5326de95869609": {
     "model_module": "@jupyter-widgets/base",
     "model_module_version": "1.2.0",
     "model_name": "LayoutModel",
     "state": {
      "_model_module": "@jupyter-widgets/base",
      "_model_module_version": "1.2.0",
      "_model_name": "LayoutModel",
      "_view_count": null,
      "_view_module": "@jupyter-widgets/base",
      "_view_module_version": "1.2.0",
      "_view_name": "LayoutView",
      "align_content": null,
      "align_items": null,
      "align_self": null,
      "border": null,
      "bottom": null,
      "display": null,
      "flex": null,
      "flex_flow": null,
      "grid_area": null,
      "grid_auto_columns": null,
      "grid_auto_flow": null,
      "grid_auto_rows": null,
      "grid_column": null,
      "grid_gap": null,
      "grid_row": null,
      "grid_template_areas": null,
      "grid_template_columns": null,
      "grid_template_rows": null,
      "height": null,
      "justify_content": null,
      "justify_items": null,
      "left": null,
      "margin": null,
      "max_height": null,
      "max_width": null,
      "min_height": null,
      "min_width": null,
      "object_fit": null,
      "object_position": null,
      "order": null,
      "overflow": null,
      "overflow_x": null,
      "overflow_y": null,
      "padding": null,
      "right": null,
      "top": null,
      "visibility": null,
      "width": null
     }
    },
    "5011a6b2dc3a408fbb4804afcab4b4fe": {
     "model_module": "@jupyter-widgets/controls",
     "model_module_version": "1.5.0",
     "model_name": "FloatProgressModel",
     "state": {
      "_dom_classes": [],
      "_model_module": "@jupyter-widgets/controls",
      "_model_module_version": "1.5.0",
      "_model_name": "FloatProgressModel",
      "_view_count": null,
      "_view_module": "@jupyter-widgets/controls",
      "_view_module_version": "1.5.0",
      "_view_name": "ProgressView",
      "bar_style": "danger",
      "description": "",
      "description_tooltip": null,
      "layout": "IPY_MODEL_6efe741b51804af5b2d42062bf46b11c",
      "max": 4915916176,
      "min": 0,
      "orientation": "horizontal",
      "style": "IPY_MODEL_26605e3c5b1846699a532a97c828e195",
      "value": 4915915708
     }
    },
    "5064069227c54cd1af82f60e05368bc6": {
     "model_module": "@jupyter-widgets/base",
     "model_module_version": "1.2.0",
     "model_name": "LayoutModel",
     "state": {
      "_model_module": "@jupyter-widgets/base",
      "_model_module_version": "1.2.0",
      "_model_name": "LayoutModel",
      "_view_count": null,
      "_view_module": "@jupyter-widgets/base",
      "_view_module_version": "1.2.0",
      "_view_name": "LayoutView",
      "align_content": null,
      "align_items": null,
      "align_self": null,
      "border": null,
      "bottom": null,
      "display": null,
      "flex": null,
      "flex_flow": null,
      "grid_area": null,
      "grid_auto_columns": null,
      "grid_auto_flow": null,
      "grid_auto_rows": null,
      "grid_column": null,
      "grid_gap": null,
      "grid_row": null,
      "grid_template_areas": null,
      "grid_template_columns": null,
      "grid_template_rows": null,
      "height": null,
      "justify_content": null,
      "justify_items": null,
      "left": null,
      "margin": null,
      "max_height": null,
      "max_width": null,
      "min_height": null,
      "min_width": null,
      "object_fit": null,
      "object_position": null,
      "order": null,
      "overflow": null,
      "overflow_x": null,
      "overflow_y": null,
      "padding": null,
      "right": null,
      "top": null,
      "visibility": null,
      "width": null
     }
    },
    "51a1d4201e1641bfba6d2be5fe391241": {
     "model_module": "@jupyter-widgets/controls",
     "model_module_version": "1.5.0",
     "model_name": "DescriptionStyleModel",
     "state": {
      "_model_module": "@jupyter-widgets/controls",
      "_model_module_version": "1.5.0",
      "_model_name": "DescriptionStyleModel",
      "_view_count": null,
      "_view_module": "@jupyter-widgets/base",
      "_view_module_version": "1.2.0",
      "_view_name": "StyleView",
      "description_width": ""
     }
    },
    "521d513da42b49cc9fbbc8712f3a87e1": {
     "model_module": "@jupyter-widgets/base",
     "model_module_version": "1.2.0",
     "model_name": "LayoutModel",
     "state": {
      "_model_module": "@jupyter-widgets/base",
      "_model_module_version": "1.2.0",
      "_model_name": "LayoutModel",
      "_view_count": null,
      "_view_module": "@jupyter-widgets/base",
      "_view_module_version": "1.2.0",
      "_view_name": "LayoutView",
      "align_content": null,
      "align_items": null,
      "align_self": null,
      "border": null,
      "bottom": null,
      "display": null,
      "flex": null,
      "flex_flow": null,
      "grid_area": null,
      "grid_auto_columns": null,
      "grid_auto_flow": null,
      "grid_auto_rows": null,
      "grid_column": null,
      "grid_gap": null,
      "grid_row": null,
      "grid_template_areas": null,
      "grid_template_columns": null,
      "grid_template_rows": null,
      "height": null,
      "justify_content": null,
      "justify_items": null,
      "left": null,
      "margin": null,
      "max_height": null,
      "max_width": null,
      "min_height": null,
      "min_width": null,
      "object_fit": null,
      "object_position": null,
      "order": null,
      "overflow": null,
      "overflow_x": null,
      "overflow_y": null,
      "padding": null,
      "right": null,
      "top": null,
      "visibility": null,
      "width": null
     }
    },
    "56a893cb44a74d448620d116e240d525": {
     "model_module": "@jupyter-widgets/controls",
     "model_module_version": "1.5.0",
     "model_name": "HTMLModel",
     "state": {
      "_dom_classes": [],
      "_model_module": "@jupyter-widgets/controls",
      "_model_module_version": "1.5.0",
      "_model_name": "HTMLModel",
      "_view_count": null,
      "_view_module": "@jupyter-widgets/controls",
      "_view_module_version": "1.5.0",
      "_view_name": "HTMLView",
      "description": "",
      "description_tooltip": null,
      "layout": "IPY_MODEL_c497adea0f7d4e35a02c8f5e10753adb",
      "placeholder": "​",
      "style": "IPY_MODEL_45edf212ea7442f4864cde2fd6187003",
      "value": " 296/296 [00:00&lt;00:00, 16.7kB/s]"
     }
    },
    "56af00cbf6fe430d90fb89a5dc6484da": {
     "model_module": "@jupyter-widgets/base",
     "model_module_version": "1.2.0",
     "model_name": "LayoutModel",
     "state": {
      "_model_module": "@jupyter-widgets/base",
      "_model_module_version": "1.2.0",
      "_model_name": "LayoutModel",
      "_view_count": null,
      "_view_module": "@jupyter-widgets/base",
      "_view_module_version": "1.2.0",
      "_view_name": "LayoutView",
      "align_content": null,
      "align_items": null,
      "align_self": null,
      "border": null,
      "bottom": null,
      "display": null,
      "flex": null,
      "flex_flow": null,
      "grid_area": null,
      "grid_auto_columns": null,
      "grid_auto_flow": null,
      "grid_auto_rows": null,
      "grid_column": null,
      "grid_gap": null,
      "grid_row": null,
      "grid_template_areas": null,
      "grid_template_columns": null,
      "grid_template_rows": null,
      "height": null,
      "justify_content": null,
      "justify_items": null,
      "left": null,
      "margin": null,
      "max_height": null,
      "max_width": null,
      "min_height": null,
      "min_width": null,
      "object_fit": null,
      "object_position": null,
      "order": null,
      "overflow": null,
      "overflow_x": null,
      "overflow_y": null,
      "padding": null,
      "right": null,
      "top": null,
      "visibility": null,
      "width": null
     }
    },
    "575ea1aa4fdf4bf48559b5bb1e1f97fa": {
     "model_module": "@jupyter-widgets/controls",
     "model_module_version": "1.5.0",
     "model_name": "ProgressStyleModel",
     "state": {
      "_model_module": "@jupyter-widgets/controls",
      "_model_module_version": "1.5.0",
      "_model_name": "ProgressStyleModel",
      "_view_count": null,
      "_view_module": "@jupyter-widgets/base",
      "_view_module_version": "1.2.0",
      "_view_name": "StyleView",
      "bar_color": null,
      "description_width": ""
     }
    },
    "59526feb59bf4a13910960c13d1b0730": {
     "model_module": "@jupyter-widgets/controls",
     "model_module_version": "1.5.0",
     "model_name": "HTMLModel",
     "state": {
      "_dom_classes": [],
      "_model_module": "@jupyter-widgets/controls",
      "_model_module_version": "1.5.0",
      "_model_name": "HTMLModel",
      "_view_count": null,
      "_view_module": "@jupyter-widgets/controls",
      "_view_module_version": "1.5.0",
      "_view_name": "HTMLView",
      "description": "",
      "description_tooltip": null,
      "layout": "IPY_MODEL_23baa4d92708446da1a129776c9eba86",
      "placeholder": "​",
      "style": "IPY_MODEL_8276f1ed8a4b45ff8c61631ab80498f1",
      "value": "tokenizer.json: 100%"
     }
    },
    "597f5e3193794951aa214c997d9b1cf1": {
     "model_module": "@jupyter-widgets/base",
     "model_module_version": "1.2.0",
     "model_name": "LayoutModel",
     "state": {
      "_model_module": "@jupyter-widgets/base",
      "_model_module_version": "1.2.0",
      "_model_name": "LayoutModel",
      "_view_count": null,
      "_view_module": "@jupyter-widgets/base",
      "_view_module_version": "1.2.0",
      "_view_name": "LayoutView",
      "align_content": null,
      "align_items": null,
      "align_self": null,
      "border": null,
      "bottom": null,
      "display": null,
      "flex": null,
      "flex_flow": null,
      "grid_area": null,
      "grid_auto_columns": null,
      "grid_auto_flow": null,
      "grid_auto_rows": null,
      "grid_column": null,
      "grid_gap": null,
      "grid_row": null,
      "grid_template_areas": null,
      "grid_template_columns": null,
      "grid_template_rows": null,
      "height": null,
      "justify_content": null,
      "justify_items": null,
      "left": null,
      "margin": null,
      "max_height": null,
      "max_width": null,
      "min_height": null,
      "min_width": null,
      "object_fit": null,
      "object_position": null,
      "order": null,
      "overflow": null,
      "overflow_x": null,
      "overflow_y": null,
      "padding": null,
      "right": null,
      "top": null,
      "visibility": null,
      "width": null
     }
    },
    "5982056f501047028bf53db10c301269": {
     "model_module": "@jupyter-widgets/base",
     "model_module_version": "1.2.0",
     "model_name": "LayoutModel",
     "state": {
      "_model_module": "@jupyter-widgets/base",
      "_model_module_version": "1.2.0",
      "_model_name": "LayoutModel",
      "_view_count": null,
      "_view_module": "@jupyter-widgets/base",
      "_view_module_version": "1.2.0",
      "_view_name": "LayoutView",
      "align_content": null,
      "align_items": null,
      "align_self": null,
      "border": null,
      "bottom": null,
      "display": null,
      "flex": null,
      "flex_flow": null,
      "grid_area": null,
      "grid_auto_columns": null,
      "grid_auto_flow": null,
      "grid_auto_rows": null,
      "grid_column": null,
      "grid_gap": null,
      "grid_row": null,
      "grid_template_areas": null,
      "grid_template_columns": null,
      "grid_template_rows": null,
      "height": null,
      "justify_content": null,
      "justify_items": null,
      "left": null,
      "margin": null,
      "max_height": null,
      "max_width": null,
      "min_height": null,
      "min_width": null,
      "object_fit": null,
      "object_position": null,
      "order": null,
      "overflow": null,
      "overflow_x": null,
      "overflow_y": null,
      "padding": null,
      "right": null,
      "top": null,
      "visibility": null,
      "width": null
     }
    },
    "5a1af5851caf4535b7207113722cdbf0": {
     "model_module": "@jupyter-widgets/controls",
     "model_module_version": "1.5.0",
     "model_name": "ProgressStyleModel",
     "state": {
      "_model_module": "@jupyter-widgets/controls",
      "_model_module_version": "1.5.0",
      "_model_name": "ProgressStyleModel",
      "_view_count": null,
      "_view_module": "@jupyter-widgets/base",
      "_view_module_version": "1.2.0",
      "_view_name": "StyleView",
      "bar_color": null,
      "description_width": ""
     }
    },
    "5c514231cef04d0f8d8ba55839292cb2": {
     "model_module": "@jupyter-widgets/base",
     "model_module_version": "1.2.0",
     "model_name": "LayoutModel",
     "state": {
      "_model_module": "@jupyter-widgets/base",
      "_model_module_version": "1.2.0",
      "_model_name": "LayoutModel",
      "_view_count": null,
      "_view_module": "@jupyter-widgets/base",
      "_view_module_version": "1.2.0",
      "_view_name": "LayoutView",
      "align_content": null,
      "align_items": null,
      "align_self": null,
      "border": null,
      "bottom": null,
      "display": null,
      "flex": null,
      "flex_flow": null,
      "grid_area": null,
      "grid_auto_columns": null,
      "grid_auto_flow": null,
      "grid_auto_rows": null,
      "grid_column": null,
      "grid_gap": null,
      "grid_row": null,
      "grid_template_areas": null,
      "grid_template_columns": null,
      "grid_template_rows": null,
      "height": null,
      "justify_content": null,
      "justify_items": null,
      "left": null,
      "margin": null,
      "max_height": null,
      "max_width": null,
      "min_height": null,
      "min_width": null,
      "object_fit": null,
      "object_position": null,
      "order": null,
      "overflow": null,
      "overflow_x": null,
      "overflow_y": null,
      "padding": null,
      "right": null,
      "top": null,
      "visibility": null,
      "width": null
     }
    },
    "5e62aff05c7545108a09858d2d816122": {
     "model_module": "@jupyter-widgets/controls",
     "model_module_version": "1.5.0",
     "model_name": "FloatProgressModel",
     "state": {
      "_dom_classes": [],
      "_model_module": "@jupyter-widgets/controls",
      "_model_module_version": "1.5.0",
      "_model_name": "FloatProgressModel",
      "_view_count": null,
      "_view_module": "@jupyter-widgets/controls",
      "_view_module_version": "1.5.0",
      "_view_name": "ProgressView",
      "bar_style": "success",
      "description": "",
      "description_tooltip": null,
      "layout": "IPY_MODEL_f96f4361b6be45ef908086e52aaa9c08",
      "max": 296,
      "min": 0,
      "orientation": "horizontal",
      "style": "IPY_MODEL_b54b54a29f1d4824bb36dcbeb686b5cb",
      "value": 296
     }
    },
    "61b19c98fcc84953a0250ad4aa12e274": {
     "model_module": "@jupyter-widgets/controls",
     "model_module_version": "1.5.0",
     "model_name": "DescriptionStyleModel",
     "state": {
      "_model_module": "@jupyter-widgets/controls",
      "_model_module_version": "1.5.0",
      "_model_name": "DescriptionStyleModel",
      "_view_count": null,
      "_view_module": "@jupyter-widgets/base",
      "_view_module_version": "1.2.0",
      "_view_name": "StyleView",
      "description_width": ""
     }
    },
    "6c7bab54737d4362a62a6f772530808b": {
     "model_module": "@jupyter-widgets/controls",
     "model_module_version": "1.5.0",
     "model_name": "DescriptionStyleModel",
     "state": {
      "_model_module": "@jupyter-widgets/controls",
      "_model_module_version": "1.5.0",
      "_model_name": "DescriptionStyleModel",
      "_view_count": null,
      "_view_module": "@jupyter-widgets/base",
      "_view_module_version": "1.2.0",
      "_view_name": "StyleView",
      "description_width": ""
     }
    },
    "6d73cb28291d414aa3bc9898a3d222f1": {
     "model_module": "@jupyter-widgets/base",
     "model_module_version": "1.2.0",
     "model_name": "LayoutModel",
     "state": {
      "_model_module": "@jupyter-widgets/base",
      "_model_module_version": "1.2.0",
      "_model_name": "LayoutModel",
      "_view_count": null,
      "_view_module": "@jupyter-widgets/base",
      "_view_module_version": "1.2.0",
      "_view_name": "LayoutView",
      "align_content": null,
      "align_items": null,
      "align_self": null,
      "border": null,
      "bottom": null,
      "display": null,
      "flex": null,
      "flex_flow": null,
      "grid_area": null,
      "grid_auto_columns": null,
      "grid_auto_flow": null,
      "grid_auto_rows": null,
      "grid_column": null,
      "grid_gap": null,
      "grid_row": null,
      "grid_template_areas": null,
      "grid_template_columns": null,
      "grid_template_rows": null,
      "height": null,
      "justify_content": null,
      "justify_items": null,
      "left": null,
      "margin": null,
      "max_height": null,
      "max_width": null,
      "min_height": null,
      "min_width": null,
      "object_fit": null,
      "object_position": null,
      "order": null,
      "overflow": null,
      "overflow_x": null,
      "overflow_y": null,
      "padding": null,
      "right": null,
      "top": null,
      "visibility": null,
      "width": null
     }
    },
    "6d807b7e85424bc79c6eb2877041f57a": {
     "model_module": "@jupyter-widgets/controls",
     "model_module_version": "1.5.0",
     "model_name": "HTMLModel",
     "state": {
      "_dom_classes": [],
      "_model_module": "@jupyter-widgets/controls",
      "_model_module_version": "1.5.0",
      "_model_name": "HTMLModel",
      "_view_count": null,
      "_view_module": "@jupyter-widgets/controls",
      "_view_module_version": "1.5.0",
      "_view_name": "HTMLView",
      "description": "",
      "description_tooltip": null,
      "layout": "IPY_MODEL_9079429a84464fa4aa6233a98007c72f",
      "placeholder": "​",
      "style": "IPY_MODEL_dedf079b49924364b38fae07f0847d58",
      "value": "tokenizer_config.json: 100%"
     }
    },
    "6efe741b51804af5b2d42062bf46b11c": {
     "model_module": "@jupyter-widgets/base",
     "model_module_version": "1.2.0",
     "model_name": "LayoutModel",
     "state": {
      "_model_module": "@jupyter-widgets/base",
      "_model_module_version": "1.2.0",
      "_model_name": "LayoutModel",
      "_view_count": null,
      "_view_module": "@jupyter-widgets/base",
      "_view_module_version": "1.2.0",
      "_view_name": "LayoutView",
      "align_content": null,
      "align_items": null,
      "align_self": null,
      "border": null,
      "bottom": null,
      "display": null,
      "flex": null,
      "flex_flow": null,
      "grid_area": null,
      "grid_auto_columns": null,
      "grid_auto_flow": null,
      "grid_auto_rows": null,
      "grid_column": null,
      "grid_gap": null,
      "grid_row": null,
      "grid_template_areas": null,
      "grid_template_columns": null,
      "grid_template_rows": null,
      "height": null,
      "justify_content": null,
      "justify_items": null,
      "left": null,
      "margin": null,
      "max_height": null,
      "max_width": null,
      "min_height": null,
      "min_width": null,
      "object_fit": null,
      "object_position": null,
      "order": null,
      "overflow": null,
      "overflow_x": null,
      "overflow_y": null,
      "padding": null,
      "right": null,
      "top": null,
      "visibility": null,
      "width": null
     }
    },
    "7459575dd500452fa1b03d4c93365973": {
     "model_module": "@jupyter-widgets/controls",
     "model_module_version": "1.5.0",
     "model_name": "HBoxModel",
     "state": {
      "_dom_classes": [],
      "_model_module": "@jupyter-widgets/controls",
      "_model_module_version": "1.5.0",
      "_model_name": "HBoxModel",
      "_view_count": null,
      "_view_module": "@jupyter-widgets/controls",
      "_view_module_version": "1.5.0",
      "_view_name": "HBoxView",
      "box_style": "",
      "children": [
       "IPY_MODEL_11678579aeff4873aea20da0545fcbb5",
       "IPY_MODEL_b0995366af0f483a9ad542fe2f6cad44",
       "IPY_MODEL_080265933d134e21a1d181af3159e9b1"
      ],
      "layout": "IPY_MODEL_84acf01584ce4dc9a61d25592853583f"
     }
    },
    "751f4526c3af42e6a795bd375576cd5b": {
     "model_module": "@jupyter-widgets/controls",
     "model_module_version": "1.5.0",
     "model_name": "HTMLModel",
     "state": {
      "_dom_classes": [],
      "_model_module": "@jupyter-widgets/controls",
      "_model_module_version": "1.5.0",
      "_model_name": "HTMLModel",
      "_view_count": null,
      "_view_module": "@jupyter-widgets/controls",
      "_view_module_version": "1.5.0",
      "_view_name": "HTMLView",
      "description": "",
      "description_tooltip": null,
      "layout": "IPY_MODEL_25c77bf060d147b4bb8c34496fc6b21a",
      "placeholder": "​",
      "style": "IPY_MODEL_8e8228dd88c04f649ab189099f3b5820",
      "value": " 4/4 [01:16&lt;00:00, 16.49s/it]"
     }
    },
    "7604907baa9f420680ae9df7ffcdd2cb": {
     "model_module": "@jupyter-widgets/controls",
     "model_module_version": "1.5.0",
     "model_name": "HTMLModel",
     "state": {
      "_dom_classes": [],
      "_model_module": "@jupyter-widgets/controls",
      "_model_module_version": "1.5.0",
      "_model_name": "HTMLModel",
      "_view_count": null,
      "_view_module": "@jupyter-widgets/controls",
      "_view_module_version": "1.5.0",
      "_view_name": "HTMLView",
      "description": "",
      "description_tooltip": null,
      "layout": "IPY_MODEL_90a66f7520324a14aa2b4f775058c954",
      "placeholder": "​",
      "style": "IPY_MODEL_bb1d5322c63e49e4b693938f9f6311a0",
      "value": " 4/4 [02:47&lt;00:00, 44.56s/it]"
     }
    },
    "7e3e10a6c7e747f2a616e73c66ed6b71": {
     "model_module": "@jupyter-widgets/controls",
     "model_module_version": "1.5.0",
     "model_name": "DescriptionStyleModel",
     "state": {
      "_model_module": "@jupyter-widgets/controls",
      "_model_module_version": "1.5.0",
      "_model_name": "DescriptionStyleModel",
      "_view_count": null,
      "_view_module": "@jupyter-widgets/base",
      "_view_module_version": "1.2.0",
      "_view_name": "StyleView",
      "description_width": ""
     }
    },
    "81736e60329e43d0a6899e6f5e62c9c5": {
     "model_module": "@jupyter-widgets/controls",
     "model_module_version": "1.5.0",
     "model_name": "DescriptionStyleModel",
     "state": {
      "_model_module": "@jupyter-widgets/controls",
      "_model_module_version": "1.5.0",
      "_model_name": "DescriptionStyleModel",
      "_view_count": null,
      "_view_module": "@jupyter-widgets/base",
      "_view_module_version": "1.2.0",
      "_view_name": "StyleView",
      "description_width": ""
     }
    },
    "8276f1ed8a4b45ff8c61631ab80498f1": {
     "model_module": "@jupyter-widgets/controls",
     "model_module_version": "1.5.0",
     "model_name": "DescriptionStyleModel",
     "state": {
      "_model_module": "@jupyter-widgets/controls",
      "_model_module_version": "1.5.0",
      "_model_name": "DescriptionStyleModel",
      "_view_count": null,
      "_view_module": "@jupyter-widgets/base",
      "_view_module_version": "1.2.0",
      "_view_name": "StyleView",
      "description_width": ""
     }
    },
    "82b6e52d14924440adaeb8ec345feeef": {
     "model_module": "@jupyter-widgets/controls",
     "model_module_version": "1.5.0",
     "model_name": "HTMLModel",
     "state": {
      "_dom_classes": [],
      "_model_module": "@jupyter-widgets/controls",
      "_model_module_version": "1.5.0",
      "_model_name": "HTMLModel",
      "_view_count": null,
      "_view_module": "@jupyter-widgets/controls",
      "_view_module_version": "1.5.0",
      "_view_name": "HTMLView",
      "description": "",
      "description_tooltip": null,
      "layout": "IPY_MODEL_5c514231cef04d0f8d8ba55839292cb2",
      "placeholder": "​",
      "style": "IPY_MODEL_aedd6e19fc2d4e75b7cfa202d069080e",
      "value": "Downloading shards: 100%"
     }
    },
    "82e9eaabf65546eca9baa9b14e9b84af": {
     "model_module": "@jupyter-widgets/controls",
     "model_module_version": "1.5.0",
     "model_name": "FloatProgressModel",
     "state": {
      "_dom_classes": [],
      "_model_module": "@jupyter-widgets/controls",
      "_model_module_version": "1.5.0",
      "_model_name": "FloatProgressModel",
      "_view_count": null,
      "_view_module": "@jupyter-widgets/controls",
      "_view_module_version": "1.5.0",
      "_view_name": "ProgressView",
      "bar_style": "danger",
      "description": "",
      "description_tooltip": null,
      "layout": "IPY_MODEL_56af00cbf6fe430d90fb89a5dc6484da",
      "max": 4976698672,
      "min": 0,
      "orientation": "horizontal",
      "style": "IPY_MODEL_5a1af5851caf4535b7207113722cdbf0",
      "value": 4976698198
     }
    },
    "8323f5ae5842441cb48b8fb89ff79843": {
     "model_module": "@jupyter-widgets/base",
     "model_module_version": "1.2.0",
     "model_name": "LayoutModel",
     "state": {
      "_model_module": "@jupyter-widgets/base",
      "_model_module_version": "1.2.0",
      "_model_name": "LayoutModel",
      "_view_count": null,
      "_view_module": "@jupyter-widgets/base",
      "_view_module_version": "1.2.0",
      "_view_name": "LayoutView",
      "align_content": null,
      "align_items": null,
      "align_self": null,
      "border": null,
      "bottom": null,
      "display": null,
      "flex": null,
      "flex_flow": null,
      "grid_area": null,
      "grid_auto_columns": null,
      "grid_auto_flow": null,
      "grid_auto_rows": null,
      "grid_column": null,
      "grid_gap": null,
      "grid_row": null,
      "grid_template_areas": null,
      "grid_template_columns": null,
      "grid_template_rows": null,
      "height": null,
      "justify_content": null,
      "justify_items": null,
      "left": null,
      "margin": null,
      "max_height": null,
      "max_width": null,
      "min_height": null,
      "min_width": null,
      "object_fit": null,
      "object_position": null,
      "order": null,
      "overflow": null,
      "overflow_x": null,
      "overflow_y": null,
      "padding": null,
      "right": null,
      "top": null,
      "visibility": null,
      "width": null
     }
    },
    "849cc884dd6d4aafad11136d3d767bb0": {
     "model_module": "@jupyter-widgets/base",
     "model_module_version": "1.2.0",
     "model_name": "LayoutModel",
     "state": {
      "_model_module": "@jupyter-widgets/base",
      "_model_module_version": "1.2.0",
      "_model_name": "LayoutModel",
      "_view_count": null,
      "_view_module": "@jupyter-widgets/base",
      "_view_module_version": "1.2.0",
      "_view_name": "LayoutView",
      "align_content": null,
      "align_items": null,
      "align_self": null,
      "border": null,
      "bottom": null,
      "display": null,
      "flex": null,
      "flex_flow": null,
      "grid_area": null,
      "grid_auto_columns": null,
      "grid_auto_flow": null,
      "grid_auto_rows": null,
      "grid_column": null,
      "grid_gap": null,
      "grid_row": null,
      "grid_template_areas": null,
      "grid_template_columns": null,
      "grid_template_rows": null,
      "height": null,
      "justify_content": null,
      "justify_items": null,
      "left": null,
      "margin": null,
      "max_height": null,
      "max_width": null,
      "min_height": null,
      "min_width": null,
      "object_fit": null,
      "object_position": null,
      "order": null,
      "overflow": null,
      "overflow_x": null,
      "overflow_y": null,
      "padding": null,
      "right": null,
      "top": null,
      "visibility": null,
      "width": null
     }
    },
    "84acf01584ce4dc9a61d25592853583f": {
     "model_module": "@jupyter-widgets/base",
     "model_module_version": "1.2.0",
     "model_name": "LayoutModel",
     "state": {
      "_model_module": "@jupyter-widgets/base",
      "_model_module_version": "1.2.0",
      "_model_name": "LayoutModel",
      "_view_count": null,
      "_view_module": "@jupyter-widgets/base",
      "_view_module_version": "1.2.0",
      "_view_name": "LayoutView",
      "align_content": null,
      "align_items": null,
      "align_self": null,
      "border": null,
      "bottom": null,
      "display": null,
      "flex": null,
      "flex_flow": null,
      "grid_area": null,
      "grid_auto_columns": null,
      "grid_auto_flow": null,
      "grid_auto_rows": null,
      "grid_column": null,
      "grid_gap": null,
      "grid_row": null,
      "grid_template_areas": null,
      "grid_template_columns": null,
      "grid_template_rows": null,
      "height": null,
      "justify_content": null,
      "justify_items": null,
      "left": null,
      "margin": null,
      "max_height": null,
      "max_width": null,
      "min_height": null,
      "min_width": null,
      "object_fit": null,
      "object_position": null,
      "order": null,
      "overflow": null,
      "overflow_x": null,
      "overflow_y": null,
      "padding": null,
      "right": null,
      "top": null,
      "visibility": null,
      "width": null
     }
    },
    "8805465295c74b5ca25bc1ce4a624ebe": {
     "model_module": "@jupyter-widgets/base",
     "model_module_version": "1.2.0",
     "model_name": "LayoutModel",
     "state": {
      "_model_module": "@jupyter-widgets/base",
      "_model_module_version": "1.2.0",
      "_model_name": "LayoutModel",
      "_view_count": null,
      "_view_module": "@jupyter-widgets/base",
      "_view_module_version": "1.2.0",
      "_view_name": "LayoutView",
      "align_content": null,
      "align_items": null,
      "align_self": null,
      "border": null,
      "bottom": null,
      "display": null,
      "flex": null,
      "flex_flow": null,
      "grid_area": null,
      "grid_auto_columns": null,
      "grid_auto_flow": null,
      "grid_auto_rows": null,
      "grid_column": null,
      "grid_gap": null,
      "grid_row": null,
      "grid_template_areas": null,
      "grid_template_columns": null,
      "grid_template_rows": null,
      "height": null,
      "justify_content": null,
      "justify_items": null,
      "left": null,
      "margin": null,
      "max_height": null,
      "max_width": null,
      "min_height": null,
      "min_width": null,
      "object_fit": null,
      "object_position": null,
      "order": null,
      "overflow": null,
      "overflow_x": null,
      "overflow_y": null,
      "padding": null,
      "right": null,
      "top": null,
      "visibility": null,
      "width": null
     }
    },
    "8e8228dd88c04f649ab189099f3b5820": {
     "model_module": "@jupyter-widgets/controls",
     "model_module_version": "1.5.0",
     "model_name": "DescriptionStyleModel",
     "state": {
      "_model_module": "@jupyter-widgets/controls",
      "_model_module_version": "1.5.0",
      "_model_name": "DescriptionStyleModel",
      "_view_count": null,
      "_view_module": "@jupyter-widgets/base",
      "_view_module_version": "1.2.0",
      "_view_name": "StyleView",
      "description_width": ""
     }
    },
    "8f31eee865584e8aa592ad6b6b904f6b": {
     "model_module": "@jupyter-widgets/controls",
     "model_module_version": "1.5.0",
     "model_name": "HBoxModel",
     "state": {
      "_dom_classes": [],
      "_model_module": "@jupyter-widgets/controls",
      "_model_module_version": "1.5.0",
      "_model_name": "HBoxModel",
      "_view_count": null,
      "_view_module": "@jupyter-widgets/controls",
      "_view_module_version": "1.5.0",
      "_view_name": "HBoxView",
      "box_style": "",
      "children": [
       "IPY_MODEL_ebdfe4a66be34b9b8e3c11817367676d",
       "IPY_MODEL_82e9eaabf65546eca9baa9b14e9b84af",
       "IPY_MODEL_1c1b229f856e4c2cb600366785ffce33"
      ],
      "layout": "IPY_MODEL_5064069227c54cd1af82f60e05368bc6"
     }
    },
    "8fa5672264d04d45803183b611b5b4d3": {
     "model_module": "@jupyter-widgets/base",
     "model_module_version": "1.2.0",
     "model_name": "LayoutModel",
     "state": {
      "_model_module": "@jupyter-widgets/base",
      "_model_module_version": "1.2.0",
      "_model_name": "LayoutModel",
      "_view_count": null,
      "_view_module": "@jupyter-widgets/base",
      "_view_module_version": "1.2.0",
      "_view_name": "LayoutView",
      "align_content": null,
      "align_items": null,
      "align_self": null,
      "border": null,
      "bottom": null,
      "display": null,
      "flex": null,
      "flex_flow": null,
      "grid_area": null,
      "grid_auto_columns": null,
      "grid_auto_flow": null,
      "grid_auto_rows": null,
      "grid_column": null,
      "grid_gap": null,
      "grid_row": null,
      "grid_template_areas": null,
      "grid_template_columns": null,
      "grid_template_rows": null,
      "height": null,
      "justify_content": null,
      "justify_items": null,
      "left": null,
      "margin": null,
      "max_height": null,
      "max_width": null,
      "min_height": null,
      "min_width": null,
      "object_fit": null,
      "object_position": null,
      "order": null,
      "overflow": null,
      "overflow_x": null,
      "overflow_y": null,
      "padding": null,
      "right": null,
      "top": null,
      "visibility": null,
      "width": null
     }
    },
    "9079429a84464fa4aa6233a98007c72f": {
     "model_module": "@jupyter-widgets/base",
     "model_module_version": "1.2.0",
     "model_name": "LayoutModel",
     "state": {
      "_model_module": "@jupyter-widgets/base",
      "_model_module_version": "1.2.0",
      "_model_name": "LayoutModel",
      "_view_count": null,
      "_view_module": "@jupyter-widgets/base",
      "_view_module_version": "1.2.0",
      "_view_name": "LayoutView",
      "align_content": null,
      "align_items": null,
      "align_self": null,
      "border": null,
      "bottom": null,
      "display": null,
      "flex": null,
      "flex_flow": null,
      "grid_area": null,
      "grid_auto_columns": null,
      "grid_auto_flow": null,
      "grid_auto_rows": null,
      "grid_column": null,
      "grid_gap": null,
      "grid_row": null,
      "grid_template_areas": null,
      "grid_template_columns": null,
      "grid_template_rows": null,
      "height": null,
      "justify_content": null,
      "justify_items": null,
      "left": null,
      "margin": null,
      "max_height": null,
      "max_width": null,
      "min_height": null,
      "min_width": null,
      "object_fit": null,
      "object_position": null,
      "order": null,
      "overflow": null,
      "overflow_x": null,
      "overflow_y": null,
      "padding": null,
      "right": null,
      "top": null,
      "visibility": null,
      "width": null
     }
    },
    "90a66f7520324a14aa2b4f775058c954": {
     "model_module": "@jupyter-widgets/base",
     "model_module_version": "1.2.0",
     "model_name": "LayoutModel",
     "state": {
      "_model_module": "@jupyter-widgets/base",
      "_model_module_version": "1.2.0",
      "_model_name": "LayoutModel",
      "_view_count": null,
      "_view_module": "@jupyter-widgets/base",
      "_view_module_version": "1.2.0",
      "_view_name": "LayoutView",
      "align_content": null,
      "align_items": null,
      "align_self": null,
      "border": null,
      "bottom": null,
      "display": null,
      "flex": null,
      "flex_flow": null,
      "grid_area": null,
      "grid_auto_columns": null,
      "grid_auto_flow": null,
      "grid_auto_rows": null,
      "grid_column": null,
      "grid_gap": null,
      "grid_row": null,
      "grid_template_areas": null,
      "grid_template_columns": null,
      "grid_template_rows": null,
      "height": null,
      "justify_content": null,
      "justify_items": null,
      "left": null,
      "margin": null,
      "max_height": null,
      "max_width": null,
      "min_height": null,
      "min_width": null,
      "object_fit": null,
      "object_position": null,
      "order": null,
      "overflow": null,
      "overflow_x": null,
      "overflow_y": null,
      "padding": null,
      "right": null,
      "top": null,
      "visibility": null,
      "width": null
     }
    },
    "96a20fb7bdc54390a39129492e9873fc": {
     "model_module": "@jupyter-widgets/controls",
     "model_module_version": "1.5.0",
     "model_name": "DescriptionStyleModel",
     "state": {
      "_model_module": "@jupyter-widgets/controls",
      "_model_module_version": "1.5.0",
      "_model_name": "DescriptionStyleModel",
      "_view_count": null,
      "_view_module": "@jupyter-widgets/base",
      "_view_module_version": "1.2.0",
      "_view_name": "StyleView",
      "description_width": ""
     }
    },
    "979d69bdfe22441d80a4c04a5ae3cedb": {
     "model_module": "@jupyter-widgets/base",
     "model_module_version": "1.2.0",
     "model_name": "LayoutModel",
     "state": {
      "_model_module": "@jupyter-widgets/base",
      "_model_module_version": "1.2.0",
      "_model_name": "LayoutModel",
      "_view_count": null,
      "_view_module": "@jupyter-widgets/base",
      "_view_module_version": "1.2.0",
      "_view_name": "LayoutView",
      "align_content": null,
      "align_items": null,
      "align_self": null,
      "border": null,
      "bottom": null,
      "display": null,
      "flex": null,
      "flex_flow": null,
      "grid_area": null,
      "grid_auto_columns": null,
      "grid_auto_flow": null,
      "grid_auto_rows": null,
      "grid_column": null,
      "grid_gap": null,
      "grid_row": null,
      "grid_template_areas": null,
      "grid_template_columns": null,
      "grid_template_rows": null,
      "height": null,
      "justify_content": null,
      "justify_items": null,
      "left": null,
      "margin": null,
      "max_height": null,
      "max_width": null,
      "min_height": null,
      "min_width": null,
      "object_fit": null,
      "object_position": null,
      "order": null,
      "overflow": null,
      "overflow_x": null,
      "overflow_y": null,
      "padding": null,
      "right": null,
      "top": null,
      "visibility": null,
      "width": null
     }
    },
    "99e0b69564ea4174af704261a7982c89": {
     "model_module": "@jupyter-widgets/base",
     "model_module_version": "1.2.0",
     "model_name": "LayoutModel",
     "state": {
      "_model_module": "@jupyter-widgets/base",
      "_model_module_version": "1.2.0",
      "_model_name": "LayoutModel",
      "_view_count": null,
      "_view_module": "@jupyter-widgets/base",
      "_view_module_version": "1.2.0",
      "_view_name": "LayoutView",
      "align_content": null,
      "align_items": null,
      "align_self": null,
      "border": null,
      "bottom": null,
      "display": null,
      "flex": null,
      "flex_flow": null,
      "grid_area": null,
      "grid_auto_columns": null,
      "grid_auto_flow": null,
      "grid_auto_rows": null,
      "grid_column": null,
      "grid_gap": null,
      "grid_row": null,
      "grid_template_areas": null,
      "grid_template_columns": null,
      "grid_template_rows": null,
      "height": null,
      "justify_content": null,
      "justify_items": null,
      "left": null,
      "margin": null,
      "max_height": null,
      "max_width": null,
      "min_height": null,
      "min_width": null,
      "object_fit": null,
      "object_position": null,
      "order": null,
      "overflow": null,
      "overflow_x": null,
      "overflow_y": null,
      "padding": null,
      "right": null,
      "top": null,
      "visibility": null,
      "width": null
     }
    },
    "9b7d22703bc14525be9b4089d5713f64": {
     "model_module": "@jupyter-widgets/controls",
     "model_module_version": "1.5.0",
     "model_name": "FloatProgressModel",
     "state": {
      "_dom_classes": [],
      "_model_module": "@jupyter-widgets/controls",
      "_model_module_version": "1.5.0",
      "_model_name": "FloatProgressModel",
      "_view_count": null,
      "_view_module": "@jupyter-widgets/controls",
      "_view_module_version": "1.5.0",
      "_view_name": "ProgressView",
      "bar_style": "success",
      "description": "",
      "description_tooltip": null,
      "layout": "IPY_MODEL_e63b38309447428da5fbb0180bf01a59",
      "max": 55351,
      "min": 0,
      "orientation": "horizontal",
      "style": "IPY_MODEL_575ea1aa4fdf4bf48559b5bb1e1f97fa",
      "value": 55351
     }
    },
    "a04528060c8843ac8a55ab6e7bae31c5": {
     "model_module": "@jupyter-widgets/controls",
     "model_module_version": "1.5.0",
     "model_name": "HTMLModel",
     "state": {
      "_dom_classes": [],
      "_model_module": "@jupyter-widgets/controls",
      "_model_module_version": "1.5.0",
      "_model_name": "HTMLModel",
      "_view_count": null,
      "_view_module": "@jupyter-widgets/controls",
      "_view_module_version": "1.5.0",
      "_view_name": "HTMLView",
      "description": "",
      "description_tooltip": null,
      "layout": "IPY_MODEL_0288202eb71f436cbc7387c4aecfe3cf",
      "placeholder": "​",
      "style": "IPY_MODEL_7e3e10a6c7e747f2a616e73c66ed6b71",
      "value": "model-00003-of-00004.safetensors: 100%"
     }
    },
    "a12d4b0abe944b7eb38cff66c79a9581": {
     "model_module": "@jupyter-widgets/base",
     "model_module_version": "1.2.0",
     "model_name": "LayoutModel",
     "state": {
      "_model_module": "@jupyter-widgets/base",
      "_model_module_version": "1.2.0",
      "_model_name": "LayoutModel",
      "_view_count": null,
      "_view_module": "@jupyter-widgets/base",
      "_view_module_version": "1.2.0",
      "_view_name": "LayoutView",
      "align_content": null,
      "align_items": null,
      "align_self": null,
      "border": null,
      "bottom": null,
      "display": null,
      "flex": null,
      "flex_flow": null,
      "grid_area": null,
      "grid_auto_columns": null,
      "grid_auto_flow": null,
      "grid_auto_rows": null,
      "grid_column": null,
      "grid_gap": null,
      "grid_row": null,
      "grid_template_areas": null,
      "grid_template_columns": null,
      "grid_template_rows": null,
      "height": null,
      "justify_content": null,
      "justify_items": null,
      "left": null,
      "margin": null,
      "max_height": null,
      "max_width": null,
      "min_height": null,
      "min_width": null,
      "object_fit": null,
      "object_position": null,
      "order": null,
      "overflow": null,
      "overflow_x": null,
      "overflow_y": null,
      "padding": null,
      "right": null,
      "top": null,
      "visibility": null,
      "width": null
     }
    },
    "a185eaccc6fe46b9a3d1629286af7daa": {
     "model_module": "@jupyter-widgets/controls",
     "model_module_version": "1.5.0",
     "model_name": "DescriptionStyleModel",
     "state": {
      "_model_module": "@jupyter-widgets/controls",
      "_model_module_version": "1.5.0",
      "_model_name": "DescriptionStyleModel",
      "_view_count": null,
      "_view_module": "@jupyter-widgets/base",
      "_view_module_version": "1.2.0",
      "_view_name": "StyleView",
      "description_width": ""
     }
    },
    "a54c392e04ec4739a46e94cd79f44986": {
     "model_module": "@jupyter-widgets/controls",
     "model_module_version": "1.5.0",
     "model_name": "HBoxModel",
     "state": {
      "_dom_classes": [],
      "_model_module": "@jupyter-widgets/controls",
      "_model_module_version": "1.5.0",
      "_model_name": "HBoxModel",
      "_view_count": null,
      "_view_module": "@jupyter-widgets/controls",
      "_view_module_version": "1.5.0",
      "_view_name": "HBoxView",
      "box_style": "",
      "children": [
       "IPY_MODEL_d09ef9dabb9d48b2b4c4c5c66ea391ee",
       "IPY_MODEL_3717e5588613407d9db040488542eb51",
       "IPY_MODEL_16759389a8724550a5861bbe7ce1c73e"
      ],
      "layout": "IPY_MODEL_8805465295c74b5ca25bc1ce4a624ebe"
     }
    },
    "a67c642e977741949efd7d1cc319c9a3": {
     "model_module": "@jupyter-widgets/base",
     "model_module_version": "1.2.0",
     "model_name": "LayoutModel",
     "state": {
      "_model_module": "@jupyter-widgets/base",
      "_model_module_version": "1.2.0",
      "_model_name": "LayoutModel",
      "_view_count": null,
      "_view_module": "@jupyter-widgets/base",
      "_view_module_version": "1.2.0",
      "_view_name": "LayoutView",
      "align_content": null,
      "align_items": null,
      "align_self": null,
      "border": null,
      "bottom": null,
      "display": null,
      "flex": null,
      "flex_flow": null,
      "grid_area": null,
      "grid_auto_columns": null,
      "grid_auto_flow": null,
      "grid_auto_rows": null,
      "grid_column": null,
      "grid_gap": null,
      "grid_row": null,
      "grid_template_areas": null,
      "grid_template_columns": null,
      "grid_template_rows": null,
      "height": null,
      "justify_content": null,
      "justify_items": null,
      "left": null,
      "margin": null,
      "max_height": null,
      "max_width": null,
      "min_height": null,
      "min_width": null,
      "object_fit": null,
      "object_position": null,
      "order": null,
      "overflow": null,
      "overflow_x": null,
      "overflow_y": null,
      "padding": null,
      "right": null,
      "top": null,
      "visibility": null,
      "width": null
     }
    },
    "a7ddd27458dd473987f6d1f476b23dae": {
     "model_module": "@jupyter-widgets/controls",
     "model_module_version": "1.5.0",
     "model_name": "HTMLModel",
     "state": {
      "_dom_classes": [],
      "_model_module": "@jupyter-widgets/controls",
      "_model_module_version": "1.5.0",
      "_model_name": "HTMLModel",
      "_view_count": null,
      "_view_module": "@jupyter-widgets/controls",
      "_view_module_version": "1.5.0",
      "_view_name": "HTMLView",
      "description": "",
      "description_tooltip": null,
      "layout": "IPY_MODEL_062ab601f12c486088a5c0fb4552ea87",
      "placeholder": "​",
      "style": "IPY_MODEL_96a20fb7bdc54390a39129492e9873fc",
      "value": " 184/184 [00:00&lt;00:00, 16.8kB/s]"
     }
    },
    "aed6698fcb76414cb79d6f52c32b8442": {
     "model_module": "@jupyter-widgets/controls",
     "model_module_version": "1.5.0",
     "model_name": "ProgressStyleModel",
     "state": {
      "_model_module": "@jupyter-widgets/controls",
      "_model_module_version": "1.5.0",
      "_model_name": "ProgressStyleModel",
      "_view_count": null,
      "_view_module": "@jupyter-widgets/base",
      "_view_module_version": "1.2.0",
      "_view_name": "StyleView",
      "bar_color": null,
      "description_width": ""
     }
    },
    "aedd6e19fc2d4e75b7cfa202d069080e": {
     "model_module": "@jupyter-widgets/controls",
     "model_module_version": "1.5.0",
     "model_name": "DescriptionStyleModel",
     "state": {
      "_model_module": "@jupyter-widgets/controls",
      "_model_module_version": "1.5.0",
      "_model_name": "DescriptionStyleModel",
      "_view_count": null,
      "_view_module": "@jupyter-widgets/base",
      "_view_module_version": "1.2.0",
      "_view_name": "StyleView",
      "description_width": ""
     }
    },
    "b0995366af0f483a9ad542fe2f6cad44": {
     "model_module": "@jupyter-widgets/controls",
     "model_module_version": "1.5.0",
     "model_name": "FloatProgressModel",
     "state": {
      "_dom_classes": [],
      "_model_module": "@jupyter-widgets/controls",
      "_model_module_version": "1.5.0",
      "_model_name": "FloatProgressModel",
      "_view_count": null,
      "_view_module": "@jupyter-widgets/controls",
      "_view_module_version": "1.5.0",
      "_view_name": "ProgressView",
      "bar_style": "danger",
      "description": "",
      "description_tooltip": null,
      "layout": "IPY_MODEL_43f26260ce6a4720a3bb433ed7489d5e",
      "max": 1168138808,
      "min": 0,
      "orientation": "horizontal",
      "style": "IPY_MODEL_b637205c7fe2434dbb130cf3c8031b2a",
      "value": 1168138697
     }
    },
    "b42a7e9dd7f7457b9c3fccbc719750cf": {
     "model_module": "@jupyter-widgets/base",
     "model_module_version": "1.2.0",
     "model_name": "LayoutModel",
     "state": {
      "_model_module": "@jupyter-widgets/base",
      "_model_module_version": "1.2.0",
      "_model_name": "LayoutModel",
      "_view_count": null,
      "_view_module": "@jupyter-widgets/base",
      "_view_module_version": "1.2.0",
      "_view_name": "LayoutView",
      "align_content": null,
      "align_items": null,
      "align_self": null,
      "border": null,
      "bottom": null,
      "display": null,
      "flex": null,
      "flex_flow": null,
      "grid_area": null,
      "grid_auto_columns": null,
      "grid_auto_flow": null,
      "grid_auto_rows": null,
      "grid_column": null,
      "grid_gap": null,
      "grid_row": null,
      "grid_template_areas": null,
      "grid_template_columns": null,
      "grid_template_rows": null,
      "height": null,
      "justify_content": null,
      "justify_items": null,
      "left": null,
      "margin": null,
      "max_height": null,
      "max_width": null,
      "min_height": null,
      "min_width": null,
      "object_fit": null,
      "object_position": null,
      "order": null,
      "overflow": null,
      "overflow_x": null,
      "overflow_y": null,
      "padding": null,
      "right": null,
      "top": null,
      "visibility": null,
      "width": null
     }
    },
    "b54b54a29f1d4824bb36dcbeb686b5cb": {
     "model_module": "@jupyter-widgets/controls",
     "model_module_version": "1.5.0",
     "model_name": "ProgressStyleModel",
     "state": {
      "_model_module": "@jupyter-widgets/controls",
      "_model_module_version": "1.5.0",
      "_model_name": "ProgressStyleModel",
      "_view_count": null,
      "_view_module": "@jupyter-widgets/base",
      "_view_module_version": "1.2.0",
      "_view_name": "StyleView",
      "bar_color": null,
      "description_width": ""
     }
    },
    "b637205c7fe2434dbb130cf3c8031b2a": {
     "model_module": "@jupyter-widgets/controls",
     "model_module_version": "1.5.0",
     "model_name": "ProgressStyleModel",
     "state": {
      "_model_module": "@jupyter-widgets/controls",
      "_model_module_version": "1.5.0",
      "_model_name": "ProgressStyleModel",
      "_view_count": null,
      "_view_module": "@jupyter-widgets/base",
      "_view_module_version": "1.2.0",
      "_view_name": "StyleView",
      "bar_color": null,
      "description_width": ""
     }
    },
    "b723dbf05f5b4071a80dae2d529fa16e": {
     "model_module": "@jupyter-widgets/controls",
     "model_module_version": "1.5.0",
     "model_name": "HBoxModel",
     "state": {
      "_dom_classes": [],
      "_model_module": "@jupyter-widgets/controls",
      "_model_module_version": "1.5.0",
      "_model_name": "HBoxModel",
      "_view_count": null,
      "_view_module": "@jupyter-widgets/controls",
      "_view_module_version": "1.5.0",
      "_view_name": "HBoxView",
      "box_style": "",
      "children": [
       "IPY_MODEL_49215ac050aa47ec94fdd7c4fb183452",
       "IPY_MODEL_41a76823c73b40d2a989165493de6d8c",
       "IPY_MODEL_f24ae528b0cf464eab0fbf8df5ae8a69"
      ],
      "layout": "IPY_MODEL_f4e0067ff5db451a84488c39fdada6b0"
     }
    },
    "b7ef55c1ff8445678fbd4b1c442e218f": {
     "model_module": "@jupyter-widgets/base",
     "model_module_version": "1.2.0",
     "model_name": "LayoutModel",
     "state": {
      "_model_module": "@jupyter-widgets/base",
      "_model_module_version": "1.2.0",
      "_model_name": "LayoutModel",
      "_view_count": null,
      "_view_module": "@jupyter-widgets/base",
      "_view_module_version": "1.2.0",
      "_view_name": "LayoutView",
      "align_content": null,
      "align_items": null,
      "align_self": null,
      "border": null,
      "bottom": null,
      "display": null,
      "flex": null,
      "flex_flow": null,
      "grid_area": null,
      "grid_auto_columns": null,
      "grid_auto_flow": null,
      "grid_auto_rows": null,
      "grid_column": null,
      "grid_gap": null,
      "grid_row": null,
      "grid_template_areas": null,
      "grid_template_columns": null,
      "grid_template_rows": null,
      "height": null,
      "justify_content": null,
      "justify_items": null,
      "left": null,
      "margin": null,
      "max_height": null,
      "max_width": null,
      "min_height": null,
      "min_width": null,
      "object_fit": null,
      "object_position": null,
      "order": null,
      "overflow": null,
      "overflow_x": null,
      "overflow_y": null,
      "padding": null,
      "right": null,
      "top": null,
      "visibility": null,
      "width": null
     }
    },
    "b97c6b03f6db49d5876f41af68715d11": {
     "model_module": "@jupyter-widgets/controls",
     "model_module_version": "1.5.0",
     "model_name": "DescriptionStyleModel",
     "state": {
      "_model_module": "@jupyter-widgets/controls",
      "_model_module_version": "1.5.0",
      "_model_name": "DescriptionStyleModel",
      "_view_count": null,
      "_view_module": "@jupyter-widgets/base",
      "_view_module_version": "1.2.0",
      "_view_name": "StyleView",
      "description_width": ""
     }
    },
    "bb1d5322c63e49e4b693938f9f6311a0": {
     "model_module": "@jupyter-widgets/controls",
     "model_module_version": "1.5.0",
     "model_name": "DescriptionStyleModel",
     "state": {
      "_model_module": "@jupyter-widgets/controls",
      "_model_module_version": "1.5.0",
      "_model_name": "DescriptionStyleModel",
      "_view_count": null,
      "_view_module": "@jupyter-widgets/base",
      "_view_module_version": "1.2.0",
      "_view_name": "StyleView",
      "description_width": ""
     }
    },
    "bf36a9b1e2134d099354676cc10313fb": {
     "model_module": "@jupyter-widgets/base",
     "model_module_version": "1.2.0",
     "model_name": "LayoutModel",
     "state": {
      "_model_module": "@jupyter-widgets/base",
      "_model_module_version": "1.2.0",
      "_model_name": "LayoutModel",
      "_view_count": null,
      "_view_module": "@jupyter-widgets/base",
      "_view_module_version": "1.2.0",
      "_view_name": "LayoutView",
      "align_content": null,
      "align_items": null,
      "align_self": null,
      "border": null,
      "bottom": null,
      "display": null,
      "flex": null,
      "flex_flow": null,
      "grid_area": null,
      "grid_auto_columns": null,
      "grid_auto_flow": null,
      "grid_auto_rows": null,
      "grid_column": null,
      "grid_gap": null,
      "grid_row": null,
      "grid_template_areas": null,
      "grid_template_columns": null,
      "grid_template_rows": null,
      "height": null,
      "justify_content": null,
      "justify_items": null,
      "left": null,
      "margin": null,
      "max_height": null,
      "max_width": null,
      "min_height": null,
      "min_width": null,
      "object_fit": null,
      "object_position": null,
      "order": null,
      "overflow": null,
      "overflow_x": null,
      "overflow_y": null,
      "padding": null,
      "right": null,
      "top": null,
      "visibility": null,
      "width": null
     }
    },
    "bf45cf7d5bb14fc48bfdb59ee7bee523": {
     "model_module": "@jupyter-widgets/base",
     "model_module_version": "1.2.0",
     "model_name": "LayoutModel",
     "state": {
      "_model_module": "@jupyter-widgets/base",
      "_model_module_version": "1.2.0",
      "_model_name": "LayoutModel",
      "_view_count": null,
      "_view_module": "@jupyter-widgets/base",
      "_view_module_version": "1.2.0",
      "_view_name": "LayoutView",
      "align_content": null,
      "align_items": null,
      "align_self": null,
      "border": null,
      "bottom": null,
      "display": null,
      "flex": null,
      "flex_flow": null,
      "grid_area": null,
      "grid_auto_columns": null,
      "grid_auto_flow": null,
      "grid_auto_rows": null,
      "grid_column": null,
      "grid_gap": null,
      "grid_row": null,
      "grid_template_areas": null,
      "grid_template_columns": null,
      "grid_template_rows": null,
      "height": null,
      "justify_content": null,
      "justify_items": null,
      "left": null,
      "margin": null,
      "max_height": null,
      "max_width": null,
      "min_height": null,
      "min_width": null,
      "object_fit": null,
      "object_position": null,
      "order": null,
      "overflow": null,
      "overflow_x": null,
      "overflow_y": null,
      "padding": null,
      "right": null,
      "top": null,
      "visibility": null,
      "width": null
     }
    },
    "c497adea0f7d4e35a02c8f5e10753adb": {
     "model_module": "@jupyter-widgets/base",
     "model_module_version": "1.2.0",
     "model_name": "LayoutModel",
     "state": {
      "_model_module": "@jupyter-widgets/base",
      "_model_module_version": "1.2.0",
      "_model_name": "LayoutModel",
      "_view_count": null,
      "_view_module": "@jupyter-widgets/base",
      "_view_module_version": "1.2.0",
      "_view_name": "LayoutView",
      "align_content": null,
      "align_items": null,
      "align_self": null,
      "border": null,
      "bottom": null,
      "display": null,
      "flex": null,
      "flex_flow": null,
      "grid_area": null,
      "grid_auto_columns": null,
      "grid_auto_flow": null,
      "grid_auto_rows": null,
      "grid_column": null,
      "grid_gap": null,
      "grid_row": null,
      "grid_template_areas": null,
      "grid_template_columns": null,
      "grid_template_rows": null,
      "height": null,
      "justify_content": null,
      "justify_items": null,
      "left": null,
      "margin": null,
      "max_height": null,
      "max_width": null,
      "min_height": null,
      "min_width": null,
      "object_fit": null,
      "object_position": null,
      "order": null,
      "overflow": null,
      "overflow_x": null,
      "overflow_y": null,
      "padding": null,
      "right": null,
      "top": null,
      "visibility": null,
      "width": null
     }
    },
    "c8aaa491968a4ce4bc22bbb09aa30b5f": {
     "model_module": "@jupyter-widgets/controls",
     "model_module_version": "1.5.0",
     "model_name": "FloatProgressModel",
     "state": {
      "_dom_classes": [],
      "_model_module": "@jupyter-widgets/controls",
      "_model_module_version": "1.5.0",
      "_model_name": "FloatProgressModel",
      "_view_count": null,
      "_view_module": "@jupyter-widgets/controls",
      "_view_module_version": "1.5.0",
      "_view_name": "ProgressView",
      "bar_style": "success",
      "description": "",
      "description_tooltip": null,
      "layout": "IPY_MODEL_979d69bdfe22441d80a4c04a5ae3cedb",
      "max": 184,
      "min": 0,
      "orientation": "horizontal",
      "style": "IPY_MODEL_377666cc649442ffa72d84c5c8839d9e",
      "value": 184
     }
    },
    "c8c9296fbebb42b4888525b27c5d3850": {
     "model_module": "@jupyter-widgets/controls",
     "model_module_version": "1.5.0",
     "model_name": "HTMLModel",
     "state": {
      "_dom_classes": [],
      "_model_module": "@jupyter-widgets/controls",
      "_model_module_version": "1.5.0",
      "_model_name": "HTMLModel",
      "_view_count": null,
      "_view_module": "@jupyter-widgets/controls",
      "_view_module_version": "1.5.0",
      "_view_name": "HTMLView",
      "description": "",
      "description_tooltip": null,
      "layout": "IPY_MODEL_b42a7e9dd7f7457b9c3fccbc719750cf",
      "placeholder": "​",
      "style": "IPY_MODEL_6c7bab54737d4362a62a6f772530808b",
      "value": "generation_config.json: 100%"
     }
    },
    "c9f4b5e5e109486f97a951acbc032665": {
     "model_module": "@jupyter-widgets/controls",
     "model_module_version": "1.5.0",
     "model_name": "DescriptionStyleModel",
     "state": {
      "_model_module": "@jupyter-widgets/controls",
      "_model_module_version": "1.5.0",
      "_model_name": "DescriptionStyleModel",
      "_view_count": null,
      "_view_module": "@jupyter-widgets/base",
      "_view_module_version": "1.2.0",
      "_view_name": "StyleView",
      "description_width": ""
     }
    },
    "ca43011e71e540fa9865f7d5772b565b": {
     "model_module": "@jupyter-widgets/controls",
     "model_module_version": "1.5.0",
     "model_name": "ProgressStyleModel",
     "state": {
      "_model_module": "@jupyter-widgets/controls",
      "_model_module_version": "1.5.0",
      "_model_name": "ProgressStyleModel",
      "_view_count": null,
      "_view_module": "@jupyter-widgets/base",
      "_view_module_version": "1.2.0",
      "_view_name": "StyleView",
      "bar_color": null,
      "description_width": ""
     }
    },
    "d09ef9dabb9d48b2b4c4c5c66ea391ee": {
     "model_module": "@jupyter-widgets/controls",
     "model_module_version": "1.5.0",
     "model_name": "HTMLModel",
     "state": {
      "_dom_classes": [],
      "_model_module": "@jupyter-widgets/controls",
      "_model_module_version": "1.5.0",
      "_model_name": "HTMLModel",
      "_view_count": null,
      "_view_module": "@jupyter-widgets/controls",
      "_view_module_version": "1.5.0",
      "_view_name": "HTMLView",
      "description": "",
      "description_tooltip": null,
      "layout": "IPY_MODEL_fed355979fb94feca157aea9d1b20f42",
      "placeholder": "​",
      "style": "IPY_MODEL_ddf56777186e4e84b287bad4cc1c792f",
      "value": "model.safetensors.index.json: 100%"
     }
    },
    "d0f980e126ad4df4a0e1e73431f6f0f9": {
     "model_module": "@jupyter-widgets/base",
     "model_module_version": "1.2.0",
     "model_name": "LayoutModel",
     "state": {
      "_model_module": "@jupyter-widgets/base",
      "_model_module_version": "1.2.0",
      "_model_name": "LayoutModel",
      "_view_count": null,
      "_view_module": "@jupyter-widgets/base",
      "_view_module_version": "1.2.0",
      "_view_name": "LayoutView",
      "align_content": null,
      "align_items": null,
      "align_self": null,
      "border": null,
      "bottom": null,
      "display": null,
      "flex": null,
      "flex_flow": null,
      "grid_area": null,
      "grid_auto_columns": null,
      "grid_auto_flow": null,
      "grid_auto_rows": null,
      "grid_column": null,
      "grid_gap": null,
      "grid_row": null,
      "grid_template_areas": null,
      "grid_template_columns": null,
      "grid_template_rows": null,
      "height": null,
      "justify_content": null,
      "justify_items": null,
      "left": null,
      "margin": null,
      "max_height": null,
      "max_width": null,
      "min_height": null,
      "min_width": null,
      "object_fit": null,
      "object_position": null,
      "order": null,
      "overflow": null,
      "overflow_x": null,
      "overflow_y": null,
      "padding": null,
      "right": null,
      "top": null,
      "visibility": null,
      "width": null
     }
    },
    "d22b088e8aeb4a5aac0d6fc886d19f67": {
     "model_module": "@jupyter-widgets/controls",
     "model_module_version": "1.5.0",
     "model_name": "HBoxModel",
     "state": {
      "_dom_classes": [],
      "_model_module": "@jupyter-widgets/controls",
      "_model_module_version": "1.5.0",
      "_model_name": "HBoxModel",
      "_view_count": null,
      "_view_module": "@jupyter-widgets/controls",
      "_view_module_version": "1.5.0",
      "_view_name": "HBoxView",
      "box_style": "",
      "children": [
       "IPY_MODEL_59526feb59bf4a13910960c13d1b0730",
       "IPY_MODEL_e1d8f943e0494494ac2fe9658eb1593f",
       "IPY_MODEL_0a4e1597ff714e9abc458ae4685e89ee"
      ],
      "layout": "IPY_MODEL_a12d4b0abe944b7eb38cff66c79a9581"
     }
    },
    "d636c0b46166445997e33a3e8ac208d6": {
     "model_module": "@jupyter-widgets/controls",
     "model_module_version": "1.5.0",
     "model_name": "DescriptionStyleModel",
     "state": {
      "_model_module": "@jupyter-widgets/controls",
      "_model_module_version": "1.5.0",
      "_model_name": "DescriptionStyleModel",
      "_view_count": null,
      "_view_module": "@jupyter-widgets/base",
      "_view_module_version": "1.2.0",
      "_view_name": "StyleView",
      "description_width": ""
     }
    },
    "d87a56b2f57e49cc82a4efd000635e28": {
     "model_module": "@jupyter-widgets/controls",
     "model_module_version": "1.5.0",
     "model_name": "DescriptionStyleModel",
     "state": {
      "_model_module": "@jupyter-widgets/controls",
      "_model_module_version": "1.5.0",
      "_model_name": "DescriptionStyleModel",
      "_view_count": null,
      "_view_module": "@jupyter-widgets/base",
      "_view_module_version": "1.2.0",
      "_view_name": "StyleView",
      "description_width": ""
     }
    },
    "ddf56777186e4e84b287bad4cc1c792f": {
     "model_module": "@jupyter-widgets/controls",
     "model_module_version": "1.5.0",
     "model_name": "DescriptionStyleModel",
     "state": {
      "_model_module": "@jupyter-widgets/controls",
      "_model_module_version": "1.5.0",
      "_model_name": "DescriptionStyleModel",
      "_view_count": null,
      "_view_module": "@jupyter-widgets/base",
      "_view_module_version": "1.2.0",
      "_view_name": "StyleView",
      "description_width": ""
     }
    },
    "dedf079b49924364b38fae07f0847d58": {
     "model_module": "@jupyter-widgets/controls",
     "model_module_version": "1.5.0",
     "model_name": "DescriptionStyleModel",
     "state": {
      "_model_module": "@jupyter-widgets/controls",
      "_model_module_version": "1.5.0",
      "_model_name": "DescriptionStyleModel",
      "_view_count": null,
      "_view_module": "@jupyter-widgets/base",
      "_view_module_version": "1.2.0",
      "_view_name": "StyleView",
      "description_width": ""
     }
    },
    "df79135f6f8d4367b0f9d307c3b1cd9a": {
     "model_module": "@jupyter-widgets/controls",
     "model_module_version": "1.5.0",
     "model_name": "ProgressStyleModel",
     "state": {
      "_model_module": "@jupyter-widgets/controls",
      "_model_module_version": "1.5.0",
      "_model_name": "ProgressStyleModel",
      "_view_count": null,
      "_view_module": "@jupyter-widgets/base",
      "_view_module_version": "1.2.0",
      "_view_name": "StyleView",
      "bar_color": null,
      "description_width": ""
     }
    },
    "e18e88b13ba04c859c1a96fba215b75e": {
     "model_module": "@jupyter-widgets/controls",
     "model_module_version": "1.5.0",
     "model_name": "HBoxModel",
     "state": {
      "_dom_classes": [],
      "_model_module": "@jupyter-widgets/controls",
      "_model_module_version": "1.5.0",
      "_model_name": "HBoxModel",
      "_view_count": null,
      "_view_module": "@jupyter-widgets/controls",
      "_view_module_version": "1.5.0",
      "_view_name": "HBoxView",
      "box_style": "",
      "children": [
       "IPY_MODEL_82b6e52d14924440adaeb8ec345feeef",
       "IPY_MODEL_263056fc164b4147802f935da1808236",
       "IPY_MODEL_7604907baa9f420680ae9df7ffcdd2cb"
      ],
      "layout": "IPY_MODEL_0cb57a9340ae4652881c1634a8795f89"
     }
    },
    "e1d8f943e0494494ac2fe9658eb1593f": {
     "model_module": "@jupyter-widgets/controls",
     "model_module_version": "1.5.0",
     "model_name": "FloatProgressModel",
     "state": {
      "_dom_classes": [],
      "_model_module": "@jupyter-widgets/controls",
      "_model_module_version": "1.5.0",
      "_model_name": "FloatProgressModel",
      "_view_count": null,
      "_view_module": "@jupyter-widgets/controls",
      "_view_module_version": "1.5.0",
      "_view_name": "ProgressView",
      "bar_style": "success",
      "description": "",
      "description_tooltip": null,
      "layout": "IPY_MODEL_075b80dc8d4340f6a9a8d61e6885bea7",
      "max": 9085657,
      "min": 0,
      "orientation": "horizontal",
      "style": "IPY_MODEL_df79135f6f8d4367b0f9d307c3b1cd9a",
      "value": 9085657
     }
    },
    "e37276312c4a4a0eb43366fdbe8f111d": {
     "model_module": "@jupyter-widgets/base",
     "model_module_version": "1.2.0",
     "model_name": "LayoutModel",
     "state": {
      "_model_module": "@jupyter-widgets/base",
      "_model_module_version": "1.2.0",
      "_model_name": "LayoutModel",
      "_view_count": null,
      "_view_module": "@jupyter-widgets/base",
      "_view_module_version": "1.2.0",
      "_view_name": "LayoutView",
      "align_content": null,
      "align_items": null,
      "align_self": null,
      "border": null,
      "bottom": null,
      "display": null,
      "flex": null,
      "flex_flow": null,
      "grid_area": null,
      "grid_auto_columns": null,
      "grid_auto_flow": null,
      "grid_auto_rows": null,
      "grid_column": null,
      "grid_gap": null,
      "grid_row": null,
      "grid_template_areas": null,
      "grid_template_columns": null,
      "grid_template_rows": null,
      "height": null,
      "justify_content": null,
      "justify_items": null,
      "left": null,
      "margin": null,
      "max_height": null,
      "max_width": null,
      "min_height": null,
      "min_width": null,
      "object_fit": null,
      "object_position": null,
      "order": null,
      "overflow": null,
      "overflow_x": null,
      "overflow_y": null,
      "padding": null,
      "right": null,
      "top": null,
      "visibility": null,
      "width": null
     }
    },
    "e542f6ed280a4fd4ac6b1422d9bcaf28": {
     "model_module": "@jupyter-widgets/controls",
     "model_module_version": "1.5.0",
     "model_name": "ProgressStyleModel",
     "state": {
      "_model_module": "@jupyter-widgets/controls",
      "_model_module_version": "1.5.0",
      "_model_name": "ProgressStyleModel",
      "_view_count": null,
      "_view_module": "@jupyter-widgets/base",
      "_view_module_version": "1.2.0",
      "_view_name": "StyleView",
      "bar_color": null,
      "description_width": ""
     }
    },
    "e63b38309447428da5fbb0180bf01a59": {
     "model_module": "@jupyter-widgets/base",
     "model_module_version": "1.2.0",
     "model_name": "LayoutModel",
     "state": {
      "_model_module": "@jupyter-widgets/base",
      "_model_module_version": "1.2.0",
      "_model_name": "LayoutModel",
      "_view_count": null,
      "_view_module": "@jupyter-widgets/base",
      "_view_module_version": "1.2.0",
      "_view_name": "LayoutView",
      "align_content": null,
      "align_items": null,
      "align_self": null,
      "border": null,
      "bottom": null,
      "display": null,
      "flex": null,
      "flex_flow": null,
      "grid_area": null,
      "grid_auto_columns": null,
      "grid_auto_flow": null,
      "grid_auto_rows": null,
      "grid_column": null,
      "grid_gap": null,
      "grid_row": null,
      "grid_template_areas": null,
      "grid_template_columns": null,
      "grid_template_rows": null,
      "height": null,
      "justify_content": null,
      "justify_items": null,
      "left": null,
      "margin": null,
      "max_height": null,
      "max_width": null,
      "min_height": null,
      "min_width": null,
      "object_fit": null,
      "object_position": null,
      "order": null,
      "overflow": null,
      "overflow_x": null,
      "overflow_y": null,
      "padding": null,
      "right": null,
      "top": null,
      "visibility": null,
      "width": null
     }
    },
    "eaaececf3be9407c9987ce0f8573e434": {
     "model_module": "@jupyter-widgets/controls",
     "model_module_version": "1.5.0",
     "model_name": "HTMLModel",
     "state": {
      "_dom_classes": [],
      "_model_module": "@jupyter-widgets/controls",
      "_model_module_version": "1.5.0",
      "_model_name": "HTMLModel",
      "_view_count": null,
      "_view_module": "@jupyter-widgets/controls",
      "_view_module_version": "1.5.0",
      "_view_name": "HTMLView",
      "description": "",
      "description_tooltip": null,
      "layout": "IPY_MODEL_e37276312c4a4a0eb43366fdbe8f111d",
      "placeholder": "​",
      "style": "IPY_MODEL_51a1d4201e1641bfba6d2be5fe391241",
      "value": " 55.4k/55.4k [00:00&lt;00:00, 3.33MB/s]"
     }
    },
    "ebdfe4a66be34b9b8e3c11817367676d": {
     "model_module": "@jupyter-widgets/controls",
     "model_module_version": "1.5.0",
     "model_name": "HTMLModel",
     "state": {
      "_dom_classes": [],
      "_model_module": "@jupyter-widgets/controls",
      "_model_module_version": "1.5.0",
      "_model_name": "HTMLModel",
      "_view_count": null,
      "_view_module": "@jupyter-widgets/controls",
      "_view_module_version": "1.5.0",
      "_view_name": "HTMLView",
      "description": "",
      "description_tooltip": null,
      "layout": "IPY_MODEL_a67c642e977741949efd7d1cc319c9a3",
      "placeholder": "​",
      "style": "IPY_MODEL_61b19c98fcc84953a0250ad4aa12e274",
      "value": "model-00001-of-00004.safetensors: 100%"
     }
    },
    "f24628bcf4d64ecda5d6f208c497b1c8": {
     "model_module": "@jupyter-widgets/controls",
     "model_module_version": "1.5.0",
     "model_name": "DescriptionStyleModel",
     "state": {
      "_model_module": "@jupyter-widgets/controls",
      "_model_module_version": "1.5.0",
      "_model_name": "DescriptionStyleModel",
      "_view_count": null,
      "_view_module": "@jupyter-widgets/base",
      "_view_module_version": "1.2.0",
      "_view_name": "StyleView",
      "description_width": ""
     }
    },
    "f24ae528b0cf464eab0fbf8df5ae8a69": {
     "model_module": "@jupyter-widgets/controls",
     "model_module_version": "1.5.0",
     "model_name": "HTMLModel",
     "state": {
      "_dom_classes": [],
      "_model_module": "@jupyter-widgets/controls",
      "_model_module_version": "1.5.0",
      "_model_name": "HTMLModel",
      "_view_count": null,
      "_view_module": "@jupyter-widgets/controls",
      "_view_module_version": "1.5.0",
      "_view_name": "HTMLView",
      "description": "",
      "description_tooltip": null,
      "layout": "IPY_MODEL_849cc884dd6d4aafad11136d3d767bb0",
      "placeholder": "​",
      "style": "IPY_MODEL_d636c0b46166445997e33a3e8ac208d6",
      "value": " 5.00G/5.00G [00:42&lt;00:00, 650MB/s]"
     }
    },
    "f4e0067ff5db451a84488c39fdada6b0": {
     "model_module": "@jupyter-widgets/base",
     "model_module_version": "1.2.0",
     "model_name": "LayoutModel",
     "state": {
      "_model_module": "@jupyter-widgets/base",
      "_model_module_version": "1.2.0",
      "_model_name": "LayoutModel",
      "_view_count": null,
      "_view_module": "@jupyter-widgets/base",
      "_view_module_version": "1.2.0",
      "_view_name": "LayoutView",
      "align_content": null,
      "align_items": null,
      "align_self": null,
      "border": null,
      "bottom": null,
      "display": null,
      "flex": null,
      "flex_flow": null,
      "grid_area": null,
      "grid_auto_columns": null,
      "grid_auto_flow": null,
      "grid_auto_rows": null,
      "grid_column": null,
      "grid_gap": null,
      "grid_row": null,
      "grid_template_areas": null,
      "grid_template_columns": null,
      "grid_template_rows": null,
      "height": null,
      "justify_content": null,
      "justify_items": null,
      "left": null,
      "margin": null,
      "max_height": null,
      "max_width": null,
      "min_height": null,
      "min_width": null,
      "object_fit": null,
      "object_position": null,
      "order": null,
      "overflow": null,
      "overflow_x": null,
      "overflow_y": null,
      "padding": null,
      "right": null,
      "top": null,
      "visibility": null,
      "width": null
     }
    },
    "f5ec4cc0f4894b6dbd739ade69c53ce9": {
     "model_module": "@jupyter-widgets/controls",
     "model_module_version": "1.5.0",
     "model_name": "DescriptionStyleModel",
     "state": {
      "_model_module": "@jupyter-widgets/controls",
      "_model_module_version": "1.5.0",
      "_model_name": "DescriptionStyleModel",
      "_view_count": null,
      "_view_module": "@jupyter-widgets/base",
      "_view_module_version": "1.2.0",
      "_view_name": "StyleView",
      "description_width": ""
     }
    },
    "f6086f18ecbd4f3ca5048d86bff894ff": {
     "model_module": "@jupyter-widgets/controls",
     "model_module_version": "1.5.0",
     "model_name": "FloatProgressModel",
     "state": {
      "_dom_classes": [],
      "_model_module": "@jupyter-widgets/controls",
      "_model_module_version": "1.5.0",
      "_model_name": "FloatProgressModel",
      "_view_count": null,
      "_view_module": "@jupyter-widgets/controls",
      "_view_module_version": "1.5.0",
      "_view_name": "ProgressView",
      "bar_style": "success",
      "description": "",
      "description_tooltip": null,
      "layout": "IPY_MODEL_8323f5ae5842441cb48b8fb89ff79843",
      "max": 4,
      "min": 0,
      "orientation": "horizontal",
      "style": "IPY_MODEL_aed6698fcb76414cb79d6f52c32b8442",
      "value": 4
     }
    },
    "f6f1438955c7441eb0a90c5f8ec62739": {
     "model_module": "@jupyter-widgets/base",
     "model_module_version": "1.2.0",
     "model_name": "LayoutModel",
     "state": {
      "_model_module": "@jupyter-widgets/base",
      "_model_module_version": "1.2.0",
      "_model_name": "LayoutModel",
      "_view_count": null,
      "_view_module": "@jupyter-widgets/base",
      "_view_module_version": "1.2.0",
      "_view_name": "LayoutView",
      "align_content": null,
      "align_items": null,
      "align_self": null,
      "border": null,
      "bottom": null,
      "display": null,
      "flex": null,
      "flex_flow": null,
      "grid_area": null,
      "grid_auto_columns": null,
      "grid_auto_flow": null,
      "grid_auto_rows": null,
      "grid_column": null,
      "grid_gap": null,
      "grid_row": null,
      "grid_template_areas": null,
      "grid_template_columns": null,
      "grid_template_rows": null,
      "height": null,
      "justify_content": null,
      "justify_items": null,
      "left": null,
      "margin": null,
      "max_height": null,
      "max_width": null,
      "min_height": null,
      "min_width": null,
      "object_fit": null,
      "object_position": null,
      "order": null,
      "overflow": null,
      "overflow_x": null,
      "overflow_y": null,
      "padding": null,
      "right": null,
      "top": null,
      "visibility": null,
      "width": null
     }
    },
    "f96f4361b6be45ef908086e52aaa9c08": {
     "model_module": "@jupyter-widgets/base",
     "model_module_version": "1.2.0",
     "model_name": "LayoutModel",
     "state": {
      "_model_module": "@jupyter-widgets/base",
      "_model_module_version": "1.2.0",
      "_model_name": "LayoutModel",
      "_view_count": null,
      "_view_module": "@jupyter-widgets/base",
      "_view_module_version": "1.2.0",
      "_view_name": "LayoutView",
      "align_content": null,
      "align_items": null,
      "align_self": null,
      "border": null,
      "bottom": null,
      "display": null,
      "flex": null,
      "flex_flow": null,
      "grid_area": null,
      "grid_auto_columns": null,
      "grid_auto_flow": null,
      "grid_auto_rows": null,
      "grid_column": null,
      "grid_gap": null,
      "grid_row": null,
      "grid_template_areas": null,
      "grid_template_columns": null,
      "grid_template_rows": null,
      "height": null,
      "justify_content": null,
      "justify_items": null,
      "left": null,
      "margin": null,
      "max_height": null,
      "max_width": null,
      "min_height": null,
      "min_width": null,
      "object_fit": null,
      "object_position": null,
      "order": null,
      "overflow": null,
      "overflow_x": null,
      "overflow_y": null,
      "padding": null,
      "right": null,
      "top": null,
      "visibility": null,
      "width": null
     }
    },
    "fed355979fb94feca157aea9d1b20f42": {
     "model_module": "@jupyter-widgets/base",
     "model_module_version": "1.2.0",
     "model_name": "LayoutModel",
     "state": {
      "_model_module": "@jupyter-widgets/base",
      "_model_module_version": "1.2.0",
      "_model_name": "LayoutModel",
      "_view_count": null,
      "_view_module": "@jupyter-widgets/base",
      "_view_module_version": "1.2.0",
      "_view_name": "LayoutView",
      "align_content": null,
      "align_items": null,
      "align_self": null,
      "border": null,
      "bottom": null,
      "display": null,
      "flex": null,
      "flex_flow": null,
      "grid_area": null,
      "grid_auto_columns": null,
      "grid_auto_flow": null,
      "grid_auto_rows": null,
      "grid_column": null,
      "grid_gap": null,
      "grid_row": null,
      "grid_template_areas": null,
      "grid_template_columns": null,
      "grid_template_rows": null,
      "height": null,
      "justify_content": null,
      "justify_items": null,
      "left": null,
      "margin": null,
      "max_height": null,
      "max_width": null,
      "min_height": null,
      "min_width": null,
      "object_fit": null,
      "object_position": null,
      "order": null,
      "overflow": null,
      "overflow_x": null,
      "overflow_y": null,
      "padding": null,
      "right": null,
      "top": null,
      "visibility": null,
      "width": null
     }
    }
   }
  }
 },
 "nbformat": 4,
 "nbformat_minor": 5
}
