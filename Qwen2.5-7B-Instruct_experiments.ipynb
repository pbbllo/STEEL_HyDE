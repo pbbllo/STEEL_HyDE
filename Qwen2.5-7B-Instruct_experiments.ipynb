{
 "cells": [
  {
   "cell_type": "markdown",
   "id": "edTMfHLDYyLD",
   "metadata": {
    "id": "edTMfHLDYyLD"
   },
   "source": [
    "# Datasets"
   ]
  },
  {
   "cell_type": "code",
   "execution_count": null,
   "id": "nG1ib945YxUD",
   "metadata": {
    "colab": {
     "base_uri": "https://localhost:8080/"
    },
    "executionInfo": {
     "elapsed": 32307,
     "status": "ok",
     "timestamp": 1739398446897,
     "user": {
      "displayName": "PABLO FONSECA",
      "userId": "08072571061568482593"
     },
     "user_tz": 180
    },
    "id": "nG1ib945YxUD",
    "outputId": "d83d0760-e8e3-40cb-d26c-1d5ee03ee97a"
   },
   "outputs": [],
   "source": [
    "import os\n",
    "import json\n",
    "import pandas as pd\n",
    "from google.colab import drive\n",
    "drive.mount(\"/content/drive/\")\n",
    "\n",
    "DATASET_DIR = os.path.join(\"/content/drive/MyDrive/TCC/workspace/datasets\")\n",
    "RESULTS_DIR =  os.path.join(\"/content/drive/MyDrive/TCC/workspace/experiments/results\")\n"
   ]
  },
  {
   "cell_type": "code",
   "execution_count": null,
   "id": "G5HqF_St6Htx",
   "metadata": {
    "executionInfo": {
     "elapsed": 2888,
     "status": "ok",
     "timestamp": 1739398449783,
     "user": {
      "displayName": "PABLO FONSECA",
      "userId": "08072571061568482593"
     },
     "user_tz": 180
    },
    "id": "G5HqF_St6Htx"
   },
   "outputs": [],
   "source": [
    "fakebrcorpus_full = pd.read_csv(f\"{DATASET_DIR}/Fakebr/full_text_fakebrcorpus.csv\")\n",
    "liar_full = pd.read_csv(f'{DATASET_DIR}/LIAR/liar_train.csv')"
   ]
  },
  {
   "cell_type": "markdown",
   "id": "zO4ThlBqqs-P",
   "metadata": {
    "id": "zO4ThlBqqs-P"
   },
   "source": [
    "# Setup\n",
    "- Install packages\n",
    "- Load model"
   ]
  },
  {
   "cell_type": "code",
   "execution_count": null,
   "id": "mSGY5-AG5T4M",
   "metadata": {
    "colab": {
     "base_uri": "https://localhost:8080/"
    },
    "executionInfo": {
     "elapsed": 236,
     "status": "ok",
     "timestamp": 1739398509159,
     "user": {
      "displayName": "PABLO FONSECA",
      "userId": "08072571061568482593"
     },
     "user_tz": 180
    },
    "id": "mSGY5-AG5T4M",
    "outputId": "af074325-1e04-4d9c-c37c-ac43a788ea41"
   },
   "outputs": [],
   "source": [
    "!python --version"
   ]
  },
  {
   "cell_type": "code",
   "execution_count": null,
   "id": "ssEez18I9FyS",
   "metadata": {
    "colab": {
     "base_uri": "https://localhost:8080/"
    },
    "collapsed": true,
    "executionInfo": {
     "elapsed": 28268,
     "status": "ok",
     "timestamp": 1739398859693,
     "user": {
      "displayName": "PABLO FONSECA",
      "userId": "08072571061568482593"
     },
     "user_tz": 180
    },
    "id": "ssEez18I9FyS",
    "outputId": "4ada5e2a-90fb-4510-c675-f7780f862d2d"
   },
   "outputs": [],
   "source": [
    "!pip install unsloth==2025.1.1\n",
    "!pip install pyarrow==17.0.0\n",
    "!pip install transformers==4.47.1\n",
    "!pip install torch==2.5.1"
   ]
  },
  {
   "cell_type": "code",
   "execution_count": null,
   "id": "4rLIfAv23zEk",
   "metadata": {
    "colab": {
     "base_uri": "https://localhost:8080/",
     "height": 217
    },
    "executionInfo": {
     "elapsed": 4798,
     "status": "error",
     "timestamp": 1739398827075,
     "user": {
      "displayName": "PABLO FONSECA",
      "userId": "08072571061568482593"
     },
     "user_tz": 180
    },
    "id": "4rLIfAv23zEk",
    "outputId": "1984b660-418c-440f-e122-f14f94dc3ff0"
   },
   "outputs": [],
   "source": [
    "import torch\n",
    "torch.cuda.is_available()"
   ]
  },
  {
   "cell_type": "code",
   "execution_count": null,
   "id": "3HEk2v73SIcJ",
   "metadata": {
    "executionInfo": {
     "elapsed": 3,
     "status": "aborted",
     "timestamp": 1739398827075,
     "user": {
      "displayName": "PABLO FONSECA",
      "userId": "08072571061568482593"
     },
     "user_tz": 180
    },
    "id": "3HEk2v73SIcJ"
   },
   "outputs": [],
   "source": [
    "from unsloth import FastLanguageModel\n",
    "\n",
    "base_model_id = \"Qwen/Qwen2.5-7B-Instruct\"\n",
    "max_seq_length = 4096\n",
    "dtype = None\n",
    "load_in_4bit = True\n",
    "device_map = \"auto\"\n",
    "\n",
    "model, tokenizer = FastLanguageModel.from_pretrained(\n",
    "    model_name=base_model_id,\n",
    "    max_seq_length=max_seq_length,\n",
    "    dtype=dtype,\n",
    "    load_in_4bit=load_in_4bit,\n",
    "    device_map=device_map,\n",
    ")\n"
   ]
  },
  {
   "cell_type": "markdown",
   "id": "-5XMVS6_q3YE",
   "metadata": {
    "id": "-5XMVS6_q3YE"
   },
   "source": [
    "# Functions"
   ]
  },
  {
   "cell_type": "code",
   "execution_count": 17,
   "id": "FEi88I1hOv3V",
   "metadata": {
    "executionInfo": {
     "elapsed": 252,
     "status": "ok",
     "timestamp": 1739398947095,
     "user": {
      "displayName": "PABLO FONSECA",
      "userId": "08072571061568482593"
     },
     "user_tz": 180
    },
    "id": "FEi88I1hOv3V"
   },
   "outputs": [],
   "source": [
    "from sklearn.metrics import confusion_matrix, accuracy_score, precision_score, recall_score, f1_score\n",
    "from sklearn.metrics import ConfusionMatrixDisplay\n",
    "\n",
    "REGEX_EXPLANATION = r\"(Explanation|Explicação):\\s*\\**(.*)\"\n",
    "REGEX_ANSWER_EN = r\"\\**(Answer)\\**:\\**\\s*\\[?(\\d+)\\]?\"\n",
    "REGEX_ANSWER_PT = r\"\\**(Resposta|Avaliação)\\**:\\**\\s*\\[?(\\d+)\\]?\"\n",
    "REGEX_0_EXCEPTION = r\"N/A|0/1|[?]\"\n",
    "REGEX_1_EXCEPTION = r\"1/1\"\n",
    "REGEX_ANSWER_EXCEPTION = r\"(Answer|Resposta):\"\n",
    "\n",
    "def plot(confusion_matrix, title):\n",
    "  disp = ConfusionMatrixDisplay(confusion_matrix=confusion_matrix, display_labels=[\"Fake News\", \"True News\"])\n",
    "  disp.plot()\n",
    "  plt.title(title)\n",
    "  plt.show()\n",
    "\n",
    "\n",
    "def evaluate_assistant_answer(true_labels, predicted_labels):\n",
    "    y_true = list(true_labels['label'])\n",
    "    y_pred = list(predicted_labels['label'])\n",
    "\n",
    "    cm = confusion_matrix(y_true, y_pred, labels=[0,1], normalize='true')\n",
    "\n",
    "    # TP = cm[0, 0]  # True Positives\n",
    "    # FN = cm[0, 1]  # False Negatives\n",
    "    # FP = cm[1, 0]  # False Positives\n",
    "    # TN = cm[1, 1]  # True Negatives\n",
    "\n",
    "    # # Accuracy: (TP + TN) / Total\n",
    "    # accuracy = (TP + TN) / (TP + TN + FP + FN)\n",
    "\n",
    "    # # Precision: TP / (TP + FP)\n",
    "    # precision = TP / (TP + FP) if (TP + FP) != 0 else 0\n",
    "\n",
    "    # # Recall: TP / (TP + FN)\n",
    "    # recall = TP / (TP + FN) if (TP + FN) != 0 else 0\n",
    "\n",
    "    # # F1-Score: 2 * (Precision * Recall) / (Precision + Recall)\n",
    "    # f1 = 2 * (precision * recall) / (precision + recall) if (precision + recall) != 0 else 0\n",
    "\n",
    "    accuracy = accuracy_score(y_true, y_pred)\n",
    "\n",
    "   # 0 = Fake news. Using pos_label=0, we're telling that the class of the interesse is 0 (fake news), then the \"positive\" values is Fake news\n",
    "    precision_f = precision_score(y_true, y_pred, pos_label=0)\n",
    "    recall_f = recall_score(y_true, y_pred, pos_label=0)\n",
    "    f1_f = f1_score(y_true, y_pred, pos_label=0)\n",
    "\n",
    "    precision_t = precision_score(y_true, y_pred, pos_label=1)\n",
    "    recall_t = recall_score(y_true, y_pred, pos_label=1)\n",
    "    f1_t = f1_score(y_true, y_pred, pos_label=1)\n",
    "\n",
    "    f1_micro = f1_score(y_true, y_pred, average='micro')\n",
    "    f1_macro = f1_score(y_true, y_pred, average='macro')\n",
    "\n",
    "    metrics = {\n",
    "        \"accuracy\": round(accuracy,4),\n",
    "        \"precision_f\": round(precision_f,4),\n",
    "        \"recall_f\": round(recall_f,4),\n",
    "        \"f1_f\": round(f1_f,4),\n",
    "        \"precision_t\": round(precision_t,4),\n",
    "        \"recall_t\": round(recall_t,4),\n",
    "        \"f1_t\": round(f1_t,4),\n",
    "        \"f1_micro\": round(f1_micro,4),\n",
    "        \"f1_macro\": round(f1_macro,4)\n",
    "\n",
    "    }\n",
    "\n",
    "    return cm, metrics\n",
    "\n",
    "def get_results_df(outputs):\n",
    "    results_df = pd.DataFrame(columns=[\"label\", \"explanation\", \"output\"])\n",
    "    outputs = list(outputs[\"output\"])\n",
    "    for i, out in enumerate(outputs):\n",
    "      explanation_out = re.search(REGEX_EXPLANATION, out)\n",
    "      explanation =  explanation_out.group(2) if explanation_out else \"Model couln't give a explanation or answer.\"\n",
    "\n",
    "      answer_out = re.search(REGEX_ANSWER_EN, out) or re.search(REGEX_ANSWER_PT, out)\n",
    "      if answer_out:\n",
    "        answer = int(answer_out.group(2))\n",
    "      elif re.search(REGEX_0_EXCEPTION, out):\n",
    "        answer = 0\n",
    "      elif re.search(REGEX_1_EXCEPTION, out):\n",
    "        answer = 1\n",
    "      elif not re.search(REGEX_ANSWER_EXCEPTION, out):\n",
    "        answer = 0\n",
    "      else:\n",
    "          raise Exception(f\"ANSWER PROBLEM FOUND IN CLAIM {i+2}:\\n {out} \")\n",
    "\n",
    "\n",
    "      new_row = [answer, explanation, out]\n",
    "      results_df.loc[len(results_df)] = new_row\n",
    "\n",
    "    return results_df"
   ]
  },
  {
   "cell_type": "code",
   "execution_count": null,
   "id": "SGlMZhcDlgL7",
   "metadata": {
    "colab": {
     "base_uri": "https://localhost:8080/",
     "height": 356
    },
    "executionInfo": {
     "elapsed": 236,
     "status": "error",
     "timestamp": 1739398942639,
     "user": {
      "displayName": "PABLO FONSECA",
      "userId": "08072571061568482593"
     },
     "user_tz": 180
    },
    "id": "SGlMZhcDlgL7",
    "outputId": "fbe114b0-b0f3-4e38-8418-377ffec67388"
   },
   "outputs": [],
   "source": [
    "import pandas as pd\n",
    "import re\n",
    "import matplotlib.pyplot as plt\n",
    "import numpy as np\n",
    "from transformers import TextStreamer, TextIteratorStreamer\n",
    "\n",
    "\n",
    "REGEX_EXPLANATION = r\"(Explanation|Explicação):\\s*\\**(.*)\"\n",
    "REGEX_ANSWER_EN = r\"\\**(Answer)\\**:\\**\\s*\\[?(\\d+)\\]?\"\n",
    "REGEX_ANSWER_PT = r\"\\**(Resposta|Avaliação)\\**:\\**\\s*\\[?(\\d+)\\]?\"\n",
    "REGEX_0_EXCEPTION = r\"N/A|0/1|[?]\"\n",
    "REGEX_1_EXCEPTION = r\"1/1\"\n",
    "REGEX_ANSWER_EXCEPTION = r\"(Answer|Resposta):\"\n",
    "\n",
    "VANILLA_PROMPT = {\n",
    "\"en_US\": '''Instructions: Analyze and judge if the claim is true or false.\n",
    "Claim: {search_text}\n",
    "Please provide your evaluation of the claim based on the following format:\n",
    "Explanation: [Explain why you make this judgement.]\n",
    "Answer: [0/1] (0 if this claim is false or 1 if this claim is true)\n",
    "Remember to fill in all required fields based on your judgement. You must and can only choose one answer from 1 or 0.''',\n",
    "\"pt_BR\": '''Instruções: Analise e julgue se a notícia é verdadeira ou falsa.\n",
    "Notícia: {search_text}\n",
    "Forneça sua avaliação da notícia com base no seguinte formato:\n",
    "Explicação: [Explique por que você fez esse julgamento.]\n",
    "Resposta: [0/1] (0 se esta notícia for falsa ou 1 se esta notícia for verdadeira)\n",
    "Lembre-se de preencher todos os campos obrigatórios com base no seu julgamento. Você deve e só pode escolher uma resposta entre 1 ou 0.'''\n",
    "}\n",
    "\n",
    "\n",
    "class Model:\n",
    "  def __init__(self, model, tokenizer, system_prompt=\"You are a helpful assistant\"):\n",
    "      self.model = model\n",
    "      self.tokenizer = tokenizer\n",
    "      self.max_new_tokens = 4096\n",
    "      self.system_prompt = system_prompt\n",
    "      self.messages_base = {\"role\": \"system\", \"content\": system_prompt}\n",
    "      self.terminators = [self.tokenizer.eos_token_id, self.tokenizer.convert_tokens_to_ids(\"<|endoftext|>\")]\n",
    "\n",
    "\n",
    "  def generate_message(self, messages):\n",
    "      chat = [self.messages_base, messages]\n",
    "\n",
    "      input_ids = self.tokenizer.apply_chat_template(\n",
    "          chat,\n",
    "          add_generation_prompt=True,\n",
    "          return_tensors=\"pt\"\n",
    "      ).to(self.model.device)\n",
    "\n",
    "      outputs = self.model.generate(\n",
    "          input_ids,\n",
    "          max_new_tokens=self.max_new_tokens,\n",
    "          eos_token_id=self.terminators,\n",
    "          pad_token_id=self.tokenizer.eos_token_id,\n",
    "          do_sample=False,\n",
    "          temperature=0.1,\n",
    "          top_p=0.75,\n",
    "          use_cache=True,\n",
    "          streamer=TextIteratorStreamer(self.tokenizer),\n",
    "      )\n",
    "\n",
    "      response = outputs[0][input_ids.shape[-1]:]\n",
    "      return self.tokenizer.decode(response, skip_special_tokens=True)\n",
    "\n",
    "\n",
    "  def set_for_inference(self):\n",
    "      FastLanguageModel.for_inference(self.model)\n",
    "\n",
    "\n",
    "def run_experiments(agent, dataset, language):\n",
    "    claims = list(dataset[\"text\"])\n",
    "    results = []\n",
    "\n",
    "    print(f\"Total of claims to classify: {len(claims)}\")\n",
    "    print(f\"{VANILLA_PROMPT[language]}\\n\")\n",
    "    for i, claim in enumerate(claims):\n",
    "      print(f\"Running claim number [{i+1}]: {claim}\")\n",
    "      prompt = VANILLA_PROMPT[language].format(search_text=claim)\n",
    "      messages = {\"role\": \"user\", \"content\": prompt}\n",
    "      output = agent.generate_message(messages)\n",
    "\n",
    "      results.append({\"output\": output})\n",
    "\n",
    "    return results"
   ]
  },
  {
   "cell_type": "markdown",
   "id": "FJuAFCa-q_96",
   "metadata": {
    "id": "FJuAFCa-q_96"
   },
   "source": [
    "# Experiments"
   ]
  },
  {
   "cell_type": "markdown",
   "id": "-NpWnitanUhL",
   "metadata": {
    "id": "-NpWnitanUhL"
   },
   "source": [
    "## en_US"
   ]
  },
  {
   "cell_type": "code",
   "execution_count": null,
   "id": "mEHV3C7JkalV",
   "metadata": {
    "colab": {
     "base_uri": "https://localhost:8080/"
    },
    "executionInfo": {
     "elapsed": 10,
     "status": "ok",
     "timestamp": 1738116614423,
     "user": {
      "displayName": "Pablo Weslley",
      "userId": "01590026520414852215"
     },
     "user_tz": 180
    },
    "id": "mEHV3C7JkalV",
    "outputId": "e1ce1efa-f8f9-4cb3-ff40-1ec95d118eb2"
   },
   "outputs": [],
   "source": [
    "SYSTEM_PROMPT = \"You are an assistant specialized in analyzing and identifying fake or true news.\"\n",
    "agent = Model(model, tokenizer, SYSTEM_PROMPT)\n",
    "agent.set_for_inference()\n",
    "agent.max_new_tokens"
   ]
  },
  {
   "cell_type": "markdown",
   "id": "xyNQGxO0VlCH",
   "metadata": {
    "id": "xyNQGxO0VlCH"
   },
   "source": [
    "### 0 - 1000 (DONE)"
   ]
  },
  {
   "cell_type": "code",
   "execution_count": null,
   "id": "AL9zLXmE5D5r",
   "metadata": {
    "colab": {
     "base_uri": "https://localhost:8080/",
     "height": 1000
    },
    "executionInfo": {
     "elapsed": 7732630,
     "status": "error",
     "timestamp": 1738014210637,
     "user": {
      "displayName": "Pablo Weslley",
      "userId": "13204540486827778511"
     },
     "user_tz": 180
    },
    "id": "AL9zLXmE5D5r",
    "outputId": "e8edcc54-5c09-4e70-c5d7-62a39db531c0"
   },
   "outputs": [],
   "source": [
    "outputs = run_experiments(agent, liar_full[:1000], \"en_US\")\n"
   ]
  },
  {
   "cell_type": "code",
   "execution_count": null,
   "id": "Zz99UkmMuLZe",
   "metadata": {
    "id": "Zz99UkmMuLZe"
   },
   "outputs": [],
   "source": [
    "outputs = [{\"output\": item} for item in outputs]\n",
    "raw_df = pd.DataFrame.from_records(outputs, columns=[\"output\"])\n",
    "raw_df.to_csv(os.path.join(RESULTS_DIR, \"raw_enUS_Qwen_0_1000.csv\"))"
   ]
  },
  {
   "cell_type": "markdown",
   "id": "EIJTR2duVuFX",
   "metadata": {
    "id": "EIJTR2duVuFX"
   },
   "source": [
    "### 1000 - 2000 (DONE)"
   ]
  },
  {
   "cell_type": "code",
   "execution_count": null,
   "id": "8F7ieaQ2Vtnv",
   "metadata": {
    "colab": {
     "base_uri": "https://localhost:8080/"
    },
    "collapsed": true,
    "executionInfo": {
     "elapsed": 8002419,
     "status": "ok",
     "timestamp": 1738026086740,
     "user": {
      "displayName": "Pablo Weslley",
      "userId": "01590026520414852215"
     },
     "user_tz": 180
    },
    "id": "8F7ieaQ2Vtnv",
    "outputId": "02a72f1f-07d9-4b48-ef42-27043bb62f87"
   },
   "outputs": [],
   "source": [
    "outputs = run_experiments(agent, liar_full[1000:2000], \"en_US\")\n",
    "raw_df = pd.DataFrame.from_records(outputs, columns=[\"output\"])\n",
    "raw_df.to_csv(os.path.join(RESULTS_DIR, \"raw_enUS_Qwen_1000_2000.csv\"))"
   ]
  },
  {
   "cell_type": "markdown",
   "id": "Qcifm33HWH5u",
   "metadata": {
    "id": "Qcifm33HWH5u"
   },
   "source": [
    "### 2000 - 3000 (DONE)"
   ]
  },
  {
   "cell_type": "code",
   "execution_count": null,
   "id": "fsrZz_t1WM5P",
   "metadata": {
    "colab": {
     "base_uri": "https://localhost:8080/"
    },
    "collapsed": true,
    "executionInfo": {
     "elapsed": 7811963,
     "status": "ok",
     "timestamp": 1738034473905,
     "user": {
      "displayName": "Pablo Weslley",
      "userId": "01590026520414852215"
     },
     "user_tz": 180
    },
    "id": "fsrZz_t1WM5P",
    "outputId": "d5d0ecec-74a2-4751-cdfa-044ea650cf20"
   },
   "outputs": [],
   "source": [
    "outputs = run_experiments(agent, liar_full[2000:3000], \"en_US\")\n",
    "raw_df = pd.DataFrame.from_records(outputs, columns=[\"output\"])\n",
    "raw_df.to_csv(os.path.join(RESULTS_DIR, \"raw_enUS_Qwen_2000_3000.csv\"))"
   ]
  },
  {
   "cell_type": "markdown",
   "id": "Xc3YEic0Wd2f",
   "metadata": {
    "id": "Xc3YEic0Wd2f"
   },
   "source": [
    "### 3000 - 4000 (DONE)"
   ]
  },
  {
   "cell_type": "code",
   "execution_count": null,
   "id": "dHu8NALAWdc_",
   "metadata": {
    "colab": {
     "base_uri": "https://localhost:8080/"
    },
    "collapsed": true,
    "executionInfo": {
     "elapsed": 8046595,
     "status": "ok",
     "timestamp": 1738080581902,
     "user": {
      "displayName": "Pablo Weslley",
      "userId": "01590026520414852215"
     },
     "user_tz": 180
    },
    "id": "dHu8NALAWdc_",
    "outputId": "4b10ce90-9bb3-473e-9877-c3672b45f26c"
   },
   "outputs": [],
   "source": [
    "outputs = run_experiments(agent, liar_full[3000:4000], \"en_US\")\n",
    "raw_df = pd.DataFrame.from_records(outputs, columns=[\"output\"])\n",
    "raw_df.to_csv(os.path.join(RESULTS_DIR, \"raw_enUS_Qwen_3000_4000.csv\"))"
   ]
  },
  {
   "cell_type": "markdown",
   "id": "SV7LGsz66jUf",
   "metadata": {
    "id": "SV7LGsz66jUf"
   },
   "source": [
    "### 4000 - 5000 (DONE)"
   ]
  },
  {
   "cell_type": "code",
   "execution_count": null,
   "id": "LFToDw6P6jUg",
   "metadata": {
    "colab": {
     "base_uri": "https://localhost:8080/"
    },
    "collapsed": true,
    "executionInfo": {
     "elapsed": 222180,
     "status": "ok",
     "timestamp": 1738091884976,
     "user": {
      "displayName": "Pablo Weslley",
      "userId": "01590026520414852215"
     },
     "user_tz": 180
    },
    "id": "LFToDw6P6jUg",
    "outputId": "e9c4f03d-38d0-48f0-9396-1a1b4b056ba5"
   },
   "outputs": [],
   "source": [
    "outputs = run_experiments(agent, liar_full[4000:5000], \"en_US\")\n",
    "raw_df = pd.DataFrame.from_records(outputs, columns=[\"output\"])\n",
    "raw_df.to_csv(os.path.join(RESULTS_DIR, \"raw_enUS_Qwen_4000_5000.csv\"))"
   ]
  },
  {
   "cell_type": "markdown",
   "id": "3tLj7OEgW2-O",
   "metadata": {
    "id": "3tLj7OEgW2-O"
   },
   "source": [
    "### 5000 - 6000 (DONE)"
   ]
  },
  {
   "cell_type": "code",
   "execution_count": null,
   "id": "36gI16nNW6CH",
   "metadata": {
    "colab": {
     "base_uri": "https://localhost:8080/"
    },
    "collapsed": true,
    "executionInfo": {
     "elapsed": 8273647,
     "status": "ok",
     "timestamp": 1738110789682,
     "user": {
      "displayName": "Pablo Weslley",
      "userId": "01590026520414852215"
     },
     "user_tz": 180
    },
    "id": "36gI16nNW6CH",
    "outputId": "0e5283a3-5d96-4531-85eb-e9f0fe86a59e"
   },
   "outputs": [],
   "source": [
    "outputs = run_experiments(agent, liar_full[5000:6000], \"en_US\")\n",
    "raw_df = pd.DataFrame.from_records(outputs, columns=[\"output\"])\n",
    "raw_df.to_csv(os.path.join(RESULTS_DIR, \"raw_enUS_Qwen_5000_6000.csv\"))"
   ]
  },
  {
   "cell_type": "markdown",
   "id": "MgqG5f0w6ywW",
   "metadata": {
    "id": "MgqG5f0w6ywW"
   },
   "source": [
    "### 6000 - 7342"
   ]
  },
  {
   "cell_type": "code",
   "execution_count": null,
   "id": "dxG9hFC-6ywX",
   "metadata": {
    "colab": {
     "base_uri": "https://localhost:8080/"
    },
    "collapsed": true,
    "executionInfo": {
     "elapsed": 10461726,
     "status": "ok",
     "timestamp": 1738127505682,
     "user": {
      "displayName": "Pablo Weslley",
      "userId": "01590026520414852215"
     },
     "user_tz": 180
    },
    "id": "dxG9hFC-6ywX",
    "outputId": "e1e6cb01-8160-4cae-8dbd-620efa461e04"
   },
   "outputs": [],
   "source": [
    "outputs = run_experiments(agent, liar_full[6000:], \"en_US\")\n",
    "raw_df = pd.DataFrame.from_records(outputs, columns=[\"output\"])\n",
    "raw_df.to_csv(os.path.join(RESULTS_DIR, \"raw_enUS_Qwen_6000_7342.csv\"))"
   ]
  },
  {
   "cell_type": "markdown",
   "id": "EPDgzvHm-xYF",
   "metadata": {
    "id": "EPDgzvHm-xYF"
   },
   "source": [
    "### full results"
   ]
  },
  {
   "cell_type": "code",
   "execution_count": null,
   "id": "BGlBCxA0B4dO",
   "metadata": {
    "id": "BGlBCxA0B4dO"
   },
   "outputs": [],
   "source": [
    "enUS_0_1000    = pd.read_csv(os.path.join(RESULTS_DIR, \"raw_enUS_Qwen_0_1000.csv\"), index_col=False)[\"output\"]\n",
    "enUS_1000_2000 = pd.read_csv(os.path.join(RESULTS_DIR, \"raw_enUS_Qwen_1000_2000.csv\"), index_col=False)[\"output\"]\n",
    "enUS_2000_3000 = pd.read_csv(os.path.join(RESULTS_DIR, \"raw_enUS_Qwen_2000_3000.csv\"), index_col=False)[\"output\"]\n",
    "enUS_3000_4000 = pd.read_csv(os.path.join(RESULTS_DIR, \"raw_enUS_Qwen_3000_4000.csv\"), index_col=False)[\"output\"]\n",
    "enUS_4000_5000 = pd.read_csv(os.path.join(RESULTS_DIR, \"raw_enUS_Qwen_4000_5000.csv\"), index_col=False)[\"output\"]\n",
    "enUS_5000_6000 = pd.read_csv(os.path.join(RESULTS_DIR, \"raw_enUS_Qwen_5000_6000.csv\"), index_col=False)[\"output\"]\n",
    "enUS_6000_7342 = pd.read_csv(os.path.join(RESULTS_DIR, \"raw_enUS_Qwen_6000_7342.csv\"), index_col=False)[\"output\"]\n",
    "enUS_full = pd.concat([enUS_0_1000,enUS_1000_2000,enUS_2000_3000,enUS_3000_4000,enUS_4000_5000,enUS_5000_6000,enUS_6000_7342])\n",
    "enUS_full.to_csv(os.path.join(RESULTS_DIR, \"raw_enUS_Qwen_full.csv\"), index=False)"
   ]
  },
  {
   "cell_type": "code",
   "execution_count": null,
   "id": "sg9sMl9CER5G",
   "metadata": {
    "colab": {
     "base_uri": "https://localhost:8080/",
     "height": 424
    },
    "executionInfo": {
     "elapsed": 939,
     "status": "ok",
     "timestamp": 1739398901046,
     "user": {
      "displayName": "PABLO FONSECA",
      "userId": "08072571061568482593"
     },
     "user_tz": 180
    },
    "id": "sg9sMl9CER5G",
    "outputId": "13fc0dff-dd79-4dc1-c84a-1ee5ca5527b2"
   },
   "outputs": [],
   "source": [
    "enUS_full = pd.read_csv(os.path.join(RESULTS_DIR, \"raw_enUS_Qwen_full.csv\"))\n",
    "enUS_full"
   ]
  },
  {
   "cell_type": "code",
   "execution_count": 18,
   "id": "Te5oLnJD42RS",
   "metadata": {
    "executionInfo": {
     "elapsed": 11673,
     "status": "ok",
     "timestamp": 1739398961468,
     "user": {
      "displayName": "PABLO FONSECA",
      "userId": "08072571061568482593"
     },
     "user_tz": 180
    },
    "id": "Te5oLnJD42RS"
   },
   "outputs": [],
   "source": [
    "results_enUS_df = get_results_df(enUS_full)"
   ]
  },
  {
   "cell_type": "code",
   "execution_count": null,
   "id": "iNIjkhVfQdMb",
   "metadata": {
    "colab": {
     "base_uri": "https://localhost:8080/",
     "height": 424
    },
    "executionInfo": {
     "elapsed": 264,
     "status": "ok",
     "timestamp": 1739398963984,
     "user": {
      "displayName": "PABLO FONSECA",
      "userId": "08072571061568482593"
     },
     "user_tz": 180
    },
    "id": "iNIjkhVfQdMb",
    "outputId": "f0098bb7-f849-4a09-e8f5-42b88e215cdc"
   },
   "outputs": [],
   "source": [
    "results_enUS_df"
   ]
  },
  {
   "cell_type": "code",
   "execution_count": null,
   "id": "2NaDZRLnGDb4",
   "metadata": {
    "colab": {
     "base_uri": "https://localhost:8080/"
    },
    "executionInfo": {
     "elapsed": 607,
     "status": "ok",
     "timestamp": 1739398971552,
     "user": {
      "displayName": "PABLO FONSECA",
      "userId": "08072571061568482593"
     },
     "user_tz": 180
    },
    "id": "2NaDZRLnGDb4",
    "outputId": "09a9effb-2fd4-4fae-aa81-ee2b6fd16838"
   },
   "outputs": [],
   "source": [
    "cm, metrics = evaluate_assistant_answer(liar_full, results_enUS_df)\n",
    "cm, metrics"
   ]
  },
  {
   "cell_type": "code",
   "execution_count": null,
   "id": "UovifRV-GDb5",
   "metadata": {
    "colab": {
     "base_uri": "https://localhost:8080/",
     "height": 472
    },
    "executionInfo": {
     "elapsed": 366,
     "status": "ok",
     "timestamp": 1738382738559,
     "user": {
      "displayName": "Pablo Weslley Silva da Fonseca",
      "userId": "08454828087730091057"
     },
     "user_tz": 180
    },
    "id": "UovifRV-GDb5",
    "outputId": "a614e53f-240e-41be-9f39-70165eea623d"
   },
   "outputs": [],
   "source": [
    "plot(cm, \"Qwen2.5-7B-Instruct\")"
   ]
  },
  {
   "cell_type": "markdown",
   "id": "oq21T-mbnWth",
   "metadata": {
    "id": "oq21T-mbnWth"
   },
   "source": [
    "## pt_BR"
   ]
  },
  {
   "cell_type": "code",
   "execution_count": null,
   "id": "PFhZaGyL-k6h",
   "metadata": {
    "colab": {
     "base_uri": "https://localhost:8080/"
    },
    "executionInfo": {
     "elapsed": 8,
     "status": "ok",
     "timestamp": 1738248702796,
     "user": {
      "displayName": "Pablo Weslley",
      "userId": "13204540486827778511"
     },
     "user_tz": 180
    },
    "id": "PFhZaGyL-k6h",
    "outputId": "28138c77-2a79-4c8c-fd76-ae88422e1d7b"
   },
   "outputs": [],
   "source": [
    "SYSTEM_PROMPT = \"Você é um assistente especializado em analisar e identificar notícias falsas ou verdadeiras.\"\n",
    "agent = Model(model, tokenizer, SYSTEM_PROMPT)\n",
    "agent.set_for_inference()\n",
    "agent.max_new_tokens"
   ]
  },
  {
   "cell_type": "code",
   "execution_count": null,
   "id": "QZVCWGWJ_1P2",
   "metadata": {
    "colab": {
     "base_uri": "https://localhost:8080/",
     "height": 111
    },
    "executionInfo": {
     "elapsed": 13793,
     "status": "ok",
     "timestamp": 1738248716584,
     "user": {
      "displayName": "Pablo Weslley",
      "userId": "13204540486827778511"
     },
     "user_tz": 180
    },
    "id": "QZVCWGWJ_1P2",
    "outputId": "0ec3dce4-74a5-432e-b16c-71227e09a186"
   },
   "outputs": [],
   "source": [
    "claim = \"O presidente dos Estados Unidos, Donald Trump, anunciou nesta terça-feira (21) um investimento de até US$ 500 bilhões em inteligência artificial por meio de uma parceria com as empresas OpenAI, criadora do ChatGPT, Oracle, de gerenciamento de servidores e bancos de dados, e o banco SoftBank.\"\n",
    "prompt = VANILLA_PROMPT[\"pt_BR\"].format(search_text=claim)\n",
    "messages = {\"role\": \"user\", \"content\": prompt}\n",
    "output = agent.generate_message(messages)\n",
    "output"
   ]
  },
  {
   "cell_type": "markdown",
   "id": "oG1mt-NF80JG",
   "metadata": {
    "id": "oG1mt-NF80JG"
   },
   "source": [
    "### 0 - 1000 (DONE)"
   ]
  },
  {
   "cell_type": "code",
   "execution_count": null,
   "id": "sA99DoXS80JH",
   "metadata": {
    "colab": {
     "base_uri": "https://localhost:8080/"
    },
    "collapsed": true,
    "executionInfo": {
     "elapsed": 4027630,
     "status": "ok",
     "timestamp": 1738175822059,
     "user": {
      "displayName": "Pablo Weslley",
      "userId": "13204540486827778511"
     },
     "user_tz": 180
    },
    "id": "sA99DoXS80JH",
    "outputId": "2fc1e70b-b906-4a08-d4d2-9f1a67364dc9"
   },
   "outputs": [],
   "source": [
    "outputs = run_experiments(agent, fakebrcorpus_full[:500], \"pt_BR\")\n",
    "raw_df = pd.DataFrame.from_records(outputs, columns=[\"output\"])\n",
    "raw_df.to_csv(os.path.join(RESULTS_DIR, \"raw_ptBR_Qwen_0_500.csv\"))"
   ]
  },
  {
   "cell_type": "code",
   "execution_count": null,
   "id": "0VVWRY1Ia0Sw",
   "metadata": {
    "colab": {
     "base_uri": "https://localhost:8080/"
    },
    "collapsed": true,
    "executionInfo": {
     "elapsed": 5677313,
     "status": "ok",
     "timestamp": 1738181499373,
     "user": {
      "displayName": "Pablo Weslley",
      "userId": "13204540486827778511"
     },
     "user_tz": 180
    },
    "id": "0VVWRY1Ia0Sw",
    "outputId": "2fce7891-98b8-4b01-d583-6462d52de82c"
   },
   "outputs": [],
   "source": [
    "outputs = run_experiments(agent, fakebrcorpus_full[500:1000], \"pt_BR\")\n",
    "raw_df = pd.DataFrame.from_records(outputs, columns=[\"output\"])\n",
    "raw_df.to_csv(os.path.join(RESULTS_DIR, \"raw_ptBR_Qwen_500_1000.csv\"))"
   ]
  },
  {
   "cell_type": "markdown",
   "id": "2L2zHIe980JH",
   "metadata": {
    "id": "2L2zHIe980JH"
   },
   "source": [
    "### 1000 - 2000 (DONE)"
   ]
  },
  {
   "cell_type": "code",
   "execution_count": null,
   "id": "Ktgy1GYd80JH",
   "metadata": {
    "colab": {
     "base_uri": "https://localhost:8080/"
    },
    "collapsed": true,
    "executionInfo": {
     "elapsed": 5838114,
     "status": "ok",
     "timestamp": 1738189540723,
     "user": {
      "displayName": "Pablo Weslley",
      "userId": "13204540486827778511"
     },
     "user_tz": 180
    },
    "id": "Ktgy1GYd80JH",
    "outputId": "7a937ecb-53f5-4aab-f2a7-7ab975ad0748"
   },
   "outputs": [],
   "source": [
    "outputs = run_experiments(agent, fakebrcorpus_full[1000:1500], \"pt_BR\")\n",
    "raw_df = pd.DataFrame.from_records(outputs, columns=[\"output\"])\n",
    "raw_df.to_csv(os.path.join(RESULTS_DIR, \"raw_ptBR_Qwen_1000_1500.csv\"))"
   ]
  },
  {
   "cell_type": "code",
   "execution_count": null,
   "id": "CFJGKyaybHMw",
   "metadata": {
    "colab": {
     "base_uri": "https://localhost:8080/"
    },
    "collapsed": true,
    "executionInfo": {
     "elapsed": 429797,
     "status": "ok",
     "timestamp": 1738195328924,
     "user": {
      "displayName": "Pablo Weslley",
      "userId": "13204540486827778511"
     },
     "user_tz": 180
    },
    "id": "CFJGKyaybHMw",
    "outputId": "104598ab-00ee-48b9-e50a-9e4958cf9891"
   },
   "outputs": [],
   "source": [
    "outputs = run_experiments(agent, fakebrcorpus_full[1500:2000], \"pt_BR\")\n",
    "raw_df = pd.DataFrame.from_records(outputs, columns=[\"output\"])\n",
    "raw_df.to_csv(os.path.join(RESULTS_DIR, \"raw_ptBR_Qwen_1500_2000.csv\"))"
   ]
  },
  {
   "cell_type": "markdown",
   "id": "YD_Vn1Xn80JH",
   "metadata": {
    "id": "YD_Vn1Xn80JH"
   },
   "source": [
    "### 2000 - 3000 (DONE)"
   ]
  },
  {
   "cell_type": "code",
   "execution_count": null,
   "id": "Nq3mn4sE80JI",
   "metadata": {
    "colab": {
     "base_uri": "https://localhost:8080/"
    },
    "collapsed": true,
    "executionInfo": {
     "elapsed": 63876,
     "status": "ok",
     "timestamp": 1738201071987,
     "user": {
      "displayName": "Pablo Weslley",
      "userId": "13204540486827778511"
     },
     "user_tz": 180
    },
    "id": "Nq3mn4sE80JI",
    "outputId": "61521069-11e8-4937-e82c-ac151a3dbf11"
   },
   "outputs": [],
   "source": [
    "outputs = run_experiments(agent, fakebrcorpus_full[2000:2500], \"pt_BR\")\n",
    "raw_df = pd.DataFrame.from_records(outputs, columns=[\"output\"])\n",
    "raw_df.to_csv(os.path.join(RESULTS_DIR, \"raw_ptBR_Qwen_2000_2500.csv\"))"
   ]
  },
  {
   "cell_type": "code",
   "execution_count": null,
   "id": "3M5BESLzbemH",
   "metadata": {
    "colab": {
     "base_uri": "https://localhost:8080/",
     "height": 524
    },
    "collapsed": true,
    "executionInfo": {
     "elapsed": 1807,
     "status": "error",
     "timestamp": 1738207471906,
     "user": {
      "displayName": "Pablo Weslley",
      "userId": "13204540486827778511"
     },
     "user_tz": 180
    },
    "id": "3M5BESLzbemH",
    "outputId": "06e357f9-3614-4570-ab9b-38ee9c557bec"
   },
   "outputs": [],
   "source": [
    "outputs = run_experiments(agent, fakebrcorpus_full[2500:3000], \"pt_BR\")\n",
    "raw_df = pd.DataFrame.from_records(outputs, columns=[\"output\"])\n",
    "raw_df.to_csv(os.path.join(RESULTS_DIR, \"raw_ptBR_Qwen_2500_3000.csv\"))"
   ]
  },
  {
   "cell_type": "markdown",
   "id": "ZIRUJxsK80JI",
   "metadata": {
    "id": "ZIRUJxsK80JI"
   },
   "source": [
    "### 3000 - 4000"
   ]
  },
  {
   "cell_type": "code",
   "execution_count": null,
   "id": "GBL-EQGc80JI",
   "metadata": {
    "colab": {
     "base_uri": "https://localhost:8080/"
    },
    "collapsed": true,
    "executionInfo": {
     "elapsed": 6041537,
     "status": "ok",
     "timestamp": 1738213704036,
     "user": {
      "displayName": "Pablo Weslley",
      "userId": "13204540486827778511"
     },
     "user_tz": 180
    },
    "id": "GBL-EQGc80JI",
    "outputId": "6e427181-5996-4796-e673-cab2619cdf76"
   },
   "outputs": [],
   "source": [
    "outputs = run_experiments(agent, fakebrcorpus_full[3000:3500], \"pt_BR\")\n",
    "raw_df = pd.DataFrame.from_records(outputs, columns=[\"output\"])\n",
    "raw_df.to_csv(os.path.join(RESULTS_DIR, \"raw_ptBR_Qwen_3000_3500.csv\"))"
   ]
  },
  {
   "cell_type": "code",
   "execution_count": null,
   "id": "sqgD3jM1bqiv",
   "metadata": {
    "colab": {
     "base_uri": "https://localhost:8080/"
    },
    "executionInfo": {
     "elapsed": 5369891,
     "status": "ok",
     "timestamp": 1738219073922,
     "user": {
      "displayName": "Pablo Weslley",
      "userId": "13204540486827778511"
     },
     "user_tz": 180
    },
    "id": "sqgD3jM1bqiv",
    "outputId": "07902991-24bc-457a-9252-4efebb84125f"
   },
   "outputs": [],
   "source": [
    "outputs = run_experiments(agent, fakebrcorpus_full[3500:4000], \"pt_BR\")\n",
    "raw_df = pd.DataFrame.from_records(outputs, columns=[\"output\"])\n",
    "raw_df.to_csv(os.path.join(RESULTS_DIR, \"raw_ptBR_Qwen_3500_4000.csv\"))"
   ]
  },
  {
   "cell_type": "markdown",
   "id": "Tck92Pk380JI",
   "metadata": {
    "id": "Tck92Pk380JI"
   },
   "source": [
    "### 4000 - 5000"
   ]
  },
  {
   "cell_type": "code",
   "execution_count": null,
   "id": "7qhj8owx80JI",
   "metadata": {
    "colab": {
     "base_uri": "https://localhost:8080/"
    },
    "collapsed": true,
    "executionInfo": {
     "elapsed": 5177543,
     "status": "ok",
     "timestamp": 1738224251460,
     "user": {
      "displayName": "Pablo Weslley",
      "userId": "13204540486827778511"
     },
     "user_tz": 180
    },
    "id": "7qhj8owx80JI",
    "outputId": "6e8346b4-63b7-4d31-cb3b-2d2416703030"
   },
   "outputs": [],
   "source": [
    "outputs = run_experiments(agent, fakebrcorpus_full[4000:4500], \"pt_BR\")\n",
    "raw_df = pd.DataFrame.from_records(outputs, columns=[\"output\"])\n",
    "raw_df.to_csv(os.path.join(RESULTS_DIR, \"raw_ptBR_Qwen_4000_4500.csv\"))"
   ]
  },
  {
   "cell_type": "code",
   "execution_count": null,
   "id": "6Q6Cm75Qb1wQ",
   "metadata": {
    "colab": {
     "base_uri": "https://localhost:8080/"
    },
    "executionInfo": {
     "elapsed": 4987568,
     "status": "ok",
     "timestamp": 1738229239022,
     "user": {
      "displayName": "Pablo Weslley",
      "userId": "13204540486827778511"
     },
     "user_tz": 180
    },
    "id": "6Q6Cm75Qb1wQ",
    "outputId": "00f89553-ef80-4166-c226-32724c1c8941"
   },
   "outputs": [],
   "source": [
    "outputs = run_experiments(agent, fakebrcorpus_full[4500:5000], \"pt_BR\")\n",
    "raw_df = pd.DataFrame.from_records(outputs, columns=[\"output\"])\n",
    "raw_df.to_csv(os.path.join(RESULTS_DIR, \"raw_ptBR_Qwen_4500_5000.csv\"))"
   ]
  },
  {
   "cell_type": "markdown",
   "id": "tOTOZ5ZJ80JI",
   "metadata": {
    "id": "tOTOZ5ZJ80JI"
   },
   "source": [
    "### 5000 - 6000"
   ]
  },
  {
   "cell_type": "code",
   "execution_count": null,
   "id": "DMf2lQxp80JI",
   "metadata": {
    "colab": {
     "base_uri": "https://localhost:8080/"
    },
    "collapsed": true,
    "executionInfo": {
     "elapsed": 5178039,
     "status": "ok",
     "timestamp": 1738234417055,
     "user": {
      "displayName": "Pablo Weslley",
      "userId": "13204540486827778511"
     },
     "user_tz": 180
    },
    "id": "DMf2lQxp80JI",
    "outputId": "9a3c2e2c-a70c-46c0-8c2f-d7bb4de6438a"
   },
   "outputs": [],
   "source": [
    "outputs = run_experiments(agent, fakebrcorpus_full[5000:5500], \"pt_BR\")\n",
    "raw_df = pd.DataFrame.from_records(outputs, columns=[\"output\"])\n",
    "raw_df.to_csv(os.path.join(RESULTS_DIR, \"raw_ptBR_Qwen_5000_5500.csv\"))"
   ]
  },
  {
   "cell_type": "code",
   "execution_count": null,
   "id": "UQg7sfVxb9CH",
   "metadata": {
    "colab": {
     "base_uri": "https://localhost:8080/"
    },
    "executionInfo": {
     "elapsed": 5033859,
     "status": "ok",
     "timestamp": 1738239450908,
     "user": {
      "displayName": "Pablo Weslley",
      "userId": "13204540486827778511"
     },
     "user_tz": 180
    },
    "id": "UQg7sfVxb9CH",
    "outputId": "1b9f4be2-baa3-49cd-c099-e8d6fb9d1f07"
   },
   "outputs": [],
   "source": [
    "outputs = run_experiments(agent, fakebrcorpus_full[5500:6000], \"pt_BR\")\n",
    "raw_df = pd.DataFrame.from_records(outputs, columns=[\"output\"])\n",
    "raw_df.to_csv(os.path.join(RESULTS_DIR, \"raw_ptBR_Qwen_5500_6000.csv\"))"
   ]
  },
  {
   "cell_type": "markdown",
   "id": "hZc0c1tx80JI",
   "metadata": {
    "id": "hZc0c1tx80JI"
   },
   "source": [
    "### 6000 - 7200"
   ]
  },
  {
   "cell_type": "code",
   "execution_count": null,
   "id": "O4d_Hiof80JI",
   "metadata": {
    "colab": {
     "background_save": true,
     "base_uri": "https://localhost:8080/"
    },
    "collapsed": true,
    "id": "O4d_Hiof80JI",
    "outputId": "474d998b-196f-4166-a9bf-ef457d5b2466"
   },
   "outputs": [],
   "source": [
    "outputs = run_experiments(agent, fakebrcorpus_full[6000:6500], \"pt_BR\")\n",
    "raw_df = pd.DataFrame.from_records(outputs, columns=[\"output\"])\n",
    "raw_df.to_csv(os.path.join(RESULTS_DIR, \"raw_ptBR_Qwen_6000_6500.csv\"))"
   ]
  },
  {
   "cell_type": "code",
   "execution_count": null,
   "id": "jXb3xld8cKWf",
   "metadata": {
    "colab": {
     "base_uri": "https://localhost:8080/"
    },
    "executionInfo": {
     "elapsed": 7274018,
     "status": "ok",
     "timestamp": 1738255990598,
     "user": {
      "displayName": "Pablo Weslley",
      "userId": "13204540486827778511"
     },
     "user_tz": 180
    },
    "id": "jXb3xld8cKWf",
    "outputId": "83ae4abc-6e05-483b-d8ef-78a24f75e368"
   },
   "outputs": [],
   "source": [
    "outputs = run_experiments(agent, fakebrcorpus_full[6500:], \"pt_BR\")\n",
    "raw_df = pd.DataFrame.from_records(outputs, columns=[\"output\"])\n",
    "raw_df.to_csv(os.path.join(RESULTS_DIR, \"raw_ptBR_Qwen_6500_7200.csv\"))"
   ]
  },
  {
   "cell_type": "markdown",
   "id": "wMpb4-0l-qG9",
   "metadata": {
    "id": "wMpb4-0l-qG9"
   },
   "source": [
    "### full results"
   ]
  },
  {
   "cell_type": "code",
   "execution_count": null,
   "id": "2XKH8ymS25bD",
   "metadata": {
    "id": "2XKH8ymS25bD"
   },
   "outputs": [],
   "source": [
    "ptBR_0_500    = pd.read_csv(os.path.join(RESULTS_DIR, \"raw_ptBR_Qwen_0_500.csv\"), index_col=False)[\"output\"]\n",
    "ptBR_500_1000    = pd.read_csv(os.path.join(RESULTS_DIR, \"raw_ptBR_Qwen_500_1000.csv\"), index_col=False)[\"output\"]\n",
    "ptBR_1000_1500 = pd.read_csv(os.path.join(RESULTS_DIR, \"raw_ptBR_Qwen_1000_1500.csv\"), index_col=False)[\"output\"]\n",
    "ptBR_1500_2000 = pd.read_csv(os.path.join(RESULTS_DIR, \"raw_ptBR_Qwen_1500_2000.csv\"), index_col=False)[\"output\"]\n",
    "ptBR_2000_2500 = pd.read_csv(os.path.join(RESULTS_DIR, \"raw_ptBR_Qwen_2000_2500.csv\"), index_col=False)[\"output\"]\n",
    "ptBR_2500_3000 = pd.read_csv(os.path.join(RESULTS_DIR, \"raw_ptBR_Qwen_2500_3000.csv\"), index_col=False)[\"output\"]\n",
    "ptBR_3000_3500 = pd.read_csv(os.path.join(RESULTS_DIR, \"raw_ptBR_Qwen_3000_3500.csv\"), index_col=False)[\"output\"]\n",
    "ptBR_3500_4000 = pd.read_csv(os.path.join(RESULTS_DIR, \"raw_ptBR_Qwen_3500_4000.csv\"), index_col=False)[\"output\"]\n",
    "ptBR_4000_4500 = pd.read_csv(os.path.join(RESULTS_DIR, \"raw_ptBR_Qwen_4000_4500.csv\"), index_col=False)[\"output\"]\n",
    "ptBR_4500_5000 = pd.read_csv(os.path.join(RESULTS_DIR, \"raw_ptBR_Qwen_4500_5000.csv\"), index_col=False)[\"output\"]\n",
    "ptBR_5000_5500 = pd.read_csv(os.path.join(RESULTS_DIR, \"raw_ptBR_Qwen_5000_5500.csv\"), index_col=False)[\"output\"]\n",
    "ptBR_5500_6000 = pd.read_csv(os.path.join(RESULTS_DIR, \"raw_ptBR_Qwen_5500_6000.csv\"), index_col=False)[\"output\"]\n",
    "ptBR_6000_6500 = pd.read_csv(os.path.join(RESULTS_DIR, \"raw_ptBR_Qwen_6000_6500.csv\"), index_col=False)[\"output\"]\n",
    "ptBR_6500_7200 = pd.read_csv(os.path.join(RESULTS_DIR, \"raw_ptBR_Qwen_6500_7200.csv\"), index_col=False)[\"output\"]\n",
    "\n",
    "ptBR_full = pd.concat([ptBR_0_500,ptBR_500_1000,ptBR_1000_1500,ptBR_1500_2000,ptBR_2000_2500,ptBR_2500_3000,\n",
    "                       ptBR_3000_3500,ptBR_3500_4000,ptBR_4000_4500,ptBR_4500_5000,ptBR_5000_5500,ptBR_5500_6000,\n",
    "                       ptBR_6000_6500,ptBR_6500_7200])\n",
    "\n",
    "ptBR_full.to_csv(os.path.join(RESULTS_DIR, \"raw_ptBR_Qwen_full.csv\"), index=False)"
   ]
  },
  {
   "cell_type": "code",
   "execution_count": null,
   "id": "D9XgWS1o25bE",
   "metadata": {
    "colab": {
     "base_uri": "https://localhost:8080/",
     "height": 423
    },
    "executionInfo": {
     "elapsed": 302,
     "status": "ok",
     "timestamp": 1738382807260,
     "user": {
      "displayName": "Pablo Weslley Silva da Fonseca",
      "userId": "08454828087730091057"
     },
     "user_tz": 180
    },
    "id": "D9XgWS1o25bE",
    "outputId": "41e24e5a-dcff-45c6-b99b-eedeeeff9fcf"
   },
   "outputs": [],
   "source": [
    "ptBR_full = pd.read_csv(os.path.join(RESULTS_DIR, \"raw_ptBR_Qwen_full.csv\"))\n",
    "ptBR_full"
   ]
  },
  {
   "cell_type": "code",
   "execution_count": null,
   "id": "A5h2aIb-LcZA",
   "metadata": {
    "id": "A5h2aIb-LcZA"
   },
   "outputs": [],
   "source": [
    "results_ptBR_df = get_results_df(ptBR_full)"
   ]
  },
  {
   "cell_type": "code",
   "execution_count": null,
   "id": "hoJMpzX1LZhm",
   "metadata": {
    "colab": {
     "base_uri": "https://localhost:8080/"
    },
    "executionInfo": {
     "elapsed": 293,
     "status": "ok",
     "timestamp": 1738385028964,
     "user": {
      "displayName": "Pablo Weslley Silva da Fonseca",
      "userId": "08454828087730091057"
     },
     "user_tz": 180
    },
    "id": "hoJMpzX1LZhm",
    "outputId": "d083b94f-9533-41f5-9391-05411d1a4c1c"
   },
   "outputs": [],
   "source": [
    "cm, metrics = evaluate_assistant_answer(fakebrcorpus_full, results_ptBR_df)\n",
    "cm, metrics"
   ]
  },
  {
   "cell_type": "code",
   "execution_count": null,
   "id": "aUQ7bloNBibM",
   "metadata": {
    "colab": {
     "base_uri": "https://localhost:8080/",
     "height": 472
    },
    "executionInfo": {
     "elapsed": 354,
     "status": "ok",
     "timestamp": 1738382819862,
     "user": {
      "displayName": "Pablo Weslley Silva da Fonseca",
      "userId": "08454828087730091057"
     },
     "user_tz": 180
    },
    "id": "aUQ7bloNBibM",
    "outputId": "bae42dc3-f373-4c79-8951-ad4940809321"
   },
   "outputs": [],
   "source": [
    "plot(cm, \"Qwen2.5-7B-Instruct\")"
   ]
  }
 ],
 "metadata": {
  "colab": {
   "collapsed_sections": [
    "xyNQGxO0VlCH",
    "oG1mt-NF80JG",
    "2L2zHIe980JH",
    "ZIRUJxsK80JI",
    "Tck92Pk380JI",
    "tOTOZ5ZJ80JI",
    "hZc0c1tx80JI"
   ],
   "provenance": [],
   "toc_visible": true
  },
  "kernelspec": {
   "display_name": "Python 3",
   "name": "python3"
  },
  "language_info": {
   "name": "python"
  }
 },
 "nbformat": 4,
 "nbformat_minor": 5
}
